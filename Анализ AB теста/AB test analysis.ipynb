{
 "cells": [
  {
   "cell_type": "markdown",
   "metadata": {
    "toc": true
   },
   "source": [
    "<h1>Содержание<span class=\"tocSkip\"></span></h1>\n",
    "<div class=\"toc\"><ul class=\"toc-item\"><li><span><a href=\"#Описание-проекта\" data-toc-modified-id=\"Описание-проекта-1\">Описание проекта</a></span></li><li><span><a href=\"#Описание-данных\" data-toc-modified-id=\"Описание-данных-2\">Описание данных</a></span><ul class=\"toc-item\"><li><span><a href=\"#Гипотезы\" data-toc-modified-id=\"Гипотезы-2.1\">Гипотезы</a></span></li><li><span><a href=\"#Анализ-A/B-теста\" data-toc-modified-id=\"Анализ-A/B-теста-2.2\">Анализ A/B теста</a></span></li></ul></li><li><span><a href=\"#Приоритизация-гипотез\" data-toc-modified-id=\"Приоритизация-гипотез-3\">Приоритизация гипотез</a></span></li><li><span><a href=\"#Исследование-A/B-теста\" data-toc-modified-id=\"Исследование-A/B-теста-4\">Исследование A/B теста</a></span><ul class=\"toc-item\"><li><span><a href=\"#Предобработка-данных\" data-toc-modified-id=\"Предобработка-данных-4.1\">Предобработка данных</a></span></li><li><span><a href=\"#Вывод\" data-toc-modified-id=\"Вывод-4.2\">Вывод</a></span></li><li><span><a href=\"#Кумулятивная-выручка-по-группам\" data-toc-modified-id=\"Кумулятивная-выручка-по-группам-4.3\">Кумулятивная выручка по группам</a></span></li><li><span><a href=\"#Кумулятивный-средний-чек-по-группам\" data-toc-modified-id=\"Кумулятивный-средний-чек-по-группам-4.4\">Кумулятивный средний чек по группам</a></span></li><li><span><a href=\"#Относительное-изменение-кумулятивного-среднего-чека\" data-toc-modified-id=\"Относительное-изменение-кумулятивного-среднего-чека-4.5\">Относительное изменение кумулятивного среднего чека</a></span></li><li><span><a href=\"#Кумулятивная-конверсия-по-группам\" data-toc-modified-id=\"Кумулятивная-конверсия-по-группам-4.6\">Кумулятивная конверсия по группам</a></span></li><li><span><a href=\"#Относительное-изменение-кумулятивной-конверсии-группы-B-к-группе-A\" data-toc-modified-id=\"Относительное-изменение-кумулятивной-конверсии-группы-B-к-группе-A-4.7\">Относительное изменение кумулятивной конверсии группы B к группе A</a></span></li><li><span><a href=\"#Вывод\" data-toc-modified-id=\"Вывод-4.8\">Вывод</a></span></li><li><span><a href=\"#Выявление-аномалий\" data-toc-modified-id=\"Выявление-аномалий-4.9\">Выявление аномалий</a></span></li><li><span><a href=\"#Вывод\" data-toc-modified-id=\"Вывод-4.10\">Вывод</a></span></li><li><span><a href=\"#Проверка-гипотез\" data-toc-modified-id=\"Проверка-гипотез-4.11\">Проверка гипотез</a></span><ul class=\"toc-item\"><li><span><a href=\"#Проверка-по-сырым-данным\" data-toc-modified-id=\"Проверка-по-сырым-данным-4.11.1\">Проверка по сырым данным</a></span><ul class=\"toc-item\"><li><span><a href=\"#Гипотеза:-Конверсии-группы-B-и-группы-А-по-сырым-данным-равны\" data-toc-modified-id=\"Гипотеза:-Конверсии-группы-B-и-группы-А-по-сырым-данным-равны-4.11.1.1\">Гипотеза: Конверсии группы B и группы А по сырым данным равны</a></span></li><li><span><a href=\"#Гипотеза:-Средний-чек-группы-B-и-группы-А-по-сырым-данным-равны\" data-toc-modified-id=\"Гипотеза:-Средний-чек-группы-B-и-группы-А-по-сырым-данным-равны-4.11.1.2\">Гипотеза: Средний чек группы B и группы А по сырым данным равны</a></span></li></ul></li><li><span><a href=\"#Проверка-по-очищенным-данным\" data-toc-modified-id=\"Проверка-по-очищенным-данным-4.11.2\">Проверка по очищенным данным</a></span><ul class=\"toc-item\"><li><span><a href=\"#Гипотеза:-Конверсии-группы-B-и-группы-А-по-очищенным-данным-равны\" data-toc-modified-id=\"Гипотеза:-Конверсии-группы-B-и-группы-А-по-очищенным-данным-равны-4.11.2.1\">Гипотеза: Конверсии группы B и группы А по очищенным данным равны</a></span></li><li><span><a href=\"#Гипотеза:-Средние-чеки-группы-B-и-группы-А-по-очищенным-данным-равны\" data-toc-modified-id=\"Гипотеза:-Средние-чеки-группы-B-и-группы-А-по-очищенным-данным-равны-4.11.2.2\">Гипотеза: Средние чеки группы B и группы А по очищенным данным равны</a></span></li></ul></li></ul></li></ul></li><li><span><a href=\"#Общий-вывод\" data-toc-modified-id=\"Общий-вывод-5\">Общий вывод</a></span></li></ul></div>"
   ]
  },
  {
   "cell_type": "markdown",
   "metadata": {},
   "source": [
    "## Описание проекта"
   ]
  },
  {
   "cell_type": "markdown",
   "metadata": {},
   "source": [
    "Вместе с отделом маркетинга мы подготовили список гипотез для увеличения выручки.\n",
    "Приоритизируем гипотезы, запустим A/B-тест и проанализируем результаты."
   ]
  },
  {
   "cell_type": "markdown",
   "metadata": {},
   "source": [
    "## Описание данных"
   ]
  },
  {
   "cell_type": "markdown",
   "metadata": {},
   "source": [
    "### Гипотезы\n",
    "\n",
    "- `Hypothesis` — краткое описание гипотезы;\n",
    "- `Reach` — охват пользователей по 10-балльной шкале;\n",
    "- `Impact` — влияние на пользователей по 10-балльной шкале;\n",
    "- `Confidence` — уверенность в гипотезе по 10-балльной шкале;\n",
    "- `Efforts` — затраты ресурсов на проверку гипотезы по 10-балльной шкале. Чем больше значение Efforts, тем дороже проверка гипотезы.\n",
    "\n",
    "\n",
    "### Анализ A/B теста\n",
    "\n",
    "Данные о заказах\n",
    "- `transactionId` — идентификатор заказа;\n",
    "- `visitorId` — идентификатор пользователя, совершившего заказ;\n",
    "- `date` — дата, когда был совершён заказ;\n",
    "- `revenue` — выручка заказа;\n",
    "- `group` — группа A/B-теста, в которую попал заказ.\n",
    "\n",
    "\n",
    "Данные о посещениях\n",
    "- `date` — дата;\n",
    "- `group` — группа A/B-теста;\n",
    "- `visitors` — количество пользователей в указанную дату в указанной группе A/B-теста"
   ]
  },
  {
   "cell_type": "code",
   "execution_count": 1,
   "metadata": {},
   "outputs": [],
   "source": [
    "import pandas as pd\n",
    "import numpy as np\n",
    "import scipy.stats as st\n",
    "import matplotlib.pyplot as plt\n",
    "pd.set_option('display.max_colwidth', 500)"
   ]
  },
  {
   "cell_type": "code",
   "execution_count": 2,
   "metadata": {},
   "outputs": [],
   "source": [
    "class text_colors:\n",
    "    HEADER = '\\033[95m'\n",
    "    OKBLUE = '\\033[94m'\n",
    "    OKGREEN = '\\033[92m'\n",
    "    WARNING = '\\033[93m'\n",
    "    FAIL = '\\033[91m'\n",
    "    ENDC = '\\033[0m'\n",
    "    BOLD = '\\033[1m'\n",
    "    UNDERLINE = '\\033[4m'"
   ]
  },
  {
   "cell_type": "code",
   "execution_count": 3,
   "metadata": {},
   "outputs": [],
   "source": [
    "def review(table, table_name):\n",
    "    '''\n",
    "    Функция печатает на экран общую информацию о таблице,\n",
    "    первые 5 строк таблицы, число пропусков в каждом столбце,\n",
    "    число дубликатов, описательную статистику\n",
    "    \n",
    "    '''\n",
    "    print(text_colors.OKGREEN + text_colors.BOLD \n",
    "          + f'Предварительный анализ таблицы {table_name}' \n",
    "          + text_colors.ENDC\n",
    "          + text_colors.ENDC\n",
    "         )\n",
    "    print()\n",
    "    print(text_colors.BOLD + 'Общая информация о таблице:' + text_colors.ENDC)\n",
    "    table.info()\n",
    "    print()\n",
    "    print()\n",
    "    \n",
    "    print(text_colors.BOLD + 'Первые 5 строк таблицы:' + text_colors.ENDC)\n",
    "    display(table.head())\n",
    "    print()\n",
    "    print()\n",
    "    \n",
    "    print(text_colors.BOLD + 'Число пропусков в каждом столбце:' + text_colors.ENDC)\n",
    "    \n",
    "    nans = pd.DataFrame(table.isna().sum()).rename(columns={0:'abs'})\n",
    "    nans['rel %'] = nans['abs'].apply(lambda x: round(x/table.shape[0], 1))\n",
    "    display(nans.style.format({'rel %' : '{:.1%}'}))\n",
    "    \n",
    "    print()\n",
    "    print()\n",
    "    \n",
    "    print(text_colors.BOLD \n",
    "          + f'Число дубликатов в таблице: {table.duplicated().sum()}' \n",
    "          + text_colors.ENDC)\n",
    "    print()\n",
    "    print()\n",
    "    print(text_colors.BOLD + 'Описательная статистика:' + text_colors.ENDC)\n",
    "    display(table.describe().T)"
   ]
  },
  {
   "cell_type": "markdown",
   "metadata": {},
   "source": [
    "## Приоритизация гипотез"
   ]
  },
  {
   "cell_type": "code",
   "execution_count": 4,
   "metadata": {},
   "outputs": [],
   "source": [
    "hypothesis = pd.read_csv('hypothesis.csv')"
   ]
  },
  {
   "cell_type": "code",
   "execution_count": 5,
   "metadata": {
    "scrolled": true
   },
   "outputs": [
    {
     "name": "stdout",
     "output_type": "stream",
     "text": [
      "\u001b[92m\u001b[1mПредварительный анализ таблицы hypothesis\u001b[0m\u001b[0m\n",
      "\n",
      "\u001b[1mОбщая информация о таблице:\u001b[0m\n",
      "<class 'pandas.core.frame.DataFrame'>\n",
      "RangeIndex: 9 entries, 0 to 8\n",
      "Data columns (total 6 columns):\n",
      " #   Column      Non-Null Count  Dtype \n",
      "---  ------      --------------  ----- \n",
      " 0   Unnamed: 0  9 non-null      int64 \n",
      " 1   Hypothesis  9 non-null      object\n",
      " 2   Reach       9 non-null      int64 \n",
      " 3   Impact      9 non-null      int64 \n",
      " 4   Confidence  9 non-null      int64 \n",
      " 5   Efforts     9 non-null      int64 \n",
      "dtypes: int64(5), object(1)\n",
      "memory usage: 560.0+ bytes\n",
      "\n",
      "\n",
      "\u001b[1mПервые 5 строк таблицы:\u001b[0m\n"
     ]
    },
    {
     "data": {
      "text/html": [
       "<div>\n",
       "<style scoped>\n",
       "    .dataframe tbody tr th:only-of-type {\n",
       "        vertical-align: middle;\n",
       "    }\n",
       "\n",
       "    .dataframe tbody tr th {\n",
       "        vertical-align: top;\n",
       "    }\n",
       "\n",
       "    .dataframe thead th {\n",
       "        text-align: right;\n",
       "    }\n",
       "</style>\n",
       "<table border=\"1\" class=\"dataframe\">\n",
       "  <thead>\n",
       "    <tr style=\"text-align: right;\">\n",
       "      <th></th>\n",
       "      <th>Unnamed: 0</th>\n",
       "      <th>Hypothesis</th>\n",
       "      <th>Reach</th>\n",
       "      <th>Impact</th>\n",
       "      <th>Confidence</th>\n",
       "      <th>Efforts</th>\n",
       "    </tr>\n",
       "  </thead>\n",
       "  <tbody>\n",
       "    <tr>\n",
       "      <th>0</th>\n",
       "      <td>0</td>\n",
       "      <td>Добавить два новых канала привлечения трафика, что позволит привлекать на 30% больше пользователей</td>\n",
       "      <td>3</td>\n",
       "      <td>10</td>\n",
       "      <td>8</td>\n",
       "      <td>6</td>\n",
       "    </tr>\n",
       "    <tr>\n",
       "      <th>1</th>\n",
       "      <td>1</td>\n",
       "      <td>Запустить собственную службу доставки, что сократит срок доставки заказов</td>\n",
       "      <td>2</td>\n",
       "      <td>5</td>\n",
       "      <td>4</td>\n",
       "      <td>10</td>\n",
       "    </tr>\n",
       "    <tr>\n",
       "      <th>2</th>\n",
       "      <td>2</td>\n",
       "      <td>Добавить блоки рекомендаций товаров на сайт интернет магазина, чтобы повысить конверсию и средний чек заказа</td>\n",
       "      <td>8</td>\n",
       "      <td>3</td>\n",
       "      <td>7</td>\n",
       "      <td>3</td>\n",
       "    </tr>\n",
       "    <tr>\n",
       "      <th>3</th>\n",
       "      <td>3</td>\n",
       "      <td>Изменить структура категорий, что увеличит конверсию, т.к. пользователи быстрее найдут нужный товар</td>\n",
       "      <td>8</td>\n",
       "      <td>3</td>\n",
       "      <td>3</td>\n",
       "      <td>8</td>\n",
       "    </tr>\n",
       "    <tr>\n",
       "      <th>4</th>\n",
       "      <td>4</td>\n",
       "      <td>Изменить цвет фона главной страницы, чтобы увеличить вовлеченность пользователей</td>\n",
       "      <td>3</td>\n",
       "      <td>1</td>\n",
       "      <td>1</td>\n",
       "      <td>1</td>\n",
       "    </tr>\n",
       "  </tbody>\n",
       "</table>\n",
       "</div>"
      ],
      "text/plain": [
       "   Unnamed: 0  \\\n",
       "0           0   \n",
       "1           1   \n",
       "2           2   \n",
       "3           3   \n",
       "4           4   \n",
       "\n",
       "                                                                                                     Hypothesis  \\\n",
       "0            Добавить два новых канала привлечения трафика, что позволит привлекать на 30% больше пользователей   \n",
       "1                                     Запустить собственную службу доставки, что сократит срок доставки заказов   \n",
       "2  Добавить блоки рекомендаций товаров на сайт интернет магазина, чтобы повысить конверсию и средний чек заказа   \n",
       "3           Изменить структура категорий, что увеличит конверсию, т.к. пользователи быстрее найдут нужный товар   \n",
       "4                              Изменить цвет фона главной страницы, чтобы увеличить вовлеченность пользователей   \n",
       "\n",
       "   Reach  Impact  Confidence  Efforts  \n",
       "0      3      10           8        6  \n",
       "1      2       5           4       10  \n",
       "2      8       3           7        3  \n",
       "3      8       3           3        8  \n",
       "4      3       1           1        1  "
      ]
     },
     "metadata": {},
     "output_type": "display_data"
    },
    {
     "name": "stdout",
     "output_type": "stream",
     "text": [
      "\n",
      "\n",
      "\u001b[1mЧисло пропусков в каждом столбце:\u001b[0m\n"
     ]
    },
    {
     "data": {
      "text/html": [
       "<style  type=\"text/css\" >\n",
       "</style><table id=\"T_95426d9b_d430_11ec_a4b4_bce92ff98047\" ><thead>    <tr>        <th class=\"blank level0\" ></th>        <th class=\"col_heading level0 col0\" >abs</th>        <th class=\"col_heading level0 col1\" >rel %</th>    </tr></thead><tbody>\n",
       "                <tr>\n",
       "                        <th id=\"T_95426d9b_d430_11ec_a4b4_bce92ff98047level0_row0\" class=\"row_heading level0 row0\" >Unnamed: 0</th>\n",
       "                        <td id=\"T_95426d9b_d430_11ec_a4b4_bce92ff98047row0_col0\" class=\"data row0 col0\" >0</td>\n",
       "                        <td id=\"T_95426d9b_d430_11ec_a4b4_bce92ff98047row0_col1\" class=\"data row0 col1\" >0.0%</td>\n",
       "            </tr>\n",
       "            <tr>\n",
       "                        <th id=\"T_95426d9b_d430_11ec_a4b4_bce92ff98047level0_row1\" class=\"row_heading level0 row1\" >Hypothesis</th>\n",
       "                        <td id=\"T_95426d9b_d430_11ec_a4b4_bce92ff98047row1_col0\" class=\"data row1 col0\" >0</td>\n",
       "                        <td id=\"T_95426d9b_d430_11ec_a4b4_bce92ff98047row1_col1\" class=\"data row1 col1\" >0.0%</td>\n",
       "            </tr>\n",
       "            <tr>\n",
       "                        <th id=\"T_95426d9b_d430_11ec_a4b4_bce92ff98047level0_row2\" class=\"row_heading level0 row2\" >Reach</th>\n",
       "                        <td id=\"T_95426d9b_d430_11ec_a4b4_bce92ff98047row2_col0\" class=\"data row2 col0\" >0</td>\n",
       "                        <td id=\"T_95426d9b_d430_11ec_a4b4_bce92ff98047row2_col1\" class=\"data row2 col1\" >0.0%</td>\n",
       "            </tr>\n",
       "            <tr>\n",
       "                        <th id=\"T_95426d9b_d430_11ec_a4b4_bce92ff98047level0_row3\" class=\"row_heading level0 row3\" >Impact</th>\n",
       "                        <td id=\"T_95426d9b_d430_11ec_a4b4_bce92ff98047row3_col0\" class=\"data row3 col0\" >0</td>\n",
       "                        <td id=\"T_95426d9b_d430_11ec_a4b4_bce92ff98047row3_col1\" class=\"data row3 col1\" >0.0%</td>\n",
       "            </tr>\n",
       "            <tr>\n",
       "                        <th id=\"T_95426d9b_d430_11ec_a4b4_bce92ff98047level0_row4\" class=\"row_heading level0 row4\" >Confidence</th>\n",
       "                        <td id=\"T_95426d9b_d430_11ec_a4b4_bce92ff98047row4_col0\" class=\"data row4 col0\" >0</td>\n",
       "                        <td id=\"T_95426d9b_d430_11ec_a4b4_bce92ff98047row4_col1\" class=\"data row4 col1\" >0.0%</td>\n",
       "            </tr>\n",
       "            <tr>\n",
       "                        <th id=\"T_95426d9b_d430_11ec_a4b4_bce92ff98047level0_row5\" class=\"row_heading level0 row5\" >Efforts</th>\n",
       "                        <td id=\"T_95426d9b_d430_11ec_a4b4_bce92ff98047row5_col0\" class=\"data row5 col0\" >0</td>\n",
       "                        <td id=\"T_95426d9b_d430_11ec_a4b4_bce92ff98047row5_col1\" class=\"data row5 col1\" >0.0%</td>\n",
       "            </tr>\n",
       "    </tbody></table>"
      ],
      "text/plain": [
       "<pandas.io.formats.style.Styler at 0x236a1769130>"
      ]
     },
     "metadata": {},
     "output_type": "display_data"
    },
    {
     "name": "stdout",
     "output_type": "stream",
     "text": [
      "\n",
      "\n",
      "\u001b[1mЧисло дубликатов в таблице: 0\u001b[0m\n",
      "\n",
      "\n",
      "\u001b[1mОписательная статистика:\u001b[0m\n"
     ]
    },
    {
     "data": {
      "text/html": [
       "<div>\n",
       "<style scoped>\n",
       "    .dataframe tbody tr th:only-of-type {\n",
       "        vertical-align: middle;\n",
       "    }\n",
       "\n",
       "    .dataframe tbody tr th {\n",
       "        vertical-align: top;\n",
       "    }\n",
       "\n",
       "    .dataframe thead th {\n",
       "        text-align: right;\n",
       "    }\n",
       "</style>\n",
       "<table border=\"1\" class=\"dataframe\">\n",
       "  <thead>\n",
       "    <tr style=\"text-align: right;\">\n",
       "      <th></th>\n",
       "      <th>count</th>\n",
       "      <th>mean</th>\n",
       "      <th>std</th>\n",
       "      <th>min</th>\n",
       "      <th>25%</th>\n",
       "      <th>50%</th>\n",
       "      <th>75%</th>\n",
       "      <th>max</th>\n",
       "    </tr>\n",
       "  </thead>\n",
       "  <tbody>\n",
       "    <tr>\n",
       "      <th>Unnamed: 0</th>\n",
       "      <td>9.0</td>\n",
       "      <td>4.000000</td>\n",
       "      <td>2.738613</td>\n",
       "      <td>0.0</td>\n",
       "      <td>2.0</td>\n",
       "      <td>4.0</td>\n",
       "      <td>6.0</td>\n",
       "      <td>8.0</td>\n",
       "    </tr>\n",
       "    <tr>\n",
       "      <th>Reach</th>\n",
       "      <td>9.0</td>\n",
       "      <td>4.777778</td>\n",
       "      <td>3.153481</td>\n",
       "      <td>1.0</td>\n",
       "      <td>3.0</td>\n",
       "      <td>3.0</td>\n",
       "      <td>8.0</td>\n",
       "      <td>10.0</td>\n",
       "    </tr>\n",
       "    <tr>\n",
       "      <th>Impact</th>\n",
       "      <td>9.0</td>\n",
       "      <td>4.777778</td>\n",
       "      <td>3.192874</td>\n",
       "      <td>1.0</td>\n",
       "      <td>3.0</td>\n",
       "      <td>3.0</td>\n",
       "      <td>7.0</td>\n",
       "      <td>10.0</td>\n",
       "    </tr>\n",
       "    <tr>\n",
       "      <th>Confidence</th>\n",
       "      <td>9.0</td>\n",
       "      <td>5.555556</td>\n",
       "      <td>3.045944</td>\n",
       "      <td>1.0</td>\n",
       "      <td>3.0</td>\n",
       "      <td>7.0</td>\n",
       "      <td>8.0</td>\n",
       "      <td>9.0</td>\n",
       "    </tr>\n",
       "    <tr>\n",
       "      <th>Efforts</th>\n",
       "      <td>9.0</td>\n",
       "      <td>4.888889</td>\n",
       "      <td>2.803767</td>\n",
       "      <td>1.0</td>\n",
       "      <td>3.0</td>\n",
       "      <td>5.0</td>\n",
       "      <td>6.0</td>\n",
       "      <td>10.0</td>\n",
       "    </tr>\n",
       "  </tbody>\n",
       "</table>\n",
       "</div>"
      ],
      "text/plain": [
       "            count      mean       std  min  25%  50%  75%   max\n",
       "Unnamed: 0    9.0  4.000000  2.738613  0.0  2.0  4.0  6.0   8.0\n",
       "Reach         9.0  4.777778  3.153481  1.0  3.0  3.0  8.0  10.0\n",
       "Impact        9.0  4.777778  3.192874  1.0  3.0  3.0  7.0  10.0\n",
       "Confidence    9.0  5.555556  3.045944  1.0  3.0  7.0  8.0   9.0\n",
       "Efforts       9.0  4.888889  2.803767  1.0  3.0  5.0  6.0  10.0"
      ]
     },
     "metadata": {},
     "output_type": "display_data"
    }
   ],
   "source": [
    "review(hypothesis, 'hypothesis')"
   ]
  },
  {
   "cell_type": "markdown",
   "metadata": {},
   "source": [
    "Посмотрим на список гипотез"
   ]
  },
  {
   "cell_type": "code",
   "execution_count": 6,
   "metadata": {
    "scrolled": true
   },
   "outputs": [
    {
     "data": {
      "text/html": [
       "<div>\n",
       "<style scoped>\n",
       "    .dataframe tbody tr th:only-of-type {\n",
       "        vertical-align: middle;\n",
       "    }\n",
       "\n",
       "    .dataframe tbody tr th {\n",
       "        vertical-align: top;\n",
       "    }\n",
       "\n",
       "    .dataframe thead th {\n",
       "        text-align: right;\n",
       "    }\n",
       "</style>\n",
       "<table border=\"1\" class=\"dataframe\">\n",
       "  <thead>\n",
       "    <tr style=\"text-align: right;\">\n",
       "      <th></th>\n",
       "      <th>Hypothesis</th>\n",
       "    </tr>\n",
       "  </thead>\n",
       "  <tbody>\n",
       "    <tr>\n",
       "      <th>0</th>\n",
       "      <td>Добавить два новых канала привлечения трафика, что позволит привлекать на 30% больше пользователей</td>\n",
       "    </tr>\n",
       "    <tr>\n",
       "      <th>1</th>\n",
       "      <td>Запустить собственную службу доставки, что сократит срок доставки заказов</td>\n",
       "    </tr>\n",
       "    <tr>\n",
       "      <th>2</th>\n",
       "      <td>Добавить блоки рекомендаций товаров на сайт интернет магазина, чтобы повысить конверсию и средний чек заказа</td>\n",
       "    </tr>\n",
       "    <tr>\n",
       "      <th>3</th>\n",
       "      <td>Изменить структура категорий, что увеличит конверсию, т.к. пользователи быстрее найдут нужный товар</td>\n",
       "    </tr>\n",
       "    <tr>\n",
       "      <th>4</th>\n",
       "      <td>Изменить цвет фона главной страницы, чтобы увеличить вовлеченность пользователей</td>\n",
       "    </tr>\n",
       "    <tr>\n",
       "      <th>5</th>\n",
       "      <td>Добавить страницу отзывов клиентов о магазине, что позволит увеличить количество заказов</td>\n",
       "    </tr>\n",
       "    <tr>\n",
       "      <th>6</th>\n",
       "      <td>Показать на главной странице баннеры с актуальными акциями и распродажами, чтобы увеличить конверсию</td>\n",
       "    </tr>\n",
       "    <tr>\n",
       "      <th>7</th>\n",
       "      <td>Добавить форму подписки на все основные страницы, чтобы собрать базу клиентов для email-рассылок</td>\n",
       "    </tr>\n",
       "    <tr>\n",
       "      <th>8</th>\n",
       "      <td>Запустить акцию, дающую скидку на товар в день рождения</td>\n",
       "    </tr>\n",
       "  </tbody>\n",
       "</table>\n",
       "</div>"
      ],
      "text/plain": [
       "                                                                                                     Hypothesis\n",
       "0            Добавить два новых канала привлечения трафика, что позволит привлекать на 30% больше пользователей\n",
       "1                                     Запустить собственную службу доставки, что сократит срок доставки заказов\n",
       "2  Добавить блоки рекомендаций товаров на сайт интернет магазина, чтобы повысить конверсию и средний чек заказа\n",
       "3           Изменить структура категорий, что увеличит конверсию, т.к. пользователи быстрее найдут нужный товар\n",
       "4                              Изменить цвет фона главной страницы, чтобы увеличить вовлеченность пользователей\n",
       "5                      Добавить страницу отзывов клиентов о магазине, что позволит увеличить количество заказов\n",
       "6          Показать на главной странице баннеры с актуальными акциями и распродажами, чтобы увеличить конверсию\n",
       "7              Добавить форму подписки на все основные страницы, чтобы собрать базу клиентов для email-рассылок\n",
       "8                                                       Запустить акцию, дающую скидку на товар в день рождения"
      ]
     },
     "execution_count": 6,
     "metadata": {},
     "output_type": "execute_result"
    }
   ],
   "source": [
    "hypothesis[['Hypothesis']]"
   ]
  },
  {
   "cell_type": "markdown",
   "metadata": {},
   "source": [
    "В последних двух гипотезах не указано, для чего это будет сделано.\n",
    "\n",
    "- Добавить форму подписки на все основные страницы, чтобы собрать базу клиентов для email-рассылок\n",
    "- Запустить акцию, дающую скидку на товар в день рождения\n",
    "\n",
    "Будем предполагать, что сбор базы клиентов и запуск акции ориентированны на увеличение конверсии и среднего чека"
   ]
  },
  {
   "cell_type": "markdown",
   "metadata": {},
   "source": [
    "Вычислим `ICE` для каждой гипотезы"
   ]
  },
  {
   "cell_type": "code",
   "execution_count": 7,
   "metadata": {},
   "outputs": [],
   "source": [
    "hypothesis['ICE'] = hypothesis.apply(\n",
    "    lambda x: x['Impact'] * x['Confidence'] / x['Efforts'], \n",
    "    axis=1\n",
    ")"
   ]
  },
  {
   "cell_type": "code",
   "execution_count": 8,
   "metadata": {
    "scrolled": false
   },
   "outputs": [
    {
     "data": {
      "text/html": [
       "<div>\n",
       "<style scoped>\n",
       "    .dataframe tbody tr th:only-of-type {\n",
       "        vertical-align: middle;\n",
       "    }\n",
       "\n",
       "    .dataframe tbody tr th {\n",
       "        vertical-align: top;\n",
       "    }\n",
       "\n",
       "    .dataframe thead th {\n",
       "        text-align: right;\n",
       "    }\n",
       "</style>\n",
       "<table border=\"1\" class=\"dataframe\">\n",
       "  <thead>\n",
       "    <tr style=\"text-align: right;\">\n",
       "      <th></th>\n",
       "      <th>Unnamed: 0</th>\n",
       "      <th>Hypothesis</th>\n",
       "      <th>Reach</th>\n",
       "      <th>Impact</th>\n",
       "      <th>Confidence</th>\n",
       "      <th>Efforts</th>\n",
       "      <th>ICE</th>\n",
       "    </tr>\n",
       "  </thead>\n",
       "  <tbody>\n",
       "    <tr>\n",
       "      <th>8</th>\n",
       "      <td>8</td>\n",
       "      <td>Запустить акцию, дающую скидку на товар в день рождения</td>\n",
       "      <td>1</td>\n",
       "      <td>9</td>\n",
       "      <td>9</td>\n",
       "      <td>5</td>\n",
       "      <td>16.200000</td>\n",
       "    </tr>\n",
       "    <tr>\n",
       "      <th>0</th>\n",
       "      <td>0</td>\n",
       "      <td>Добавить два новых канала привлечения трафика, что позволит привлекать на 30% больше пользователей</td>\n",
       "      <td>3</td>\n",
       "      <td>10</td>\n",
       "      <td>8</td>\n",
       "      <td>6</td>\n",
       "      <td>13.333333</td>\n",
       "    </tr>\n",
       "    <tr>\n",
       "      <th>7</th>\n",
       "      <td>7</td>\n",
       "      <td>Добавить форму подписки на все основные страницы, чтобы собрать базу клиентов для email-рассылок</td>\n",
       "      <td>10</td>\n",
       "      <td>7</td>\n",
       "      <td>8</td>\n",
       "      <td>5</td>\n",
       "      <td>11.200000</td>\n",
       "    </tr>\n",
       "    <tr>\n",
       "      <th>6</th>\n",
       "      <td>6</td>\n",
       "      <td>Показать на главной странице баннеры с актуальными акциями и распродажами, чтобы увеличить конверсию</td>\n",
       "      <td>5</td>\n",
       "      <td>3</td>\n",
       "      <td>8</td>\n",
       "      <td>3</td>\n",
       "      <td>8.000000</td>\n",
       "    </tr>\n",
       "    <tr>\n",
       "      <th>2</th>\n",
       "      <td>2</td>\n",
       "      <td>Добавить блоки рекомендаций товаров на сайт интернет магазина, чтобы повысить конверсию и средний чек заказа</td>\n",
       "      <td>8</td>\n",
       "      <td>3</td>\n",
       "      <td>7</td>\n",
       "      <td>3</td>\n",
       "      <td>7.000000</td>\n",
       "    </tr>\n",
       "    <tr>\n",
       "      <th>1</th>\n",
       "      <td>1</td>\n",
       "      <td>Запустить собственную службу доставки, что сократит срок доставки заказов</td>\n",
       "      <td>2</td>\n",
       "      <td>5</td>\n",
       "      <td>4</td>\n",
       "      <td>10</td>\n",
       "      <td>2.000000</td>\n",
       "    </tr>\n",
       "    <tr>\n",
       "      <th>5</th>\n",
       "      <td>5</td>\n",
       "      <td>Добавить страницу отзывов клиентов о магазине, что позволит увеличить количество заказов</td>\n",
       "      <td>3</td>\n",
       "      <td>2</td>\n",
       "      <td>2</td>\n",
       "      <td>3</td>\n",
       "      <td>1.333333</td>\n",
       "    </tr>\n",
       "    <tr>\n",
       "      <th>3</th>\n",
       "      <td>3</td>\n",
       "      <td>Изменить структура категорий, что увеличит конверсию, т.к. пользователи быстрее найдут нужный товар</td>\n",
       "      <td>8</td>\n",
       "      <td>3</td>\n",
       "      <td>3</td>\n",
       "      <td>8</td>\n",
       "      <td>1.125000</td>\n",
       "    </tr>\n",
       "    <tr>\n",
       "      <th>4</th>\n",
       "      <td>4</td>\n",
       "      <td>Изменить цвет фона главной страницы, чтобы увеличить вовлеченность пользователей</td>\n",
       "      <td>3</td>\n",
       "      <td>1</td>\n",
       "      <td>1</td>\n",
       "      <td>1</td>\n",
       "      <td>1.000000</td>\n",
       "    </tr>\n",
       "  </tbody>\n",
       "</table>\n",
       "</div>"
      ],
      "text/plain": [
       "   Unnamed: 0  \\\n",
       "8           8   \n",
       "0           0   \n",
       "7           7   \n",
       "6           6   \n",
       "2           2   \n",
       "1           1   \n",
       "5           5   \n",
       "3           3   \n",
       "4           4   \n",
       "\n",
       "                                                                                                     Hypothesis  \\\n",
       "8                                                       Запустить акцию, дающую скидку на товар в день рождения   \n",
       "0            Добавить два новых канала привлечения трафика, что позволит привлекать на 30% больше пользователей   \n",
       "7              Добавить форму подписки на все основные страницы, чтобы собрать базу клиентов для email-рассылок   \n",
       "6          Показать на главной странице баннеры с актуальными акциями и распродажами, чтобы увеличить конверсию   \n",
       "2  Добавить блоки рекомендаций товаров на сайт интернет магазина, чтобы повысить конверсию и средний чек заказа   \n",
       "1                                     Запустить собственную службу доставки, что сократит срок доставки заказов   \n",
       "5                      Добавить страницу отзывов клиентов о магазине, что позволит увеличить количество заказов   \n",
       "3           Изменить структура категорий, что увеличит конверсию, т.к. пользователи быстрее найдут нужный товар   \n",
       "4                              Изменить цвет фона главной страницы, чтобы увеличить вовлеченность пользователей   \n",
       "\n",
       "   Reach  Impact  Confidence  Efforts        ICE  \n",
       "8      1       9           9        5  16.200000  \n",
       "0      3      10           8        6  13.333333  \n",
       "7     10       7           8        5  11.200000  \n",
       "6      5       3           8        3   8.000000  \n",
       "2      8       3           7        3   7.000000  \n",
       "1      2       5           4       10   2.000000  \n",
       "5      3       2           2        3   1.333333  \n",
       "3      8       3           3        8   1.125000  \n",
       "4      3       1           1        1   1.000000  "
      ]
     },
     "execution_count": 8,
     "metadata": {},
     "output_type": "execute_result"
    }
   ],
   "source": [
    "hypothesis.sort_values(by='ICE', ascending=False)"
   ]
  },
  {
   "cell_type": "markdown",
   "metadata": {},
   "source": [
    "По коэффициенту ICE выигрывают следующие гипотезы:\n",
    "\n",
    "1. Запустить акцию, дающую скидку на товар в день рождения\n",
    "2. Добавить два новых канала привлечения трафика, что позволит привлекать на 30% больше пользователей\n",
    "3. Добавить форму подписки на все основные страницы, чтобы собрать базу клиентов для email-рассылок\n",
    "4. Показать на главной странице баннеры с актуальными акциями и распродажами, чтобы увеличить конверсию"
   ]
  },
  {
   "cell_type": "code",
   "execution_count": 9,
   "metadata": {},
   "outputs": [],
   "source": [
    "hypothesis['RICE'] = hypothesis.apply(\n",
    "    lambda x: x['Reach'] * x['Impact'] * x['Confidence'] / x['Efforts'], \n",
    "    axis=1\n",
    ")"
   ]
  },
  {
   "cell_type": "code",
   "execution_count": 10,
   "metadata": {},
   "outputs": [
    {
     "data": {
      "text/html": [
       "<div>\n",
       "<style scoped>\n",
       "    .dataframe tbody tr th:only-of-type {\n",
       "        vertical-align: middle;\n",
       "    }\n",
       "\n",
       "    .dataframe tbody tr th {\n",
       "        vertical-align: top;\n",
       "    }\n",
       "\n",
       "    .dataframe thead th {\n",
       "        text-align: right;\n",
       "    }\n",
       "</style>\n",
       "<table border=\"1\" class=\"dataframe\">\n",
       "  <thead>\n",
       "    <tr style=\"text-align: right;\">\n",
       "      <th></th>\n",
       "      <th>Unnamed: 0</th>\n",
       "      <th>Hypothesis</th>\n",
       "      <th>Reach</th>\n",
       "      <th>Impact</th>\n",
       "      <th>Confidence</th>\n",
       "      <th>Efforts</th>\n",
       "      <th>ICE</th>\n",
       "      <th>RICE</th>\n",
       "    </tr>\n",
       "  </thead>\n",
       "  <tbody>\n",
       "    <tr>\n",
       "      <th>7</th>\n",
       "      <td>7</td>\n",
       "      <td>Добавить форму подписки на все основные страницы, чтобы собрать базу клиентов для email-рассылок</td>\n",
       "      <td>10</td>\n",
       "      <td>7</td>\n",
       "      <td>8</td>\n",
       "      <td>5</td>\n",
       "      <td>11.200000</td>\n",
       "      <td>112.0</td>\n",
       "    </tr>\n",
       "    <tr>\n",
       "      <th>2</th>\n",
       "      <td>2</td>\n",
       "      <td>Добавить блоки рекомендаций товаров на сайт интернет магазина, чтобы повысить конверсию и средний чек заказа</td>\n",
       "      <td>8</td>\n",
       "      <td>3</td>\n",
       "      <td>7</td>\n",
       "      <td>3</td>\n",
       "      <td>7.000000</td>\n",
       "      <td>56.0</td>\n",
       "    </tr>\n",
       "    <tr>\n",
       "      <th>0</th>\n",
       "      <td>0</td>\n",
       "      <td>Добавить два новых канала привлечения трафика, что позволит привлекать на 30% больше пользователей</td>\n",
       "      <td>3</td>\n",
       "      <td>10</td>\n",
       "      <td>8</td>\n",
       "      <td>6</td>\n",
       "      <td>13.333333</td>\n",
       "      <td>40.0</td>\n",
       "    </tr>\n",
       "    <tr>\n",
       "      <th>6</th>\n",
       "      <td>6</td>\n",
       "      <td>Показать на главной странице баннеры с актуальными акциями и распродажами, чтобы увеличить конверсию</td>\n",
       "      <td>5</td>\n",
       "      <td>3</td>\n",
       "      <td>8</td>\n",
       "      <td>3</td>\n",
       "      <td>8.000000</td>\n",
       "      <td>40.0</td>\n",
       "    </tr>\n",
       "    <tr>\n",
       "      <th>8</th>\n",
       "      <td>8</td>\n",
       "      <td>Запустить акцию, дающую скидку на товар в день рождения</td>\n",
       "      <td>1</td>\n",
       "      <td>9</td>\n",
       "      <td>9</td>\n",
       "      <td>5</td>\n",
       "      <td>16.200000</td>\n",
       "      <td>16.2</td>\n",
       "    </tr>\n",
       "    <tr>\n",
       "      <th>3</th>\n",
       "      <td>3</td>\n",
       "      <td>Изменить структура категорий, что увеличит конверсию, т.к. пользователи быстрее найдут нужный товар</td>\n",
       "      <td>8</td>\n",
       "      <td>3</td>\n",
       "      <td>3</td>\n",
       "      <td>8</td>\n",
       "      <td>1.125000</td>\n",
       "      <td>9.0</td>\n",
       "    </tr>\n",
       "    <tr>\n",
       "      <th>1</th>\n",
       "      <td>1</td>\n",
       "      <td>Запустить собственную службу доставки, что сократит срок доставки заказов</td>\n",
       "      <td>2</td>\n",
       "      <td>5</td>\n",
       "      <td>4</td>\n",
       "      <td>10</td>\n",
       "      <td>2.000000</td>\n",
       "      <td>4.0</td>\n",
       "    </tr>\n",
       "    <tr>\n",
       "      <th>5</th>\n",
       "      <td>5</td>\n",
       "      <td>Добавить страницу отзывов клиентов о магазине, что позволит увеличить количество заказов</td>\n",
       "      <td>3</td>\n",
       "      <td>2</td>\n",
       "      <td>2</td>\n",
       "      <td>3</td>\n",
       "      <td>1.333333</td>\n",
       "      <td>4.0</td>\n",
       "    </tr>\n",
       "    <tr>\n",
       "      <th>4</th>\n",
       "      <td>4</td>\n",
       "      <td>Изменить цвет фона главной страницы, чтобы увеличить вовлеченность пользователей</td>\n",
       "      <td>3</td>\n",
       "      <td>1</td>\n",
       "      <td>1</td>\n",
       "      <td>1</td>\n",
       "      <td>1.000000</td>\n",
       "      <td>3.0</td>\n",
       "    </tr>\n",
       "  </tbody>\n",
       "</table>\n",
       "</div>"
      ],
      "text/plain": [
       "   Unnamed: 0  \\\n",
       "7           7   \n",
       "2           2   \n",
       "0           0   \n",
       "6           6   \n",
       "8           8   \n",
       "3           3   \n",
       "1           1   \n",
       "5           5   \n",
       "4           4   \n",
       "\n",
       "                                                                                                     Hypothesis  \\\n",
       "7              Добавить форму подписки на все основные страницы, чтобы собрать базу клиентов для email-рассылок   \n",
       "2  Добавить блоки рекомендаций товаров на сайт интернет магазина, чтобы повысить конверсию и средний чек заказа   \n",
       "0            Добавить два новых канала привлечения трафика, что позволит привлекать на 30% больше пользователей   \n",
       "6          Показать на главной странице баннеры с актуальными акциями и распродажами, чтобы увеличить конверсию   \n",
       "8                                                       Запустить акцию, дающую скидку на товар в день рождения   \n",
       "3           Изменить структура категорий, что увеличит конверсию, т.к. пользователи быстрее найдут нужный товар   \n",
       "1                                     Запустить собственную службу доставки, что сократит срок доставки заказов   \n",
       "5                      Добавить страницу отзывов клиентов о магазине, что позволит увеличить количество заказов   \n",
       "4                              Изменить цвет фона главной страницы, чтобы увеличить вовлеченность пользователей   \n",
       "\n",
       "   Reach  Impact  Confidence  Efforts        ICE   RICE  \n",
       "7     10       7           8        5  11.200000  112.0  \n",
       "2      8       3           7        3   7.000000   56.0  \n",
       "0      3      10           8        6  13.333333   40.0  \n",
       "6      5       3           8        3   8.000000   40.0  \n",
       "8      1       9           9        5  16.200000   16.2  \n",
       "3      8       3           3        8   1.125000    9.0  \n",
       "1      2       5           4       10   2.000000    4.0  \n",
       "5      3       2           2        3   1.333333    4.0  \n",
       "4      3       1           1        1   1.000000    3.0  "
      ]
     },
     "execution_count": 10,
     "metadata": {},
     "output_type": "execute_result"
    }
   ],
   "source": [
    "hypothesis.sort_values(by='RICE', ascending=False)"
   ]
  },
  {
   "cell_type": "markdown",
   "metadata": {},
   "source": [
    "По коэффициенту RICE выигрывают:\n",
    "1. Добавить форму подписки на все основные страницы, чтобы собрать базу клиентов для email-рассылок\t\n",
    "2. Добавить блоки рекомендаций товаров на сайт интернет магазина, чтобы повысить конверсию и средний чек заказа\n",
    "3. Добавить два новых канала привлечения трафика, что позволит привлекать на 30% больше пользователей\n",
    "4. Показать на главной странице баннеры с актуальными акциями и распродажами, чтобы увеличить конверсию"
   ]
  },
  {
   "cell_type": "markdown",
   "metadata": {},
   "source": [
    "Гипотеза с запуском акции для тех, у кого день рождения - победитель по коэффициенту `ICE` не вошла в список гипотез по коэффициенту `RICE` - поскольку имеет наименьший охват пользователей.\n",
    "\n",
    "\n",
    "Гипотезы с добавлением формы подписки и блоков рекомендаций товаров на сайт занимают первые строчки, поскольку имеют наибольший охват."
   ]
  },
  {
   "cell_type": "markdown",
   "metadata": {},
   "source": [
    "## Исследование A/B теста"
   ]
  },
  {
   "cell_type": "markdown",
   "metadata": {},
   "source": [
    "Предполагаем, что A/B тест проводился для гипотезы выигравшей по коэффициенту `RICE`:\n",
    "- Добавить форму подписки на все основные страницы, чтобы собрать базу клиентов для email-рассылок\n",
    "\n",
    "И мы предположили, что это позволит увеличить конверсию и средний чек."
   ]
  },
  {
   "cell_type": "markdown",
   "metadata": {},
   "source": [
    "### Предобработка данных"
   ]
  },
  {
   "cell_type": "code",
   "execution_count": 11,
   "metadata": {},
   "outputs": [],
   "source": [
    "orders = pd.read_csv('orders.csv')\n",
    "visitors = pd.read_csv('visitors.csv')"
   ]
  },
  {
   "cell_type": "code",
   "execution_count": 12,
   "metadata": {},
   "outputs": [
    {
     "name": "stdout",
     "output_type": "stream",
     "text": [
      "\u001b[92m\u001b[1mПредварительный анализ таблицы orders\u001b[0m\u001b[0m\n",
      "\n",
      "\u001b[1mОбщая информация о таблице:\u001b[0m\n",
      "<class 'pandas.core.frame.DataFrame'>\n",
      "RangeIndex: 1197 entries, 0 to 1196\n",
      "Data columns (total 6 columns):\n",
      " #   Column         Non-Null Count  Dtype \n",
      "---  ------         --------------  ----- \n",
      " 0   Unnamed: 0     1197 non-null   int64 \n",
      " 1   transactionId  1197 non-null   int64 \n",
      " 2   visitorId      1197 non-null   int64 \n",
      " 3   date           1197 non-null   object\n",
      " 4   revenue        1197 non-null   int64 \n",
      " 5   group          1197 non-null   object\n",
      "dtypes: int64(4), object(2)\n",
      "memory usage: 56.2+ KB\n",
      "\n",
      "\n",
      "\u001b[1mПервые 5 строк таблицы:\u001b[0m\n"
     ]
    },
    {
     "data": {
      "text/html": [
       "<div>\n",
       "<style scoped>\n",
       "    .dataframe tbody tr th:only-of-type {\n",
       "        vertical-align: middle;\n",
       "    }\n",
       "\n",
       "    .dataframe tbody tr th {\n",
       "        vertical-align: top;\n",
       "    }\n",
       "\n",
       "    .dataframe thead th {\n",
       "        text-align: right;\n",
       "    }\n",
       "</style>\n",
       "<table border=\"1\" class=\"dataframe\">\n",
       "  <thead>\n",
       "    <tr style=\"text-align: right;\">\n",
       "      <th></th>\n",
       "      <th>Unnamed: 0</th>\n",
       "      <th>transactionId</th>\n",
       "      <th>visitorId</th>\n",
       "      <th>date</th>\n",
       "      <th>revenue</th>\n",
       "      <th>group</th>\n",
       "    </tr>\n",
       "  </thead>\n",
       "  <tbody>\n",
       "    <tr>\n",
       "      <th>0</th>\n",
       "      <td>0</td>\n",
       "      <td>3667963787</td>\n",
       "      <td>3312258926</td>\n",
       "      <td>2019-08-15</td>\n",
       "      <td>1650</td>\n",
       "      <td>B</td>\n",
       "    </tr>\n",
       "    <tr>\n",
       "      <th>1</th>\n",
       "      <td>1</td>\n",
       "      <td>2804400009</td>\n",
       "      <td>3642806036</td>\n",
       "      <td>2019-08-15</td>\n",
       "      <td>730</td>\n",
       "      <td>B</td>\n",
       "    </tr>\n",
       "    <tr>\n",
       "      <th>2</th>\n",
       "      <td>2</td>\n",
       "      <td>2961555356</td>\n",
       "      <td>4069496402</td>\n",
       "      <td>2019-08-15</td>\n",
       "      <td>400</td>\n",
       "      <td>A</td>\n",
       "    </tr>\n",
       "    <tr>\n",
       "      <th>3</th>\n",
       "      <td>3</td>\n",
       "      <td>3797467345</td>\n",
       "      <td>1196621759</td>\n",
       "      <td>2019-08-15</td>\n",
       "      <td>9759</td>\n",
       "      <td>B</td>\n",
       "    </tr>\n",
       "    <tr>\n",
       "      <th>4</th>\n",
       "      <td>4</td>\n",
       "      <td>2282983706</td>\n",
       "      <td>2322279887</td>\n",
       "      <td>2019-08-15</td>\n",
       "      <td>2308</td>\n",
       "      <td>B</td>\n",
       "    </tr>\n",
       "  </tbody>\n",
       "</table>\n",
       "</div>"
      ],
      "text/plain": [
       "   Unnamed: 0  transactionId   visitorId        date  revenue group\n",
       "0           0     3667963787  3312258926  2019-08-15     1650     B\n",
       "1           1     2804400009  3642806036  2019-08-15      730     B\n",
       "2           2     2961555356  4069496402  2019-08-15      400     A\n",
       "3           3     3797467345  1196621759  2019-08-15     9759     B\n",
       "4           4     2282983706  2322279887  2019-08-15     2308     B"
      ]
     },
     "metadata": {},
     "output_type": "display_data"
    },
    {
     "name": "stdout",
     "output_type": "stream",
     "text": [
      "\n",
      "\n",
      "\u001b[1mЧисло пропусков в каждом столбце:\u001b[0m\n"
     ]
    },
    {
     "data": {
      "text/html": [
       "<style  type=\"text/css\" >\n",
       "</style><table id=\"T_95774e8d_d430_11ec_bf16_bce92ff98047\" ><thead>    <tr>        <th class=\"blank level0\" ></th>        <th class=\"col_heading level0 col0\" >abs</th>        <th class=\"col_heading level0 col1\" >rel %</th>    </tr></thead><tbody>\n",
       "                <tr>\n",
       "                        <th id=\"T_95774e8d_d430_11ec_bf16_bce92ff98047level0_row0\" class=\"row_heading level0 row0\" >Unnamed: 0</th>\n",
       "                        <td id=\"T_95774e8d_d430_11ec_bf16_bce92ff98047row0_col0\" class=\"data row0 col0\" >0</td>\n",
       "                        <td id=\"T_95774e8d_d430_11ec_bf16_bce92ff98047row0_col1\" class=\"data row0 col1\" >0.0%</td>\n",
       "            </tr>\n",
       "            <tr>\n",
       "                        <th id=\"T_95774e8d_d430_11ec_bf16_bce92ff98047level0_row1\" class=\"row_heading level0 row1\" >transactionId</th>\n",
       "                        <td id=\"T_95774e8d_d430_11ec_bf16_bce92ff98047row1_col0\" class=\"data row1 col0\" >0</td>\n",
       "                        <td id=\"T_95774e8d_d430_11ec_bf16_bce92ff98047row1_col1\" class=\"data row1 col1\" >0.0%</td>\n",
       "            </tr>\n",
       "            <tr>\n",
       "                        <th id=\"T_95774e8d_d430_11ec_bf16_bce92ff98047level0_row2\" class=\"row_heading level0 row2\" >visitorId</th>\n",
       "                        <td id=\"T_95774e8d_d430_11ec_bf16_bce92ff98047row2_col0\" class=\"data row2 col0\" >0</td>\n",
       "                        <td id=\"T_95774e8d_d430_11ec_bf16_bce92ff98047row2_col1\" class=\"data row2 col1\" >0.0%</td>\n",
       "            </tr>\n",
       "            <tr>\n",
       "                        <th id=\"T_95774e8d_d430_11ec_bf16_bce92ff98047level0_row3\" class=\"row_heading level0 row3\" >date</th>\n",
       "                        <td id=\"T_95774e8d_d430_11ec_bf16_bce92ff98047row3_col0\" class=\"data row3 col0\" >0</td>\n",
       "                        <td id=\"T_95774e8d_d430_11ec_bf16_bce92ff98047row3_col1\" class=\"data row3 col1\" >0.0%</td>\n",
       "            </tr>\n",
       "            <tr>\n",
       "                        <th id=\"T_95774e8d_d430_11ec_bf16_bce92ff98047level0_row4\" class=\"row_heading level0 row4\" >revenue</th>\n",
       "                        <td id=\"T_95774e8d_d430_11ec_bf16_bce92ff98047row4_col0\" class=\"data row4 col0\" >0</td>\n",
       "                        <td id=\"T_95774e8d_d430_11ec_bf16_bce92ff98047row4_col1\" class=\"data row4 col1\" >0.0%</td>\n",
       "            </tr>\n",
       "            <tr>\n",
       "                        <th id=\"T_95774e8d_d430_11ec_bf16_bce92ff98047level0_row5\" class=\"row_heading level0 row5\" >group</th>\n",
       "                        <td id=\"T_95774e8d_d430_11ec_bf16_bce92ff98047row5_col0\" class=\"data row5 col0\" >0</td>\n",
       "                        <td id=\"T_95774e8d_d430_11ec_bf16_bce92ff98047row5_col1\" class=\"data row5 col1\" >0.0%</td>\n",
       "            </tr>\n",
       "    </tbody></table>"
      ],
      "text/plain": [
       "<pandas.io.formats.style.Styler at 0x236a071f1f0>"
      ]
     },
     "metadata": {},
     "output_type": "display_data"
    },
    {
     "name": "stdout",
     "output_type": "stream",
     "text": [
      "\n",
      "\n",
      "\u001b[1mЧисло дубликатов в таблице: 0\u001b[0m\n",
      "\n",
      "\n",
      "\u001b[1mОписательная статистика:\u001b[0m\n"
     ]
    },
    {
     "data": {
      "text/html": [
       "<div>\n",
       "<style scoped>\n",
       "    .dataframe tbody tr th:only-of-type {\n",
       "        vertical-align: middle;\n",
       "    }\n",
       "\n",
       "    .dataframe tbody tr th {\n",
       "        vertical-align: top;\n",
       "    }\n",
       "\n",
       "    .dataframe thead th {\n",
       "        text-align: right;\n",
       "    }\n",
       "</style>\n",
       "<table border=\"1\" class=\"dataframe\">\n",
       "  <thead>\n",
       "    <tr style=\"text-align: right;\">\n",
       "      <th></th>\n",
       "      <th>count</th>\n",
       "      <th>mean</th>\n",
       "      <th>std</th>\n",
       "      <th>min</th>\n",
       "      <th>25%</th>\n",
       "      <th>50%</th>\n",
       "      <th>75%</th>\n",
       "      <th>max</th>\n",
       "    </tr>\n",
       "  </thead>\n",
       "  <tbody>\n",
       "    <tr>\n",
       "      <th>Unnamed: 0</th>\n",
       "      <td>1197.0</td>\n",
       "      <td>5.980000e+02</td>\n",
       "      <td>3.456884e+02</td>\n",
       "      <td>0.0</td>\n",
       "      <td>2.990000e+02</td>\n",
       "      <td>5.980000e+02</td>\n",
       "      <td>8.970000e+02</td>\n",
       "      <td>1.196000e+03</td>\n",
       "    </tr>\n",
       "    <tr>\n",
       "      <th>transactionId</th>\n",
       "      <td>1197.0</td>\n",
       "      <td>2.155621e+09</td>\n",
       "      <td>1.229085e+09</td>\n",
       "      <td>1062393.0</td>\n",
       "      <td>1.166776e+09</td>\n",
       "      <td>2.145194e+09</td>\n",
       "      <td>3.237740e+09</td>\n",
       "      <td>4.293856e+09</td>\n",
       "    </tr>\n",
       "    <tr>\n",
       "      <th>visitorId</th>\n",
       "      <td>1197.0</td>\n",
       "      <td>2.165960e+09</td>\n",
       "      <td>1.236014e+09</td>\n",
       "      <td>5114589.0</td>\n",
       "      <td>1.111826e+09</td>\n",
       "      <td>2.217985e+09</td>\n",
       "      <td>3.177606e+09</td>\n",
       "      <td>4.283872e+09</td>\n",
       "    </tr>\n",
       "    <tr>\n",
       "      <th>revenue</th>\n",
       "      <td>1197.0</td>\n",
       "      <td>8.348006e+03</td>\n",
       "      <td>3.919113e+04</td>\n",
       "      <td>50.0</td>\n",
       "      <td>1.220000e+03</td>\n",
       "      <td>2.978000e+03</td>\n",
       "      <td>8.290000e+03</td>\n",
       "      <td>1.294500e+06</td>\n",
       "    </tr>\n",
       "  </tbody>\n",
       "</table>\n",
       "</div>"
      ],
      "text/plain": [
       "                count          mean           std        min           25%  \\\n",
       "Unnamed: 0     1197.0  5.980000e+02  3.456884e+02        0.0  2.990000e+02   \n",
       "transactionId  1197.0  2.155621e+09  1.229085e+09  1062393.0  1.166776e+09   \n",
       "visitorId      1197.0  2.165960e+09  1.236014e+09  5114589.0  1.111826e+09   \n",
       "revenue        1197.0  8.348006e+03  3.919113e+04       50.0  1.220000e+03   \n",
       "\n",
       "                        50%           75%           max  \n",
       "Unnamed: 0     5.980000e+02  8.970000e+02  1.196000e+03  \n",
       "transactionId  2.145194e+09  3.237740e+09  4.293856e+09  \n",
       "visitorId      2.217985e+09  3.177606e+09  4.283872e+09  \n",
       "revenue        2.978000e+03  8.290000e+03  1.294500e+06  "
      ]
     },
     "metadata": {},
     "output_type": "display_data"
    }
   ],
   "source": [
    "review(orders, 'orders')"
   ]
  },
  {
   "cell_type": "code",
   "execution_count": 13,
   "metadata": {
    "scrolled": false
   },
   "outputs": [
    {
     "name": "stdout",
     "output_type": "stream",
     "text": [
      "\u001b[92m\u001b[1mПредварительный анализ таблицы visitors\u001b[0m\u001b[0m\n",
      "\n",
      "\u001b[1mОбщая информация о таблице:\u001b[0m\n",
      "<class 'pandas.core.frame.DataFrame'>\n",
      "RangeIndex: 62 entries, 0 to 61\n",
      "Data columns (total 4 columns):\n",
      " #   Column      Non-Null Count  Dtype \n",
      "---  ------      --------------  ----- \n",
      " 0   Unnamed: 0  62 non-null     int64 \n",
      " 1   date        62 non-null     object\n",
      " 2   group       62 non-null     object\n",
      " 3   visitors    62 non-null     int64 \n",
      "dtypes: int64(2), object(2)\n",
      "memory usage: 2.1+ KB\n",
      "\n",
      "\n",
      "\u001b[1mПервые 5 строк таблицы:\u001b[0m\n"
     ]
    },
    {
     "data": {
      "text/html": [
       "<div>\n",
       "<style scoped>\n",
       "    .dataframe tbody tr th:only-of-type {\n",
       "        vertical-align: middle;\n",
       "    }\n",
       "\n",
       "    .dataframe tbody tr th {\n",
       "        vertical-align: top;\n",
       "    }\n",
       "\n",
       "    .dataframe thead th {\n",
       "        text-align: right;\n",
       "    }\n",
       "</style>\n",
       "<table border=\"1\" class=\"dataframe\">\n",
       "  <thead>\n",
       "    <tr style=\"text-align: right;\">\n",
       "      <th></th>\n",
       "      <th>Unnamed: 0</th>\n",
       "      <th>date</th>\n",
       "      <th>group</th>\n",
       "      <th>visitors</th>\n",
       "    </tr>\n",
       "  </thead>\n",
       "  <tbody>\n",
       "    <tr>\n",
       "      <th>0</th>\n",
       "      <td>0</td>\n",
       "      <td>2019-08-01</td>\n",
       "      <td>A</td>\n",
       "      <td>719</td>\n",
       "    </tr>\n",
       "    <tr>\n",
       "      <th>1</th>\n",
       "      <td>1</td>\n",
       "      <td>2019-08-02</td>\n",
       "      <td>A</td>\n",
       "      <td>619</td>\n",
       "    </tr>\n",
       "    <tr>\n",
       "      <th>2</th>\n",
       "      <td>2</td>\n",
       "      <td>2019-08-03</td>\n",
       "      <td>A</td>\n",
       "      <td>507</td>\n",
       "    </tr>\n",
       "    <tr>\n",
       "      <th>3</th>\n",
       "      <td>3</td>\n",
       "      <td>2019-08-04</td>\n",
       "      <td>A</td>\n",
       "      <td>717</td>\n",
       "    </tr>\n",
       "    <tr>\n",
       "      <th>4</th>\n",
       "      <td>4</td>\n",
       "      <td>2019-08-05</td>\n",
       "      <td>A</td>\n",
       "      <td>756</td>\n",
       "    </tr>\n",
       "  </tbody>\n",
       "</table>\n",
       "</div>"
      ],
      "text/plain": [
       "   Unnamed: 0        date group  visitors\n",
       "0           0  2019-08-01     A       719\n",
       "1           1  2019-08-02     A       619\n",
       "2           2  2019-08-03     A       507\n",
       "3           3  2019-08-04     A       717\n",
       "4           4  2019-08-05     A       756"
      ]
     },
     "metadata": {},
     "output_type": "display_data"
    },
    {
     "name": "stdout",
     "output_type": "stream",
     "text": [
      "\n",
      "\n",
      "\u001b[1mЧисло пропусков в каждом столбце:\u001b[0m\n"
     ]
    },
    {
     "data": {
      "text/html": [
       "<style  type=\"text/css\" >\n",
       "</style><table id=\"T_9585270c_d430_11ec_865f_bce92ff98047\" ><thead>    <tr>        <th class=\"blank level0\" ></th>        <th class=\"col_heading level0 col0\" >abs</th>        <th class=\"col_heading level0 col1\" >rel %</th>    </tr></thead><tbody>\n",
       "                <tr>\n",
       "                        <th id=\"T_9585270c_d430_11ec_865f_bce92ff98047level0_row0\" class=\"row_heading level0 row0\" >Unnamed: 0</th>\n",
       "                        <td id=\"T_9585270c_d430_11ec_865f_bce92ff98047row0_col0\" class=\"data row0 col0\" >0</td>\n",
       "                        <td id=\"T_9585270c_d430_11ec_865f_bce92ff98047row0_col1\" class=\"data row0 col1\" >0.0%</td>\n",
       "            </tr>\n",
       "            <tr>\n",
       "                        <th id=\"T_9585270c_d430_11ec_865f_bce92ff98047level0_row1\" class=\"row_heading level0 row1\" >date</th>\n",
       "                        <td id=\"T_9585270c_d430_11ec_865f_bce92ff98047row1_col0\" class=\"data row1 col0\" >0</td>\n",
       "                        <td id=\"T_9585270c_d430_11ec_865f_bce92ff98047row1_col1\" class=\"data row1 col1\" >0.0%</td>\n",
       "            </tr>\n",
       "            <tr>\n",
       "                        <th id=\"T_9585270c_d430_11ec_865f_bce92ff98047level0_row2\" class=\"row_heading level0 row2\" >group</th>\n",
       "                        <td id=\"T_9585270c_d430_11ec_865f_bce92ff98047row2_col0\" class=\"data row2 col0\" >0</td>\n",
       "                        <td id=\"T_9585270c_d430_11ec_865f_bce92ff98047row2_col1\" class=\"data row2 col1\" >0.0%</td>\n",
       "            </tr>\n",
       "            <tr>\n",
       "                        <th id=\"T_9585270c_d430_11ec_865f_bce92ff98047level0_row3\" class=\"row_heading level0 row3\" >visitors</th>\n",
       "                        <td id=\"T_9585270c_d430_11ec_865f_bce92ff98047row3_col0\" class=\"data row3 col0\" >0</td>\n",
       "                        <td id=\"T_9585270c_d430_11ec_865f_bce92ff98047row3_col1\" class=\"data row3 col1\" >0.0%</td>\n",
       "            </tr>\n",
       "    </tbody></table>"
      ],
      "text/plain": [
       "<pandas.io.formats.style.Styler at 0x236a1b7e820>"
      ]
     },
     "metadata": {},
     "output_type": "display_data"
    },
    {
     "name": "stdout",
     "output_type": "stream",
     "text": [
      "\n",
      "\n",
      "\u001b[1mЧисло дубликатов в таблице: 0\u001b[0m\n",
      "\n",
      "\n",
      "\u001b[1mОписательная статистика:\u001b[0m\n"
     ]
    },
    {
     "data": {
      "text/html": [
       "<div>\n",
       "<style scoped>\n",
       "    .dataframe tbody tr th:only-of-type {\n",
       "        vertical-align: middle;\n",
       "    }\n",
       "\n",
       "    .dataframe tbody tr th {\n",
       "        vertical-align: top;\n",
       "    }\n",
       "\n",
       "    .dataframe thead th {\n",
       "        text-align: right;\n",
       "    }\n",
       "</style>\n",
       "<table border=\"1\" class=\"dataframe\">\n",
       "  <thead>\n",
       "    <tr style=\"text-align: right;\">\n",
       "      <th></th>\n",
       "      <th>count</th>\n",
       "      <th>mean</th>\n",
       "      <th>std</th>\n",
       "      <th>min</th>\n",
       "      <th>25%</th>\n",
       "      <th>50%</th>\n",
       "      <th>75%</th>\n",
       "      <th>max</th>\n",
       "    </tr>\n",
       "  </thead>\n",
       "  <tbody>\n",
       "    <tr>\n",
       "      <th>Unnamed: 0</th>\n",
       "      <td>62.0</td>\n",
       "      <td>30.500000</td>\n",
       "      <td>18.041619</td>\n",
       "      <td>0.0</td>\n",
       "      <td>15.25</td>\n",
       "      <td>30.5</td>\n",
       "      <td>45.75</td>\n",
       "      <td>61.0</td>\n",
       "    </tr>\n",
       "    <tr>\n",
       "      <th>visitors</th>\n",
       "      <td>62.0</td>\n",
       "      <td>607.290323</td>\n",
       "      <td>114.400560</td>\n",
       "      <td>361.0</td>\n",
       "      <td>534.00</td>\n",
       "      <td>624.5</td>\n",
       "      <td>710.50</td>\n",
       "      <td>770.0</td>\n",
       "    </tr>\n",
       "  </tbody>\n",
       "</table>\n",
       "</div>"
      ],
      "text/plain": [
       "            count        mean         std    min     25%    50%     75%    max\n",
       "Unnamed: 0   62.0   30.500000   18.041619    0.0   15.25   30.5   45.75   61.0\n",
       "visitors     62.0  607.290323  114.400560  361.0  534.00  624.5  710.50  770.0"
      ]
     },
     "metadata": {},
     "output_type": "display_data"
    }
   ],
   "source": [
    "review(visitors, 'visitors')"
   ]
  },
  {
   "cell_type": "markdown",
   "metadata": {},
   "source": [
    "Приведеи даты к нужному формату"
   ]
  },
  {
   "cell_type": "code",
   "execution_count": 14,
   "metadata": {},
   "outputs": [],
   "source": [
    "orders['date'] = pd.to_datetime(orders['date'])\n",
    "visitors['date'] = pd.to_datetime(visitors['date'])"
   ]
  },
  {
   "cell_type": "markdown",
   "metadata": {},
   "source": [
    "Проверим таблицу `orders` на наличие пользователей, попавших в обе группы."
   ]
  },
  {
   "cell_type": "code",
   "execution_count": 15,
   "metadata": {},
   "outputs": [
    {
     "name": "stdout",
     "output_type": "stream",
     "text": [
      "Количество людей попавших в обе группы: 58\n"
     ]
    }
   ],
   "source": [
    "users_groups = orders[['visitorId', 'group']].drop_duplicates()\n",
    "two_group_users = list(users_groups[users_groups['visitorId'].duplicated()]['visitorId'])\n",
    "print(f'Количество людей попавших в обе группы: {len(two_group_users)}')"
   ]
  },
  {
   "cell_type": "markdown",
   "metadata": {},
   "source": [
    "Посмотрим какой процент выручки принесли нам эти пользователи за время проведения теста."
   ]
  },
  {
   "cell_type": "code",
   "execution_count": 16,
   "metadata": {},
   "outputs": [
    {
     "name": "stdout",
     "output_type": "stream",
     "text": [
      "Процент выручки пользователей, попавших в обе группы: 15.6%\n"
     ]
    }
   ],
   "source": [
    "print('Процент выручки пользователей, попавших в обе группы:',\n",
    "    '{:.1%}'\n",
    "    .format(orders.query('visitorId in @two_group_users')['revenue'].sum()/orders['revenue'].sum())\n",
    ")"
   ]
  },
  {
   "cell_type": "markdown",
   "metadata": {},
   "source": [
    "Пользователи попавшие в обе группы принесли достаточно большую выручку, однако для чистоты анализа A/B теста мы удалим этих пользователей."
   ]
  },
  {
   "cell_type": "code",
   "execution_count": 17,
   "metadata": {},
   "outputs": [],
   "source": [
    "orders = orders.query('visitorId not in @two_group_users').copy()"
   ]
  },
  {
   "cell_type": "markdown",
   "metadata": {},
   "source": [
    "### Вывод\n",
    "На этапе предобработки данных даты были приведены к нужному формату, а так же из таблицы `orders` были удалены данные о 58 пользователях, который попали в обе группы и хоть они принесли значительную выручку во время проведения эксперимента, все же мы решили их удалить для чистоты анализа A/B теста."
   ]
  },
  {
   "cell_type": "markdown",
   "metadata": {},
   "source": [
    "***"
   ]
  },
  {
   "cell_type": "markdown",
   "metadata": {},
   "source": [
    "Напишем функцию, которая на вход получает данные о заказах и посетителях.\n",
    "А на выходе общие и кумулятивные данные в каждой группе."
   ]
  },
  {
   "cell_type": "code",
   "execution_count": 18,
   "metadata": {},
   "outputs": [],
   "source": [
    "def get_cumulative_data(orders, visitors):\n",
    "    orders_grouped = (\n",
    "        orders\n",
    "        .groupby(['date', 'group'], as_index=False)\n",
    "        .agg({'transactionId':'nunique', 'visitorId':'nunique', 'revenue':'sum'})\n",
    "        .rename(columns={'transactionId':'orders', 'visitorId':'buyers'})\n",
    "    )\n",
    "    orders_group_A = (\n",
    "        orders_grouped\n",
    "        .query('group==\"A\"')\n",
    "        .sort_values(by='date')\n",
    "    )\n",
    "    orders_group_B = (\n",
    "        orders_grouped\n",
    "        .query('group==\"B\"')\n",
    "        .sort_values(by='date')\n",
    "    )\n",
    "    orders_group_A['cum_revenue'] = orders_group_A['revenue'].cumsum()\n",
    "    orders_group_A['cum_orders'] = orders_group_A['orders'].cumsum()\n",
    "\n",
    "    orders_group_A['avg_check'] = orders_group_A['cum_revenue']/orders_group_A['cum_orders']\n",
    "\n",
    "    orders_group_B['cum_revenue'] = orders_group_B['revenue'].cumsum()\n",
    "    orders_group_B['cum_orders'] = orders_group_B['orders'].cumsum()\n",
    "\n",
    "    orders_group_B['avg_check'] = orders_group_B['cum_revenue']/orders_group_B['cum_orders']\n",
    "    \n",
    "    orders_merged = (\n",
    "        orders_group_A\n",
    "        .merge(orders_group_B, on='date', suffixes=['_A', '_B'])\n",
    "        .drop(['group_A', 'group_B'], axis=1)\n",
    "    )\n",
    "    \n",
    "    visitors = visitors.sort_values(by='date').copy()\n",
    "    visitors_A = visitors.query('group==\"A\"').copy()\n",
    "    visitors_B = visitors.query('group==\"B\"').copy()\n",
    "    visitors_A['cum_visitors'] = visitors_A['visitors'].cumsum()\n",
    "    visitors_B['cum_visitors'] = visitors_B['visitors'].cumsum()\n",
    "    visitors_merged = (\n",
    "        visitors_A\n",
    "        .merge(visitors_B, on='date', suffixes=['_A', '_B'])\n",
    "        .drop(['group_A', 'group_B'], axis=1)\n",
    "    )\n",
    "    \n",
    "    orders_visitors = orders_merged.merge(visitors_merged, on='date')\n",
    "    \n",
    "    orders_visitors['cum_conversion_A'] = (\n",
    "        orders_visitors['cum_orders_A']\n",
    "        /orders_visitors['cum_visitors_A']\n",
    "    )\n",
    "    \n",
    "    orders_visitors['cum_conversion_B'] = (\n",
    "        orders_visitors['cum_orders_B']\n",
    "        /orders_visitors['cum_visitors_B']\n",
    "    )\n",
    "    \n",
    "    return orders_visitors"
   ]
  },
  {
   "cell_type": "code",
   "execution_count": 19,
   "metadata": {},
   "outputs": [],
   "source": [
    "orders_visitors = get_cumulative_data(orders, visitors)"
   ]
  },
  {
   "cell_type": "code",
   "execution_count": 20,
   "metadata": {},
   "outputs": [
    {
     "data": {
      "text/html": [
       "<div>\n",
       "<style scoped>\n",
       "    .dataframe tbody tr th:only-of-type {\n",
       "        vertical-align: middle;\n",
       "    }\n",
       "\n",
       "    .dataframe tbody tr th {\n",
       "        vertical-align: top;\n",
       "    }\n",
       "\n",
       "    .dataframe thead th {\n",
       "        text-align: right;\n",
       "    }\n",
       "</style>\n",
       "<table border=\"1\" class=\"dataframe\">\n",
       "  <thead>\n",
       "    <tr style=\"text-align: right;\">\n",
       "      <th></th>\n",
       "      <th>date</th>\n",
       "      <th>orders_A</th>\n",
       "      <th>buyers_A</th>\n",
       "      <th>revenue_A</th>\n",
       "      <th>cum_revenue_A</th>\n",
       "      <th>cum_orders_A</th>\n",
       "      <th>avg_check_A</th>\n",
       "      <th>orders_B</th>\n",
       "      <th>buyers_B</th>\n",
       "      <th>revenue_B</th>\n",
       "      <th>...</th>\n",
       "      <th>cum_orders_B</th>\n",
       "      <th>avg_check_B</th>\n",
       "      <th>Unnamed: 0_A</th>\n",
       "      <th>visitors_A</th>\n",
       "      <th>cum_visitors_A</th>\n",
       "      <th>Unnamed: 0_B</th>\n",
       "      <th>visitors_B</th>\n",
       "      <th>cum_visitors_B</th>\n",
       "      <th>cum_conversion_A</th>\n",
       "      <th>cum_conversion_B</th>\n",
       "    </tr>\n",
       "  </thead>\n",
       "  <tbody>\n",
       "    <tr>\n",
       "      <th>0</th>\n",
       "      <td>2019-08-01</td>\n",
       "      <td>23</td>\n",
       "      <td>19</td>\n",
       "      <td>142779</td>\n",
       "      <td>142779</td>\n",
       "      <td>23</td>\n",
       "      <td>6207.782609</td>\n",
       "      <td>17</td>\n",
       "      <td>17</td>\n",
       "      <td>59758</td>\n",
       "      <td>...</td>\n",
       "      <td>17</td>\n",
       "      <td>3515.176471</td>\n",
       "      <td>0</td>\n",
       "      <td>719</td>\n",
       "      <td>719</td>\n",
       "      <td>31</td>\n",
       "      <td>713</td>\n",
       "      <td>713</td>\n",
       "      <td>0.031989</td>\n",
       "      <td>0.023843</td>\n",
       "    </tr>\n",
       "    <tr>\n",
       "      <th>1</th>\n",
       "      <td>2019-08-02</td>\n",
       "      <td>19</td>\n",
       "      <td>18</td>\n",
       "      <td>91602</td>\n",
       "      <td>234381</td>\n",
       "      <td>42</td>\n",
       "      <td>5580.500000</td>\n",
       "      <td>23</td>\n",
       "      <td>22</td>\n",
       "      <td>162043</td>\n",
       "      <td>...</td>\n",
       "      <td>40</td>\n",
       "      <td>5545.025000</td>\n",
       "      <td>1</td>\n",
       "      <td>619</td>\n",
       "      <td>1338</td>\n",
       "      <td>32</td>\n",
       "      <td>581</td>\n",
       "      <td>1294</td>\n",
       "      <td>0.031390</td>\n",
       "      <td>0.030912</td>\n",
       "    </tr>\n",
       "    <tr>\n",
       "      <th>2</th>\n",
       "      <td>2019-08-03</td>\n",
       "      <td>24</td>\n",
       "      <td>24</td>\n",
       "      <td>112473</td>\n",
       "      <td>346854</td>\n",
       "      <td>66</td>\n",
       "      <td>5255.363636</td>\n",
       "      <td>14</td>\n",
       "      <td>14</td>\n",
       "      <td>67049</td>\n",
       "      <td>...</td>\n",
       "      <td>54</td>\n",
       "      <td>5349.074074</td>\n",
       "      <td>2</td>\n",
       "      <td>507</td>\n",
       "      <td>1845</td>\n",
       "      <td>33</td>\n",
       "      <td>509</td>\n",
       "      <td>1803</td>\n",
       "      <td>0.035772</td>\n",
       "      <td>0.029950</td>\n",
       "    </tr>\n",
       "    <tr>\n",
       "      <th>3</th>\n",
       "      <td>2019-08-04</td>\n",
       "      <td>11</td>\n",
       "      <td>11</td>\n",
       "      <td>41176</td>\n",
       "      <td>388030</td>\n",
       "      <td>77</td>\n",
       "      <td>5039.350649</td>\n",
       "      <td>14</td>\n",
       "      <td>13</td>\n",
       "      <td>96890</td>\n",
       "      <td>...</td>\n",
       "      <td>68</td>\n",
       "      <td>5672.647059</td>\n",
       "      <td>3</td>\n",
       "      <td>717</td>\n",
       "      <td>2562</td>\n",
       "      <td>34</td>\n",
       "      <td>770</td>\n",
       "      <td>2573</td>\n",
       "      <td>0.030055</td>\n",
       "      <td>0.026428</td>\n",
       "    </tr>\n",
       "    <tr>\n",
       "      <th>4</th>\n",
       "      <td>2019-08-05</td>\n",
       "      <td>22</td>\n",
       "      <td>22</td>\n",
       "      <td>86383</td>\n",
       "      <td>474413</td>\n",
       "      <td>99</td>\n",
       "      <td>4792.050505</td>\n",
       "      <td>21</td>\n",
       "      <td>21</td>\n",
       "      <td>89908</td>\n",
       "      <td>...</td>\n",
       "      <td>89</td>\n",
       "      <td>5344.359551</td>\n",
       "      <td>4</td>\n",
       "      <td>756</td>\n",
       "      <td>3318</td>\n",
       "      <td>35</td>\n",
       "      <td>707</td>\n",
       "      <td>3280</td>\n",
       "      <td>0.029837</td>\n",
       "      <td>0.027134</td>\n",
       "    </tr>\n",
       "  </tbody>\n",
       "</table>\n",
       "<p>5 rows × 21 columns</p>\n",
       "</div>"
      ],
      "text/plain": [
       "        date  orders_A  buyers_A  revenue_A  cum_revenue_A  cum_orders_A  \\\n",
       "0 2019-08-01        23        19     142779         142779            23   \n",
       "1 2019-08-02        19        18      91602         234381            42   \n",
       "2 2019-08-03        24        24     112473         346854            66   \n",
       "3 2019-08-04        11        11      41176         388030            77   \n",
       "4 2019-08-05        22        22      86383         474413            99   \n",
       "\n",
       "   avg_check_A  orders_B  buyers_B  revenue_B  ...  cum_orders_B  avg_check_B  \\\n",
       "0  6207.782609        17        17      59758  ...            17  3515.176471   \n",
       "1  5580.500000        23        22     162043  ...            40  5545.025000   \n",
       "2  5255.363636        14        14      67049  ...            54  5349.074074   \n",
       "3  5039.350649        14        13      96890  ...            68  5672.647059   \n",
       "4  4792.050505        21        21      89908  ...            89  5344.359551   \n",
       "\n",
       "   Unnamed: 0_A  visitors_A  cum_visitors_A  Unnamed: 0_B  visitors_B  \\\n",
       "0             0         719             719            31         713   \n",
       "1             1         619            1338            32         581   \n",
       "2             2         507            1845            33         509   \n",
       "3             3         717            2562            34         770   \n",
       "4             4         756            3318            35         707   \n",
       "\n",
       "   cum_visitors_B  cum_conversion_A  cum_conversion_B  \n",
       "0             713          0.031989          0.023843  \n",
       "1            1294          0.031390          0.030912  \n",
       "2            1803          0.035772          0.029950  \n",
       "3            2573          0.030055          0.026428  \n",
       "4            3280          0.029837          0.027134  \n",
       "\n",
       "[5 rows x 21 columns]"
      ]
     },
     "execution_count": 20,
     "metadata": {},
     "output_type": "execute_result"
    }
   ],
   "source": [
    "orders_visitors.head()"
   ]
  },
  {
   "cell_type": "markdown",
   "metadata": {},
   "source": [
    "### Кумулятивная выручка по группам"
   ]
  },
  {
   "cell_type": "markdown",
   "metadata": {},
   "source": [
    "Построим график кумулятивной выручки по группам"
   ]
  },
  {
   "cell_type": "code",
   "execution_count": 21,
   "metadata": {},
   "outputs": [
    {
     "data": {
      "image/png": "[encoded data removed]",
      "text/plain": [
       "<Figure size 1080x432 with 1 Axes>"
      ]
     },
     "metadata": {
      "needs_background": "light"
     },
     "output_type": "display_data"
    }
   ],
   "source": [
    "plt.figure(figsize=(15, 6))\n",
    "plt.plot(orders_visitors['date'], orders_visitors['cum_revenue_A'], label='group A')\n",
    "plt.plot(orders_visitors['date'], orders_visitors['cum_revenue_B'], label='group B')\n",
    "plt.legend()\n",
    "plt.title(\"Кумулятивная выручка по группам\")\n",
    "plt.xlabel('Дата')\n",
    "plt.ylabel('Кумулятивная выручка')\n",
    "plt.show()"
   ]
  },
  {
   "cell_type": "markdown",
   "metadata": {},
   "source": [
    "В первые дни кумулятивная выручка группы B была ниже кумулятивной выручки группы А, однако спустя неделю, выручка группы B стала выше выручки группы А. \n",
    "\n",
    "Заметно, что в группе А выручка росла достаточно равномерно, в то время как выручка группы B претерпевает очень большой скачок, возможно, что в один из дней - был сделан заказ на крупную сумму, либо было резкое увеличение числа заказов."
   ]
  },
  {
   "cell_type": "markdown",
   "metadata": {},
   "source": [
    "### Кумулятивный средний чек по группам"
   ]
  },
  {
   "cell_type": "markdown",
   "metadata": {},
   "source": [
    "Построим график кумулятивного среднего чека по группам.\n"
   ]
  },
  {
   "cell_type": "code",
   "execution_count": 22,
   "metadata": {},
   "outputs": [
    {
     "data": {
      "image/png": "[encoded data removed]",
      "text/plain": [
       "<Figure size 1080x432 with 1 Axes>"
      ]
     },
     "metadata": {
      "needs_background": "light"
     },
     "output_type": "display_data"
    }
   ],
   "source": [
    "plt.figure(figsize=(15, 6))\n",
    "plt.plot(orders_visitors['date'], \n",
    "         orders_visitors['avg_check_A'], label='group A')\n",
    "plt.plot(orders_visitors['date'], \n",
    "         orders_visitors['avg_check_B'], label='group B')\n",
    "plt.legend()\n",
    "plt.title(\"Кумулятивный средний чек по группам\")\n",
    "plt.xlabel('Дата')\n",
    "plt.ylabel('Кумулятивный средний чек')\n",
    "plt.show()"
   ]
  },
  {
   "cell_type": "markdown",
   "metadata": {},
   "source": [
    "Средние чеки обеих групп в первые 20 дней подвержены резким скачкам. В группе B это особенно видно, средний чек скакнул с 7000 до 10000, возможно, что это влияние выбросов.\n",
    "\n",
    "После 20 дней средние чеки обеих групп перестали скакать и установились на определнном уровне. Средний чек группы А держится примерно на 7000, средний чек группы B на 9000, но продолжает потихоньку падать."
   ]
  },
  {
   "cell_type": "markdown",
   "metadata": {},
   "source": [
    "### Относительное изменение кумулятивного среднего чека"
   ]
  },
  {
   "cell_type": "markdown",
   "metadata": {},
   "source": [
    "Построим график относительного изменения кумулятивного среднего чека группы B к группе A."
   ]
  },
  {
   "cell_type": "code",
   "execution_count": 23,
   "metadata": {
    "scrolled": true
   },
   "outputs": [
    {
     "data": {
      "image/png": "[encoded data removed]",
      "text/plain": [
       "<Figure size 1080x432 with 1 Axes>"
      ]
     },
     "metadata": {
      "needs_background": "light"
     },
     "output_type": "display_data"
    }
   ],
   "source": [
    "plt.figure(figsize=(15, 6))\n",
    "plt.plot(orders_visitors['date'], orders_visitors['avg_check_B']/orders_visitors['avg_check_A']-1)\n",
    "plt.axhline(y=0, color='black', linestyle='--')\n",
    "plt.title(\"Относительное изменение кумулятивного среднего чека группы B к группе A\")\n",
    "plt.xlabel('Дата')\n",
    "plt.ylabel('Относительное изменение')\n",
    "plt.show()"
   ]
  },
  {
   "cell_type": "markdown",
   "metadata": {},
   "source": [
    "График относительного изменения среднего чека группы B к группе А резко скачет, становясь то выше, то ниже равенства. В данных точно есть выбросы - либо большое число заказов, либо крупная сумма заказа."
   ]
  },
  {
   "cell_type": "markdown",
   "metadata": {},
   "source": [
    "### Кумулятивная конверсия по группам"
   ]
  },
  {
   "cell_type": "markdown",
   "metadata": {},
   "source": [
    "Построим график кумулятивной конверсии по группам"
   ]
  },
  {
   "cell_type": "code",
   "execution_count": 24,
   "metadata": {
    "scrolled": true
   },
   "outputs": [
    {
     "data": {
      "image/png": "[encoded data removed]",
      "text/plain": [
       "<Figure size 1080x432 with 1 Axes>"
      ]
     },
     "metadata": {
      "needs_background": "light"
     },
     "output_type": "display_data"
    }
   ],
   "source": [
    "plt.figure(figsize=(15, 6))\n",
    "plt.plot(orders_visitors['date'], \n",
    "         orders_visitors['cum_conversion_A'], label='group A')\n",
    "plt.plot(orders_visitors['date'], \n",
    "         orders_visitors['cum_conversion_B'], label='group B')\n",
    "plt.legend()\n",
    "plt.title(\"Кумулятивная конверсия по группам\")\n",
    "plt.xlabel('Дата')\n",
    "plt.ylabel('Кумулятивная конверсия')\n",
    "plt.show()"
   ]
  },
  {
   "cell_type": "markdown",
   "metadata": {},
   "source": [
    "В первые дни конверсия группы А была выше конверсии группы В. Затем группа В вырвалась вперед и с тех пор не сдает своих позиций, став относительно стабильной, конверсия группы А наоборот просела и так же зафиксировалась на одном уровне."
   ]
  },
  {
   "cell_type": "markdown",
   "metadata": {},
   "source": [
    "### Относительное изменение кумулятивной конверсии группы B к группе A"
   ]
  },
  {
   "cell_type": "markdown",
   "metadata": {},
   "source": [
    "Построим график относительного изменения кумулятивной конверсии группы B к группе A"
   ]
  },
  {
   "cell_type": "code",
   "execution_count": 25,
   "metadata": {
    "scrolled": true
   },
   "outputs": [
    {
     "data": {
      "image/png": "[encoded data removed]",
      "text/plain": [
       "<Figure size 1080x432 with 1 Axes>"
      ]
     },
     "metadata": {
      "needs_background": "light"
     },
     "output_type": "display_data"
    }
   ],
   "source": [
    "plt.figure(figsize=(15, 6))\n",
    "plt.plot(orders_visitors['date'],\n",
    "         orders_visitors['cum_conversion_B']/orders_visitors['cum_conversion_A']-1)\n",
    "plt.axhline(y=0, color='black', linestyle='--')\n",
    "plt.title(\"Относительное изменение кумулятивной конверсии группы B к группе A\")\n",
    "plt.xlabel('Дата')\n",
    "plt.ylabel('Относительное изменение')\n",
    "plt.show()"
   ]
  },
  {
   "cell_type": "markdown",
   "metadata": {},
   "source": [
    "В начале теста конверсия группы В была значительно ниже конверсии группы А, затем вырвалась вперед и с тех пор конверсия группы В стабильно выше конверсии группы А."
   ]
  },
  {
   "cell_type": "markdown",
   "metadata": {},
   "source": [
    "### Вывод"
   ]
  },
  {
   "cell_type": "markdown",
   "metadata": {},
   "source": [
    "Что нам удалось узнать:\n",
    "\n",
    "- Выручка группы B выше выручки группы А, однако если выручка группы А растет равномерно, то выручка группы В подвержена скачкам.\n",
    "\n",
    "- Средние чеки обеих групп подвержены резким скачкам. К концу теста средний чек группы В выше среднего чека группы А, однако если чек группы А установился одном уровне, то средний чек претерпев огромный скачок, начинает равномерно падать.\n",
    "\n",
    "- График относительного изменения среднего чека группы B к группе А резко скачет, становясь то выше, то ниже равенства. В данных точно есть выбросы - либо большое число заказов, либо крупная сумма заказа.\n",
    "\n",
    "- Конверсии обеих групп к концу теста установились на одном уровне, при этом конверсия группы В стабильно выше конверсии  группы А\n"
   ]
  },
  {
   "cell_type": "markdown",
   "metadata": {},
   "source": [
    "### Выявление аномалий"
   ]
  },
  {
   "cell_type": "markdown",
   "metadata": {},
   "source": [
    "- Сгруппируем данные о заказах по пользователям\n",
    "- Построим точечный график количества заказов по пользователям\n",
    "- Посчитаем 95-й и 99-й перцентили количества заказов на пользователя. Выберем границу для определения аномальных пользователей.\n",
    "- Построим точечный график стоимостей заказов\n",
    "- Посчитаем 95-й и 99-й перцентили стоимости заказов. Выберем границу для определения аномальных заказов."
   ]
  },
  {
   "cell_type": "code",
   "execution_count": 26,
   "metadata": {},
   "outputs": [],
   "source": [
    "orders_grouped = (\n",
    "    orders\n",
    "    .groupby(['visitorId', 'group'], as_index=False)\n",
    "    .agg({'transactionId':'nunique', 'revenue':'sum'})\n",
    "    .rename(columns={'transactionId':'orders'})\n",
    ")"
   ]
  },
  {
   "cell_type": "code",
   "execution_count": 27,
   "metadata": {
    "scrolled": true
   },
   "outputs": [
    {
     "data": {
      "image/png": "[encoded data removed]",
      "text/plain": [
       "<Figure size 1080x432 with 2 Axes>"
      ]
     },
     "metadata": {
      "needs_background": "light"
     },
     "output_type": "display_data"
    }
   ],
   "source": [
    "plt.figure(figsize=(15, 6))\n",
    "x_values = pd.Series(range(0, len(orders_grouped['orders'])))\n",
    "ax1 = plt.subplot(1, 2, 1)\n",
    "plt.scatter(x_values, orders_grouped['orders'])\n",
    "plt.title('Количество заказов по пользователям')\n",
    "ax2 = plt.subplot(1, 2, 2)\n",
    "x_values = pd.Series(range(0, len(orders_grouped['revenue'])))\n",
    "plt.scatter(x_values, orders_grouped['revenue'])\n",
    "plt.title('Стоимость заказов по пользователям')\n",
    "plt.show()"
   ]
  },
  {
   "cell_type": "markdown",
   "metadata": {},
   "source": [
    "В основном посетители совершают 1 заказ. В стоимости заказов, есть выбросы - пользователь совершил заказ на сумму более 1 миллиона! Вычислим перцентили, чтобы выявить верхнюю границу числа заказов и стоимости заказов."
   ]
  },
  {
   "cell_type": "code",
   "execution_count": 28,
   "metadata": {},
   "outputs": [
    {
     "name": "stdout",
     "output_type": "stream",
     "text": [
      "Перцентили количества заказов по пользователям\n",
      "95-й: 1.0\n",
      "99-й: 2.0\n",
      "Перцентили стоимости заказов по пользователям\n",
      "95-й: 28910\n",
      "99-й: 59082\n"
     ]
    }
   ],
   "source": [
    "print('Перцентили количества заказов по пользователям')\n",
    "print('95-й:', np.percentile(orders_grouped['orders'], [95, 99][0]))\n",
    "print('99-й:', np.percentile(orders_grouped['orders'], [95, 99][1]))\n",
    "\n",
    "print('Перцентили стоимости заказов по пользователям')\n",
    "print('95-й:', round(np.percentile(orders_grouped['revenue'], [95, 99][0])))\n",
    "print('99-й:', round(np.percentile(orders_grouped['revenue'], [95, 99][1])))"
   ]
  },
  {
   "cell_type": "markdown",
   "metadata": {},
   "source": [
    "Выделим в \"аномальных\" пользователей тех, кто совершил больше двух заказов и сделал покупку более чем на 60000 рублей"
   ]
  },
  {
   "cell_type": "code",
   "execution_count": 29,
   "metadata": {},
   "outputs": [],
   "source": [
    "abnormal_users = list(orders_grouped.query('orders > 2')['visitorId'].append(\n",
    "    orders_grouped.query('revenue > 60000')['visitorId']).unique())"
   ]
  },
  {
   "cell_type": "markdown",
   "metadata": {},
   "source": [
    "### Вывод"
   ]
  },
  {
   "cell_type": "markdown",
   "metadata": {},
   "source": [
    "99% пользователей совершает не более 2 заказов и сумма заказа не превышает 60000."
   ]
  },
  {
   "cell_type": "markdown",
   "metadata": {},
   "source": [
    "### Проверка гипотез"
   ]
  },
  {
   "cell_type": "markdown",
   "metadata": {},
   "source": [
    "- Посчитаем статистическую значимость различий в конверсии между группами по «сырым» данным\n",
    "- Посчитаем статистическую значимость различий в среднем чеке заказа между группами по «сырым» данным\n",
    "- Посчитаем статистическую значимость различий в конверсии между группами по «очищенным» данным\n",
    "- Посчитаем статистическую значимость различий в среднем чеке заказа между группами по «очищенным» данным"
   ]
  },
  {
   "cell_type": "markdown",
   "metadata": {},
   "source": [
    "#### Проверка по сырым данным"
   ]
  },
  {
   "cell_type": "markdown",
   "metadata": {},
   "source": [
    "Создадим переменные `sample_A` и `sample_B`, в которых будут храниться данные о количестве заказов, сделанных каждым посетителем в каждой группе"
   ]
  },
  {
   "cell_type": "code",
   "execution_count": 30,
   "metadata": {},
   "outputs": [],
   "source": [
    "sample_A = pd.concat([\n",
    "    orders_grouped.query('group==\"A\"')['orders'],\n",
    "    pd.Series(0, \n",
    "              index=np.arange(\n",
    "                  visitors.query('group==\"A\"')['visitors'].sum() \n",
    "                  - len(orders_grouped.query('group==\"A\"')['orders'])\n",
    "              ),\n",
    "              name='orders')\n",
    "])\n",
    "\n",
    "sample_B = pd.concat([\n",
    "    orders_grouped.query('group==\"B\"')['orders'],\n",
    "    pd.Series(0, \n",
    "              index=np.arange(\n",
    "                  visitors.query('group==\"B\"')['visitors'].sum() \n",
    "                  - len(orders_grouped.query('group==\"B\"')['orders'])\n",
    "              ),\n",
    "              name='orders')\n",
    "])"
   ]
  },
  {
   "cell_type": "markdown",
   "metadata": {},
   "source": [
    "##### Гипотеза: Конверсии группы B и группы А по сырым данным равны"
   ]
  },
  {
   "cell_type": "markdown",
   "metadata": {},
   "source": [
    "$\\begin{equation*}\n",
    "    \\begin{cases}\n",
    "        H_0: \\text{Конверсии обеих групп равны}\\\\\n",
    "        H_1: \\text{Конверсии различны}\\\\\n",
    "     \\end{cases}\n",
    "\\end{equation*}$\n",
    "\n",
    "Уровень значимости: $\\alpha=0.05$\n",
    "\n",
    "Вычислим p-value. Если p-value окажется меньше указанного уровня значимости, то нулевую гипотезу о равенстве конверсий отвергнем, иначе сделаем вывод о том, что данные не позволяют нам отвергнуть нулевую гипотезу."
   ]
  },
  {
   "cell_type": "code",
   "execution_count": 31,
   "metadata": {},
   "outputs": [
    {
     "name": "stdout",
     "output_type": "stream",
     "text": [
      "p_value: 0.006\n",
      "Относительное различие конверсии группы B к конверсии группы А: 15.98%\n"
     ]
    }
   ],
   "source": [
    "print('p_value:', '{0:.3f}'.format(st.mannwhitneyu(sample_A, sample_B)[1]))\n",
    "print('Относительное различие конверсии группы B к конверсии группы А:', \n",
    "      \"{0:.2%}\".format(sample_B.mean() / sample_A.mean() - 1))"
   ]
  },
  {
   "cell_type": "markdown",
   "metadata": {},
   "source": [
    "`p_value` меньше уровня значимости.\n",
    "\n",
    "По имеющимся сырым данным, мы можем сделать вывод о том, что конверсия группы В выше конверсии группы А и Относительное различие конверсии группы B к конверсии группы А в 15.98% является статистически значимым."
   ]
  },
  {
   "cell_type": "markdown",
   "metadata": {},
   "source": [
    "##### Гипотеза: Средний чек группы B и группы А по сырым данным равны"
   ]
  },
  {
   "cell_type": "markdown",
   "metadata": {},
   "source": [
    "$\\begin{equation*}\n",
    "    \\begin{cases}\n",
    "        H_0: \\text{Средние чеки обеих групп равны}\\\\\n",
    "        H_1: \\text{Средние чеки различны}\\\\\n",
    "     \\end{cases}\n",
    "\\end{equation*}$\n",
    "\n",
    "Уровень значимости: $\\alpha=0.05$"
   ]
  },
  {
   "cell_type": "code",
   "execution_count": 32,
   "metadata": {
    "scrolled": true
   },
   "outputs": [
    {
     "name": "stdout",
     "output_type": "stream",
     "text": [
      "p_value: 0.393\n",
      "Относительное различие среднего чека группы B к среднему чеку группы А: 26.97%\n"
     ]
    }
   ],
   "source": [
    "print('p_value:', \n",
    "      '{0:.3f}'.format(\n",
    "          st\n",
    "          .mannwhitneyu(\n",
    "              orders_grouped[orders_grouped['group']=='A']['revenue'], \n",
    "              orders_grouped[orders_grouped['group']=='B']['revenue'])[1])\n",
    "     )\n",
    "print('Относительное различие среднего чека группы B к среднему чеку группы А:',\n",
    "      '{0:.2%}'.format(\n",
    "          orders_grouped[orders_grouped['group']=='B']['revenue'].mean()\n",
    "          / orders_grouped[orders_grouped['group']=='A']['revenue'].mean()-1)\n",
    "     )\n"
   ]
  },
  {
   "cell_type": "markdown",
   "metadata": {},
   "source": [
    "`p_value` больше уровня значимости.\n",
    "\n",
    "По имеющимся сырым данным, мы можем сделать вывод о том, что средний чек группы В равен среднему чеку группы А и Относительное различие среднего чека группы B к среднему чеку группы А в 26.97% не является статистически значимым."
   ]
  },
  {
   "cell_type": "markdown",
   "metadata": {},
   "source": [
    "#### Проверка по очищенным данным"
   ]
  },
  {
   "cell_type": "code",
   "execution_count": 33,
   "metadata": {},
   "outputs": [],
   "source": [
    "sample_A = pd.concat([\n",
    "    orders_grouped.query('group==\"A\" and visitorId not in @abnormal_users')['orders'],\n",
    "    pd.Series(0, \n",
    "              index=np.arange(\n",
    "                  visitors.query('group==\"A\"')['visitors'].sum()\n",
    "                  - len(orders_grouped.query('group==\"A\"')['orders'])\n",
    "              ),\n",
    "              name='orders')\n",
    "])\n",
    "sample_B = pd.concat([\n",
    "    orders_grouped.query('group==\"B\"and visitorId not in @abnormal_users')['orders'],\n",
    "    pd.Series(0, \n",
    "              index=np.arange(visitors.query('group==\"B\"')['visitors'].sum()\n",
    "                              - len(orders_grouped.query('group==\"B\"')['orders'])\n",
    "              ),\n",
    "              name='orders')\n",
    "])"
   ]
  },
  {
   "cell_type": "markdown",
   "metadata": {},
   "source": [
    "##### Гипотеза: Конверсии группы B и группы А по очищенным данным равны"
   ]
  },
  {
   "cell_type": "markdown",
   "metadata": {},
   "source": [
    "$\\begin{equation*}\n",
    "    \\begin{cases}\n",
    "        H_0: \\text{Конверсии обеих групп равны}\\\\\n",
    "        H_1: \\text{Конверсии различны}\\\\\n",
    "     \\end{cases}\n",
    "\\end{equation*}$\n",
    "\n",
    "Уровень значимости: $\\alpha=0.05$"
   ]
  },
  {
   "cell_type": "code",
   "execution_count": 34,
   "metadata": {},
   "outputs": [
    {
     "name": "stdout",
     "output_type": "stream",
     "text": [
      "p_value: 0.003\n",
      "Относительное различие конверсии группы B к конверсии группы А: 19.66%\n"
     ]
    }
   ],
   "source": [
    "print('p_value:','{0:.3f}'.format(st.mannwhitneyu(sample_A, sample_B)[1]))\n",
    "print('Относительное различие конверсии группы B к конверсии группы А:',\n",
    "      \"{0:.2%}\".format(sample_B.mean() / sample_A.mean() - 1))"
   ]
  },
  {
   "cell_type": "markdown",
   "metadata": {},
   "source": [
    "Очистка данных не сильно повлияла на результат сравнения конверсий.\n",
    "\n",
    "`p_value` меньше уровня значимости.\n",
    "\n",
    "По имеющимся очищенным данным, мы можем сделать вывод о том, что конверсия группы В выше конверсии группы А и Относительное различие конверсии группы B к конверсии группы А в 19.66% является статистически значимым."
   ]
  },
  {
   "cell_type": "markdown",
   "metadata": {},
   "source": [
    "##### Гипотеза: Средние чеки группы B и группы А по очищенным данным равны"
   ]
  },
  {
   "cell_type": "markdown",
   "metadata": {},
   "source": [
    "$\\begin{equation*}\n",
    "    \\begin{cases}\n",
    "        H_0: \\text{Средние чеки обеих групп равны}\\\\\n",
    "        H_1: \\text{Средние чеки различны}\\\\\n",
    "     \\end{cases}\n",
    "\\end{equation*}$\n",
    "\n",
    "Уровень значимости: $\\alpha=0.05$"
   ]
  },
  {
   "cell_type": "code",
   "execution_count": 35,
   "metadata": {},
   "outputs": [
    {
     "name": "stdout",
     "output_type": "stream",
     "text": [
      "0.491\n",
      "0.60%\n"
     ]
    }
   ],
   "source": [
    "print('{0:.3f}'.format(\n",
    "    st\n",
    "    .mannwhitneyu(\n",
    "        orders_grouped.query('group==\"A\" and visitorId not in @abnormal_users')['revenue'], \n",
    "        orders_grouped.query('group==\"B\" and visitorId not in @abnormal_users')['revenue'])[1]))\n",
    "print('{0:.2%}'.format(\n",
    "    orders_grouped.query('group==\"B\" and visitorId not in @abnormal_users')['revenue'].mean()\n",
    "    /orders_grouped.query('group==\"A\" and visitorId not in @abnormal_users')['revenue'].mean()-1)\n",
    "     )\n"
   ]
  },
  {
   "cell_type": "markdown",
   "metadata": {},
   "source": [
    "Вот оно влияние выбросов на средний чек. При сравнении средних чеков по сырым данным, хоть различие в среднем чеке и было в 26.97%, однако оно не являлось статистически значимым. Сейчас же после удаления выбросов, относительное различие равно лишь 0.6%!\n",
    "\n",
    "`p_value` больше уровня значимости.\n",
    "\n",
    "По имеющимся очищенным данным, мы можем сделать вывод о том, что средний чек группы В равен среднему чеку группы А и Относительное различие среднего чека группы B к среднему чеку группы А в 0.60% не является статистически значимым."
   ]
  },
  {
   "cell_type": "markdown",
   "metadata": {},
   "source": [
    "## Общий вывод"
   ]
  },
  {
   "cell_type": "markdown",
   "metadata": {},
   "source": [
    "Анализ A/B теста позволяет сделать следующий вывод.\n",
    "- Конверсия группы В выше конверсии группы А и Относительное различие конверсии группы B к конверсии группы А в 19.66% является статистически значимым.\n",
    "- Средний чек группы В равен среднему чеку группы А и Относительное различие среднего чека группы B к среднему чеку группы А в 0.60% не является статистически значимым.\n",
    "\n",
    "Поскольку графики конверсии и среднего чека к концу теста установились на определенном уровне, тест предлагаю остановить, зафиксировав результат: \n",
    "\n",
    "- Добавление формы подписки на все основные страницы, чтобы собрать базу клиентов для email-рассылок, увеличило конверсию на 16%-19%, однако средний чек остался неизменным."
   ]
  },
  {
   "cell_type": "code",
   "execution_count": null,
   "metadata": {},
   "outputs": [],
   "source": []
  }
 ],
 "metadata": {
  "ExecuteTimeLog": [
   {
    "duration": 407,
    "start_time": "2022-04-10T11:28:47.427Z"
   },
   {
    "duration": 10,
    "start_time": "2022-04-10T11:30:26.286Z"
   },
   {
    "duration": 13,
    "start_time": "2022-04-10T11:37:26.476Z"
   },
   {
    "duration": 77,
    "start_time": "2022-04-10T11:38:23.927Z"
   },
   {
    "duration": 5,
    "start_time": "2022-04-10T11:38:30.742Z"
   },
   {
    "duration": 9,
    "start_time": "2022-04-10T11:38:37.793Z"
   },
   {
    "duration": 11,
    "start_time": "2022-04-10T11:39:59.274Z"
   },
   {
    "duration": 6,
    "start_time": "2022-04-10T11:41:17.079Z"
   },
   {
    "duration": 10,
    "start_time": "2022-04-10T11:41:30.884Z"
   },
   {
    "duration": 24,
    "start_time": "2022-04-10T11:43:43.360Z"
   },
   {
    "duration": 8,
    "start_time": "2022-04-10T11:43:49.305Z"
   },
   {
    "duration": 7,
    "start_time": "2022-04-10T11:44:05.696Z"
   },
   {
    "duration": 8,
    "start_time": "2022-04-10T11:45:07.166Z"
   },
   {
    "duration": 9,
    "start_time": "2022-04-10T11:45:20.723Z"
   },
   {
    "duration": 4,
    "start_time": "2022-04-10T11:45:40.555Z"
   },
   {
    "duration": 5,
    "start_time": "2022-04-10T11:45:40.892Z"
   },
   {
    "duration": 497,
    "start_time": "2022-04-10T11:45:41.456Z"
   },
   {
    "duration": 34,
    "start_time": "2022-04-10T11:46:10.435Z"
   },
   {
    "duration": 6,
    "start_time": "2022-04-10T11:49:27.662Z"
   },
   {
    "duration": 8,
    "start_time": "2022-04-10T11:50:13.472Z"
   },
   {
    "duration": 8,
    "start_time": "2022-04-10T11:51:28.492Z"
   },
   {
    "duration": 4,
    "start_time": "2022-04-10T11:51:42.869Z"
   },
   {
    "duration": 2,
    "start_time": "2022-04-10T11:52:00.344Z"
   },
   {
    "duration": 293,
    "start_time": "2022-04-10T11:53:01.777Z"
   },
   {
    "duration": 217,
    "start_time": "2022-04-10T11:54:10.268Z"
   },
   {
    "duration": 14,
    "start_time": "2022-04-10T11:55:46.192Z"
   },
   {
    "duration": 13,
    "start_time": "2022-04-10T11:56:54.533Z"
   },
   {
    "duration": 74,
    "start_time": "2022-04-10T12:08:48.097Z"
   },
   {
    "duration": 13,
    "start_time": "2022-04-10T12:10:30.499Z"
   },
   {
    "duration": 8,
    "start_time": "2022-04-10T12:11:04.353Z"
   },
   {
    "duration": 4,
    "start_time": "2022-04-10T12:11:06.786Z"
   },
   {
    "duration": 216,
    "start_time": "2022-04-10T12:11:07.538Z"
   },
   {
    "duration": 14,
    "start_time": "2022-04-10T12:13:31.312Z"
   },
   {
    "duration": 10,
    "start_time": "2022-04-10T12:13:31.618Z"
   },
   {
    "duration": 5,
    "start_time": "2022-04-10T12:13:32.301Z"
   },
   {
    "duration": 221,
    "start_time": "2022-04-10T12:13:32.708Z"
   },
   {
    "duration": 5,
    "start_time": "2022-04-10T12:18:10.525Z"
   },
   {
    "duration": 223,
    "start_time": "2022-04-10T12:18:11.214Z"
   },
   {
    "duration": 205,
    "start_time": "2022-04-10T12:19:01.528Z"
   },
   {
    "duration": 21,
    "start_time": "2022-04-10T12:21:14.769Z"
   },
   {
    "duration": 20,
    "start_time": "2022-04-10T12:21:37.030Z"
   },
   {
    "duration": 8,
    "start_time": "2022-04-10T12:22:06.545Z"
   },
   {
    "duration": 353,
    "start_time": "2022-04-10T12:23:37.365Z"
   },
   {
    "duration": 10,
    "start_time": "2022-04-10T12:23:37.720Z"
   },
   {
    "duration": 15,
    "start_time": "2022-04-10T12:23:37.732Z"
   },
   {
    "duration": 5,
    "start_time": "2022-04-10T12:23:37.748Z"
   },
   {
    "duration": 10,
    "start_time": "2022-04-10T12:23:37.756Z"
   },
   {
    "duration": 6,
    "start_time": "2022-04-10T12:23:37.767Z"
   },
   {
    "duration": 13,
    "start_time": "2022-04-10T12:23:37.774Z"
   },
   {
    "duration": 44,
    "start_time": "2022-04-10T12:23:37.788Z"
   },
   {
    "duration": 7,
    "start_time": "2022-04-10T12:23:37.834Z"
   },
   {
    "duration": 4,
    "start_time": "2022-04-10T12:23:37.842Z"
   },
   {
    "duration": 7,
    "start_time": "2022-04-10T12:23:37.848Z"
   },
   {
    "duration": 342,
    "start_time": "2022-04-10T12:23:37.857Z"
   },
   {
    "duration": 39,
    "start_time": "2022-04-10T12:23:38.201Z"
   },
   {
    "duration": 6,
    "start_time": "2022-04-10T12:23:38.243Z"
   },
   {
    "duration": 4,
    "start_time": "2022-04-10T12:23:38.251Z"
   },
   {
    "duration": 14,
    "start_time": "2022-04-10T12:23:38.256Z"
   },
   {
    "duration": 43,
    "start_time": "2022-04-10T12:23:38.272Z"
   },
   {
    "duration": 9,
    "start_time": "2022-04-10T12:23:38.317Z"
   },
   {
    "duration": 8,
    "start_time": "2022-04-10T12:23:38.328Z"
   },
   {
    "duration": 298,
    "start_time": "2022-04-10T12:23:38.338Z"
   },
   {
    "duration": 208,
    "start_time": "2022-04-10T12:23:38.638Z"
   },
   {
    "duration": 8,
    "start_time": "2022-04-10T12:23:38.848Z"
   },
   {
    "duration": 201,
    "start_time": "2022-04-10T12:23:38.857Z"
   },
   {
    "duration": 254,
    "start_time": "2022-04-10T12:24:08.992Z"
   },
   {
    "duration": 8,
    "start_time": "2022-04-10T12:24:17.581Z"
   },
   {
    "duration": 157,
    "start_time": "2022-04-10T12:25:54.650Z"
   },
   {
    "duration": 234,
    "start_time": "2022-04-10T12:26:35.746Z"
   },
   {
    "duration": 237,
    "start_time": "2022-04-10T12:26:40.441Z"
   },
   {
    "duration": 244,
    "start_time": "2022-04-10T12:26:48.530Z"
   },
   {
    "duration": 24,
    "start_time": "2022-04-10T12:32:37.114Z"
   },
   {
    "duration": 23,
    "start_time": "2022-04-10T12:33:01.747Z"
   },
   {
    "duration": 24,
    "start_time": "2022-04-10T12:33:09.850Z"
   },
   {
    "duration": 26,
    "start_time": "2022-04-10T12:33:33.826Z"
   },
   {
    "duration": 34,
    "start_time": "2022-04-10T12:34:03.610Z"
   },
   {
    "duration": 8,
    "start_time": "2022-04-10T12:41:24.620Z"
   },
   {
    "duration": 30,
    "start_time": "2022-04-10T12:41:48.371Z"
   },
   {
    "duration": 18,
    "start_time": "2022-04-10T12:41:53.684Z"
   },
   {
    "duration": 438,
    "start_time": "2022-04-10T12:42:20.393Z"
   },
   {
    "duration": 14,
    "start_time": "2022-04-10T12:42:20.833Z"
   },
   {
    "duration": 14,
    "start_time": "2022-04-10T12:42:20.849Z"
   },
   {
    "duration": 8,
    "start_time": "2022-04-10T12:42:20.865Z"
   },
   {
    "duration": 14,
    "start_time": "2022-04-10T12:42:20.875Z"
   },
   {
    "duration": 18,
    "start_time": "2022-04-10T12:42:20.891Z"
   },
   {
    "duration": 17,
    "start_time": "2022-04-10T12:42:20.911Z"
   },
   {
    "duration": 27,
    "start_time": "2022-04-10T12:42:20.929Z"
   },
   {
    "duration": 10,
    "start_time": "2022-04-10T12:42:20.958Z"
   },
   {
    "duration": 3,
    "start_time": "2022-04-10T12:42:20.971Z"
   },
   {
    "duration": 7,
    "start_time": "2022-04-10T12:42:20.975Z"
   },
   {
    "duration": 319,
    "start_time": "2022-04-10T12:42:20.984Z"
   },
   {
    "duration": 36,
    "start_time": "2022-04-10T12:42:21.309Z"
   },
   {
    "duration": 5,
    "start_time": "2022-04-10T12:42:21.347Z"
   },
   {
    "duration": 5,
    "start_time": "2022-04-10T12:42:21.354Z"
   },
   {
    "duration": 13,
    "start_time": "2022-04-10T12:42:21.361Z"
   },
   {
    "duration": 7,
    "start_time": "2022-04-10T12:42:21.408Z"
   },
   {
    "duration": 44,
    "start_time": "2022-04-10T12:42:21.417Z"
   },
   {
    "duration": 82,
    "start_time": "2022-04-10T12:42:21.462Z"
   },
   {
    "duration": 0,
    "start_time": "2022-04-10T12:42:21.545Z"
   },
   {
    "duration": 0,
    "start_time": "2022-04-10T12:42:21.546Z"
   },
   {
    "duration": 0,
    "start_time": "2022-04-10T12:42:21.547Z"
   },
   {
    "duration": 277,
    "start_time": "2022-04-10T12:42:57.883Z"
   },
   {
    "duration": 188,
    "start_time": "2022-04-10T12:43:36.344Z"
   },
   {
    "duration": 331,
    "start_time": "2022-04-10T12:43:49.418Z"
   },
   {
    "duration": 174,
    "start_time": "2022-04-10T12:49:07.693Z"
   },
   {
    "duration": 215,
    "start_time": "2022-04-10T12:49:28.938Z"
   },
   {
    "duration": 211,
    "start_time": "2022-04-10T12:50:41.050Z"
   },
   {
    "duration": 386,
    "start_time": "2022-04-10T12:53:54.129Z"
   },
   {
    "duration": 15,
    "start_time": "2022-04-10T12:53:54.517Z"
   },
   {
    "duration": 14,
    "start_time": "2022-04-10T12:53:54.534Z"
   },
   {
    "duration": 5,
    "start_time": "2022-04-10T12:53:54.549Z"
   },
   {
    "duration": 10,
    "start_time": "2022-04-10T12:53:54.556Z"
   },
   {
    "duration": 5,
    "start_time": "2022-04-10T12:53:54.567Z"
   },
   {
    "duration": 13,
    "start_time": "2022-04-10T12:53:54.574Z"
   },
   {
    "duration": 29,
    "start_time": "2022-04-10T12:53:54.609Z"
   },
   {
    "duration": 7,
    "start_time": "2022-04-10T12:53:54.640Z"
   },
   {
    "duration": 5,
    "start_time": "2022-04-10T12:53:54.648Z"
   },
   {
    "duration": 7,
    "start_time": "2022-04-10T12:53:54.655Z"
   },
   {
    "duration": 302,
    "start_time": "2022-04-10T12:53:54.663Z"
   },
   {
    "duration": 50,
    "start_time": "2022-04-10T12:53:54.966Z"
   },
   {
    "duration": 6,
    "start_time": "2022-04-10T12:53:55.018Z"
   },
   {
    "duration": 6,
    "start_time": "2022-04-10T12:53:55.025Z"
   },
   {
    "duration": 18,
    "start_time": "2022-04-10T12:53:55.033Z"
   },
   {
    "duration": 8,
    "start_time": "2022-04-10T12:53:55.052Z"
   },
   {
    "duration": 58,
    "start_time": "2022-04-10T12:53:55.061Z"
   },
   {
    "duration": 275,
    "start_time": "2022-04-10T12:53:55.120Z"
   },
   {
    "duration": 199,
    "start_time": "2022-04-10T12:53:55.396Z"
   },
   {
    "duration": 295,
    "start_time": "2022-04-10T12:53:55.597Z"
   },
   {
    "duration": 282,
    "start_time": "2022-04-10T12:53:55.894Z"
   },
   {
    "duration": 174,
    "start_time": "2022-04-10T12:54:43.239Z"
   },
   {
    "duration": 395,
    "start_time": "2022-04-10T12:55:23.930Z"
   },
   {
    "duration": 15,
    "start_time": "2022-04-10T12:55:24.327Z"
   },
   {
    "duration": 15,
    "start_time": "2022-04-10T12:55:24.343Z"
   },
   {
    "duration": 6,
    "start_time": "2022-04-10T12:55:24.359Z"
   },
   {
    "duration": 10,
    "start_time": "2022-04-10T12:55:24.367Z"
   },
   {
    "duration": 6,
    "start_time": "2022-04-10T12:55:24.378Z"
   },
   {
    "duration": 31,
    "start_time": "2022-04-10T12:55:24.385Z"
   },
   {
    "duration": 25,
    "start_time": "2022-04-10T12:55:24.418Z"
   },
   {
    "duration": 8,
    "start_time": "2022-04-10T12:55:24.445Z"
   },
   {
    "duration": 4,
    "start_time": "2022-04-10T12:55:24.455Z"
   },
   {
    "duration": 9,
    "start_time": "2022-04-10T12:55:24.461Z"
   },
   {
    "duration": 312,
    "start_time": "2022-04-10T12:55:24.472Z"
   },
   {
    "duration": 40,
    "start_time": "2022-04-10T12:55:24.786Z"
   },
   {
    "duration": 5,
    "start_time": "2022-04-10T12:55:24.828Z"
   },
   {
    "duration": 5,
    "start_time": "2022-04-10T12:55:24.835Z"
   },
   {
    "duration": 13,
    "start_time": "2022-04-10T12:55:24.841Z"
   },
   {
    "duration": 7,
    "start_time": "2022-04-10T12:55:24.856Z"
   },
   {
    "duration": 63,
    "start_time": "2022-04-10T12:55:24.864Z"
   },
   {
    "duration": 286,
    "start_time": "2022-04-10T12:55:24.929Z"
   },
   {
    "duration": 198,
    "start_time": "2022-04-10T12:55:25.216Z"
   },
   {
    "duration": 261,
    "start_time": "2022-04-10T12:55:25.416Z"
   },
   {
    "duration": 284,
    "start_time": "2022-04-10T12:55:25.678Z"
   },
   {
    "duration": 261,
    "start_time": "2022-04-10T12:56:07.713Z"
   },
   {
    "duration": 116,
    "start_time": "2022-04-10T13:13:24.501Z"
   },
   {
    "duration": 115,
    "start_time": "2022-04-10T13:14:12.024Z"
   },
   {
    "duration": 108,
    "start_time": "2022-04-10T13:14:41.924Z"
   },
   {
    "duration": 5,
    "start_time": "2022-04-10T13:15:30.533Z"
   },
   {
    "duration": 120,
    "start_time": "2022-04-10T13:16:32.614Z"
   },
   {
    "duration": 5,
    "start_time": "2022-04-10T13:16:56.945Z"
   },
   {
    "duration": 8,
    "start_time": "2022-04-10T13:21:19.924Z"
   },
   {
    "duration": 7,
    "start_time": "2022-04-10T13:21:36.521Z"
   },
   {
    "duration": 10,
    "start_time": "2022-04-10T13:22:04.094Z"
   },
   {
    "duration": 9,
    "start_time": "2022-04-10T13:22:10.014Z"
   },
   {
    "duration": 8,
    "start_time": "2022-04-10T13:22:29.463Z"
   },
   {
    "duration": 8,
    "start_time": "2022-04-10T13:22:33.822Z"
   },
   {
    "duration": 7,
    "start_time": "2022-04-10T13:22:49.551Z"
   },
   {
    "duration": 5,
    "start_time": "2022-04-10T13:33:43.037Z"
   },
   {
    "duration": 22,
    "start_time": "2022-04-10T13:34:26.168Z"
   },
   {
    "duration": 8,
    "start_time": "2022-04-10T13:34:48.902Z"
   },
   {
    "duration": 8,
    "start_time": "2022-04-10T13:37:18.258Z"
   },
   {
    "duration": 119,
    "start_time": "2022-04-10T13:37:59.139Z"
   },
   {
    "duration": 5,
    "start_time": "2022-04-10T13:38:06.100Z"
   },
   {
    "duration": 122,
    "start_time": "2022-04-10T13:38:06.623Z"
   },
   {
    "duration": 6,
    "start_time": "2022-04-10T13:38:12.317Z"
   },
   {
    "duration": 8,
    "start_time": "2022-04-10T13:38:15.462Z"
   },
   {
    "duration": 10,
    "start_time": "2022-04-10T13:38:27.838Z"
   },
   {
    "duration": 11,
    "start_time": "2022-04-10T13:39:29.928Z"
   },
   {
    "duration": 7,
    "start_time": "2022-04-10T13:39:49.605Z"
   },
   {
    "duration": 7,
    "start_time": "2022-04-10T13:40:13.600Z"
   },
   {
    "duration": 4,
    "start_time": "2022-04-10T13:45:35.432Z"
   },
   {
    "duration": 89,
    "start_time": "2022-04-10T13:46:37.216Z"
   },
   {
    "duration": 6,
    "start_time": "2022-04-10T13:46:44.087Z"
   },
   {
    "duration": 13,
    "start_time": "2022-04-10T13:47:22.062Z"
   },
   {
    "duration": 18,
    "start_time": "2022-04-10T13:57:52.329Z"
   },
   {
    "duration": 12,
    "start_time": "2022-04-10T13:58:41.627Z"
   },
   {
    "duration": 16,
    "start_time": "2022-04-10T13:58:55.068Z"
   },
   {
    "duration": 16,
    "start_time": "2022-04-10T14:00:11.594Z"
   },
   {
    "duration": 12,
    "start_time": "2022-04-10T14:00:53.707Z"
   },
   {
    "duration": 6,
    "start_time": "2022-04-10T14:00:59.998Z"
   },
   {
    "duration": 6,
    "start_time": "2022-04-10T14:01:18.963Z"
   },
   {
    "duration": 24,
    "start_time": "2022-04-10T14:02:12.919Z"
   },
   {
    "duration": 9,
    "start_time": "2022-04-10T14:03:09.962Z"
   },
   {
    "duration": 508,
    "start_time": "2022-04-10T14:03:33.662Z"
   },
   {
    "duration": 24,
    "start_time": "2022-04-10T14:03:44.550Z"
   },
   {
    "duration": 22,
    "start_time": "2022-04-10T14:04:47.569Z"
   },
   {
    "duration": 13,
    "start_time": "2022-04-10T14:07:13.954Z"
   },
   {
    "duration": 11,
    "start_time": "2022-04-10T14:07:26.480Z"
   },
   {
    "duration": 9,
    "start_time": "2022-04-10T14:09:51.352Z"
   },
   {
    "duration": 852,
    "start_time": "2022-04-10T14:10:48.006Z"
   },
   {
    "duration": 15,
    "start_time": "2022-04-10T14:10:48.860Z"
   },
   {
    "duration": 14,
    "start_time": "2022-04-10T14:10:48.877Z"
   },
   {
    "duration": 15,
    "start_time": "2022-04-10T14:10:48.894Z"
   },
   {
    "duration": 11,
    "start_time": "2022-04-10T14:10:48.912Z"
   },
   {
    "duration": 11,
    "start_time": "2022-04-10T14:10:48.925Z"
   },
   {
    "duration": 16,
    "start_time": "2022-04-10T14:10:48.937Z"
   },
   {
    "duration": 27,
    "start_time": "2022-04-10T14:10:48.954Z"
   },
   {
    "duration": 8,
    "start_time": "2022-04-10T14:10:48.983Z"
   },
   {
    "duration": 4,
    "start_time": "2022-04-10T14:10:48.993Z"
   },
   {
    "duration": 16,
    "start_time": "2022-04-10T14:10:48.998Z"
   },
   {
    "duration": 362,
    "start_time": "2022-04-10T14:10:49.016Z"
   },
   {
    "duration": 45,
    "start_time": "2022-04-10T14:10:49.380Z"
   },
   {
    "duration": 6,
    "start_time": "2022-04-10T14:10:49.428Z"
   },
   {
    "duration": 5,
    "start_time": "2022-04-10T14:10:49.435Z"
   },
   {
    "duration": 16,
    "start_time": "2022-04-10T14:10:49.441Z"
   },
   {
    "duration": 8,
    "start_time": "2022-04-10T14:10:49.459Z"
   },
   {
    "duration": 73,
    "start_time": "2022-04-10T14:10:49.468Z"
   },
   {
    "duration": 304,
    "start_time": "2022-04-10T14:10:49.542Z"
   },
   {
    "duration": 227,
    "start_time": "2022-04-10T14:10:49.847Z"
   },
   {
    "duration": 267,
    "start_time": "2022-04-10T14:10:50.076Z"
   },
   {
    "duration": 251,
    "start_time": "2022-04-10T14:10:50.345Z"
   },
   {
    "duration": 303,
    "start_time": "2022-04-10T14:10:50.597Z"
   },
   {
    "duration": 147,
    "start_time": "2022-04-10T14:10:50.909Z"
   },
   {
    "duration": 5,
    "start_time": "2022-04-10T14:10:51.058Z"
   },
   {
    "duration": 147,
    "start_time": "2022-04-10T14:10:51.064Z"
   },
   {
    "duration": 5,
    "start_time": "2022-04-10T14:10:51.213Z"
   },
   {
    "duration": 12,
    "start_time": "2022-04-10T14:10:51.220Z"
   },
   {
    "duration": 12,
    "start_time": "2022-04-10T14:10:51.234Z"
   },
   {
    "duration": 16,
    "start_time": "2022-04-10T14:10:51.248Z"
   },
   {
    "duration": 8,
    "start_time": "2022-04-10T14:10:51.266Z"
   },
   {
    "duration": 6,
    "start_time": "2022-04-10T14:10:51.309Z"
   },
   {
    "duration": 18,
    "start_time": "2022-04-10T14:10:51.317Z"
   },
   {
    "duration": 29,
    "start_time": "2022-04-10T14:10:51.338Z"
   },
   {
    "duration": 31,
    "start_time": "2022-04-10T14:10:51.369Z"
   },
   {
    "duration": 17,
    "start_time": "2022-04-10T14:12:59.020Z"
   },
   {
    "duration": 24,
    "start_time": "2022-04-10T14:13:25.506Z"
   },
   {
    "duration": 11,
    "start_time": "2022-04-10T14:13:58.947Z"
   },
   {
    "duration": 14,
    "start_time": "2022-04-10T14:14:22.691Z"
   },
   {
    "duration": 17,
    "start_time": "2022-04-10T14:16:15.248Z"
   },
   {
    "duration": 306,
    "start_time": "2022-04-10T14:21:17.203Z"
   },
   {
    "duration": 877,
    "start_time": "2022-04-10T14:26:33.578Z"
   },
   {
    "duration": 16,
    "start_time": "2022-04-10T14:26:34.457Z"
   },
   {
    "duration": 21,
    "start_time": "2022-04-10T14:26:34.474Z"
   },
   {
    "duration": 9,
    "start_time": "2022-04-10T14:26:34.497Z"
   },
   {
    "duration": 12,
    "start_time": "2022-04-10T14:26:34.508Z"
   },
   {
    "duration": 11,
    "start_time": "2022-04-10T14:26:34.522Z"
   },
   {
    "duration": 13,
    "start_time": "2022-04-10T14:26:34.535Z"
   },
   {
    "duration": 37,
    "start_time": "2022-04-10T14:26:34.550Z"
   },
   {
    "duration": 8,
    "start_time": "2022-04-10T14:26:34.588Z"
   },
   {
    "duration": 4,
    "start_time": "2022-04-10T14:26:34.598Z"
   },
   {
    "duration": 6,
    "start_time": "2022-04-10T14:26:34.604Z"
   },
   {
    "duration": 325,
    "start_time": "2022-04-10T14:26:34.611Z"
   },
   {
    "duration": 33,
    "start_time": "2022-04-10T14:26:34.938Z"
   },
   {
    "duration": 35,
    "start_time": "2022-04-10T14:26:34.974Z"
   },
   {
    "duration": 7,
    "start_time": "2022-04-10T14:26:35.011Z"
   },
   {
    "duration": 13,
    "start_time": "2022-04-10T14:26:35.020Z"
   },
   {
    "duration": 7,
    "start_time": "2022-04-10T14:26:35.035Z"
   },
   {
    "duration": 42,
    "start_time": "2022-04-10T14:26:35.044Z"
   },
   {
    "duration": 296,
    "start_time": "2022-04-10T14:26:35.087Z"
   },
   {
    "duration": 203,
    "start_time": "2022-04-10T14:26:35.385Z"
   },
   {
    "duration": 285,
    "start_time": "2022-04-10T14:26:35.590Z"
   },
   {
    "duration": 230,
    "start_time": "2022-04-10T14:26:35.878Z"
   },
   {
    "duration": 285,
    "start_time": "2022-04-10T14:26:36.111Z"
   },
   {
    "duration": 128,
    "start_time": "2022-04-10T14:26:36.397Z"
   },
   {
    "duration": 5,
    "start_time": "2022-04-10T14:26:36.527Z"
   },
   {
    "duration": 135,
    "start_time": "2022-04-10T14:26:36.533Z"
   },
   {
    "duration": 5,
    "start_time": "2022-04-10T14:26:36.670Z"
   },
   {
    "duration": 9,
    "start_time": "2022-04-10T14:26:36.677Z"
   },
   {
    "duration": 24,
    "start_time": "2022-04-10T14:26:36.688Z"
   },
   {
    "duration": 12,
    "start_time": "2022-04-10T14:26:36.713Z"
   },
   {
    "duration": 6,
    "start_time": "2022-04-10T14:26:36.727Z"
   },
   {
    "duration": 8,
    "start_time": "2022-04-10T14:26:36.735Z"
   },
   {
    "duration": 16,
    "start_time": "2022-04-10T14:26:36.744Z"
   },
   {
    "duration": 56,
    "start_time": "2022-04-10T14:26:36.762Z"
   },
   {
    "duration": 10,
    "start_time": "2022-04-10T14:26:36.820Z"
   },
   {
    "duration": 16,
    "start_time": "2022-04-10T14:26:36.832Z"
   },
   {
    "duration": 23,
    "start_time": "2022-04-10T14:26:36.850Z"
   },
   {
    "duration": 44,
    "start_time": "2022-04-10T14:26:36.875Z"
   },
   {
    "duration": 12,
    "start_time": "2022-04-10T14:26:36.921Z"
   },
   {
    "duration": 3,
    "start_time": "2022-04-10T14:53:51.279Z"
   },
   {
    "duration": 11,
    "start_time": "2022-04-10T14:53:51.284Z"
   },
   {
    "duration": 7,
    "start_time": "2022-04-10T14:53:51.297Z"
   },
   {
    "duration": 6,
    "start_time": "2022-04-10T14:53:51.305Z"
   },
   {
    "duration": 12,
    "start_time": "2022-04-10T14:53:51.312Z"
   },
   {
    "duration": 4,
    "start_time": "2022-04-10T14:53:51.326Z"
   },
   {
    "duration": 7,
    "start_time": "2022-04-10T14:53:53.872Z"
   },
   {
    "duration": 10,
    "start_time": "2022-04-10T14:54:22.956Z"
   },
   {
    "duration": 99,
    "start_time": "2022-04-10T14:55:25.180Z"
   },
   {
    "duration": 8,
    "start_time": "2022-04-10T14:55:32.795Z"
   },
   {
    "duration": 3,
    "start_time": "2022-04-10T14:57:02.004Z"
   },
   {
    "duration": 15,
    "start_time": "2022-04-10T14:57:02.416Z"
   },
   {
    "duration": 8,
    "start_time": "2022-04-10T14:57:03.353Z"
   },
   {
    "duration": 5,
    "start_time": "2022-04-10T14:57:04.298Z"
   },
   {
    "duration": 10,
    "start_time": "2022-04-10T14:57:04.554Z"
   },
   {
    "duration": 5,
    "start_time": "2022-04-10T14:57:05.059Z"
   },
   {
    "duration": 10,
    "start_time": "2022-04-10T14:57:05.419Z"
   },
   {
    "duration": 5,
    "start_time": "2022-04-10T14:57:18.648Z"
   },
   {
    "duration": 9,
    "start_time": "2022-04-10T14:57:19.901Z"
   },
   {
    "duration": 3,
    "start_time": "2022-04-10T14:57:32.610Z"
   },
   {
    "duration": 9,
    "start_time": "2022-04-10T14:57:36.292Z"
   },
   {
    "duration": 3,
    "start_time": "2022-04-10T14:58:29.570Z"
   },
   {
    "duration": 10,
    "start_time": "2022-04-10T14:58:30.167Z"
   },
   {
    "duration": 10,
    "start_time": "2022-04-10T14:58:30.425Z"
   },
   {
    "duration": 3,
    "start_time": "2022-04-10T14:58:37.905Z"
   },
   {
    "duration": 11,
    "start_time": "2022-04-10T14:58:38.287Z"
   },
   {
    "duration": 10,
    "start_time": "2022-04-10T14:58:38.613Z"
   },
   {
    "duration": 3,
    "start_time": "2022-04-10T15:00:17.835Z"
   },
   {
    "duration": 14,
    "start_time": "2022-04-10T15:00:18.252Z"
   },
   {
    "duration": 892,
    "start_time": "2022-04-10T15:00:56.283Z"
   },
   {
    "duration": 15,
    "start_time": "2022-04-10T15:00:57.177Z"
   },
   {
    "duration": 16,
    "start_time": "2022-04-10T15:00:59.301Z"
   },
   {
    "duration": 4,
    "start_time": "2022-04-10T15:01:07.356Z"
   },
   {
    "duration": 9,
    "start_time": "2022-04-10T15:01:08.744Z"
   },
   {
    "duration": 9,
    "start_time": "2022-04-10T15:01:09.079Z"
   },
   {
    "duration": 3,
    "start_time": "2022-04-10T15:01:16.043Z"
   },
   {
    "duration": 27,
    "start_time": "2022-04-10T15:01:16.352Z"
   },
   {
    "duration": 9,
    "start_time": "2022-04-10T15:01:16.629Z"
   },
   {
    "duration": 3,
    "start_time": "2022-04-10T15:02:41.205Z"
   },
   {
    "duration": 9,
    "start_time": "2022-04-10T15:02:41.553Z"
   },
   {
    "duration": 8,
    "start_time": "2022-04-10T15:02:41.806Z"
   },
   {
    "duration": 840,
    "start_time": "2022-04-10T15:03:02.024Z"
   },
   {
    "duration": 11,
    "start_time": "2022-04-10T15:03:02.866Z"
   },
   {
    "duration": 14,
    "start_time": "2022-04-10T15:03:02.879Z"
   },
   {
    "duration": 15,
    "start_time": "2022-04-10T15:03:02.895Z"
   },
   {
    "duration": 10,
    "start_time": "2022-04-10T15:03:02.912Z"
   },
   {
    "duration": 5,
    "start_time": "2022-04-10T15:03:02.923Z"
   },
   {
    "duration": 11,
    "start_time": "2022-04-10T15:03:02.930Z"
   },
   {
    "duration": 66,
    "start_time": "2022-04-10T15:03:02.943Z"
   },
   {
    "duration": 8,
    "start_time": "2022-04-10T15:03:03.011Z"
   },
   {
    "duration": 3,
    "start_time": "2022-04-10T15:03:03.022Z"
   },
   {
    "duration": 6,
    "start_time": "2022-04-10T15:03:03.027Z"
   },
   {
    "duration": 371,
    "start_time": "2022-04-10T15:03:03.035Z"
   },
   {
    "duration": 31,
    "start_time": "2022-04-10T15:03:03.409Z"
   },
   {
    "duration": 5,
    "start_time": "2022-04-10T15:03:03.442Z"
   },
   {
    "duration": 7,
    "start_time": "2022-04-10T15:03:03.448Z"
   },
   {
    "duration": 15,
    "start_time": "2022-04-10T15:03:03.457Z"
   },
   {
    "duration": 35,
    "start_time": "2022-04-10T15:03:03.474Z"
   },
   {
    "duration": 39,
    "start_time": "2022-04-10T15:03:03.511Z"
   },
   {
    "duration": 291,
    "start_time": "2022-04-10T15:03:03.552Z"
   },
   {
    "duration": 210,
    "start_time": "2022-04-10T15:03:03.845Z"
   },
   {
    "duration": 242,
    "start_time": "2022-04-10T15:03:04.057Z"
   },
   {
    "duration": 229,
    "start_time": "2022-04-10T15:03:04.301Z"
   },
   {
    "duration": 289,
    "start_time": "2022-04-10T15:03:04.532Z"
   },
   {
    "duration": 131,
    "start_time": "2022-04-10T15:03:04.823Z"
   },
   {
    "duration": 6,
    "start_time": "2022-04-10T15:03:04.955Z"
   },
   {
    "duration": 134,
    "start_time": "2022-04-10T15:03:04.962Z"
   },
   {
    "duration": 12,
    "start_time": "2022-04-10T15:03:05.098Z"
   },
   {
    "duration": 8,
    "start_time": "2022-04-10T15:03:05.114Z"
   },
   {
    "duration": 11,
    "start_time": "2022-04-10T15:03:05.124Z"
   },
   {
    "duration": 10,
    "start_time": "2022-04-10T15:03:05.137Z"
   },
   {
    "duration": 8,
    "start_time": "2022-04-10T15:03:05.149Z"
   },
   {
    "duration": 7,
    "start_time": "2022-04-10T15:03:05.158Z"
   },
   {
    "duration": 50,
    "start_time": "2022-04-10T15:03:05.166Z"
   },
   {
    "duration": 23,
    "start_time": "2022-04-10T15:03:05.218Z"
   },
   {
    "duration": 10,
    "start_time": "2022-04-10T15:03:05.243Z"
   },
   {
    "duration": 17,
    "start_time": "2022-04-10T15:03:05.254Z"
   },
   {
    "duration": 47,
    "start_time": "2022-04-10T15:03:05.273Z"
   },
   {
    "duration": 17,
    "start_time": "2022-04-10T15:03:05.322Z"
   },
   {
    "duration": 12,
    "start_time": "2022-04-10T15:03:05.340Z"
   },
   {
    "duration": 3,
    "start_time": "2022-04-10T15:04:18.115Z"
   },
   {
    "duration": 10,
    "start_time": "2022-04-10T15:04:18.774Z"
   },
   {
    "duration": 8,
    "start_time": "2022-04-10T15:04:19.126Z"
   },
   {
    "duration": 3,
    "start_time": "2022-04-10T15:04:26.545Z"
   },
   {
    "duration": 10,
    "start_time": "2022-04-10T15:04:26.865Z"
   },
   {
    "duration": 8,
    "start_time": "2022-04-10T15:04:27.107Z"
   },
   {
    "duration": 12,
    "start_time": "2022-04-10T15:05:37.084Z"
   },
   {
    "duration": 7,
    "start_time": "2022-04-10T15:06:03.841Z"
   },
   {
    "duration": 100,
    "start_time": "2022-04-10T15:08:36.895Z"
   },
   {
    "duration": 13,
    "start_time": "2022-04-10T15:08:42.630Z"
   },
   {
    "duration": 10,
    "start_time": "2022-04-10T15:09:34.769Z"
   },
   {
    "duration": 5,
    "start_time": "2022-04-10T15:09:59.846Z"
   },
   {
    "duration": 9,
    "start_time": "2022-04-10T15:10:57.313Z"
   },
   {
    "duration": 6,
    "start_time": "2022-04-10T15:10:58.743Z"
   },
   {
    "duration": 7,
    "start_time": "2022-04-10T15:11:16.056Z"
   },
   {
    "duration": 6,
    "start_time": "2022-04-10T15:11:25.883Z"
   },
   {
    "duration": 8,
    "start_time": "2022-04-10T15:13:25.754Z"
   },
   {
    "duration": 7,
    "start_time": "2022-04-10T15:13:41.249Z"
   },
   {
    "duration": 816,
    "start_time": "2022-04-10T15:14:53.020Z"
   },
   {
    "duration": 14,
    "start_time": "2022-04-10T15:14:53.839Z"
   },
   {
    "duration": 15,
    "start_time": "2022-04-10T15:14:53.855Z"
   },
   {
    "duration": 6,
    "start_time": "2022-04-10T15:14:53.871Z"
   },
   {
    "duration": 12,
    "start_time": "2022-04-10T15:14:53.880Z"
   },
   {
    "duration": 5,
    "start_time": "2022-04-10T15:14:53.909Z"
   },
   {
    "duration": 10,
    "start_time": "2022-04-10T15:14:53.916Z"
   },
   {
    "duration": 30,
    "start_time": "2022-04-10T15:14:53.927Z"
   },
   {
    "duration": 7,
    "start_time": "2022-04-10T15:14:53.959Z"
   },
   {
    "duration": 5,
    "start_time": "2022-04-10T15:14:53.968Z"
   },
   {
    "duration": 6,
    "start_time": "2022-04-10T15:14:53.974Z"
   },
   {
    "duration": 351,
    "start_time": "2022-04-10T15:14:53.982Z"
   },
   {
    "duration": 33,
    "start_time": "2022-04-10T15:14:54.335Z"
   },
   {
    "duration": 6,
    "start_time": "2022-04-10T15:14:54.371Z"
   },
   {
    "duration": 33,
    "start_time": "2022-04-10T15:14:54.378Z"
   },
   {
    "duration": 20,
    "start_time": "2022-04-10T15:14:54.413Z"
   },
   {
    "duration": 8,
    "start_time": "2022-04-10T15:14:54.434Z"
   },
   {
    "duration": 8,
    "start_time": "2022-04-10T15:14:54.443Z"
   },
   {
    "duration": 6,
    "start_time": "2022-04-10T15:14:54.453Z"
   },
   {
    "duration": 12,
    "start_time": "2022-04-10T15:14:54.460Z"
   },
   {
    "duration": 6,
    "start_time": "2022-04-10T15:14:54.475Z"
   },
   {
    "duration": 8,
    "start_time": "2022-04-10T15:14:54.508Z"
   },
   {
    "duration": 40,
    "start_time": "2022-04-10T15:14:54.518Z"
   },
   {
    "duration": 293,
    "start_time": "2022-04-10T15:14:54.560Z"
   },
   {
    "duration": 209,
    "start_time": "2022-04-10T15:14:54.855Z"
   },
   {
    "duration": 216,
    "start_time": "2022-04-10T15:14:55.066Z"
   },
   {
    "duration": 217,
    "start_time": "2022-04-10T15:14:55.309Z"
   },
   {
    "duration": 282,
    "start_time": "2022-04-10T15:14:55.529Z"
   },
   {
    "duration": 142,
    "start_time": "2022-04-10T15:14:55.813Z"
   },
   {
    "duration": 5,
    "start_time": "2022-04-10T15:14:55.957Z"
   },
   {
    "duration": 127,
    "start_time": "2022-04-10T15:14:55.963Z"
   },
   {
    "duration": 17,
    "start_time": "2022-04-10T15:14:56.092Z"
   },
   {
    "duration": 7,
    "start_time": "2022-04-10T15:14:56.111Z"
   },
   {
    "duration": 11,
    "start_time": "2022-04-10T15:14:56.120Z"
   },
   {
    "duration": 9,
    "start_time": "2022-04-10T15:14:56.133Z"
   },
   {
    "duration": 6,
    "start_time": "2022-04-10T15:14:56.144Z"
   },
   {
    "duration": 7,
    "start_time": "2022-04-10T15:14:56.151Z"
   },
   {
    "duration": 50,
    "start_time": "2022-04-10T15:14:56.159Z"
   },
   {
    "duration": 24,
    "start_time": "2022-04-10T15:14:56.211Z"
   },
   {
    "duration": 8,
    "start_time": "2022-04-10T15:14:56.237Z"
   },
   {
    "duration": 15,
    "start_time": "2022-04-10T15:14:56.249Z"
   },
   {
    "duration": 47,
    "start_time": "2022-04-10T15:14:56.266Z"
   },
   {
    "duration": 16,
    "start_time": "2022-04-10T15:14:56.315Z"
   },
   {
    "duration": 12,
    "start_time": "2022-04-10T15:14:56.332Z"
   },
   {
    "duration": 838,
    "start_time": "2022-04-10T15:15:45.411Z"
   },
   {
    "duration": 11,
    "start_time": "2022-04-10T15:15:46.251Z"
   },
   {
    "duration": 14,
    "start_time": "2022-04-10T15:15:46.263Z"
   },
   {
    "duration": 6,
    "start_time": "2022-04-10T15:15:46.279Z"
   },
   {
    "duration": 23,
    "start_time": "2022-04-10T15:15:46.286Z"
   },
   {
    "duration": 4,
    "start_time": "2022-04-10T15:15:46.311Z"
   },
   {
    "duration": 12,
    "start_time": "2022-04-10T15:15:46.317Z"
   },
   {
    "duration": 31,
    "start_time": "2022-04-10T15:15:46.331Z"
   },
   {
    "duration": 8,
    "start_time": "2022-04-10T15:15:46.363Z"
   },
   {
    "duration": 4,
    "start_time": "2022-04-10T15:15:46.374Z"
   },
   {
    "duration": 8,
    "start_time": "2022-04-10T15:15:46.380Z"
   },
   {
    "duration": 324,
    "start_time": "2022-04-10T15:15:46.389Z"
   },
   {
    "duration": 33,
    "start_time": "2022-04-10T15:15:46.715Z"
   },
   {
    "duration": 5,
    "start_time": "2022-04-10T15:15:46.750Z"
   },
   {
    "duration": 7,
    "start_time": "2022-04-10T15:15:46.757Z"
   },
   {
    "duration": 11,
    "start_time": "2022-04-10T15:15:46.765Z"
   },
   {
    "duration": 36,
    "start_time": "2022-04-10T15:15:46.778Z"
   },
   {
    "duration": 7,
    "start_time": "2022-04-10T15:15:46.815Z"
   },
   {
    "duration": 4,
    "start_time": "2022-04-10T15:15:46.824Z"
   },
   {
    "duration": 9,
    "start_time": "2022-04-10T15:15:46.830Z"
   },
   {
    "duration": 5,
    "start_time": "2022-04-10T15:15:46.840Z"
   },
   {
    "duration": 8,
    "start_time": "2022-04-10T15:15:46.847Z"
   },
   {
    "duration": 71,
    "start_time": "2022-04-10T15:15:46.856Z"
   },
   {
    "duration": 294,
    "start_time": "2022-04-10T15:15:46.929Z"
   },
   {
    "duration": 207,
    "start_time": "2022-04-10T15:15:47.225Z"
   },
   {
    "duration": 242,
    "start_time": "2022-04-10T15:15:47.434Z"
   },
   {
    "duration": 215,
    "start_time": "2022-04-10T15:15:47.678Z"
   },
   {
    "duration": 297,
    "start_time": "2022-04-10T15:15:47.897Z"
   },
   {
    "duration": 142,
    "start_time": "2022-04-10T15:15:48.195Z"
   },
   {
    "duration": 4,
    "start_time": "2022-04-10T15:15:48.339Z"
   },
   {
    "duration": 137,
    "start_time": "2022-04-10T15:15:48.345Z"
   },
   {
    "duration": 5,
    "start_time": "2022-04-10T15:15:48.483Z"
   },
   {
    "duration": 22,
    "start_time": "2022-04-10T15:15:48.490Z"
   },
   {
    "duration": 10,
    "start_time": "2022-04-10T15:15:48.514Z"
   },
   {
    "duration": 11,
    "start_time": "2022-04-10T15:15:48.525Z"
   },
   {
    "duration": 7,
    "start_time": "2022-04-10T15:15:48.537Z"
   },
   {
    "duration": 6,
    "start_time": "2022-04-10T15:15:48.546Z"
   },
   {
    "duration": 16,
    "start_time": "2022-04-10T15:15:48.553Z"
   },
   {
    "duration": 60,
    "start_time": "2022-04-10T15:15:48.570Z"
   },
   {
    "duration": 10,
    "start_time": "2022-04-10T15:15:48.633Z"
   },
   {
    "duration": 18,
    "start_time": "2022-04-10T15:15:48.645Z"
   },
   {
    "duration": 52,
    "start_time": "2022-04-10T15:15:48.665Z"
   },
   {
    "duration": 17,
    "start_time": "2022-04-10T15:15:48.719Z"
   },
   {
    "duration": 12,
    "start_time": "2022-04-10T15:15:48.738Z"
   },
   {
    "duration": 7,
    "start_time": "2022-04-10T15:16:49.166Z"
   },
   {
    "duration": 16,
    "start_time": "2022-04-10T15:16:50.211Z"
   },
   {
    "duration": 10,
    "start_time": "2022-04-10T15:16:50.742Z"
   },
   {
    "duration": 7,
    "start_time": "2022-04-10T15:16:51.184Z"
   },
   {
    "duration": 10,
    "start_time": "2022-04-10T15:16:51.711Z"
   },
   {
    "duration": 17,
    "start_time": "2022-04-10T15:16:54.492Z"
   },
   {
    "duration": 23,
    "start_time": "2022-04-10T15:16:55.172Z"
   },
   {
    "duration": 10,
    "start_time": "2022-04-10T15:16:56.217Z"
   },
   {
    "duration": 18,
    "start_time": "2022-04-10T15:16:56.921Z"
   },
   {
    "duration": 23,
    "start_time": "2022-04-10T15:16:58.460Z"
   },
   {
    "duration": 17,
    "start_time": "2022-04-10T15:16:59.866Z"
   },
   {
    "duration": 911,
    "start_time": "2022-04-10T15:17:18.548Z"
   },
   {
    "duration": 10,
    "start_time": "2022-04-10T15:17:19.461Z"
   },
   {
    "duration": 15,
    "start_time": "2022-04-10T15:17:19.473Z"
   },
   {
    "duration": 7,
    "start_time": "2022-04-10T15:17:19.489Z"
   },
   {
    "duration": 12,
    "start_time": "2022-04-10T15:17:19.511Z"
   },
   {
    "duration": 7,
    "start_time": "2022-04-10T15:17:19.525Z"
   },
   {
    "duration": 14,
    "start_time": "2022-04-10T15:17:19.534Z"
   },
   {
    "duration": 31,
    "start_time": "2022-04-10T15:17:19.550Z"
   },
   {
    "duration": 8,
    "start_time": "2022-04-10T15:17:19.583Z"
   },
   {
    "duration": 3,
    "start_time": "2022-04-10T15:17:19.593Z"
   },
   {
    "duration": 22,
    "start_time": "2022-04-10T15:17:19.598Z"
   },
   {
    "duration": 372,
    "start_time": "2022-04-10T15:17:19.622Z"
   },
   {
    "duration": 44,
    "start_time": "2022-04-10T15:17:19.996Z"
   },
   {
    "duration": 6,
    "start_time": "2022-04-10T15:17:20.043Z"
   },
   {
    "duration": 6,
    "start_time": "2022-04-10T15:17:20.051Z"
   },
   {
    "duration": 13,
    "start_time": "2022-04-10T15:17:20.059Z"
   },
   {
    "duration": 39,
    "start_time": "2022-04-10T15:17:20.074Z"
   },
   {
    "duration": 14,
    "start_time": "2022-04-10T15:17:20.114Z"
   },
   {
    "duration": 15,
    "start_time": "2022-04-10T15:17:20.130Z"
   },
   {
    "duration": 27,
    "start_time": "2022-04-10T15:17:20.147Z"
   },
   {
    "duration": 18,
    "start_time": "2022-04-10T15:17:20.176Z"
   },
   {
    "duration": 10,
    "start_time": "2022-04-10T15:17:20.196Z"
   },
   {
    "duration": 57,
    "start_time": "2022-04-10T15:17:20.208Z"
   },
   {
    "duration": 293,
    "start_time": "2022-04-10T15:17:20.267Z"
   },
   {
    "duration": 224,
    "start_time": "2022-04-10T15:17:20.562Z"
   },
   {
    "duration": 272,
    "start_time": "2022-04-10T15:17:20.788Z"
   },
   {
    "duration": 226,
    "start_time": "2022-04-10T15:17:21.062Z"
   },
   {
    "duration": 300,
    "start_time": "2022-04-10T15:17:21.290Z"
   },
   {
    "duration": 154,
    "start_time": "2022-04-10T15:17:21.591Z"
   },
   {
    "duration": 5,
    "start_time": "2022-04-10T15:17:21.748Z"
   },
   {
    "duration": 141,
    "start_time": "2022-04-10T15:17:21.755Z"
   },
   {
    "duration": 5,
    "start_time": "2022-04-10T15:17:21.898Z"
   },
   {
    "duration": 10,
    "start_time": "2022-04-10T15:17:21.904Z"
   },
   {
    "duration": 12,
    "start_time": "2022-04-10T15:17:21.916Z"
   },
   {
    "duration": 12,
    "start_time": "2022-04-10T15:17:21.930Z"
   },
   {
    "duration": 10,
    "start_time": "2022-04-10T15:17:21.944Z"
   },
   {
    "duration": 7,
    "start_time": "2022-04-10T15:17:21.956Z"
   },
   {
    "duration": 45,
    "start_time": "2022-04-10T15:17:21.964Z"
   },
   {
    "duration": 29,
    "start_time": "2022-04-10T15:17:22.012Z"
   },
   {
    "duration": 9,
    "start_time": "2022-04-10T15:17:22.043Z"
   },
   {
    "duration": 18,
    "start_time": "2022-04-10T15:17:22.056Z"
   },
   {
    "duration": 48,
    "start_time": "2022-04-10T15:17:22.076Z"
   },
   {
    "duration": 16,
    "start_time": "2022-04-10T15:17:22.126Z"
   },
   {
    "duration": 11,
    "start_time": "2022-04-10T15:17:22.144Z"
   },
   {
    "duration": 1218,
    "start_time": "2022-04-11T04:31:17.243Z"
   },
   {
    "duration": 3,
    "start_time": "2022-04-11T04:31:42.456Z"
   },
   {
    "duration": 3,
    "start_time": "2022-04-11T04:31:42.761Z"
   },
   {
    "duration": 54,
    "start_time": "2022-04-11T04:31:43.309Z"
   },
   {
    "duration": 26,
    "start_time": "2022-04-11T04:31:45.726Z"
   },
   {
    "duration": 85,
    "start_time": "2022-04-11T04:31:53.323Z"
   },
   {
    "duration": 76,
    "start_time": "2022-04-11T04:32:00.870Z"
   },
   {
    "duration": 6,
    "start_time": "2022-04-11T04:33:03.499Z"
   },
   {
    "duration": 9,
    "start_time": "2022-04-11T04:33:07.361Z"
   },
   {
    "duration": 6,
    "start_time": "2022-04-11T04:33:50.016Z"
   },
   {
    "duration": 10,
    "start_time": "2022-04-11T04:33:57.767Z"
   },
   {
    "duration": 58,
    "start_time": "2022-04-11T04:35:41.658Z"
   },
   {
    "duration": 32,
    "start_time": "2022-04-11T04:35:48.016Z"
   },
   {
    "duration": 28,
    "start_time": "2022-04-11T04:35:53.770Z"
   },
   {
    "duration": 5,
    "start_time": "2022-04-11T04:35:58.999Z"
   },
   {
    "duration": 7,
    "start_time": "2022-04-11T04:37:33.330Z"
   },
   {
    "duration": 191,
    "start_time": "2022-04-11T04:38:17.594Z"
   },
   {
    "duration": 7,
    "start_time": "2022-04-11T04:38:20.776Z"
   },
   {
    "duration": 6,
    "start_time": "2022-04-11T04:41:20.415Z"
   },
   {
    "duration": 6,
    "start_time": "2022-04-11T04:41:24.674Z"
   },
   {
    "duration": 6,
    "start_time": "2022-04-11T04:41:55.812Z"
   },
   {
    "duration": 6,
    "start_time": "2022-04-11T04:41:59.849Z"
   },
   {
    "duration": 5,
    "start_time": "2022-04-11T04:43:20.653Z"
   },
   {
    "duration": 7,
    "start_time": "2022-04-11T04:47:58.078Z"
   },
   {
    "duration": 30,
    "start_time": "2022-04-11T04:48:33.875Z"
   },
   {
    "duration": 230,
    "start_time": "2022-04-11T04:48:41.930Z"
   },
   {
    "duration": 12,
    "start_time": "2022-04-11T04:48:56.828Z"
   },
   {
    "duration": 161,
    "start_time": "2022-04-11T04:49:21.318Z"
   },
   {
    "duration": 169,
    "start_time": "2022-04-11T04:50:20.091Z"
   },
   {
    "duration": 263,
    "start_time": "2022-04-11T04:51:04.694Z"
   },
   {
    "duration": 3,
    "start_time": "2022-04-11T04:57:39.109Z"
   },
   {
    "duration": 16,
    "start_time": "2022-04-11T04:57:49.544Z"
   },
   {
    "duration": 3,
    "start_time": "2022-04-11T04:57:56.325Z"
   },
   {
    "duration": 123,
    "start_time": "2022-04-11T04:57:57.932Z"
   },
   {
    "duration": 191,
    "start_time": "2022-04-11T04:59:32.487Z"
   },
   {
    "duration": 4,
    "start_time": "2022-04-11T04:59:37.441Z"
   },
   {
    "duration": 50,
    "start_time": "2022-04-11T04:59:38.093Z"
   },
   {
    "duration": 4,
    "start_time": "2022-04-11T04:59:57.802Z"
   },
   {
    "duration": 8,
    "start_time": "2022-04-11T04:59:57.807Z"
   },
   {
    "duration": 11,
    "start_time": "2022-04-11T04:59:57.816Z"
   },
   {
    "duration": 22,
    "start_time": "2022-04-11T04:59:57.829Z"
   },
   {
    "duration": 36,
    "start_time": "2022-04-11T04:59:57.853Z"
   },
   {
    "duration": 4,
    "start_time": "2022-04-11T04:59:57.891Z"
   },
   {
    "duration": 11,
    "start_time": "2022-04-11T04:59:57.896Z"
   },
   {
    "duration": 5,
    "start_time": "2022-04-11T04:59:57.909Z"
   },
   {
    "duration": 13,
    "start_time": "2022-04-11T04:59:57.916Z"
   },
   {
    "duration": 76,
    "start_time": "2022-04-11T04:59:57.931Z"
   },
   {
    "duration": 41,
    "start_time": "2022-04-11T04:59:58.009Z"
   },
   {
    "duration": 29,
    "start_time": "2022-04-11T04:59:58.052Z"
   },
   {
    "duration": 5,
    "start_time": "2022-04-11T04:59:58.083Z"
   },
   {
    "duration": 6,
    "start_time": "2022-04-11T04:59:58.090Z"
   },
   {
    "duration": 5,
    "start_time": "2022-04-11T04:59:58.098Z"
   },
   {
    "duration": 6,
    "start_time": "2022-04-11T04:59:58.104Z"
   },
   {
    "duration": 9,
    "start_time": "2022-04-11T04:59:58.111Z"
   },
   {
    "duration": 7,
    "start_time": "2022-04-11T05:00:00.715Z"
   },
   {
    "duration": 4,
    "start_time": "2022-04-11T05:00:01.001Z"
   },
   {
    "duration": 42,
    "start_time": "2022-04-11T05:00:02.154Z"
   },
   {
    "duration": 3,
    "start_time": "2022-04-11T05:00:22.640Z"
   },
   {
    "duration": 139,
    "start_time": "2022-04-11T05:00:23.115Z"
   },
   {
    "duration": 4,
    "start_time": "2022-04-11T05:00:45.231Z"
   },
   {
    "duration": 244,
    "start_time": "2022-04-11T05:00:45.408Z"
   },
   {
    "duration": 3,
    "start_time": "2022-04-11T05:01:26.074Z"
   },
   {
    "duration": 199,
    "start_time": "2022-04-11T05:01:26.609Z"
   },
   {
    "duration": 3,
    "start_time": "2022-04-11T05:02:00.204Z"
   },
   {
    "duration": 258,
    "start_time": "2022-04-11T05:02:00.976Z"
   },
   {
    "duration": 175,
    "start_time": "2022-04-11T05:05:20.442Z"
   },
   {
    "duration": 178,
    "start_time": "2022-04-11T05:06:29.393Z"
   },
   {
    "duration": 268,
    "start_time": "2022-04-11T05:08:07.150Z"
   },
   {
    "duration": 262,
    "start_time": "2022-04-11T05:08:39.131Z"
   },
   {
    "duration": 282,
    "start_time": "2022-04-11T05:09:22.002Z"
   },
   {
    "duration": 180,
    "start_time": "2022-04-11T05:11:01.595Z"
   },
   {
    "duration": 270,
    "start_time": "2022-04-11T05:12:32.417Z"
   },
   {
    "duration": 9,
    "start_time": "2022-04-11T05:13:08.794Z"
   },
   {
    "duration": 189,
    "start_time": "2022-04-11T05:13:14.755Z"
   },
   {
    "duration": 110,
    "start_time": "2022-04-11T05:14:18.780Z"
   },
   {
    "duration": 5,
    "start_time": "2022-04-11T05:14:30.982Z"
   },
   {
    "duration": 111,
    "start_time": "2022-04-11T05:15:03.527Z"
   },
   {
    "duration": 5,
    "start_time": "2022-04-11T05:15:08.299Z"
   },
   {
    "duration": 7,
    "start_time": "2022-04-11T05:16:23.584Z"
   },
   {
    "duration": 8,
    "start_time": "2022-04-11T05:16:52.838Z"
   },
   {
    "duration": 15,
    "start_time": "2022-04-11T05:16:55.003Z"
   },
   {
    "duration": 23,
    "start_time": "2022-04-11T05:16:55.509Z"
   },
   {
    "duration": 9,
    "start_time": "2022-04-11T05:17:09.949Z"
   },
   {
    "duration": 14,
    "start_time": "2022-04-11T05:17:29.420Z"
   },
   {
    "duration": 20,
    "start_time": "2022-04-11T05:17:36.453Z"
   },
   {
    "duration": 7,
    "start_time": "2022-04-11T05:17:46.372Z"
   },
   {
    "duration": 15,
    "start_time": "2022-04-11T05:17:47.621Z"
   },
   {
    "duration": 21,
    "start_time": "2022-04-11T05:17:48.317Z"
   },
   {
    "duration": 9,
    "start_time": "2022-04-11T05:17:49.586Z"
   },
   {
    "duration": 15,
    "start_time": "2022-04-11T05:17:51.620Z"
   },
   {
    "duration": 20,
    "start_time": "2022-04-11T05:17:52.323Z"
   },
   {
    "duration": 15,
    "start_time": "2022-04-11T05:18:04.514Z"
   },
   {
    "duration": 7,
    "start_time": "2022-04-11T05:18:35.706Z"
   },
   {
    "duration": 14,
    "start_time": "2022-04-11T05:18:36.986Z"
   },
   {
    "duration": 22,
    "start_time": "2022-04-11T05:18:37.550Z"
   },
   {
    "duration": 9,
    "start_time": "2022-04-11T05:18:38.214Z"
   },
   {
    "duration": 17,
    "start_time": "2022-04-11T05:18:38.721Z"
   },
   {
    "duration": 23,
    "start_time": "2022-04-11T05:18:39.308Z"
   },
   {
    "duration": 16,
    "start_time": "2022-04-11T05:18:39.840Z"
   },
   {
    "duration": 96,
    "start_time": "2022-04-11T05:19:55.005Z"
   },
   {
    "duration": 96,
    "start_time": "2022-04-11T05:20:15.865Z"
   },
   {
    "duration": 95,
    "start_time": "2022-04-11T05:20:18.724Z"
   },
   {
    "duration": 119,
    "start_time": "2022-04-11T05:20:53.908Z"
   },
   {
    "duration": 214,
    "start_time": "2022-04-11T05:21:20.448Z"
   },
   {
    "duration": 189,
    "start_time": "2022-04-11T05:24:48.148Z"
   },
   {
    "duration": 189,
    "start_time": "2022-04-11T05:24:54.662Z"
   },
   {
    "duration": 5,
    "start_time": "2022-04-11T05:25:03.137Z"
   },
   {
    "duration": 8,
    "start_time": "2022-04-11T05:25:28.872Z"
   },
   {
    "duration": 7,
    "start_time": "2022-04-11T05:26:07.095Z"
   },
   {
    "duration": 24,
    "start_time": "2022-04-11T05:50:44.593Z"
   },
   {
    "duration": 21,
    "start_time": "2022-04-11T05:51:40.894Z"
   },
   {
    "duration": 21,
    "start_time": "2022-04-11T05:51:47.148Z"
   },
   {
    "duration": 14,
    "start_time": "2022-04-11T05:52:06.393Z"
   },
   {
    "duration": 21,
    "start_time": "2022-04-11T05:52:07.793Z"
   },
   {
    "duration": 11,
    "start_time": "2022-04-11T05:52:30.874Z"
   },
   {
    "duration": 10,
    "start_time": "2022-04-11T05:55:12.125Z"
   },
   {
    "duration": 18,
    "start_time": "2022-04-11T05:57:35.851Z"
   },
   {
    "duration": 21,
    "start_time": "2022-04-11T05:58:54.213Z"
   },
   {
    "duration": 21,
    "start_time": "2022-04-11T06:00:51.638Z"
   },
   {
    "duration": 15,
    "start_time": "2022-04-11T06:01:36.747Z"
   },
   {
    "duration": 1107,
    "start_time": "2022-04-11T06:13:24.062Z"
   },
   {
    "duration": 4,
    "start_time": "2022-04-11T06:13:27.629Z"
   },
   {
    "duration": 52,
    "start_time": "2022-04-11T06:13:31.830Z"
   },
   {
    "duration": 27,
    "start_time": "2022-04-11T06:13:41.415Z"
   },
   {
    "duration": 102,
    "start_time": "2022-04-11T06:13:42.040Z"
   },
   {
    "duration": 6,
    "start_time": "2022-04-11T06:15:50.916Z"
   },
   {
    "duration": 9,
    "start_time": "2022-04-11T06:15:53.693Z"
   },
   {
    "duration": 4,
    "start_time": "2022-04-11T06:16:24.625Z"
   },
   {
    "duration": 10,
    "start_time": "2022-04-11T06:16:25.327Z"
   },
   {
    "duration": 48,
    "start_time": "2022-04-11T06:16:55.425Z"
   },
   {
    "duration": 35,
    "start_time": "2022-04-11T06:16:56.102Z"
   },
   {
    "duration": 28,
    "start_time": "2022-04-11T06:17:00.401Z"
   },
   {
    "duration": 5,
    "start_time": "2022-04-11T06:17:07.980Z"
   },
   {
    "duration": 7,
    "start_time": "2022-04-11T06:17:09.729Z"
   },
   {
    "duration": 9,
    "start_time": "2022-04-11T06:17:14.352Z"
   },
   {
    "duration": 5,
    "start_time": "2022-04-11T06:17:24.457Z"
   },
   {
    "duration": 6,
    "start_time": "2022-04-11T06:17:33.819Z"
   },
   {
    "duration": 30,
    "start_time": "2022-04-11T06:17:34.832Z"
   },
   {
    "duration": 12,
    "start_time": "2022-04-11T06:17:35.748Z"
   },
   {
    "duration": 252,
    "start_time": "2022-04-11T06:17:40.102Z"
   },
   {
    "duration": 1048,
    "start_time": "2022-04-11T06:30:36.089Z"
   },
   {
    "duration": 3,
    "start_time": "2022-04-11T06:30:37.139Z"
   },
   {
    "duration": 49,
    "start_time": "2022-04-11T06:30:37.144Z"
   },
   {
    "duration": 21,
    "start_time": "2022-04-11T06:30:37.194Z"
   },
   {
    "duration": 76,
    "start_time": "2022-04-11T06:30:37.217Z"
   },
   {
    "duration": 6,
    "start_time": "2022-04-11T06:30:37.295Z"
   },
   {
    "duration": 14,
    "start_time": "2022-04-11T06:30:37.302Z"
   },
   {
    "duration": 5,
    "start_time": "2022-04-11T06:30:37.317Z"
   },
   {
    "duration": 10,
    "start_time": "2022-04-11T06:30:37.324Z"
   },
   {
    "duration": 50,
    "start_time": "2022-04-11T06:30:37.336Z"
   },
   {
    "duration": 34,
    "start_time": "2022-04-11T06:30:37.387Z"
   },
   {
    "duration": 27,
    "start_time": "2022-04-11T06:30:37.423Z"
   },
   {
    "duration": 4,
    "start_time": "2022-04-11T06:30:37.451Z"
   },
   {
    "duration": 6,
    "start_time": "2022-04-11T06:30:37.480Z"
   },
   {
    "duration": 7,
    "start_time": "2022-04-11T06:30:37.487Z"
   },
   {
    "duration": 4,
    "start_time": "2022-04-11T06:30:37.495Z"
   },
   {
    "duration": 6,
    "start_time": "2022-04-11T06:30:37.501Z"
   },
   {
    "duration": 32,
    "start_time": "2022-04-11T06:30:37.508Z"
   },
   {
    "duration": 12,
    "start_time": "2022-04-11T06:30:37.541Z"
   },
   {
    "duration": 251,
    "start_time": "2022-04-11T06:30:37.581Z"
   },
   {
    "duration": 192,
    "start_time": "2022-04-11T06:30:37.834Z"
   },
   {
    "duration": 258,
    "start_time": "2022-04-11T06:30:38.028Z"
   },
   {
    "duration": 186,
    "start_time": "2022-04-11T06:30:38.287Z"
   },
   {
    "duration": 285,
    "start_time": "2022-04-11T06:30:38.474Z"
   },
   {
    "duration": 8,
    "start_time": "2022-04-11T06:30:41.568Z"
   },
   {
    "duration": 220,
    "start_time": "2022-04-11T06:30:41.982Z"
   },
   {
    "duration": 7,
    "start_time": "2022-04-11T06:30:56.332Z"
   },
   {
    "duration": 7,
    "start_time": "2022-04-11T06:31:00.701Z"
   },
   {
    "duration": 15,
    "start_time": "2022-04-11T06:37:27.563Z"
   },
   {
    "duration": 22,
    "start_time": "2022-04-11T06:37:33.503Z"
   },
   {
    "duration": 10,
    "start_time": "2022-04-11T06:37:38.454Z"
   },
   {
    "duration": 16,
    "start_time": "2022-04-11T06:37:41.620Z"
   },
   {
    "duration": 21,
    "start_time": "2022-04-11T06:37:45.756Z"
   },
   {
    "duration": 15,
    "start_time": "2022-04-11T06:37:46.943Z"
   },
   {
    "duration": 7,
    "start_time": "2022-04-11T06:44:01.966Z"
   },
   {
    "duration": 6,
    "start_time": "2022-04-11T06:48:03.801Z"
   },
   {
    "duration": 4,
    "start_time": "2022-04-11T06:50:46.648Z"
   },
   {
    "duration": 13,
    "start_time": "2022-04-11T06:50:47.055Z"
   },
   {
    "duration": 270,
    "start_time": "2022-04-11T07:18:06.291Z"
   },
   {
    "duration": 190,
    "start_time": "2022-04-11T07:18:09.522Z"
   },
   {
    "duration": 231,
    "start_time": "2022-04-11T07:18:15.800Z"
   },
   {
    "duration": 11,
    "start_time": "2022-04-11T07:18:27.829Z"
   },
   {
    "duration": 194,
    "start_time": "2022-04-11T07:18:39.973Z"
   },
   {
    "duration": 225,
    "start_time": "2022-04-11T07:31:11.075Z"
   },
   {
    "duration": 1347,
    "start_time": "2022-04-11T07:52:24.905Z"
   },
   {
    "duration": 3,
    "start_time": "2022-04-11T07:52:26.255Z"
   },
   {
    "duration": 63,
    "start_time": "2022-04-11T07:52:26.260Z"
   },
   {
    "duration": 22,
    "start_time": "2022-04-11T07:52:26.325Z"
   },
   {
    "duration": 87,
    "start_time": "2022-04-11T07:52:26.349Z"
   },
   {
    "duration": 7,
    "start_time": "2022-04-11T07:52:26.437Z"
   },
   {
    "duration": 11,
    "start_time": "2022-04-11T07:52:26.446Z"
   },
   {
    "duration": 33,
    "start_time": "2022-04-11T07:52:26.459Z"
   },
   {
    "duration": 11,
    "start_time": "2022-04-11T07:52:26.494Z"
   },
   {
    "duration": 12,
    "start_time": "2022-04-11T07:52:26.507Z"
   },
   {
    "duration": 55,
    "start_time": "2022-04-11T07:52:26.521Z"
   },
   {
    "duration": 48,
    "start_time": "2022-04-11T07:52:26.578Z"
   },
   {
    "duration": 66,
    "start_time": "2022-04-11T07:52:26.627Z"
   },
   {
    "duration": 6,
    "start_time": "2022-04-11T07:52:26.697Z"
   },
   {
    "duration": 11,
    "start_time": "2022-04-11T07:52:26.705Z"
   },
   {
    "duration": 7,
    "start_time": "2022-04-11T07:52:26.718Z"
   },
   {
    "duration": 5,
    "start_time": "2022-04-11T07:52:26.727Z"
   },
   {
    "duration": 10,
    "start_time": "2022-04-11T07:52:26.734Z"
   },
   {
    "duration": 78,
    "start_time": "2022-04-11T07:52:26.746Z"
   },
   {
    "duration": 12,
    "start_time": "2022-04-11T07:52:26.826Z"
   },
   {
    "duration": 302,
    "start_time": "2022-04-11T07:52:26.840Z"
   },
   {
    "duration": 219,
    "start_time": "2022-04-11T07:52:27.143Z"
   },
   {
    "duration": 345,
    "start_time": "2022-04-11T07:52:27.364Z"
   },
   {
    "duration": 216,
    "start_time": "2022-04-11T07:52:27.710Z"
   },
   {
    "duration": 287,
    "start_time": "2022-04-11T07:52:27.928Z"
   },
   {
    "duration": 11,
    "start_time": "2022-04-11T07:52:28.217Z"
   },
   {
    "duration": 276,
    "start_time": "2022-04-11T07:52:28.229Z"
   },
   {
    "duration": 8,
    "start_time": "2022-04-11T07:52:28.506Z"
   },
   {
    "duration": 8,
    "start_time": "2022-04-11T07:52:28.515Z"
   },
   {
    "duration": 14,
    "start_time": "2022-04-11T07:52:28.525Z"
   },
   {
    "duration": 53,
    "start_time": "2022-04-11T07:52:28.540Z"
   },
   {
    "duration": 12,
    "start_time": "2022-04-11T07:52:28.595Z"
   },
   {
    "duration": 16,
    "start_time": "2022-04-11T07:52:28.608Z"
   },
   {
    "duration": 21,
    "start_time": "2022-04-11T07:52:28.626Z"
   },
   {
    "duration": 37,
    "start_time": "2022-04-11T07:52:28.648Z"
   },
   {
    "duration": 1193,
    "start_time": "2022-04-11T08:16:54.340Z"
   },
   {
    "duration": 2,
    "start_time": "2022-04-11T08:16:55.536Z"
   },
   {
    "duration": 62,
    "start_time": "2022-04-11T08:16:55.540Z"
   },
   {
    "duration": 41,
    "start_time": "2022-04-11T08:16:55.604Z"
   },
   {
    "duration": 114,
    "start_time": "2022-04-11T08:16:55.648Z"
   },
   {
    "duration": 8,
    "start_time": "2022-04-11T08:16:55.764Z"
   },
   {
    "duration": 12,
    "start_time": "2022-04-11T08:16:55.774Z"
   },
   {
    "duration": 23,
    "start_time": "2022-04-11T08:16:55.789Z"
   },
   {
    "duration": 6,
    "start_time": "2022-04-11T08:16:55.814Z"
   },
   {
    "duration": 12,
    "start_time": "2022-04-11T08:16:55.822Z"
   },
   {
    "duration": 33,
    "start_time": "2022-04-11T08:16:55.836Z"
   },
   {
    "duration": 49,
    "start_time": "2022-04-11T08:16:55.871Z"
   },
   {
    "duration": 76,
    "start_time": "2022-04-11T08:16:55.922Z"
   },
   {
    "duration": 6,
    "start_time": "2022-04-11T08:16:56.001Z"
   },
   {
    "duration": 10,
    "start_time": "2022-04-11T08:16:56.008Z"
   },
   {
    "duration": 6,
    "start_time": "2022-04-11T08:16:56.020Z"
   },
   {
    "duration": 6,
    "start_time": "2022-04-11T08:16:56.028Z"
   },
   {
    "duration": 11,
    "start_time": "2022-04-11T08:16:56.036Z"
   },
   {
    "duration": 71,
    "start_time": "2022-04-11T08:16:56.048Z"
   },
   {
    "duration": 16,
    "start_time": "2022-04-11T08:16:56.121Z"
   },
   {
    "duration": 357,
    "start_time": "2022-04-11T08:16:56.139Z"
   },
   {
    "duration": 244,
    "start_time": "2022-04-11T08:16:56.498Z"
   },
   {
    "duration": 314,
    "start_time": "2022-04-11T08:16:56.743Z"
   },
   {
    "duration": 218,
    "start_time": "2022-04-11T08:16:57.059Z"
   },
   {
    "duration": 331,
    "start_time": "2022-04-11T08:16:57.280Z"
   },
   {
    "duration": 10,
    "start_time": "2022-04-11T08:16:57.612Z"
   },
   {
    "duration": 260,
    "start_time": "2022-04-11T08:16:57.623Z"
   },
   {
    "duration": 11,
    "start_time": "2022-04-11T08:16:57.885Z"
   },
   {
    "duration": 16,
    "start_time": "2022-04-11T08:16:57.900Z"
   },
   {
    "duration": 14,
    "start_time": "2022-04-11T08:16:57.918Z"
   },
   {
    "duration": 21,
    "start_time": "2022-04-11T08:16:57.934Z"
   },
   {
    "duration": 30,
    "start_time": "2022-04-11T08:16:57.956Z"
   },
   {
    "duration": 30,
    "start_time": "2022-04-11T08:16:57.994Z"
   },
   {
    "duration": 22,
    "start_time": "2022-04-11T08:16:58.026Z"
   },
   {
    "duration": 17,
    "start_time": "2022-04-11T08:16:58.049Z"
   },
   {
    "duration": 1450,
    "start_time": "2022-04-11T15:56:15.551Z"
   },
   {
    "duration": 5,
    "start_time": "2022-04-11T15:56:17.004Z"
   },
   {
    "duration": 76,
    "start_time": "2022-04-11T15:56:17.011Z"
   },
   {
    "duration": 23,
    "start_time": "2022-04-11T15:56:17.091Z"
   },
   {
    "duration": 141,
    "start_time": "2022-04-11T15:56:17.116Z"
   },
   {
    "duration": 13,
    "start_time": "2022-04-11T15:56:17.259Z"
   },
   {
    "duration": 8,
    "start_time": "2022-04-11T15:56:17.274Z"
   },
   {
    "duration": 17,
    "start_time": "2022-04-11T15:56:17.284Z"
   },
   {
    "duration": 41,
    "start_time": "2022-04-11T15:56:17.303Z"
   },
   {
    "duration": 20,
    "start_time": "2022-04-11T15:56:17.349Z"
   },
   {
    "duration": 58,
    "start_time": "2022-04-11T15:56:17.371Z"
   },
   {
    "duration": 69,
    "start_time": "2022-04-11T15:56:17.431Z"
   },
   {
    "duration": 77,
    "start_time": "2022-04-11T15:56:17.503Z"
   },
   {
    "duration": 8,
    "start_time": "2022-04-11T15:56:17.582Z"
   },
   {
    "duration": 16,
    "start_time": "2022-04-11T15:56:17.593Z"
   },
   {
    "duration": 42,
    "start_time": "2022-04-11T15:56:17.611Z"
   },
   {
    "duration": 7,
    "start_time": "2022-04-11T15:56:17.655Z"
   },
   {
    "duration": 11,
    "start_time": "2022-04-11T15:56:17.665Z"
   },
   {
    "duration": 90,
    "start_time": "2022-04-11T15:56:17.678Z"
   },
   {
    "duration": 22,
    "start_time": "2022-04-11T15:56:17.770Z"
   },
   {
    "duration": 483,
    "start_time": "2022-04-11T15:56:17.794Z"
   },
   {
    "duration": 401,
    "start_time": "2022-04-11T15:56:18.280Z"
   },
   {
    "duration": 407,
    "start_time": "2022-04-11T15:56:18.684Z"
   },
   {
    "duration": 367,
    "start_time": "2022-04-11T15:56:19.094Z"
   },
   {
    "duration": 404,
    "start_time": "2022-04-11T15:56:19.464Z"
   },
   {
    "duration": 13,
    "start_time": "2022-04-11T15:56:19.870Z"
   },
   {
    "duration": 412,
    "start_time": "2022-04-11T15:56:19.885Z"
   },
   {
    "duration": 10,
    "start_time": "2022-04-11T15:56:20.302Z"
   },
   {
    "duration": 32,
    "start_time": "2022-04-11T15:56:20.315Z"
   },
   {
    "duration": 36,
    "start_time": "2022-04-11T15:56:20.349Z"
   },
   {
    "duration": 61,
    "start_time": "2022-04-11T15:56:20.387Z"
   },
   {
    "duration": 18,
    "start_time": "2022-04-11T15:56:20.450Z"
   },
   {
    "duration": 31,
    "start_time": "2022-04-11T15:56:20.470Z"
   },
   {
    "duration": 64,
    "start_time": "2022-04-11T15:56:20.504Z"
   },
   {
    "duration": 25,
    "start_time": "2022-04-11T15:56:20.570Z"
   }
  ],
  "kernelspec": {
   "display_name": "Python 3",
   "language": "python",
   "name": "python3"
  },
  "language_info": {
   "codemirror_mode": {
    "name": "ipython",
    "version": 3
   },
   "file_extension": ".py",
   "mimetype": "text/x-python",
   "name": "python",
   "nbconvert_exporter": "python",
   "pygments_lexer": "ipython3",
   "version": "3.8.5"
  },
  "toc": {
   "base_numbering": 1,
   "nav_menu": {},
   "number_sections": false,
   "sideBar": true,
   "skip_h1_title": true,
   "title_cell": "Содержание",
   "title_sidebar": "Contents",
   "toc_cell": true,
   "toc_position": {
    "height": "calc(100% - 180px)",
    "left": "10px",
    "top": "150px",
    "width": "165px"
   },
   "toc_section_display": true,
   "toc_window_display": true
  }
 },
 "nbformat": 4,
 "nbformat_minor": 2
}
