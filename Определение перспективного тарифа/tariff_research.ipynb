{
 "cells": [
  {
   "cell_type": "markdown",
   "metadata": {
    "toc": true
   },
   "source": [
    "<h1>Содержание<span class=\"tocSkip\"></span></h1>\n",
    "<div class=\"toc\"><ul class=\"toc-item\"><li><span><a href=\"#Описание-проекта\" data-toc-modified-id=\"Описание-проекта-1\">Описание проекта</a></span><ul class=\"toc-item\"><li><span><a href=\"#Описание-тарифов\" data-toc-modified-id=\"Описание-тарифов-1.1\">Описание тарифов</a></span></li><li><span><a href=\"#Описание-таблиц\" data-toc-modified-id=\"Описание-таблиц-1.2\">Описание таблиц</a></span></li></ul></li><li><span><a href=\"#Изучение-данных-из-файлов\" data-toc-modified-id=\"Изучение-данных-из-файлов-2\">Изучение данных из файлов</a></span><ul class=\"toc-item\"><li><span><a href=\"#Вывод\" data-toc-modified-id=\"Вывод-2.1\">Вывод</a></span></li></ul></li><li><span><a href=\"#Предобработка-данных\" data-toc-modified-id=\"Предобработка-данных-3\">Предобработка данных</a></span><ul class=\"toc-item\"><li><span><a href=\"#Обработка-данных\" data-toc-modified-id=\"Обработка-данных-3.1\">Обработка данных</a></span></li><li><span><a href=\"#Преобразование-данных\" data-toc-modified-id=\"Преобразование-данных-3.2\">Преобразование данных</a></span></li><li><span><a href=\"#Вывод\" data-toc-modified-id=\"Вывод-3.3\">Вывод</a></span></li></ul></li><li><span><a href=\"#Анализ-данных\" data-toc-modified-id=\"Анализ-данных-4\">Анализ данных</a></span><ul class=\"toc-item\"><li><span><a href=\"#Минуты-разговора\" data-toc-modified-id=\"Минуты-разговора-4.1\">Минуты разговора</a></span></li><li><span><a href=\"#Интернет-трафик\" data-toc-modified-id=\"Интернет-трафик-4.2\">Интернет трафик</a></span></li><li><span><a href=\"#Сообщения\" data-toc-modified-id=\"Сообщения-4.3\">Сообщения</a></span></li><li><span><a href=\"#Вывод\" data-toc-modified-id=\"Вывод-4.4\">Вывод</a></span></li></ul></li><li><span><a href=\"#Проверка-гипотез\" data-toc-modified-id=\"Проверка-гипотез-5\">Проверка гипотез</a></span><ul class=\"toc-item\"><li><span><a href=\"#Сравнение-выручки-двух-тарифов\" data-toc-modified-id=\"Сравнение-выручки-двух-тарифов-5.1\">Сравнение выручки двух тарифов</a></span><ul class=\"toc-item\"><li><span><a href=\"#Двусторонняя-проверка:-Средние-выручки-тарифов-Ультра-и-Смарт-одинаковы\" data-toc-modified-id=\"Двусторонняя-проверка:-Средние-выручки-тарифов-Ультра-и-Смарт-одинаковы-5.1.1\">Двусторонняя проверка: Средние выручки тарифов Ультра и Смарт одинаковы</a></span></li><li><span><a href=\"#Односторонняя-проверка:-Средняя-выручка-тарифа-Ультра-больше-средней-выручки-тарифа--Смарт\" data-toc-modified-id=\"Односторонняя-проверка:-Средняя-выручка-тарифа-Ультра-больше-средней-выручки-тарифа--Смарт-5.1.2\">Односторонняя проверка: Средняя выручка тарифа Ультра больше средней выручки тарифа  Смарт</a></span></li></ul></li><li><span><a href=\"#Сравнение-выручки-пользователей-из-Москвы-и-других-городов\" data-toc-modified-id=\"Сравнение-выручки-пользователей-из-Москвы-и-других-городов-5.2\">Сравнение выручки пользователей из Москвы и других городов</a></span><ul class=\"toc-item\"><li><span><a href=\"#Двусторонняя-проверка:-Средние-выручки-пользователей-из-Москвы-и-других-городов-равны.\" data-toc-modified-id=\"Двусторонняя-проверка:-Средние-выручки-пользователей-из-Москвы-и-других-городов-равны.-5.2.1\">Двусторонняя проверка: Средние выручки пользователей из Москвы и других городов равны.</a></span></li></ul></li><li><span><a href=\"#Вывод\" data-toc-modified-id=\"Вывод-5.3\">Вывод</a></span></li></ul></li><li><span><a href=\"#Общий-вывод\" data-toc-modified-id=\"Общий-вывод-6\">Общий вывод</a></span></li></ul></div>"
   ]
  },
  {
   "cell_type": "markdown",
   "metadata": {},
   "source": [
    "## Описание проекта"
   ]
  },
  {
   "cell_type": "markdown",
   "metadata": {},
   "source": [
    "Необходимо сравнить тарифные планы «Смарт» и «Ультра» оператора сотовой связи «Мегалайн», чтобы скорректировать рекламный бюджет.\n",
    "В нашем распоряжении данные 500 пользователей «Мегалайна»."
   ]
  },
  {
   "cell_type": "markdown",
   "metadata": {},
   "source": [
    "### Описание тарифов"
   ]
  },
  {
   "cell_type": "markdown",
   "metadata": {},
   "source": [
    "**Тариф «Смарт»**\n",
    "1. Ежемесячная плата: 550 рублей\n",
    "2. Включено 500 минут разговора, 50 сообщений и 15 Гб интернет-трафика\n",
    "3. Стоимость услуг сверх тарифного пакета: \n",
    "    - минута разговора: 3 рубля («Мегалайн» всегда округляет вверх значения минут и мегабайтов. Если пользователь проговорил всего 1 секунду, в тарифе засчитывается целая минута); \n",
    "    - сообщение: 3 рубля; \n",
    "    - 1 Гб интернет-трафика: 200 рублей.\n",
    "\n",
    "**Тариф «Ультра»**\n",
    "1. Ежемесячная плата: 1950 рублей\n",
    "2. Включено 3000 минут разговора, 1000 сообщений и 30 Гб интернет-трафика\n",
    "3. Стоимость услуг сверх тарифного пакета: \n",
    "    - минута разговора: 1 рубль; \n",
    "    - сообщение: 1 рубль; \n",
    "    - 1 Гб интернет-трафика: 150 рублей."
   ]
  },
  {
   "cell_type": "markdown",
   "metadata": {},
   "source": [
    "### Описание таблиц"
   ]
  },
  {
   "cell_type": "markdown",
   "metadata": {},
   "source": [
    "**Таблица `users` (информация о пользователях)**:\n",
    "- user_id — уникальный идентификатор пользователя\n",
    "- first_name — имя пользователя\n",
    "- last_name — фамилия пользователя\n",
    "- age — возраст пользователя (годы)\n",
    "- reg_date — дата подключения тарифа (день, месяц, год)\n",
    "- churn_date — дата прекращения пользования тарифом (если значение пропущено, то тариф ещё действовал на момент выгрузки данных)\n",
    "- city — город проживания пользователя\n",
    "- tarif — название тарифного плана\n",
    "\n",
    "**Таблица `calls` (информация о звонках)**:\n",
    "- id — уникальный номер звонка\n",
    "- call_date — дата звонка\n",
    "- duration — длительность звонка в минутах\n",
    "- user_id — идентификатор пользователя, сделавшего звонок\n",
    "\n",
    "**Таблица `messages` (информация о сообщениях)**:\n",
    "- id — уникальный номер сообщения\n",
    "- message_date — дата сообщения\n",
    "- user_id — идентификатор пользователя, отправившего сообщение\n",
    "\n",
    "**Таблица internet (информация об интернет-сессиях)**:\n",
    "- id — уникальный номер сессии\n",
    "- mb_used — объём потраченного за сессию интернет-трафика (в мегабайтах)\n",
    "- session_date — дата интернет-сессии\n",
    "- user_id — идентификатор пользователя\n",
    "\n",
    "**Таблица tariffs (информация о тарифах)**:\n",
    "- tariff_name — название тарифа\n",
    "- rub_monthly_fee — ежемесячная абонентская плата в рублях\n",
    "- minutes_included — количество минут разговора в месяц, включённых в абонентскую плату\n",
    "- messages_included — количество сообщений в месяц, включённых в абонентскую плату\n",
    "- mb_per_month_included — объём интернет-трафика, включённого в абонентскую плату (в мегабайтах)\n",
    "- rub_per_minute — стоимость минуты разговора сверх тарифного пакета (например, если в тарифе 100 минут разговора в месяц, то со 101 минуты будет взиматься плата)\n",
    "- rub_per_message — стоимость отправки сообщения сверх тарифного пакета\n",
    "- rub_per_gb — стоимость дополнительного гигабайта интернет-трафика сверх тарифного пакета (1 гигабайт = 1024 мегабайта)"
   ]
  },
  {
   "cell_type": "markdown",
   "metadata": {},
   "source": [
    "## Изучение данных из файлов"
   ]
  },
  {
   "cell_type": "code",
   "execution_count": 1,
   "metadata": {},
   "outputs": [],
   "source": [
    "import pandas as pd\n",
    "import numpy as np\n",
    "import seaborn as sns\n",
    "import scipy.stats as st\n",
    "import matplotlib.pyplot as plt\n",
    "\n",
    "import warnings \n",
    "\n",
    "warnings.filterwarnings('ignore')"
   ]
  },
  {
   "cell_type": "code",
   "execution_count": 2,
   "metadata": {},
   "outputs": [],
   "source": [
    "pd.options.display.float_format = '{:,.1f}'.format"
   ]
  },
  {
   "cell_type": "code",
   "execution_count": 3,
   "metadata": {},
   "outputs": [],
   "source": [
    "calls = pd.read_csv('calls.csv')\n",
    "internet = pd.read_csv('internet.csv')\n",
    "messages = pd.read_csv('messages.csv')\n",
    "tariffs = pd.read_csv('tariffs.csv')\n",
    "users = pd.read_csv('users.csv')"
   ]
  },
  {
   "cell_type": "code",
   "execution_count": 4,
   "metadata": {},
   "outputs": [
    {
     "name": "stdout",
     "output_type": "stream",
     "text": [
      "<class 'pandas.core.frame.DataFrame'>\n",
      "RangeIndex: 202607 entries, 0 to 202606\n",
      "Data columns (total 5 columns):\n",
      " #   Column      Non-Null Count   Dtype  \n",
      "---  ------      --------------   -----  \n",
      " 0   Unnamed: 0  202607 non-null  int64  \n",
      " 1   id          202607 non-null  object \n",
      " 2   call_date   202607 non-null  object \n",
      " 3   duration    202607 non-null  float64\n",
      " 4   user_id     202607 non-null  int64  \n",
      "dtypes: float64(1), int64(2), object(2)\n",
      "memory usage: 7.7+ MB\n"
     ]
    },
    {
     "data": {
      "text/html": [
       "<div>\n",
       "<style scoped>\n",
       "    .dataframe tbody tr th:only-of-type {\n",
       "        vertical-align: middle;\n",
       "    }\n",
       "\n",
       "    .dataframe tbody tr th {\n",
       "        vertical-align: top;\n",
       "    }\n",
       "\n",
       "    .dataframe thead th {\n",
       "        text-align: right;\n",
       "    }\n",
       "</style>\n",
       "<table border=\"1\" class=\"dataframe\">\n",
       "  <thead>\n",
       "    <tr style=\"text-align: right;\">\n",
       "      <th></th>\n",
       "      <th>Unnamed: 0</th>\n",
       "      <th>id</th>\n",
       "      <th>call_date</th>\n",
       "      <th>duration</th>\n",
       "      <th>user_id</th>\n",
       "    </tr>\n",
       "  </thead>\n",
       "  <tbody>\n",
       "    <tr>\n",
       "      <th>0</th>\n",
       "      <td>0</td>\n",
       "      <td>1000_0</td>\n",
       "      <td>2018-07-25</td>\n",
       "      <td>0.0</td>\n",
       "      <td>1000</td>\n",
       "    </tr>\n",
       "    <tr>\n",
       "      <th>1</th>\n",
       "      <td>1</td>\n",
       "      <td>1000_1</td>\n",
       "      <td>2018-08-17</td>\n",
       "      <td>0.0</td>\n",
       "      <td>1000</td>\n",
       "    </tr>\n",
       "    <tr>\n",
       "      <th>2</th>\n",
       "      <td>2</td>\n",
       "      <td>1000_2</td>\n",
       "      <td>2018-06-11</td>\n",
       "      <td>2.9</td>\n",
       "      <td>1000</td>\n",
       "    </tr>\n",
       "    <tr>\n",
       "      <th>3</th>\n",
       "      <td>3</td>\n",
       "      <td>1000_3</td>\n",
       "      <td>2018-09-21</td>\n",
       "      <td>13.8</td>\n",
       "      <td>1000</td>\n",
       "    </tr>\n",
       "    <tr>\n",
       "      <th>4</th>\n",
       "      <td>4</td>\n",
       "      <td>1000_4</td>\n",
       "      <td>2018-12-15</td>\n",
       "      <td>5.2</td>\n",
       "      <td>1000</td>\n",
       "    </tr>\n",
       "  </tbody>\n",
       "</table>\n",
       "</div>"
      ],
      "text/plain": [
       "   Unnamed: 0      id   call_date  duration  user_id\n",
       "0           0  1000_0  2018-07-25       0.0     1000\n",
       "1           1  1000_1  2018-08-17       0.0     1000\n",
       "2           2  1000_2  2018-06-11       2.9     1000\n",
       "3           3  1000_3  2018-09-21      13.8     1000\n",
       "4           4  1000_4  2018-12-15       5.2     1000"
      ]
     },
     "execution_count": 4,
     "metadata": {},
     "output_type": "execute_result"
    }
   ],
   "source": [
    "calls.info()\n",
    "calls.head()"
   ]
  },
  {
   "cell_type": "code",
   "execution_count": 5,
   "metadata": {},
   "outputs": [
    {
     "name": "stdout",
     "output_type": "stream",
     "text": [
      "<class 'pandas.core.frame.DataFrame'>\n",
      "RangeIndex: 149396 entries, 0 to 149395\n",
      "Data columns (total 6 columns):\n",
      " #   Column        Non-Null Count   Dtype  \n",
      "---  ------        --------------   -----  \n",
      " 0   Unnamed: 0    149396 non-null  int64  \n",
      " 1   Unnamed: 0.1  149396 non-null  int64  \n",
      " 2   id            149396 non-null  object \n",
      " 3   mb_used       149396 non-null  float64\n",
      " 4   session_date  149396 non-null  object \n",
      " 5   user_id       149396 non-null  int64  \n",
      "dtypes: float64(1), int64(3), object(2)\n",
      "memory usage: 6.8+ MB\n"
     ]
    },
    {
     "data": {
      "text/html": [
       "<div>\n",
       "<style scoped>\n",
       "    .dataframe tbody tr th:only-of-type {\n",
       "        vertical-align: middle;\n",
       "    }\n",
       "\n",
       "    .dataframe tbody tr th {\n",
       "        vertical-align: top;\n",
       "    }\n",
       "\n",
       "    .dataframe thead th {\n",
       "        text-align: right;\n",
       "    }\n",
       "</style>\n",
       "<table border=\"1\" class=\"dataframe\">\n",
       "  <thead>\n",
       "    <tr style=\"text-align: right;\">\n",
       "      <th></th>\n",
       "      <th>Unnamed: 0</th>\n",
       "      <th>Unnamed: 0.1</th>\n",
       "      <th>id</th>\n",
       "      <th>mb_used</th>\n",
       "      <th>session_date</th>\n",
       "      <th>user_id</th>\n",
       "    </tr>\n",
       "  </thead>\n",
       "  <tbody>\n",
       "    <tr>\n",
       "      <th>0</th>\n",
       "      <td>0</td>\n",
       "      <td>0</td>\n",
       "      <td>1000_0</td>\n",
       "      <td>113.0</td>\n",
       "      <td>2018-11-25</td>\n",
       "      <td>1000</td>\n",
       "    </tr>\n",
       "    <tr>\n",
       "      <th>1</th>\n",
       "      <td>1</td>\n",
       "      <td>1</td>\n",
       "      <td>1000_1</td>\n",
       "      <td>1,052.8</td>\n",
       "      <td>2018-09-07</td>\n",
       "      <td>1000</td>\n",
       "    </tr>\n",
       "    <tr>\n",
       "      <th>2</th>\n",
       "      <td>2</td>\n",
       "      <td>2</td>\n",
       "      <td>1000_2</td>\n",
       "      <td>1,197.3</td>\n",
       "      <td>2018-06-25</td>\n",
       "      <td>1000</td>\n",
       "    </tr>\n",
       "    <tr>\n",
       "      <th>3</th>\n",
       "      <td>3</td>\n",
       "      <td>3</td>\n",
       "      <td>1000_3</td>\n",
       "      <td>550.3</td>\n",
       "      <td>2018-08-22</td>\n",
       "      <td>1000</td>\n",
       "    </tr>\n",
       "    <tr>\n",
       "      <th>4</th>\n",
       "      <td>4</td>\n",
       "      <td>4</td>\n",
       "      <td>1000_4</td>\n",
       "      <td>302.6</td>\n",
       "      <td>2018-09-24</td>\n",
       "      <td>1000</td>\n",
       "    </tr>\n",
       "  </tbody>\n",
       "</table>\n",
       "</div>"
      ],
      "text/plain": [
       "   Unnamed: 0  Unnamed: 0.1      id  mb_used session_date  user_id\n",
       "0           0             0  1000_0    113.0   2018-11-25     1000\n",
       "1           1             1  1000_1  1,052.8   2018-09-07     1000\n",
       "2           2             2  1000_2  1,197.3   2018-06-25     1000\n",
       "3           3             3  1000_3    550.3   2018-08-22     1000\n",
       "4           4             4  1000_4    302.6   2018-09-24     1000"
      ]
     },
     "execution_count": 5,
     "metadata": {},
     "output_type": "execute_result"
    }
   ],
   "source": [
    "internet.info()\n",
    "internet.head()"
   ]
  },
  {
   "cell_type": "code",
   "execution_count": 6,
   "metadata": {},
   "outputs": [
    {
     "name": "stdout",
     "output_type": "stream",
     "text": [
      "<class 'pandas.core.frame.DataFrame'>\n",
      "RangeIndex: 123036 entries, 0 to 123035\n",
      "Data columns (total 4 columns):\n",
      " #   Column        Non-Null Count   Dtype \n",
      "---  ------        --------------   ----- \n",
      " 0   Unnamed: 0    123036 non-null  int64 \n",
      " 1   id            123036 non-null  object\n",
      " 2   message_date  123036 non-null  object\n",
      " 3   user_id       123036 non-null  int64 \n",
      "dtypes: int64(2), object(2)\n",
      "memory usage: 3.8+ MB\n"
     ]
    },
    {
     "data": {
      "text/html": [
       "<div>\n",
       "<style scoped>\n",
       "    .dataframe tbody tr th:only-of-type {\n",
       "        vertical-align: middle;\n",
       "    }\n",
       "\n",
       "    .dataframe tbody tr th {\n",
       "        vertical-align: top;\n",
       "    }\n",
       "\n",
       "    .dataframe thead th {\n",
       "        text-align: right;\n",
       "    }\n",
       "</style>\n",
       "<table border=\"1\" class=\"dataframe\">\n",
       "  <thead>\n",
       "    <tr style=\"text-align: right;\">\n",
       "      <th></th>\n",
       "      <th>Unnamed: 0</th>\n",
       "      <th>id</th>\n",
       "      <th>message_date</th>\n",
       "      <th>user_id</th>\n",
       "    </tr>\n",
       "  </thead>\n",
       "  <tbody>\n",
       "    <tr>\n",
       "      <th>0</th>\n",
       "      <td>0</td>\n",
       "      <td>1000_0</td>\n",
       "      <td>2018-06-27</td>\n",
       "      <td>1000</td>\n",
       "    </tr>\n",
       "    <tr>\n",
       "      <th>1</th>\n",
       "      <td>1</td>\n",
       "      <td>1000_1</td>\n",
       "      <td>2018-10-08</td>\n",
       "      <td>1000</td>\n",
       "    </tr>\n",
       "    <tr>\n",
       "      <th>2</th>\n",
       "      <td>2</td>\n",
       "      <td>1000_2</td>\n",
       "      <td>2018-08-04</td>\n",
       "      <td>1000</td>\n",
       "    </tr>\n",
       "    <tr>\n",
       "      <th>3</th>\n",
       "      <td>3</td>\n",
       "      <td>1000_3</td>\n",
       "      <td>2018-06-16</td>\n",
       "      <td>1000</td>\n",
       "    </tr>\n",
       "    <tr>\n",
       "      <th>4</th>\n",
       "      <td>4</td>\n",
       "      <td>1000_4</td>\n",
       "      <td>2018-12-05</td>\n",
       "      <td>1000</td>\n",
       "    </tr>\n",
       "  </tbody>\n",
       "</table>\n",
       "</div>"
      ],
      "text/plain": [
       "   Unnamed: 0      id message_date  user_id\n",
       "0           0  1000_0   2018-06-27     1000\n",
       "1           1  1000_1   2018-10-08     1000\n",
       "2           2  1000_2   2018-08-04     1000\n",
       "3           3  1000_3   2018-06-16     1000\n",
       "4           4  1000_4   2018-12-05     1000"
      ]
     },
     "execution_count": 6,
     "metadata": {},
     "output_type": "execute_result"
    }
   ],
   "source": [
    "messages.info()\n",
    "messages.head()"
   ]
  },
  {
   "cell_type": "code",
   "execution_count": 7,
   "metadata": {},
   "outputs": [
    {
     "name": "stdout",
     "output_type": "stream",
     "text": [
      "<class 'pandas.core.frame.DataFrame'>\n",
      "RangeIndex: 2 entries, 0 to 1\n",
      "Data columns (total 9 columns):\n",
      " #   Column                 Non-Null Count  Dtype \n",
      "---  ------                 --------------  ----- \n",
      " 0   Unnamed: 0             2 non-null      int64 \n",
      " 1   messages_included      2 non-null      int64 \n",
      " 2   mb_per_month_included  2 non-null      int64 \n",
      " 3   minutes_included       2 non-null      int64 \n",
      " 4   rub_monthly_fee        2 non-null      int64 \n",
      " 5   rub_per_gb             2 non-null      int64 \n",
      " 6   rub_per_message        2 non-null      int64 \n",
      " 7   rub_per_minute         2 non-null      int64 \n",
      " 8   tariff_name            2 non-null      object\n",
      "dtypes: int64(8), object(1)\n",
      "memory usage: 272.0+ bytes\n"
     ]
    },
    {
     "data": {
      "text/html": [
       "<div>\n",
       "<style scoped>\n",
       "    .dataframe tbody tr th:only-of-type {\n",
       "        vertical-align: middle;\n",
       "    }\n",
       "\n",
       "    .dataframe tbody tr th {\n",
       "        vertical-align: top;\n",
       "    }\n",
       "\n",
       "    .dataframe thead th {\n",
       "        text-align: right;\n",
       "    }\n",
       "</style>\n",
       "<table border=\"1\" class=\"dataframe\">\n",
       "  <thead>\n",
       "    <tr style=\"text-align: right;\">\n",
       "      <th></th>\n",
       "      <th>Unnamed: 0</th>\n",
       "      <th>messages_included</th>\n",
       "      <th>mb_per_month_included</th>\n",
       "      <th>minutes_included</th>\n",
       "      <th>rub_monthly_fee</th>\n",
       "      <th>rub_per_gb</th>\n",
       "      <th>rub_per_message</th>\n",
       "      <th>rub_per_minute</th>\n",
       "      <th>tariff_name</th>\n",
       "    </tr>\n",
       "  </thead>\n",
       "  <tbody>\n",
       "    <tr>\n",
       "      <th>0</th>\n",
       "      <td>0</td>\n",
       "      <td>50</td>\n",
       "      <td>15360</td>\n",
       "      <td>500</td>\n",
       "      <td>550</td>\n",
       "      <td>200</td>\n",
       "      <td>3</td>\n",
       "      <td>3</td>\n",
       "      <td>smart</td>\n",
       "    </tr>\n",
       "    <tr>\n",
       "      <th>1</th>\n",
       "      <td>1</td>\n",
       "      <td>1000</td>\n",
       "      <td>30720</td>\n",
       "      <td>3000</td>\n",
       "      <td>1950</td>\n",
       "      <td>150</td>\n",
       "      <td>1</td>\n",
       "      <td>1</td>\n",
       "      <td>ultra</td>\n",
       "    </tr>\n",
       "  </tbody>\n",
       "</table>\n",
       "</div>"
      ],
      "text/plain": [
       "   Unnamed: 0  messages_included  mb_per_month_included  minutes_included  \\\n",
       "0           0                 50                  15360               500   \n",
       "1           1               1000                  30720              3000   \n",
       "\n",
       "   rub_monthly_fee  rub_per_gb  rub_per_message  rub_per_minute tariff_name  \n",
       "0              550         200                3               3       smart  \n",
       "1             1950         150                1               1       ultra  "
      ]
     },
     "execution_count": 7,
     "metadata": {},
     "output_type": "execute_result"
    }
   ],
   "source": [
    "tariffs.info()\n",
    "tariffs.head()"
   ]
  },
  {
   "cell_type": "code",
   "execution_count": 8,
   "metadata": {},
   "outputs": [
    {
     "name": "stdout",
     "output_type": "stream",
     "text": [
      "<class 'pandas.core.frame.DataFrame'>\n",
      "RangeIndex: 500 entries, 0 to 499\n",
      "Data columns (total 9 columns):\n",
      " #   Column      Non-Null Count  Dtype \n",
      "---  ------      --------------  ----- \n",
      " 0   Unnamed: 0  500 non-null    int64 \n",
      " 1   user_id     500 non-null    int64 \n",
      " 2   age         500 non-null    int64 \n",
      " 3   churn_date  38 non-null     object\n",
      " 4   city        500 non-null    object\n",
      " 5   first_name  500 non-null    object\n",
      " 6   last_name   500 non-null    object\n",
      " 7   reg_date    500 non-null    object\n",
      " 8   tariff      500 non-null    object\n",
      "dtypes: int64(3), object(6)\n",
      "memory usage: 35.3+ KB\n"
     ]
    },
    {
     "data": {
      "text/html": [
       "<div>\n",
       "<style scoped>\n",
       "    .dataframe tbody tr th:only-of-type {\n",
       "        vertical-align: middle;\n",
       "    }\n",
       "\n",
       "    .dataframe tbody tr th {\n",
       "        vertical-align: top;\n",
       "    }\n",
       "\n",
       "    .dataframe thead th {\n",
       "        text-align: right;\n",
       "    }\n",
       "</style>\n",
       "<table border=\"1\" class=\"dataframe\">\n",
       "  <thead>\n",
       "    <tr style=\"text-align: right;\">\n",
       "      <th></th>\n",
       "      <th>Unnamed: 0</th>\n",
       "      <th>user_id</th>\n",
       "      <th>age</th>\n",
       "      <th>churn_date</th>\n",
       "      <th>city</th>\n",
       "      <th>first_name</th>\n",
       "      <th>last_name</th>\n",
       "      <th>reg_date</th>\n",
       "      <th>tariff</th>\n",
       "    </tr>\n",
       "  </thead>\n",
       "  <tbody>\n",
       "    <tr>\n",
       "      <th>0</th>\n",
       "      <td>0</td>\n",
       "      <td>1000</td>\n",
       "      <td>52</td>\n",
       "      <td>NaN</td>\n",
       "      <td>Краснодар</td>\n",
       "      <td>Рафаил</td>\n",
       "      <td>Верещагин</td>\n",
       "      <td>2018-05-25</td>\n",
       "      <td>ultra</td>\n",
       "    </tr>\n",
       "    <tr>\n",
       "      <th>1</th>\n",
       "      <td>1</td>\n",
       "      <td>1001</td>\n",
       "      <td>41</td>\n",
       "      <td>NaN</td>\n",
       "      <td>Москва</td>\n",
       "      <td>Иван</td>\n",
       "      <td>Ежов</td>\n",
       "      <td>2018-11-01</td>\n",
       "      <td>smart</td>\n",
       "    </tr>\n",
       "    <tr>\n",
       "      <th>2</th>\n",
       "      <td>2</td>\n",
       "      <td>1002</td>\n",
       "      <td>59</td>\n",
       "      <td>NaN</td>\n",
       "      <td>Стерлитамак</td>\n",
       "      <td>Евгений</td>\n",
       "      <td>Абрамович</td>\n",
       "      <td>2018-06-17</td>\n",
       "      <td>smart</td>\n",
       "    </tr>\n",
       "    <tr>\n",
       "      <th>3</th>\n",
       "      <td>3</td>\n",
       "      <td>1003</td>\n",
       "      <td>23</td>\n",
       "      <td>NaN</td>\n",
       "      <td>Москва</td>\n",
       "      <td>Белла</td>\n",
       "      <td>Белякова</td>\n",
       "      <td>2018-08-17</td>\n",
       "      <td>ultra</td>\n",
       "    </tr>\n",
       "    <tr>\n",
       "      <th>4</th>\n",
       "      <td>4</td>\n",
       "      <td>1004</td>\n",
       "      <td>68</td>\n",
       "      <td>NaN</td>\n",
       "      <td>Новокузнецк</td>\n",
       "      <td>Татьяна</td>\n",
       "      <td>Авдеенко</td>\n",
       "      <td>2018-05-14</td>\n",
       "      <td>ultra</td>\n",
       "    </tr>\n",
       "  </tbody>\n",
       "</table>\n",
       "</div>"
      ],
      "text/plain": [
       "   Unnamed: 0  user_id  age churn_date         city first_name  last_name  \\\n",
       "0           0     1000   52        NaN    Краснодар     Рафаил  Верещагин   \n",
       "1           1     1001   41        NaN       Москва       Иван       Ежов   \n",
       "2           2     1002   59        NaN  Стерлитамак    Евгений  Абрамович   \n",
       "3           3     1003   23        NaN       Москва      Белла   Белякова   \n",
       "4           4     1004   68        NaN  Новокузнецк    Татьяна   Авдеенко   \n",
       "\n",
       "     reg_date tariff  \n",
       "0  2018-05-25  ultra  \n",
       "1  2018-11-01  smart  \n",
       "2  2018-06-17  smart  \n",
       "3  2018-08-17  ultra  \n",
       "4  2018-05-14  ultra  "
      ]
     },
     "execution_count": 8,
     "metadata": {},
     "output_type": "execute_result"
    }
   ],
   "source": [
    "users.info()\n",
    "users.head()"
   ]
  },
  {
   "cell_type": "markdown",
   "metadata": {},
   "source": [
    "### Вывод"
   ]
  },
  {
   "cell_type": "markdown",
   "metadata": {},
   "source": [
    "1. Пропусков в данных нет, за исключением столбца `churn_date` в таблице **users**, однако пропуски в нем - индикатор того, что пользователь является активным.<br>\n",
    "2. Тип данных не соответствует в столбцах с датами.\n",
    "3. В таблице **internet** присутствует лишний столбец `Unnamed: 0`"
   ]
  },
  {
   "cell_type": "markdown",
   "metadata": {},
   "source": [
    "## Предобработка данных"
   ]
  },
  {
   "cell_type": "markdown",
   "metadata": {},
   "source": [
    "### Обработка данных"
   ]
  },
  {
   "cell_type": "markdown",
   "metadata": {},
   "source": [
    "1. Проверим данные на наличие отрицательных значений в солбцах `duration`, `mb_used`\n",
    "2. Округлим длительность звонков в большую сторону и приведем к типу *int*\n",
    "3. Изменим тип данных в столбцах с датами"
   ]
  },
  {
   "cell_type": "code",
   "execution_count": 9,
   "metadata": {},
   "outputs": [
    {
     "name": "stdout",
     "output_type": "stream",
     "text": [
      "Количество отрицательных значений в duration: 0\n",
      "Количество отрицательных значений в mb_used: 0\n"
     ]
    }
   ],
   "source": [
    "print('Количество отрицательных значений в duration:', (calls['duration'] < 0).sum())\n",
    "print('Количество отрицательных значений в mb_used:', (internet['mb_used'] < 0).sum())"
   ]
  },
  {
   "cell_type": "code",
   "execution_count": 10,
   "metadata": {},
   "outputs": [
    {
     "data": {
      "image/png": "[encoded data removed]",
      "text/plain": [
       "<Figure size 864x360 with 2 Axes>"
      ]
     },
     "metadata": {
      "needs_background": "light"
     },
     "output_type": "display_data"
    }
   ],
   "source": [
    "fig, axes = plt.subplots(1, 2, figsize=(12, 5))\n",
    "\n",
    "calls['duration'].hist(bins=20, ax=axes[0])\n",
    "axes[0].set_title('calls_duration')\n",
    "internet['mb_used'].hist(bins=20, ax=axes[1])\n",
    "axes[1].set_title('mb_used')\n",
    "plt.show()\n"
   ]
  },
  {
   "cell_type": "code",
   "execution_count": 11,
   "metadata": {},
   "outputs": [],
   "source": [
    "calls['duration'] = np.ceil(calls['duration']).astype('int')"
   ]
  },
  {
   "cell_type": "code",
   "execution_count": 12,
   "metadata": {},
   "outputs": [],
   "source": [
    "calls['call_date'] = pd.to_datetime(calls['call_date'], format='%Y-%m-%d')\n",
    "internet['session_date'] = pd.to_datetime(internet['session_date'], format='%Y-%m-%d')\n",
    "messages['message_date'] = pd.to_datetime(messages['message_date'], format='%Y-%m-%d')\n",
    "users['reg_date'] = pd.to_datetime(users['reg_date'], format='%Y-%m-%d')"
   ]
  },
  {
   "cell_type": "markdown",
   "metadata": {},
   "source": [
    "### Преобразование данных"
   ]
  },
  {
   "cell_type": "markdown",
   "metadata": {},
   "source": [
    "1. Удалим столбец `Unnamed: 0` из **internet**\n",
    "2. Добавим столбец `is_active` в таблицу **users** и удалим столбец `churn_date`\n",
    "3. Добавим в каждую таблицу столбец `month`\n",
    "4. Посчитаем для каждого пользователя:\n",
    "    - количество сделанных звонков и израсходованных минут разговора по месяцам\n",
    "    - количество отправленных сообщений по месяцам\n",
    "    - объем израсходованного интернет-трафика по месяцам\n",
    "    - помесячную выручку с каждого пользователя"
   ]
  },
  {
   "cell_type": "code",
   "execution_count": 13,
   "metadata": {},
   "outputs": [],
   "source": [
    "internet = internet.drop('Unnamed: 0', axis=1)"
   ]
  },
  {
   "cell_type": "code",
   "execution_count": 14,
   "metadata": {},
   "outputs": [],
   "source": [
    "users['is_active'] = users['churn_date'].isna()\n",
    "users = users.drop('churn_date', axis=1)"
   ]
  },
  {
   "cell_type": "code",
   "execution_count": 15,
   "metadata": {},
   "outputs": [],
   "source": [
    "calls['month'] = calls['call_date'].dt.month\n",
    "messages['month'] = messages['message_date'].dt.month\n",
    "internet['month'] = internet['session_date'].dt.month"
   ]
  },
  {
   "cell_type": "markdown",
   "metadata": {},
   "source": [
    "Количество сделанных звонков и израсходованных минут по месяцам сохраним в переменную `calls_minutes`, сгруппировав таблицу `calls` по id пользователей и месяцу."
   ]
  },
  {
   "cell_type": "code",
   "execution_count": 16,
   "metadata": {},
   "outputs": [],
   "source": [
    "calls_minutes = (\n",
    "    calls\n",
    "    .groupby(by=['user_id', 'month'], as_index=False)\n",
    "    .agg({'duration':'sum', 'id':'count'})\n",
    "    .rename(columns={'duration':'minutes', 'id':'calls'})\n",
    ")"
   ]
  },
  {
   "cell_type": "markdown",
   "metadata": {},
   "source": [
    "Количество отправленных сообщений сохраним в переменную `messages_amount`, сгруппировав таблицу `messages` по id пользователей и месяцу."
   ]
  },
  {
   "cell_type": "code",
   "execution_count": 17,
   "metadata": {},
   "outputs": [],
   "source": [
    "messages_amount = (\n",
    "    messages\n",
    "    .groupby(['user_id', 'month'], as_index=False)\n",
    "    .agg({'id':'count'})\n",
    "    .rename(columns={'id':'messages'})\n",
    ")"
   ]
  },
  {
   "cell_type": "markdown",
   "metadata": {},
   "source": [
    "Объем использованного интернет трафика (в мегабайтах) сохраним в переменную `used_internet`, сгруппировав таблицу `internet` по id пользователей и месяцу."
   ]
  },
  {
   "cell_type": "code",
   "execution_count": 18,
   "metadata": {},
   "outputs": [],
   "source": [
    "used_internet = (\n",
    "    internet\n",
    "    .groupby(['user_id', 'month'], as_index=False)\n",
    "    .agg({'mb_used' : 'sum'})\n",
    ")"
   ]
  },
  {
   "cell_type": "markdown",
   "metadata": {},
   "source": [
    "Добавим столбец `gb_used`."
   ]
  },
  {
   "cell_type": "code",
   "execution_count": 19,
   "metadata": {},
   "outputs": [],
   "source": [
    "used_internet['gb_used'] = np.ceil(used_internet['mb_used'] / 1024).astype('int')"
   ]
  },
  {
   "cell_type": "markdown",
   "metadata": {},
   "source": [
    "Выделим в переменную `users_city_tariff` город и тариф каждого пользователя. "
   ]
  },
  {
   "cell_type": "code",
   "execution_count": 20,
   "metadata": {},
   "outputs": [],
   "source": [
    "users_city_tarif = users[['user_id', 'tariff', 'city']].copy()"
   ]
  },
  {
   "cell_type": "markdown",
   "metadata": {},
   "source": [
    "Методом *merge* соединим все таблицы в общую - `users_full_info`"
   ]
  },
  {
   "cell_type": "code",
   "execution_count": 21,
   "metadata": {},
   "outputs": [],
   "source": [
    "users_full_info = (\n",
    "    users_city_tarif\n",
    "    .merge(calls_minutes\n",
    "    .merge(messages_amount, on=['user_id', 'month'], how='outer')\n",
    "    .merge(used_internet, on=['user_id', 'month'], how='outer'), on='user_id', how='outer')\n",
    "    .dropna(subset=['month'])\n",
    ")"
   ]
  },
  {
   "cell_type": "code",
   "execution_count": 22,
   "metadata": {
    "scrolled": true
   },
   "outputs": [
    {
     "name": "stdout",
     "output_type": "stream",
     "text": [
      "<class 'pandas.core.frame.DataFrame'>\n",
      "Int64Index: 3214 entries, 0 to 3215\n",
      "Data columns (total 9 columns):\n",
      " #   Column    Non-Null Count  Dtype  \n",
      "---  ------    --------------  -----  \n",
      " 0   user_id   3214 non-null   int64  \n",
      " 1   tariff    3214 non-null   object \n",
      " 2   city      3214 non-null   object \n",
      " 3   month     3214 non-null   float64\n",
      " 4   minutes   3174 non-null   float64\n",
      " 5   calls     3174 non-null   float64\n",
      " 6   messages  2717 non-null   float64\n",
      " 7   mb_used   3203 non-null   float64\n",
      " 8   gb_used   3203 non-null   float64\n",
      "dtypes: float64(6), int64(1), object(2)\n",
      "memory usage: 251.1+ KB\n"
     ]
    }
   ],
   "source": [
    "users_full_info.info()"
   ]
  },
  {
   "cell_type": "markdown",
   "metadata": {},
   "source": [
    "После соединения таблиц в данных появились пропуски, связано это с тем, что пользователь мог к примеру совершать звонки и пользоваться интернетом, но не отправлять сообщения в определенный месяц.<br>\n",
    "Заполним пропуски в данных нулем и приведем данные в `calls`, `minutes`, `messages` и `gb_used` к типу *int*."
   ]
  },
  {
   "cell_type": "code",
   "execution_count": 23,
   "metadata": {},
   "outputs": [],
   "source": [
    "users_full_info = users_full_info.fillna(0)\n",
    "users_full_info['minutes'] = users_full_info['minutes'].astype('int')\n",
    "users_full_info['calls'] = users_full_info['calls'].astype('int')\n",
    "users_full_info['messages'] = users_full_info['messages'].astype('int')\n",
    "users_full_info['gb_used'] = users_full_info['gb_used'].astype('int')"
   ]
  },
  {
   "cell_type": "markdown",
   "metadata": {},
   "source": [
    "Для того, чтобы добавить в таблицу выручку с пользователей нужно:\n",
    "- вычесть бесплатный лимит из суммарного количества звонков, сообщений и интернет-трафика\n",
    "- остаток умножить на значение из тарифного плана\n",
    "- прибавить абонентскую плату, соответствующую тарифному плану\n",
    "\n",
    "Напишем функцию `revenue`, применим ее ко всем строкам таблицы `users_full_info`, результат сохраним в новом столбце `revenue`"
   ]
  },
  {
   "cell_type": "code",
   "execution_count": 24,
   "metadata": {},
   "outputs": [],
   "source": [
    "def revenue(row):\n",
    "    tariff = row['tariff']\n",
    "    tariff_info = tariffs[tariffs['tariff_name'] == tariff].copy().reset_index(drop=True)\n",
    "    tariff_info = tariff_info.iloc[0, :]\n",
    "    revenue = tariff_info['rub_monthly_fee']\n",
    "\n",
    "    if row['messages'] > tariff_info['messages_included']:\n",
    "        revenue += (row['messages'] \n",
    "                    - tariff_info['messages_included'])*tariff_info['rub_per_message']\n",
    "    if row['mb_used'] > tariff_info['mb_per_month_included']:\n",
    "        revenue += (\n",
    "            np.ceil(\n",
    "                (row['mb_used'] - tariff_info['mb_per_month_included'])\n",
    "                / 1024\n",
    "            )\n",
    "            * tariff_info['rub_per_gb']\n",
    "        )\n",
    "    if row['minutes'] > tariff_info['minutes_included']:\n",
    "        revenue += (row['minutes'] \n",
    "                    - tariff_info['minutes_included'])*tariff_info['rub_per_minute']\n",
    "    return revenue"
   ]
  },
  {
   "cell_type": "code",
   "execution_count": 25,
   "metadata": {},
   "outputs": [],
   "source": [
    "users_full_info['revenue'] = users_full_info.apply(revenue, axis=1)"
   ]
  },
  {
   "cell_type": "code",
   "execution_count": 26,
   "metadata": {
    "scrolled": true
   },
   "outputs": [
    {
     "data": {
      "text/html": [
       "<div>\n",
       "<style scoped>\n",
       "    .dataframe tbody tr th:only-of-type {\n",
       "        vertical-align: middle;\n",
       "    }\n",
       "\n",
       "    .dataframe tbody tr th {\n",
       "        vertical-align: top;\n",
       "    }\n",
       "\n",
       "    .dataframe thead th {\n",
       "        text-align: right;\n",
       "    }\n",
       "</style>\n",
       "<table border=\"1\" class=\"dataframe\">\n",
       "  <thead>\n",
       "    <tr style=\"text-align: right;\">\n",
       "      <th></th>\n",
       "      <th>user_id</th>\n",
       "      <th>tariff</th>\n",
       "      <th>city</th>\n",
       "      <th>month</th>\n",
       "      <th>minutes</th>\n",
       "      <th>calls</th>\n",
       "      <th>messages</th>\n",
       "      <th>mb_used</th>\n",
       "      <th>gb_used</th>\n",
       "      <th>revenue</th>\n",
       "    </tr>\n",
       "  </thead>\n",
       "  <tbody>\n",
       "    <tr>\n",
       "      <th>0</th>\n",
       "      <td>1000</td>\n",
       "      <td>ultra</td>\n",
       "      <td>Краснодар</td>\n",
       "      <td>5.0</td>\n",
       "      <td>159</td>\n",
       "      <td>22</td>\n",
       "      <td>22</td>\n",
       "      <td>2,253.5</td>\n",
       "      <td>3</td>\n",
       "      <td>1,950.0</td>\n",
       "    </tr>\n",
       "    <tr>\n",
       "      <th>1</th>\n",
       "      <td>1000</td>\n",
       "      <td>ultra</td>\n",
       "      <td>Краснодар</td>\n",
       "      <td>6.0</td>\n",
       "      <td>172</td>\n",
       "      <td>43</td>\n",
       "      <td>60</td>\n",
       "      <td>23,233.8</td>\n",
       "      <td>23</td>\n",
       "      <td>1,950.0</td>\n",
       "    </tr>\n",
       "    <tr>\n",
       "      <th>2</th>\n",
       "      <td>1000</td>\n",
       "      <td>ultra</td>\n",
       "      <td>Краснодар</td>\n",
       "      <td>7.0</td>\n",
       "      <td>340</td>\n",
       "      <td>47</td>\n",
       "      <td>75</td>\n",
       "      <td>14,003.6</td>\n",
       "      <td>14</td>\n",
       "      <td>1,950.0</td>\n",
       "    </tr>\n",
       "    <tr>\n",
       "      <th>3</th>\n",
       "      <td>1000</td>\n",
       "      <td>ultra</td>\n",
       "      <td>Краснодар</td>\n",
       "      <td>8.0</td>\n",
       "      <td>408</td>\n",
       "      <td>52</td>\n",
       "      <td>81</td>\n",
       "      <td>14,055.9</td>\n",
       "      <td>14</td>\n",
       "      <td>1,950.0</td>\n",
       "    </tr>\n",
       "    <tr>\n",
       "      <th>4</th>\n",
       "      <td>1000</td>\n",
       "      <td>ultra</td>\n",
       "      <td>Краснодар</td>\n",
       "      <td>9.0</td>\n",
       "      <td>466</td>\n",
       "      <td>58</td>\n",
       "      <td>57</td>\n",
       "      <td>14,568.9</td>\n",
       "      <td>15</td>\n",
       "      <td>1,950.0</td>\n",
       "    </tr>\n",
       "  </tbody>\n",
       "</table>\n",
       "</div>"
      ],
      "text/plain": [
       "   user_id tariff       city  month  minutes  calls  messages  mb_used  \\\n",
       "0     1000  ultra  Краснодар    5.0      159     22        22  2,253.5   \n",
       "1     1000  ultra  Краснодар    6.0      172     43        60 23,233.8   \n",
       "2     1000  ultra  Краснодар    7.0      340     47        75 14,003.6   \n",
       "3     1000  ultra  Краснодар    8.0      408     52        81 14,055.9   \n",
       "4     1000  ultra  Краснодар    9.0      466     58        57 14,568.9   \n",
       "\n",
       "   gb_used  revenue  \n",
       "0        3  1,950.0  \n",
       "1       23  1,950.0  \n",
       "2       14  1,950.0  \n",
       "3       14  1,950.0  \n",
       "4       15  1,950.0  "
      ]
     },
     "execution_count": 26,
     "metadata": {},
     "output_type": "execute_result"
    }
   ],
   "source": [
    "users_full_info.head()"
   ]
  },
  {
   "cell_type": "markdown",
   "metadata": {},
   "source": [
    "### Вывод"
   ]
  },
  {
   "cell_type": "markdown",
   "metadata": {},
   "source": [
    "На этапе предобработки мы привели данные к нужным типам, а также преобразовали данные, сформировав одну общую таблицу `users_full_info`."
   ]
  },
  {
   "cell_type": "markdown",
   "metadata": {},
   "source": [
    "## Анализ данных"
   ]
  },
  {
   "cell_type": "markdown",
   "metadata": {},
   "source": [
    "Опишем поведение клиентов оператора, исходя из выборки.<br>\n",
    "- Сколько минут разговора, сколько сообщений и какой объём интернет-трафика требуется пользователям каждого тарифа в месяц?<br>"
   ]
  },
  {
   "cell_type": "code",
   "execution_count": 27,
   "metadata": {},
   "outputs": [],
   "source": [
    "tariffs['gb_per_month_included'] = (tariffs['mb_per_month_included']/1024).astype('int')"
   ]
  },
  {
   "cell_type": "markdown",
   "metadata": {},
   "source": [
    "Построим сводные таблицы, отображающие максимальное, среднее и медианное количество отправленных сообщений, израсходованных минут разговора и интернет трафика (в гигабайтах) по каждому тарифу и сравним с лимитом по тарифу."
   ]
  },
  {
   "cell_type": "markdown",
   "metadata": {},
   "source": [
    "### Минуты разговора"
   ]
  },
  {
   "cell_type": "code",
   "execution_count": 28,
   "metadata": {
    "scrolled": true
   },
   "outputs": [
    {
     "data": {
      "text/html": [
       "<div>\n",
       "<style scoped>\n",
       "    .dataframe tbody tr th:only-of-type {\n",
       "        vertical-align: middle;\n",
       "    }\n",
       "\n",
       "    .dataframe tbody tr th {\n",
       "        vertical-align: top;\n",
       "    }\n",
       "\n",
       "    .dataframe thead tr th {\n",
       "        text-align: left;\n",
       "    }\n",
       "</style>\n",
       "<table border=\"1\" class=\"dataframe\">\n",
       "  <thead>\n",
       "    <tr>\n",
       "      <th></th>\n",
       "      <th colspan=\"2\" halign=\"left\">max</th>\n",
       "      <th colspan=\"2\" halign=\"left\">mean</th>\n",
       "      <th colspan=\"2\" halign=\"left\">median</th>\n",
       "      <th colspan=\"2\" halign=\"left\">std</th>\n",
       "    </tr>\n",
       "    <tr>\n",
       "      <th>tariff</th>\n",
       "      <th>smart</th>\n",
       "      <th>ultra</th>\n",
       "      <th>smart</th>\n",
       "      <th>ultra</th>\n",
       "      <th>smart</th>\n",
       "      <th>ultra</th>\n",
       "      <th>smart</th>\n",
       "      <th>ultra</th>\n",
       "    </tr>\n",
       "  </thead>\n",
       "  <tbody>\n",
       "    <tr>\n",
       "      <th>minutes</th>\n",
       "      <td>1435</td>\n",
       "      <td>1673</td>\n",
       "      <td>417.9</td>\n",
       "      <td>526.6</td>\n",
       "      <td>422</td>\n",
       "      <td>518</td>\n",
       "      <td>190.3</td>\n",
       "      <td>317.6</td>\n",
       "    </tr>\n",
       "    <tr>\n",
       "      <th>minutes_included</th>\n",
       "      <td>500</td>\n",
       "      <td>3000</td>\n",
       "      <td>500.0</td>\n",
       "      <td>3,000.0</td>\n",
       "      <td>500</td>\n",
       "      <td>3000</td>\n",
       "      <td>0.0</td>\n",
       "      <td>0.0</td>\n",
       "    </tr>\n",
       "  </tbody>\n",
       "</table>\n",
       "</div>"
      ],
      "text/plain": [
       "                   max        mean         median         std      \n",
       "tariff           smart ultra smart   ultra  smart ultra smart ultra\n",
       "minutes           1435  1673 417.9   526.6    422   518 190.3 317.6\n",
       "minutes_included   500  3000 500.0 3,000.0    500  3000   0.0   0.0"
      ]
     },
     "execution_count": 28,
     "metadata": {},
     "output_type": "execute_result"
    }
   ],
   "source": [
    "(\n",
    "    users_full_info.merge(tariffs, left_on='tariff', right_on='tariff_name')\n",
    "    .pivot_table(\n",
    "        columns='tariff',\n",
    "        values=['minutes', \n",
    "                'minutes_included'],\n",
    "        aggfunc=['max', 'mean', 'median', 'std']\n",
    "    )\n",
    ")"
   ]
  },
  {
   "cell_type": "markdown",
   "metadata": {},
   "source": [
    "Из таблицы видно, что:\n",
    "- Пользователи тарифа **smart** в среднем разговаривают по телефону меньше, чем пользователи тарифа **ultra**\n",
    "- В среднем пользователям достаточно включенных в тариф минут\n",
    "- Максимальное количество минут пользователей тарифа **ultra** меньше, чем включенное число минут в тариф почти в 2 раза, то есть пользователям с избытком хватает минут включенных в тариф, в то время как максимальное количество минут пользователей тарифа **smart** превосходит лимит почти в три раза.\n"
   ]
  },
  {
   "cell_type": "markdown",
   "metadata": {},
   "source": [
    "Построим гистограммы распределния количества минут разговора для пользователей двух тарифов"
   ]
  },
  {
   "cell_type": "code",
   "execution_count": 29,
   "metadata": {
    "scrolled": true
   },
   "outputs": [
    {
     "data": {
      "image/png": "[encoded data removed]",
      "text/plain": [
       "<Figure size 864x360 with 2 Axes>"
      ]
     },
     "metadata": {
      "needs_background": "light"
     },
     "output_type": "display_data"
    }
   ],
   "source": [
    "fig, axes = plt.subplots(1, 2, figsize=(12, 5))\n",
    "\n",
    "sns.distplot(users_full_info.query('tariff==\"smart\"')['minutes'], ax=axes[0]);\n",
    "axes[0].set_title('Smart')\n",
    "sns.distplot(users_full_info.query('tariff==\"ultra\"')['minutes'], ax=axes[1]);\n",
    "axes[1].set_title('Ultra')\n",
    "plt.show()"
   ]
  },
  {
   "cell_type": "markdown",
   "metadata": {},
   "source": [
    "Распределения использования минут разговова двух тарифов похоже на нормальное"
   ]
  },
  {
   "cell_type": "markdown",
   "metadata": {},
   "source": [
    "### Интернет трафик"
   ]
  },
  {
   "cell_type": "code",
   "execution_count": 30,
   "metadata": {},
   "outputs": [
    {
     "data": {
      "text/html": [
       "<div>\n",
       "<style scoped>\n",
       "    .dataframe tbody tr th:only-of-type {\n",
       "        vertical-align: middle;\n",
       "    }\n",
       "\n",
       "    .dataframe tbody tr th {\n",
       "        vertical-align: top;\n",
       "    }\n",
       "\n",
       "    .dataframe thead tr th {\n",
       "        text-align: left;\n",
       "    }\n",
       "</style>\n",
       "<table border=\"1\" class=\"dataframe\">\n",
       "  <thead>\n",
       "    <tr>\n",
       "      <th></th>\n",
       "      <th colspan=\"2\" halign=\"left\">max</th>\n",
       "      <th colspan=\"2\" halign=\"left\">mean</th>\n",
       "      <th colspan=\"2\" halign=\"left\">median</th>\n",
       "      <th colspan=\"2\" halign=\"left\">std</th>\n",
       "    </tr>\n",
       "    <tr>\n",
       "      <th>tariff</th>\n",
       "      <th>smart</th>\n",
       "      <th>ultra</th>\n",
       "      <th>smart</th>\n",
       "      <th>ultra</th>\n",
       "      <th>smart</th>\n",
       "      <th>ultra</th>\n",
       "      <th>smart</th>\n",
       "      <th>ultra</th>\n",
       "    </tr>\n",
       "  </thead>\n",
       "  <tbody>\n",
       "    <tr>\n",
       "      <th>gb_per_month_included</th>\n",
       "      <td>15</td>\n",
       "      <td>30</td>\n",
       "      <td>15.0</td>\n",
       "      <td>30.0</td>\n",
       "      <td>15</td>\n",
       "      <td>30</td>\n",
       "      <td>0.0</td>\n",
       "      <td>0.0</td>\n",
       "    </tr>\n",
       "    <tr>\n",
       "      <th>gb_used</th>\n",
       "      <td>38</td>\n",
       "      <td>49</td>\n",
       "      <td>16.3</td>\n",
       "      <td>19.5</td>\n",
       "      <td>17</td>\n",
       "      <td>19</td>\n",
       "      <td>5.7</td>\n",
       "      <td>9.9</td>\n",
       "    </tr>\n",
       "  </tbody>\n",
       "</table>\n",
       "</div>"
      ],
      "text/plain": [
       "                        max        mean       median         std      \n",
       "tariff                smart ultra smart ultra  smart ultra smart ultra\n",
       "gb_per_month_included    15    30  15.0  30.0     15    30   0.0   0.0\n",
       "gb_used                  38    49  16.3  19.5     17    19   5.7   9.9"
      ]
     },
     "execution_count": 30,
     "metadata": {},
     "output_type": "execute_result"
    }
   ],
   "source": [
    "(\n",
    "    users_full_info.merge(tariffs, left_on='tariff', right_on='tariff_name')\n",
    "    .pivot_table(\n",
    "        columns='tariff',\n",
    "        values=['gb_used', \n",
    "                'gb_per_month_included'],\n",
    "        aggfunc=['max', 'mean', 'median', 'std']\n",
    "    )\n",
    ")"
   ]
  },
  {
   "cell_type": "markdown",
   "metadata": {},
   "source": [
    "Из таблицы видно, что:\n",
    "- В среднем пользователям тарифа **ultra** требуется больший объем интернет трафика\n",
    "- В среднем пользователи тарифа **ultra** использут в 1.5 раза меньше трафика, чем им предоставляется тарифом, в то время как пользователи тарифа **smart** превышают лимит на 1.5-2 гигабайта\n",
    "- Максимальный объем интернет трафика пользователей тарифа **ultra** превышает лимит в 1.5 раза, в то время как у пользователей тарифа **smart** превышение в 2.5 раза"
   ]
  },
  {
   "cell_type": "code",
   "execution_count": 31,
   "metadata": {
    "scrolled": true
   },
   "outputs": [
    {
     "data": {
      "image/png": "[encoded data removed]",
      "text/plain": [
       "<Figure size 864x360 with 2 Axes>"
      ]
     },
     "metadata": {
      "needs_background": "light"
     },
     "output_type": "display_data"
    }
   ],
   "source": [
    "fig, axes = plt.subplots(1, 2, figsize=(12, 5))\n",
    "\n",
    "sns.distplot(users_full_info.query('tariff==\"smart\"')['gb_used'], ax=axes[0]);\n",
    "axes[0].set_title('Smart')\n",
    "sns.distplot(users_full_info.query('tariff==\"ultra\"')['gb_used'], ax=axes[1]);\n",
    "axes[1].set_title('Ultra')\n",
    "plt.show()"
   ]
  },
  {
   "cell_type": "markdown",
   "metadata": {},
   "source": [
    "Распределение использования трафика так же напоминает нормальное распределение"
   ]
  },
  {
   "cell_type": "markdown",
   "metadata": {},
   "source": [
    "### Сообщения"
   ]
  },
  {
   "cell_type": "code",
   "execution_count": 32,
   "metadata": {},
   "outputs": [
    {
     "data": {
      "text/html": [
       "<div>\n",
       "<style scoped>\n",
       "    .dataframe tbody tr th:only-of-type {\n",
       "        vertical-align: middle;\n",
       "    }\n",
       "\n",
       "    .dataframe tbody tr th {\n",
       "        vertical-align: top;\n",
       "    }\n",
       "\n",
       "    .dataframe thead tr th {\n",
       "        text-align: left;\n",
       "    }\n",
       "</style>\n",
       "<table border=\"1\" class=\"dataframe\">\n",
       "  <thead>\n",
       "    <tr>\n",
       "      <th></th>\n",
       "      <th colspan=\"2\" halign=\"left\">max</th>\n",
       "      <th colspan=\"2\" halign=\"left\">mean</th>\n",
       "      <th colspan=\"2\" halign=\"left\">median</th>\n",
       "      <th colspan=\"2\" halign=\"left\">std</th>\n",
       "    </tr>\n",
       "    <tr>\n",
       "      <th>tariff</th>\n",
       "      <th>smart</th>\n",
       "      <th>ultra</th>\n",
       "      <th>smart</th>\n",
       "      <th>ultra</th>\n",
       "      <th>smart</th>\n",
       "      <th>ultra</th>\n",
       "      <th>smart</th>\n",
       "      <th>ultra</th>\n",
       "    </tr>\n",
       "  </thead>\n",
       "  <tbody>\n",
       "    <tr>\n",
       "      <th>messages</th>\n",
       "      <td>143</td>\n",
       "      <td>224</td>\n",
       "      <td>33.4</td>\n",
       "      <td>49.4</td>\n",
       "      <td>28</td>\n",
       "      <td>38</td>\n",
       "      <td>28.2</td>\n",
       "      <td>47.8</td>\n",
       "    </tr>\n",
       "    <tr>\n",
       "      <th>messages_included</th>\n",
       "      <td>50</td>\n",
       "      <td>1000</td>\n",
       "      <td>50.0</td>\n",
       "      <td>1,000.0</td>\n",
       "      <td>50</td>\n",
       "      <td>1000</td>\n",
       "      <td>0.0</td>\n",
       "      <td>0.0</td>\n",
       "    </tr>\n",
       "  </tbody>\n",
       "</table>\n",
       "</div>"
      ],
      "text/plain": [
       "                    max        mean         median         std      \n",
       "tariff            smart ultra smart   ultra  smart ultra smart ultra\n",
       "messages            143   224  33.4    49.4     28    38  28.2  47.8\n",
       "messages_included    50  1000  50.0 1,000.0     50  1000   0.0   0.0"
      ]
     },
     "execution_count": 32,
     "metadata": {},
     "output_type": "execute_result"
    }
   ],
   "source": [
    "(\n",
    "    users_full_info.merge(tariffs, left_on='tariff', right_on='tariff_name')\n",
    "    .pivot_table(\n",
    "        columns='tariff',\n",
    "        values=['messages', \n",
    "                'messages_included'],\n",
    "        aggfunc=['max', 'mean', 'median', 'std']\n",
    "    )\n",
    ")"
   ]
  },
  {
   "cell_type": "markdown",
   "metadata": {},
   "source": [
    "Из таблицы видно, что:\n",
    "- В среднем пользователям обоих тарифов хватает включенного количества сообщений\n",
    "- По максимальному числу смс пользователи тарифа **smart** превысили лимит почти в 3 раза"
   ]
  },
  {
   "cell_type": "code",
   "execution_count": 33,
   "metadata": {
    "scrolled": true
   },
   "outputs": [
    {
     "data": {
      "image/png": "[encoded data removed]",
      "text/plain": [
       "<Figure size 864x360 with 2 Axes>"
      ]
     },
     "metadata": {
      "needs_background": "light"
     },
     "output_type": "display_data"
    }
   ],
   "source": [
    "fig, axes = plt.subplots(1, 2, figsize=(12, 5))\n",
    "\n",
    "sns.distplot(users_full_info.query('tariff==\"smart\"')['messages'], ax=axes[0]);\n",
    "axes[0].set_title('Smart')\n",
    "sns.distplot(users_full_info.query('tariff==\"ultra\"')['messages'], ax=axes[1]);\n",
    "axes[1].set_title('Ultra')\n",
    "plt.show()"
   ]
  },
  {
   "cell_type": "markdown",
   "metadata": {},
   "source": [
    "Распределение количества отправленных смс напоминает распределение Пуассона. Пик значений приходится на 0. Во время популярности мессенджеров люди перестали отправлять друг другу смс.\n"
   ]
  },
  {
   "cell_type": "markdown",
   "metadata": {},
   "source": [
    "### Вывод"
   ]
  },
  {
   "cell_type": "markdown",
   "metadata": {},
   "source": [
    "На этапе анализа данных мы выяснили, что:\n",
    "- Пользователям тарифа Ультра в среднем требуется больше минут разговора и интернет-трафика\n",
    "- В то время как пользователям тарифа Ультра достаточно включенных в тариф минут и трафика, пользователи тарифа Смарт превышают лимит\n",
    "- Пользователи двух тарифов практически не отправляют сообщений. Распределение отправленных смс - распределение Пуассона, пик значений приходится на 0."
   ]
  },
  {
   "cell_type": "markdown",
   "metadata": {},
   "source": [
    "## Проверка гипотез"
   ]
  },
  {
   "cell_type": "markdown",
   "metadata": {},
   "source": [
    "- средняя выручка пользователей тарифов «Ультра» и «Смарт» различаются;\n",
    "- средняя выручка пользователей из Москвы отличается от выручки пользователей из других регионов."
   ]
  },
  {
   "cell_type": "markdown",
   "metadata": {},
   "source": [
    "### Сравнение выручки двух тарифов"
   ]
  },
  {
   "cell_type": "code",
   "execution_count": 34,
   "metadata": {},
   "outputs": [],
   "source": [
    "smart = users_full_info.query('tariff==\"smart\"').copy().reset_index(drop=True)\n",
    "ultra = users_full_info.query('tariff==\"ultra\"').copy().reset_index(drop=True)"
   ]
  },
  {
   "cell_type": "markdown",
   "metadata": {},
   "source": [
    "#### Двусторонняя проверка: Средние выручки тарифов Ультра и Смарт одинаковы"
   ]
  },
  {
   "cell_type": "markdown",
   "metadata": {},
   "source": [
    "Сформулируем основную и альтернативную гипотезы:"
   ]
  },
  {
   "cell_type": "markdown",
   "metadata": {},
   "source": [
    "$\\begin{equation*}\n",
    " \\begin{cases}\n",
    "   H_0 :\\text{средние выручки тарифов равны.}\\\\\n",
    "   H_1 :\\text{средние выручки тарифов не равны.}\n",
    " \\end{cases}\n",
    "\\end{equation*}$\n",
    "\n",
    "Уровень значимости: $\\alpha = 0.05$\n",
    "\n",
    "Вычислим p-value. Если p-value будет меньше установленного уровня значимости, то нулевую гипотезу о равенстве средних отвергнем. Иначе сделаем вывод, что данные не позволяют нам отвергнуть нулевую гипотезу"
   ]
  },
  {
   "cell_type": "markdown",
   "metadata": {},
   "source": [
    "Чтобы определить какой тест нам использовать проверим нормальность распределений."
   ]
  },
  {
   "cell_type": "code",
   "execution_count": 35,
   "metadata": {
    "scrolled": true
   },
   "outputs": [
    {
     "data": {
      "image/png": "[encoded data removed]",
      "text/plain": [
       "<Figure size 864x360 with 2 Axes>"
      ]
     },
     "metadata": {
      "needs_background": "light"
     },
     "output_type": "display_data"
    }
   ],
   "source": [
    "fig, axes = plt.subplots(1, 2, figsize=(12, 5))\n",
    "\n",
    "st.probplot(smart['revenue'], dist=\"norm\", plot=axes[0])\n",
    "axes[0].set_title('Smart')\n",
    "st.probplot(ultra['revenue'], dist=\"norm\", plot=axes[1])\n",
    "axes[1].set_title('Ultra')\n",
    "plt.show()"
   ]
  },
  {
   "cell_type": "markdown",
   "metadata": {},
   "source": [
    "Выручки двух тарифов имеют распределение отличное от нормального."
   ]
  },
  {
   "cell_type": "markdown",
   "metadata": {},
   "source": [
    "Для проверки гипотезы воспользуемся непараметрическим тестом Манна-Уитни"
   ]
  },
  {
   "cell_type": "code",
   "execution_count": 36,
   "metadata": {},
   "outputs": [
    {
     "name": "stdout",
     "output_type": "stream",
     "text": [
      "p-значение:  1.9803845594554806e-187\n",
      "Отвергаем нулевую гипотезу\n"
     ]
    }
   ],
   "source": [
    "alpha = 0.05\n",
    "results = st.mannwhitneyu(smart['revenue'], ultra['revenue'], alternative='two-sided')\n",
    "print('p-значение: ', results.pvalue)\n",
    "\n",
    "if (results.pvalue < alpha):\n",
    "    print(\"Отвергаем нулевую гипотезу\")\n",
    "else:\n",
    "    print(\"Не получилось отвергнуть нулевую гипотезу\")"
   ]
  },
  {
   "cell_type": "markdown",
   "metadata": {},
   "source": [
    "Мы отвергаем нулевую гипотезу в пользу альтернативной, которая говорит о том, что средние выручки тарифов не равны. Чтобы проверить какая выручка больше воспользуемся односторонней проверкой."
   ]
  },
  {
   "cell_type": "markdown",
   "metadata": {},
   "source": [
    "#### Односторонняя проверка: Средняя выручка тарифа Ультра больше средней выручки тарифа  Смарт"
   ]
  },
  {
   "cell_type": "markdown",
   "metadata": {},
   "source": [
    "$\\begin{equation*}\n",
    " \\begin{cases}\n",
    "   H_0 :\\text{средние выручки тарифов равны.}\\\\\n",
    "   H_1 :\\text{средняя выручка тарифа Смарт меньше.}\n",
    " \\end{cases}\n",
    "\\end{equation*}$"
   ]
  },
  {
   "cell_type": "code",
   "execution_count": 37,
   "metadata": {},
   "outputs": [
    {
     "name": "stdout",
     "output_type": "stream",
     "text": [
      "p-значение:  9.901922797277403e-188\n",
      "Отвергаем нулевую гипотезу\n"
     ]
    }
   ],
   "source": [
    "alpha = 0.05\n",
    "results = st.mannwhitneyu(smart['revenue'], ultra['revenue'], alternative='less')\n",
    "print('p-значение: ', results.pvalue)\n",
    "\n",
    "if (results.pvalue < alpha):\n",
    "    print(\"Отвергаем нулевую гипотезу\")\n",
    "else:\n",
    "    print(\"Не получилось отвергнуть нулевую гипотезу\")"
   ]
  },
  {
   "cell_type": "markdown",
   "metadata": {},
   "source": [
    "Отвергаем нулевую гипотезу в пользу альтернативной, которая говорит о том, что средняя выручка тарифа **smart** меньше средней выручки тарифа **ultra**."
   ]
  },
  {
   "cell_type": "markdown",
   "metadata": {},
   "source": [
    "### Сравнение выручки пользователей из Москвы и других городов"
   ]
  },
  {
   "cell_type": "code",
   "execution_count": 38,
   "metadata": {},
   "outputs": [],
   "source": [
    "users_moscow = users_full_info.query('city==\"Москва\"').copy().reset_index(drop=True)\n",
    "users_other = users_full_info.query('city!=\"Москва\"').copy().reset_index(drop=True)"
   ]
  },
  {
   "cell_type": "markdown",
   "metadata": {},
   "source": [
    "#### Двусторонняя проверка: Средние выручки пользователей из Москвы и других городов равны."
   ]
  },
  {
   "cell_type": "markdown",
   "metadata": {},
   "source": [
    "$\\begin{equation*}\n",
    " \\begin{cases}\n",
    "   H_0 :\\text{средние выручки пользователей из Москвы и других городов равны.}\\\\\n",
    "   H_1 :\\text{средние выручки пользователей не равны.}\n",
    " \\end{cases}\n",
    "\\end{equation*}$\n",
    "\n",
    "Уровень значимости: $\\alpha = 0.05$\n",
    "\n",
    "Вычислим p-value. Если p-value будет меньше установленного уровня значимости, то нулевую гипотезу о равенстве средних отвергнем. Иначе сделаем вывод, что данные не позволяют нам отвергнуть нулевую гипотезу"
   ]
  },
  {
   "cell_type": "markdown",
   "metadata": {},
   "source": [
    "Проверим распределения выручек на нормальность."
   ]
  },
  {
   "cell_type": "code",
   "execution_count": 39,
   "metadata": {
    "scrolled": true
   },
   "outputs": [
    {
     "data": {
      "image/png": "[encoded data removed]",
      "text/plain": [
       "<Figure size 864x576 with 2 Axes>"
      ]
     },
     "metadata": {
      "needs_background": "light"
     },
     "output_type": "display_data"
    }
   ],
   "source": [
    "plt.figure(figsize=(12,8))\n",
    "plt.subplot(2,2,1)\n",
    "st.probplot(users_moscow['revenue'], dist=\"norm\", plot=plt)\n",
    "plt.subplot(2,2,2)\n",
    "st.probplot(users_other['revenue'], dist=\"norm\", plot=plt)\n",
    "plt.show()"
   ]
  },
  {
   "cell_type": "markdown",
   "metadata": {},
   "source": [
    "Распределения выручек далеки от нормальных."
   ]
  },
  {
   "cell_type": "markdown",
   "metadata": {},
   "source": [
    "Воспользуемся непараметрическим тестом Манна-Уитни."
   ]
  },
  {
   "cell_type": "code",
   "execution_count": 40,
   "metadata": {},
   "outputs": [
    {
     "name": "stdout",
     "output_type": "stream",
     "text": [
      "p-значение:  0.3742339491036599\n",
      "Не получилось отвергнуть нулевую гипотезу\n"
     ]
    }
   ],
   "source": [
    "alpha=0.05\n",
    "results = st.mannwhitneyu(users_moscow['revenue'], users_other['revenue'], alternative='two-sided')\n",
    "print('p-значение: ', results.pvalue)\n",
    "\n",
    "if (results.pvalue < alpha):\n",
    "    print(\"Отвергаем нулевую гипотезу\")\n",
    "else:\n",
    "    print(\"Не получилось отвергнуть нулевую гипотезу\")"
   ]
  },
  {
   "cell_type": "markdown",
   "metadata": {},
   "source": [
    "p-value больше указанного уровня значимости. Предоставленные данные не позволяют отвергнуть нулевую гипотезу. Средние выручки равны."
   ]
  },
  {
   "cell_type": "markdown",
   "metadata": {},
   "source": [
    "### Вывод"
   ]
  },
  {
   "cell_type": "markdown",
   "metadata": {},
   "source": [
    "На имеющихся данных в результате проверки гипотез, делаем следующий вывод:\n",
    "- Средние выручки двух тарифов не равны. Односторонняя проверка выявила, что средняя выручка тарифа Ультра больше средней выручки тарифа Смарт.\n",
    "- Средняя выручка пользователей из Москвы и других городов равны."
   ]
  },
  {
   "cell_type": "markdown",
   "metadata": {},
   "source": [
    "## Общий вывод"
   ]
  },
  {
   "cell_type": "markdown",
   "metadata": {},
   "source": [
    "1. На этапе анализа данных мы выяснили, что:\n",
    "    - Пользователям тарифа Ультра в среднем требуется больше минут разговора и интернет-трафика\n",
    "    - В то время как пользователям тарифа Ультра достаточно включенных в тариф минут и трафика, пользователи тарифа Смарт превышают лимит\n",
    "    - Пользователи двух тарифов практически не отправляют сообщений. Распределение отправленных смс - распределение Пуассона, пик значений приходится на 0.\n",
    "2. На имеющихся данных в результате проверки гипотез:\n",
    "    - Средние выручки двух тарифов не равны. Односторонняя проверка выявила, что средняя выручка тарифа Ультра больше средней выручки тарифа Смарт.\n",
    "    - Средняя выручка пользователей из Москвы и других городов равны.\n",
    "    \n",
    "Исходя из выводов сделанных на предыдущих шагах, сделаю общий вывод о том, что тариф Ультра лучше."
   ]
  },
  {
   "cell_type": "code",
   "execution_count": null,
   "metadata": {},
   "outputs": [],
   "source": []
  }
 ],
 "metadata": {
  "ExecuteTimeLog": [
   {
    "duration": 1392,
    "start_time": "2022-01-30T06:52:14.246Z"
   },
   {
    "duration": 868,
    "start_time": "2022-01-30T07:02:50.391Z"
   },
   {
    "duration": 493,
    "start_time": "2022-01-30T07:02:58.566Z"
   },
   {
    "duration": 38,
    "start_time": "2022-01-30T07:03:09.051Z"
   },
   {
    "duration": 22,
    "start_time": "2022-01-30T07:03:30.457Z"
   },
   {
    "duration": 27,
    "start_time": "2022-01-30T07:04:00.471Z"
   },
   {
    "duration": 40,
    "start_time": "2022-01-30T07:04:21.154Z"
   },
   {
    "duration": 43,
    "start_time": "2022-01-30T07:04:26.604Z"
   },
   {
    "duration": 26,
    "start_time": "2022-01-30T07:04:36.173Z"
   },
   {
    "duration": 22,
    "start_time": "2022-01-30T07:04:41.894Z"
   },
   {
    "duration": 18,
    "start_time": "2022-01-30T07:04:53.981Z"
   },
   {
    "duration": 10,
    "start_time": "2022-01-30T07:05:06.395Z"
   },
   {
    "duration": 11,
    "start_time": "2022-01-30T07:05:19.288Z"
   },
   {
    "duration": 7,
    "start_time": "2022-01-30T07:06:05.153Z"
   },
   {
    "duration": 97,
    "start_time": "2022-01-30T07:28:15.845Z"
   },
   {
    "duration": 93,
    "start_time": "2022-01-30T07:28:40.930Z"
   },
   {
    "duration": 7,
    "start_time": "2022-01-30T07:29:05.356Z"
   },
   {
    "duration": 6,
    "start_time": "2022-01-30T07:29:31.533Z"
   },
   {
    "duration": 8,
    "start_time": "2022-01-30T07:30:02.272Z"
   },
   {
    "duration": 7,
    "start_time": "2022-01-30T07:30:58.124Z"
   },
   {
    "duration": 10,
    "start_time": "2022-01-30T07:31:32.166Z"
   },
   {
    "duration": 8,
    "start_time": "2022-01-30T07:32:11.297Z"
   },
   {
    "duration": 12,
    "start_time": "2022-01-30T07:34:57.723Z"
   },
   {
    "duration": 89,
    "start_time": "2022-01-30T07:37:38.614Z"
   },
   {
    "duration": 7,
    "start_time": "2022-01-30T07:40:06.646Z"
   },
   {
    "duration": 9,
    "start_time": "2022-01-30T07:40:27.388Z"
   },
   {
    "duration": 1464,
    "start_time": "2022-01-30T11:05:14.418Z"
   },
   {
    "duration": 484,
    "start_time": "2022-01-30T11:05:15.885Z"
   },
   {
    "duration": 45,
    "start_time": "2022-01-30T11:05:16.372Z"
   },
   {
    "duration": 34,
    "start_time": "2022-01-30T11:05:16.421Z"
   },
   {
    "duration": 20,
    "start_time": "2022-01-30T11:05:16.457Z"
   },
   {
    "duration": 11,
    "start_time": "2022-01-30T11:05:16.479Z"
   },
   {
    "duration": 36,
    "start_time": "2022-01-30T11:05:16.493Z"
   },
   {
    "duration": 8,
    "start_time": "2022-01-30T11:05:16.532Z"
   },
   {
    "duration": 7,
    "start_time": "2022-01-30T11:05:16.543Z"
   },
   {
    "duration": 11,
    "start_time": "2022-01-30T11:05:16.553Z"
   },
   {
    "duration": 130,
    "start_time": "2022-01-30T11:05:16.567Z"
   },
   {
    "duration": 7,
    "start_time": "2022-01-30T11:05:16.699Z"
   },
   {
    "duration": 7,
    "start_time": "2022-01-30T11:09:07.212Z"
   },
   {
    "duration": 70,
    "start_time": "2022-01-30T11:11:01.001Z"
   },
   {
    "duration": 19,
    "start_time": "2022-01-30T11:11:10.568Z"
   },
   {
    "duration": 17,
    "start_time": "2022-01-30T11:12:00.951Z"
   },
   {
    "duration": 9,
    "start_time": "2022-01-30T11:12:25.025Z"
   },
   {
    "duration": 19,
    "start_time": "2022-01-30T11:13:03.719Z"
   },
   {
    "duration": 45,
    "start_time": "2022-01-30T11:15:22.032Z"
   },
   {
    "duration": 21,
    "start_time": "2022-01-30T11:15:28.033Z"
   },
   {
    "duration": 31,
    "start_time": "2022-01-30T11:16:17.695Z"
   },
   {
    "duration": 13,
    "start_time": "2022-01-30T11:16:18.413Z"
   },
   {
    "duration": 33,
    "start_time": "2022-01-30T11:16:59.192Z"
   },
   {
    "duration": 12,
    "start_time": "2022-01-30T11:16:59.692Z"
   },
   {
    "duration": 32,
    "start_time": "2022-01-30T11:21:46.560Z"
   },
   {
    "duration": 6,
    "start_time": "2022-01-30T11:21:56.466Z"
   },
   {
    "duration": 30,
    "start_time": "2022-01-30T11:22:50.019Z"
   },
   {
    "duration": 12,
    "start_time": "2022-01-30T11:22:54.602Z"
   },
   {
    "duration": 6,
    "start_time": "2022-01-30T11:23:34.823Z"
   },
   {
    "duration": 17,
    "start_time": "2022-01-30T11:24:29.011Z"
   },
   {
    "duration": 21,
    "start_time": "2022-01-30T11:24:35.826Z"
   },
   {
    "duration": 14,
    "start_time": "2022-01-30T11:24:42.082Z"
   },
   {
    "duration": 15,
    "start_time": "2022-01-30T11:30:07.933Z"
   },
   {
    "duration": 18,
    "start_time": "2022-01-30T11:30:08.575Z"
   },
   {
    "duration": 28,
    "start_time": "2022-01-30T11:38:33.335Z"
   },
   {
    "duration": 22,
    "start_time": "2022-01-30T11:38:44.593Z"
   },
   {
    "duration": 5,
    "start_time": "2022-01-30T11:42:06.701Z"
   },
   {
    "duration": 16,
    "start_time": "2022-01-30T11:42:28.000Z"
   },
   {
    "duration": 16,
    "start_time": "2022-01-30T11:42:43.027Z"
   },
   {
    "duration": 21,
    "start_time": "2022-01-30T11:45:01.585Z"
   },
   {
    "duration": 21,
    "start_time": "2022-01-30T11:45:06.633Z"
   },
   {
    "duration": 12,
    "start_time": "2022-01-30T11:45:35.008Z"
   },
   {
    "duration": 22,
    "start_time": "2022-01-30T11:47:01.112Z"
   },
   {
    "duration": 9,
    "start_time": "2022-01-30T11:47:01.790Z"
   },
   {
    "duration": 13,
    "start_time": "2022-01-30T11:47:22.028Z"
   },
   {
    "duration": 11,
    "start_time": "2022-01-30T11:50:18.534Z"
   },
   {
    "duration": 7,
    "start_time": "2022-01-30T11:50:51.243Z"
   },
   {
    "duration": 19,
    "start_time": "2022-01-30T11:52:00.427Z"
   },
   {
    "duration": 7,
    "start_time": "2022-01-30T11:52:01.746Z"
   },
   {
    "duration": 432,
    "start_time": "2022-01-30T11:54:54.632Z"
   },
   {
    "duration": 24,
    "start_time": "2022-01-30T11:55:07.297Z"
   },
   {
    "duration": 22,
    "start_time": "2022-01-30T11:55:15.803Z"
   },
   {
    "duration": 11,
    "start_time": "2022-01-30T11:55:36.897Z"
   },
   {
    "duration": 24,
    "start_time": "2022-01-30T11:56:19.066Z"
   },
   {
    "duration": 9,
    "start_time": "2022-01-30T11:56:19.827Z"
   },
   {
    "duration": 20,
    "start_time": "2022-01-30T11:57:09.350Z"
   },
   {
    "duration": 11,
    "start_time": "2022-01-30T12:10:05.754Z"
   },
   {
    "duration": 5,
    "start_time": "2022-01-30T12:14:55.216Z"
   },
   {
    "duration": 12,
    "start_time": "2022-01-30T12:16:47.427Z"
   },
   {
    "duration": 38,
    "start_time": "2022-01-30T12:16:55.323Z"
   },
   {
    "duration": 6,
    "start_time": "2022-01-30T12:27:31.318Z"
   },
   {
    "duration": 9186,
    "start_time": "2022-01-30T12:28:03.361Z"
   },
   {
    "duration": 594,
    "start_time": "2022-01-30T12:28:20.063Z"
   },
   {
    "duration": 4853,
    "start_time": "2022-01-30T12:29:08.259Z"
   },
   {
    "duration": 778,
    "start_time": "2022-01-30T12:29:24.707Z"
   },
   {
    "duration": 9805,
    "start_time": "2022-01-30T12:30:21.145Z"
   },
   {
    "duration": 567,
    "start_time": "2022-01-30T12:30:44.099Z"
   },
   {
    "duration": 7,
    "start_time": "2022-01-30T12:30:57.859Z"
   },
   {
    "duration": 301,
    "start_time": "2022-01-30T12:31:29.904Z"
   },
   {
    "duration": 4,
    "start_time": "2022-01-30T12:31:33.639Z"
   },
   {
    "duration": 6,
    "start_time": "2022-01-30T12:31:35.650Z"
   },
   {
    "duration": 9,
    "start_time": "2022-01-30T12:32:44.652Z"
   },
   {
    "duration": 816,
    "start_time": "2022-01-30T12:33:01.272Z"
   },
   {
    "duration": 7,
    "start_time": "2022-01-30T12:34:24.836Z"
   },
   {
    "duration": 571,
    "start_time": "2022-01-30T12:34:26.145Z"
   },
   {
    "duration": 14,
    "start_time": "2022-01-30T12:35:01.722Z"
   },
   {
    "duration": 7,
    "start_time": "2022-01-30T12:35:32.361Z"
   },
   {
    "duration": 12,
    "start_time": "2022-01-30T12:35:33.411Z"
   },
   {
    "duration": 12,
    "start_time": "2022-01-30T12:35:41.327Z"
   },
   {
    "duration": 299,
    "start_time": "2022-01-30T12:36:25.368Z"
   },
   {
    "duration": 329,
    "start_time": "2022-01-30T12:36:44.139Z"
   },
   {
    "duration": 273,
    "start_time": "2022-01-30T12:37:09.276Z"
   },
   {
    "duration": 7,
    "start_time": "2022-01-30T12:37:25.261Z"
   },
   {
    "duration": 14,
    "start_time": "2022-01-30T12:37:50.703Z"
   },
   {
    "duration": 1976,
    "start_time": "2022-01-30T12:38:03.400Z"
   },
   {
    "duration": 9,
    "start_time": "2022-01-30T12:41:01.632Z"
   },
   {
    "duration": 671,
    "start_time": "2022-01-30T12:41:07.961Z"
   },
   {
    "duration": 6,
    "start_time": "2022-01-30T12:41:40.106Z"
   },
   {
    "duration": 682,
    "start_time": "2022-01-30T12:41:41.631Z"
   },
   {
    "duration": 7,
    "start_time": "2022-01-30T12:43:33.508Z"
   },
   {
    "duration": 767,
    "start_time": "2022-01-30T12:43:35.114Z"
   },
   {
    "duration": 7,
    "start_time": "2022-01-30T12:43:51.391Z"
   },
   {
    "duration": 606,
    "start_time": "2022-01-30T12:43:53.131Z"
   },
   {
    "duration": 7,
    "start_time": "2022-01-30T12:44:36.665Z"
   },
   {
    "duration": 7895,
    "start_time": "2022-01-30T12:44:38.090Z"
   },
   {
    "duration": 7,
    "start_time": "2022-01-30T12:44:54.479Z"
   },
   {
    "duration": 5927,
    "start_time": "2022-01-30T12:44:56.436Z"
   },
   {
    "duration": 25,
    "start_time": "2022-01-30T12:45:07.249Z"
   },
   {
    "duration": 288,
    "start_time": "2022-01-30T16:07:09.088Z"
   },
   {
    "duration": 1125,
    "start_time": "2022-01-30T16:07:14.088Z"
   },
   {
    "duration": 393,
    "start_time": "2022-01-30T16:07:15.215Z"
   },
   {
    "duration": 24,
    "start_time": "2022-01-30T16:07:15.610Z"
   },
   {
    "duration": 21,
    "start_time": "2022-01-30T16:07:15.636Z"
   },
   {
    "duration": 14,
    "start_time": "2022-01-30T16:07:15.658Z"
   },
   {
    "duration": 7,
    "start_time": "2022-01-30T16:07:15.674Z"
   },
   {
    "duration": 8,
    "start_time": "2022-01-30T16:07:15.683Z"
   },
   {
    "duration": 7,
    "start_time": "2022-01-30T16:07:15.693Z"
   },
   {
    "duration": 6,
    "start_time": "2022-01-30T16:07:15.703Z"
   },
   {
    "duration": 9,
    "start_time": "2022-01-30T16:07:15.712Z"
   },
   {
    "duration": 106,
    "start_time": "2022-01-30T16:07:15.722Z"
   },
   {
    "duration": 4,
    "start_time": "2022-01-30T16:07:15.830Z"
   },
   {
    "duration": 59,
    "start_time": "2022-01-30T16:07:15.836Z"
   },
   {
    "duration": 32,
    "start_time": "2022-01-30T16:07:15.897Z"
   },
   {
    "duration": 35,
    "start_time": "2022-01-30T16:07:15.931Z"
   },
   {
    "duration": 14,
    "start_time": "2022-01-30T16:07:15.968Z"
   },
   {
    "duration": 4,
    "start_time": "2022-01-30T16:07:15.984Z"
   },
   {
    "duration": 10,
    "start_time": "2022-01-30T16:07:15.990Z"
   },
   {
    "duration": 19,
    "start_time": "2022-01-30T16:07:16.002Z"
   },
   {
    "duration": 6,
    "start_time": "2022-01-30T16:07:16.023Z"
   },
   {
    "duration": 40,
    "start_time": "2022-01-30T16:07:16.031Z"
   },
   {
    "duration": 7,
    "start_time": "2022-01-30T16:07:16.073Z"
   },
   {
    "duration": 5,
    "start_time": "2022-01-30T16:07:16.081Z"
   },
   {
    "duration": 3322,
    "start_time": "2022-01-30T16:07:16.088Z"
   },
   {
    "duration": 16,
    "start_time": "2022-01-30T16:07:19.411Z"
   },
   {
    "duration": 9,
    "start_time": "2022-01-30T16:07:19.429Z"
   },
   {
    "duration": 29,
    "start_time": "2022-01-30T16:07:53.055Z"
   },
   {
    "duration": 30,
    "start_time": "2022-01-30T16:08:47.941Z"
   },
   {
    "duration": 175,
    "start_time": "2022-01-30T16:13:58.229Z"
   },
   {
    "duration": 170,
    "start_time": "2022-01-30T16:14:24.878Z"
   },
   {
    "duration": 170,
    "start_time": "2022-01-30T16:14:43.218Z"
   },
   {
    "duration": 193,
    "start_time": "2022-01-30T16:19:52.276Z"
   },
   {
    "duration": 543,
    "start_time": "2022-01-30T16:20:05.373Z"
   },
   {
    "duration": 467,
    "start_time": "2022-01-30T16:20:25.114Z"
   },
   {
    "duration": 180,
    "start_time": "2022-01-30T16:20:33.352Z"
   },
   {
    "duration": 189,
    "start_time": "2022-01-30T16:21:20.280Z"
   },
   {
    "duration": 165,
    "start_time": "2022-01-30T16:21:32.341Z"
   },
   {
    "duration": 3,
    "start_time": "2022-01-30T16:43:57.238Z"
   },
   {
    "duration": 418,
    "start_time": "2022-01-30T16:43:57.243Z"
   },
   {
    "duration": 23,
    "start_time": "2022-01-30T16:43:57.663Z"
   },
   {
    "duration": 19,
    "start_time": "2022-01-30T16:43:57.688Z"
   },
   {
    "duration": 15,
    "start_time": "2022-01-30T16:43:57.709Z"
   },
   {
    "duration": 15,
    "start_time": "2022-01-30T16:43:57.725Z"
   },
   {
    "duration": 25,
    "start_time": "2022-01-30T16:43:57.741Z"
   },
   {
    "duration": 15,
    "start_time": "2022-01-30T16:43:57.767Z"
   },
   {
    "duration": 14,
    "start_time": "2022-01-30T16:43:57.785Z"
   },
   {
    "duration": 17,
    "start_time": "2022-01-30T16:43:57.802Z"
   },
   {
    "duration": 71,
    "start_time": "2022-01-30T16:43:57.820Z"
   },
   {
    "duration": 6,
    "start_time": "2022-01-30T16:43:57.893Z"
   },
   {
    "duration": 62,
    "start_time": "2022-01-30T16:43:57.901Z"
   },
   {
    "duration": 31,
    "start_time": "2022-01-30T16:43:57.964Z"
   },
   {
    "duration": 20,
    "start_time": "2022-01-30T16:43:57.997Z"
   },
   {
    "duration": 15,
    "start_time": "2022-01-30T16:43:58.019Z"
   },
   {
    "duration": 5,
    "start_time": "2022-01-30T16:43:58.061Z"
   },
   {
    "duration": 29,
    "start_time": "2022-01-30T16:43:58.068Z"
   },
   {
    "duration": 22,
    "start_time": "2022-01-30T16:43:58.099Z"
   },
   {
    "duration": 8,
    "start_time": "2022-01-30T16:43:58.124Z"
   },
   {
    "duration": 21,
    "start_time": "2022-01-30T16:43:58.133Z"
   },
   {
    "duration": 7,
    "start_time": "2022-01-30T16:43:58.156Z"
   },
   {
    "duration": 13,
    "start_time": "2022-01-30T16:43:58.165Z"
   },
   {
    "duration": 5545,
    "start_time": "2022-01-30T16:43:58.180Z"
   },
   {
    "duration": 16,
    "start_time": "2022-01-30T16:44:03.728Z"
   },
   {
    "duration": 19,
    "start_time": "2022-01-30T16:44:03.746Z"
   },
   {
    "duration": 294,
    "start_time": "2022-01-30T16:44:43.902Z"
   },
   {
    "duration": 438,
    "start_time": "2022-01-30T16:45:01.812Z"
   },
   {
    "duration": 455,
    "start_time": "2022-01-30T16:45:52.215Z"
   },
   {
    "duration": 396,
    "start_time": "2022-01-30T16:47:30.766Z"
   },
   {
    "duration": 388,
    "start_time": "2022-01-30T16:48:03.547Z"
   },
   {
    "duration": 235,
    "start_time": "2022-01-31T05:44:38.076Z"
   },
   {
    "duration": 1085,
    "start_time": "2022-01-31T05:44:44.636Z"
   },
   {
    "duration": 363,
    "start_time": "2022-01-31T05:44:45.722Z"
   },
   {
    "duration": 18,
    "start_time": "2022-01-31T05:44:46.087Z"
   },
   {
    "duration": 16,
    "start_time": "2022-01-31T05:44:46.107Z"
   },
   {
    "duration": 12,
    "start_time": "2022-01-31T05:44:46.124Z"
   },
   {
    "duration": 5,
    "start_time": "2022-01-31T05:44:46.138Z"
   },
   {
    "duration": 7,
    "start_time": "2022-01-31T05:44:46.144Z"
   },
   {
    "duration": 6,
    "start_time": "2022-01-31T05:44:46.152Z"
   },
   {
    "duration": 5,
    "start_time": "2022-01-31T05:44:46.161Z"
   },
   {
    "duration": 8,
    "start_time": "2022-01-31T05:44:46.168Z"
   },
   {
    "duration": 96,
    "start_time": "2022-01-31T05:44:46.178Z"
   },
   {
    "duration": 5,
    "start_time": "2022-01-31T05:44:46.275Z"
   },
   {
    "duration": 60,
    "start_time": "2022-01-31T05:44:46.281Z"
   },
   {
    "duration": 30,
    "start_time": "2022-01-31T05:44:46.342Z"
   },
   {
    "duration": 16,
    "start_time": "2022-01-31T05:44:46.374Z"
   },
   {
    "duration": 29,
    "start_time": "2022-01-31T05:44:46.391Z"
   },
   {
    "duration": 5,
    "start_time": "2022-01-31T05:44:46.421Z"
   },
   {
    "duration": 3,
    "start_time": "2022-01-31T05:44:46.428Z"
   },
   {
    "duration": 18,
    "start_time": "2022-01-31T05:44:46.432Z"
   },
   {
    "duration": 6,
    "start_time": "2022-01-31T05:44:46.451Z"
   },
   {
    "duration": 16,
    "start_time": "2022-01-31T05:44:46.458Z"
   },
   {
    "duration": 7,
    "start_time": "2022-01-31T05:44:46.475Z"
   },
   {
    "duration": 33,
    "start_time": "2022-01-31T05:44:46.483Z"
   },
   {
    "duration": 3102,
    "start_time": "2022-01-31T05:44:46.517Z"
   },
   {
    "duration": 15,
    "start_time": "2022-01-31T05:44:49.620Z"
   },
   {
    "duration": 8,
    "start_time": "2022-01-31T05:44:49.636Z"
   },
   {
    "duration": 394,
    "start_time": "2022-01-31T05:44:49.646Z"
   },
   {
    "duration": 379,
    "start_time": "2022-01-31T05:44:50.041Z"
   },
   {
    "duration": 386,
    "start_time": "2022-01-31T05:44:50.422Z"
   },
   {
    "duration": 1012,
    "start_time": "2022-01-31T05:45:01.913Z"
   },
   {
    "duration": 372,
    "start_time": "2022-01-31T05:45:28.243Z"
   },
   {
    "duration": 222,
    "start_time": "2022-01-31T05:57:59.718Z"
   },
   {
    "duration": 249,
    "start_time": "2022-01-31T05:58:16.685Z"
   },
   {
    "duration": 263,
    "start_time": "2022-01-31T05:58:42.195Z"
   },
   {
    "duration": 237,
    "start_time": "2022-01-31T06:00:39.646Z"
   },
   {
    "duration": 2,
    "start_time": "2022-01-31T06:01:03.101Z"
   },
   {
    "duration": 414,
    "start_time": "2022-01-31T06:01:08.692Z"
   },
   {
    "duration": 346,
    "start_time": "2022-01-31T06:01:28.277Z"
   },
   {
    "duration": 340,
    "start_time": "2022-01-31T06:01:54.158Z"
   },
   {
    "duration": 277,
    "start_time": "2022-01-31T06:05:20.919Z"
   },
   {
    "duration": 349,
    "start_time": "2022-01-31T06:05:59.827Z"
   },
   {
    "duration": 4,
    "start_time": "2022-01-31T06:06:48.932Z"
   },
   {
    "duration": 4,
    "start_time": "2022-01-31T06:07:10.245Z"
   },
   {
    "duration": 4,
    "start_time": "2022-01-31T06:07:57.068Z"
   },
   {
    "duration": 1185,
    "start_time": "2022-01-31T07:29:09.559Z"
   },
   {
    "duration": 406,
    "start_time": "2022-01-31T07:29:10.746Z"
   },
   {
    "duration": 24,
    "start_time": "2022-01-31T07:29:11.154Z"
   },
   {
    "duration": 19,
    "start_time": "2022-01-31T07:29:11.181Z"
   },
   {
    "duration": 27,
    "start_time": "2022-01-31T07:29:11.202Z"
   },
   {
    "duration": 13,
    "start_time": "2022-01-31T07:29:11.231Z"
   },
   {
    "duration": 30,
    "start_time": "2022-01-31T07:29:11.246Z"
   },
   {
    "duration": 17,
    "start_time": "2022-01-31T07:29:11.279Z"
   },
   {
    "duration": 25,
    "start_time": "2022-01-31T07:29:11.298Z"
   },
   {
    "duration": 24,
    "start_time": "2022-01-31T07:29:11.325Z"
   },
   {
    "duration": 102,
    "start_time": "2022-01-31T07:29:11.354Z"
   },
   {
    "duration": 4,
    "start_time": "2022-01-31T07:29:11.458Z"
   },
   {
    "duration": 73,
    "start_time": "2022-01-31T07:29:11.463Z"
   },
   {
    "duration": 34,
    "start_time": "2022-01-31T07:29:11.538Z"
   },
   {
    "duration": 25,
    "start_time": "2022-01-31T07:29:11.573Z"
   },
   {
    "duration": 14,
    "start_time": "2022-01-31T07:29:11.600Z"
   },
   {
    "duration": 6,
    "start_time": "2022-01-31T07:29:11.616Z"
   },
   {
    "duration": 19,
    "start_time": "2022-01-31T07:29:11.624Z"
   },
   {
    "duration": 38,
    "start_time": "2022-01-31T07:29:11.645Z"
   },
   {
    "duration": 19,
    "start_time": "2022-01-31T07:29:11.685Z"
   },
   {
    "duration": 23,
    "start_time": "2022-01-31T07:29:11.706Z"
   },
   {
    "duration": 14,
    "start_time": "2022-01-31T07:29:11.731Z"
   },
   {
    "duration": 19,
    "start_time": "2022-01-31T07:29:11.748Z"
   },
   {
    "duration": 3434,
    "start_time": "2022-01-31T07:29:11.769Z"
   },
   {
    "duration": 17,
    "start_time": "2022-01-31T07:29:15.205Z"
   },
   {
    "duration": 11,
    "start_time": "2022-01-31T07:29:15.223Z"
   },
   {
    "duration": 479,
    "start_time": "2022-01-31T07:29:15.235Z"
   },
   {
    "duration": 447,
    "start_time": "2022-01-31T07:29:15.716Z"
   },
   {
    "duration": 453,
    "start_time": "2022-01-31T07:29:16.166Z"
   },
   {
    "duration": 385,
    "start_time": "2022-01-31T07:29:16.621Z"
   },
   {
    "duration": 426,
    "start_time": "2022-01-31T07:29:17.009Z"
   },
   {
    "duration": 429,
    "start_time": "2022-01-31T07:29:17.437Z"
   },
   {
    "duration": 5,
    "start_time": "2022-01-31T07:29:17.868Z"
   },
   {
    "duration": 7,
    "start_time": "2022-01-31T07:29:17.875Z"
   },
   {
    "duration": 246,
    "start_time": "2022-01-31T07:31:34.347Z"
   },
   {
    "duration": 428,
    "start_time": "2022-01-31T08:24:30.566Z"
   },
   {
    "duration": 413,
    "start_time": "2022-01-31T08:24:50.532Z"
   },
   {
    "duration": 237,
    "start_time": "2022-01-31T08:25:09.338Z"
   },
   {
    "duration": 394,
    "start_time": "2022-01-31T08:25:23.046Z"
   },
   {
    "duration": 495,
    "start_time": "2022-01-31T08:30:28.539Z"
   },
   {
    "duration": 7,
    "start_time": "2022-01-31T08:33:21.146Z"
   },
   {
    "duration": 6,
    "start_time": "2022-01-31T08:34:03.678Z"
   },
   {
    "duration": 6,
    "start_time": "2022-01-31T08:34:35.353Z"
   },
   {
    "duration": 4,
    "start_time": "2022-01-31T08:37:03.794Z"
   },
   {
    "duration": 4,
    "start_time": "2022-01-31T08:37:10.807Z"
   },
   {
    "duration": 1274,
    "start_time": "2022-01-31T08:37:24.770Z"
   },
   {
    "duration": 439,
    "start_time": "2022-01-31T08:37:26.046Z"
   },
   {
    "duration": 24,
    "start_time": "2022-01-31T08:37:26.487Z"
   },
   {
    "duration": 19,
    "start_time": "2022-01-31T08:37:26.513Z"
   },
   {
    "duration": 16,
    "start_time": "2022-01-31T08:37:26.534Z"
   },
   {
    "duration": 6,
    "start_time": "2022-01-31T08:37:26.552Z"
   },
   {
    "duration": 38,
    "start_time": "2022-01-31T08:37:26.560Z"
   },
   {
    "duration": 6,
    "start_time": "2022-01-31T08:37:26.601Z"
   },
   {
    "duration": 8,
    "start_time": "2022-01-31T08:37:26.609Z"
   },
   {
    "duration": 9,
    "start_time": "2022-01-31T08:37:26.619Z"
   },
   {
    "duration": 99,
    "start_time": "2022-01-31T08:37:26.630Z"
   },
   {
    "duration": 5,
    "start_time": "2022-01-31T08:37:26.732Z"
   },
   {
    "duration": 66,
    "start_time": "2022-01-31T08:37:26.739Z"
   },
   {
    "duration": 36,
    "start_time": "2022-01-31T08:37:26.807Z"
   },
   {
    "duration": 17,
    "start_time": "2022-01-31T08:37:26.845Z"
   },
   {
    "duration": 37,
    "start_time": "2022-01-31T08:37:26.864Z"
   },
   {
    "duration": 5,
    "start_time": "2022-01-31T08:37:26.903Z"
   },
   {
    "duration": 6,
    "start_time": "2022-01-31T08:37:26.910Z"
   },
   {
    "duration": 21,
    "start_time": "2022-01-31T08:37:26.917Z"
   },
   {
    "duration": 8,
    "start_time": "2022-01-31T08:37:26.940Z"
   },
   {
    "duration": 48,
    "start_time": "2022-01-31T08:37:26.950Z"
   },
   {
    "duration": 9,
    "start_time": "2022-01-31T08:37:27.000Z"
   },
   {
    "duration": 6,
    "start_time": "2022-01-31T08:37:27.012Z"
   },
   {
    "duration": 3564,
    "start_time": "2022-01-31T08:37:27.020Z"
   },
   {
    "duration": 26,
    "start_time": "2022-01-31T08:37:30.586Z"
   },
   {
    "duration": 11,
    "start_time": "2022-01-31T08:37:30.615Z"
   },
   {
    "duration": 482,
    "start_time": "2022-01-31T08:37:30.628Z"
   },
   {
    "duration": 459,
    "start_time": "2022-01-31T08:37:31.112Z"
   },
   {
    "duration": 454,
    "start_time": "2022-01-31T08:37:31.574Z"
   },
   {
    "duration": 309,
    "start_time": "2022-01-31T08:37:32.031Z"
   },
   {
    "duration": 427,
    "start_time": "2022-01-31T08:37:32.343Z"
   },
   {
    "duration": 450,
    "start_time": "2022-01-31T08:37:32.772Z"
   },
   {
    "duration": 5,
    "start_time": "2022-01-31T08:37:33.224Z"
   },
   {
    "duration": 454,
    "start_time": "2022-01-31T08:37:33.230Z"
   },
   {
    "duration": 15,
    "start_time": "2022-01-31T08:37:33.686Z"
   },
   {
    "duration": 29,
    "start_time": "2022-01-31T08:37:33.703Z"
   },
   {
    "duration": 26,
    "start_time": "2022-01-31T08:40:46.073Z"
   },
   {
    "duration": 9,
    "start_time": "2022-01-31T08:42:04.373Z"
   },
   {
    "duration": 419,
    "start_time": "2022-01-31T08:42:33.255Z"
   },
   {
    "duration": 6,
    "start_time": "2022-01-31T08:43:10.876Z"
   },
   {
    "duration": 7,
    "start_time": "2022-01-31T08:44:36.711Z"
   },
   {
    "duration": 6,
    "start_time": "2022-01-31T08:44:42.767Z"
   },
   {
    "duration": 6,
    "start_time": "2022-01-31T08:44:53.300Z"
   },
   {
    "duration": 440,
    "start_time": "2022-01-31T08:47:59.996Z"
   },
   {
    "duration": 5,
    "start_time": "2022-01-31T08:48:44.580Z"
   },
   {
    "duration": 8,
    "start_time": "2022-01-31T08:49:41.467Z"
   },
   {
    "duration": 6,
    "start_time": "2022-01-31T08:49:51.744Z"
   },
   {
    "duration": 8,
    "start_time": "2022-01-31T09:04:18.943Z"
   },
   {
    "duration": 8,
    "start_time": "2022-01-31T09:04:32.837Z"
   },
   {
    "duration": 489,
    "start_time": "2022-01-31T09:04:49.250Z"
   },
   {
    "duration": 1278,
    "start_time": "2022-01-31T09:04:56.933Z"
   },
   {
    "duration": 482,
    "start_time": "2022-01-31T09:05:14.632Z"
   },
   {
    "duration": 10,
    "start_time": "2022-01-31T09:05:40.005Z"
   },
   {
    "duration": 8,
    "start_time": "2022-01-31T09:05:47.599Z"
   },
   {
    "duration": 9,
    "start_time": "2022-01-31T09:05:59.518Z"
   },
   {
    "duration": 8,
    "start_time": "2022-01-31T09:06:07.458Z"
   },
   {
    "duration": 9,
    "start_time": "2022-01-31T09:06:23.612Z"
   },
   {
    "duration": 8,
    "start_time": "2022-01-31T09:06:42.543Z"
   },
   {
    "duration": 22,
    "start_time": "2022-01-31T09:29:03.698Z"
   },
   {
    "duration": 19,
    "start_time": "2022-01-31T09:29:18.830Z"
   },
   {
    "duration": 18,
    "start_time": "2022-01-31T09:29:34.316Z"
   },
   {
    "duration": 12,
    "start_time": "2022-01-31T09:29:49.438Z"
   },
   {
    "duration": 16,
    "start_time": "2022-01-31T09:30:04.910Z"
   },
   {
    "duration": 465,
    "start_time": "2022-01-31T09:30:40.292Z"
   },
   {
    "duration": 28,
    "start_time": "2022-01-31T09:30:40.791Z"
   },
   {
    "duration": 24,
    "start_time": "2022-01-31T09:30:41.246Z"
   },
   {
    "duration": 21,
    "start_time": "2022-01-31T09:30:41.742Z"
   },
   {
    "duration": 13,
    "start_time": "2022-01-31T09:30:42.219Z"
   },
   {
    "duration": 15,
    "start_time": "2022-01-31T09:30:42.681Z"
   },
   {
    "duration": 1253,
    "start_time": "2022-01-31T10:15:56.988Z"
   },
   {
    "duration": 440,
    "start_time": "2022-01-31T10:15:58.243Z"
   },
   {
    "duration": 32,
    "start_time": "2022-01-31T10:15:58.685Z"
   },
   {
    "duration": 25,
    "start_time": "2022-01-31T10:15:58.719Z"
   },
   {
    "duration": 20,
    "start_time": "2022-01-31T10:15:58.746Z"
   },
   {
    "duration": 32,
    "start_time": "2022-01-31T10:15:58.768Z"
   },
   {
    "duration": 19,
    "start_time": "2022-01-31T10:15:58.802Z"
   },
   {
    "duration": 7,
    "start_time": "2022-01-31T10:15:58.822Z"
   },
   {
    "duration": 7,
    "start_time": "2022-01-31T10:15:58.832Z"
   },
   {
    "duration": 102,
    "start_time": "2022-01-31T10:15:58.841Z"
   },
   {
    "duration": 10,
    "start_time": "2022-01-31T10:15:58.945Z"
   },
   {
    "duration": 9,
    "start_time": "2022-01-31T10:15:58.957Z"
   },
   {
    "duration": 66,
    "start_time": "2022-01-31T10:15:58.968Z"
   },
   {
    "duration": 37,
    "start_time": "2022-01-31T10:15:59.036Z"
   },
   {
    "duration": 37,
    "start_time": "2022-01-31T10:15:59.075Z"
   },
   {
    "duration": 17,
    "start_time": "2022-01-31T10:15:59.114Z"
   },
   {
    "duration": 7,
    "start_time": "2022-01-31T10:15:59.133Z"
   },
   {
    "duration": 7,
    "start_time": "2022-01-31T10:15:59.142Z"
   },
   {
    "duration": 48,
    "start_time": "2022-01-31T10:15:59.151Z"
   },
   {
    "duration": 10,
    "start_time": "2022-01-31T10:15:59.201Z"
   },
   {
    "duration": 18,
    "start_time": "2022-01-31T10:15:59.213Z"
   },
   {
    "duration": 10,
    "start_time": "2022-01-31T10:15:59.233Z"
   },
   {
    "duration": 7,
    "start_time": "2022-01-31T10:15:59.245Z"
   },
   {
    "duration": 3549,
    "start_time": "2022-01-31T10:15:59.254Z"
   },
   {
    "duration": 19,
    "start_time": "2022-01-31T10:16:02.805Z"
   },
   {
    "duration": 9,
    "start_time": "2022-01-31T10:16:02.826Z"
   },
   {
    "duration": 9,
    "start_time": "2022-01-31T10:16:02.839Z"
   },
   {
    "duration": 559,
    "start_time": "2022-01-31T10:16:02.850Z"
   },
   {
    "duration": 480,
    "start_time": "2022-01-31T10:16:03.411Z"
   },
   {
    "duration": 478,
    "start_time": "2022-01-31T10:16:03.893Z"
   },
   {
    "duration": 341,
    "start_time": "2022-01-31T10:16:04.373Z"
   },
   {
    "duration": 426,
    "start_time": "2022-01-31T10:16:04.715Z"
   },
   {
    "duration": 448,
    "start_time": "2022-01-31T10:16:05.143Z"
   },
   {
    "duration": 5,
    "start_time": "2022-01-31T10:16:05.598Z"
   },
   {
    "duration": 443,
    "start_time": "2022-01-31T10:16:05.605Z"
   },
   {
    "duration": 7,
    "start_time": "2022-01-31T10:16:06.050Z"
   },
   {
    "duration": 13,
    "start_time": "2022-01-31T10:16:06.059Z"
   },
   {
    "duration": 24,
    "start_time": "2022-01-31T10:16:06.074Z"
   },
   {
    "duration": 444,
    "start_time": "2022-01-31T10:16:06.101Z"
   },
   {
    "duration": 5,
    "start_time": "2022-01-31T10:16:06.547Z"
   },
   {
    "duration": 404,
    "start_time": "2022-01-31T11:20:57.515Z"
   },
   {
    "duration": 18,
    "start_time": "2022-01-31T11:22:10.182Z"
   },
   {
    "duration": 365,
    "start_time": "2022-01-31T11:22:50.611Z"
   },
   {
    "duration": 11,
    "start_time": "2022-01-31T11:22:58.085Z"
   },
   {
    "duration": 6,
    "start_time": "2022-01-31T11:23:48.582Z"
   },
   {
    "duration": 12,
    "start_time": "2022-01-31T11:24:52.152Z"
   },
   {
    "duration": 1252,
    "start_time": "2022-01-31T15:24:48.222Z"
   },
   {
    "duration": 446,
    "start_time": "2022-01-31T15:24:49.476Z"
   },
   {
    "duration": 33,
    "start_time": "2022-01-31T15:24:49.925Z"
   },
   {
    "duration": 27,
    "start_time": "2022-01-31T15:24:49.960Z"
   },
   {
    "duration": 38,
    "start_time": "2022-01-31T15:24:49.989Z"
   },
   {
    "duration": 22,
    "start_time": "2022-01-31T15:24:50.029Z"
   },
   {
    "duration": 33,
    "start_time": "2022-01-31T15:24:50.053Z"
   },
   {
    "duration": 20,
    "start_time": "2022-01-31T15:24:50.087Z"
   },
   {
    "duration": 23,
    "start_time": "2022-01-31T15:24:50.110Z"
   },
   {
    "duration": 93,
    "start_time": "2022-01-31T15:24:50.135Z"
   },
   {
    "duration": 10,
    "start_time": "2022-01-31T15:24:50.230Z"
   },
   {
    "duration": 20,
    "start_time": "2022-01-31T15:24:50.242Z"
   },
   {
    "duration": 78,
    "start_time": "2022-01-31T15:24:50.264Z"
   },
   {
    "duration": 36,
    "start_time": "2022-01-31T15:24:50.344Z"
   },
   {
    "duration": 39,
    "start_time": "2022-01-31T15:24:50.381Z"
   },
   {
    "duration": 17,
    "start_time": "2022-01-31T15:24:50.422Z"
   },
   {
    "duration": 11,
    "start_time": "2022-01-31T15:24:50.440Z"
   },
   {
    "duration": 26,
    "start_time": "2022-01-31T15:24:50.452Z"
   },
   {
    "duration": 35,
    "start_time": "2022-01-31T15:24:50.480Z"
   },
   {
    "duration": 10,
    "start_time": "2022-01-31T15:24:50.517Z"
   },
   {
    "duration": 30,
    "start_time": "2022-01-31T15:24:50.528Z"
   },
   {
    "duration": 8,
    "start_time": "2022-01-31T15:24:50.559Z"
   },
   {
    "duration": 21,
    "start_time": "2022-01-31T15:24:50.568Z"
   },
   {
    "duration": 3771,
    "start_time": "2022-01-31T15:24:50.591Z"
   },
   {
    "duration": 18,
    "start_time": "2022-01-31T15:24:54.364Z"
   },
   {
    "duration": 20,
    "start_time": "2022-01-31T15:24:54.383Z"
   },
   {
    "duration": 12,
    "start_time": "2022-01-31T15:24:54.408Z"
   },
   {
    "duration": 529,
    "start_time": "2022-01-31T15:24:54.422Z"
   },
   {
    "duration": 464,
    "start_time": "2022-01-31T15:24:54.952Z"
   },
   {
    "duration": 467,
    "start_time": "2022-01-31T15:24:55.418Z"
   },
   {
    "duration": 315,
    "start_time": "2022-01-31T15:24:55.886Z"
   },
   {
    "duration": 460,
    "start_time": "2022-01-31T15:24:56.204Z"
   },
   {
    "duration": 7,
    "start_time": "2022-01-31T15:24:56.666Z"
   },
   {
    "duration": 427,
    "start_time": "2022-01-31T15:25:35.215Z"
   },
   {
    "duration": 482,
    "start_time": "2022-01-31T15:45:52.929Z"
   },
   {
    "duration": 1477,
    "start_time": "2022-02-01T04:43:14.462Z"
   },
   {
    "duration": 579,
    "start_time": "2022-02-01T04:43:15.942Z"
   },
   {
    "duration": 44,
    "start_time": "2022-02-01T04:43:16.523Z"
   },
   {
    "duration": 36,
    "start_time": "2022-02-01T04:43:16.570Z"
   },
   {
    "duration": 56,
    "start_time": "2022-02-01T04:43:16.608Z"
   },
   {
    "duration": 20,
    "start_time": "2022-02-01T04:43:16.667Z"
   },
   {
    "duration": 20,
    "start_time": "2022-02-01T04:43:16.690Z"
   },
   {
    "duration": 48,
    "start_time": "2022-02-01T04:43:16.713Z"
   },
   {
    "duration": 8,
    "start_time": "2022-02-01T04:43:16.766Z"
   },
   {
    "duration": 126,
    "start_time": "2022-02-01T04:43:16.777Z"
   },
   {
    "duration": 15,
    "start_time": "2022-02-01T04:43:16.906Z"
   },
   {
    "duration": 9,
    "start_time": "2022-02-01T04:43:16.924Z"
   },
   {
    "duration": 72,
    "start_time": "2022-02-01T04:43:16.961Z"
   },
   {
    "duration": 63,
    "start_time": "2022-02-01T04:43:17.036Z"
   },
   {
    "duration": 26,
    "start_time": "2022-02-01T04:43:17.102Z"
   },
   {
    "duration": 44,
    "start_time": "2022-02-01T04:43:17.130Z"
   },
   {
    "duration": 13,
    "start_time": "2022-02-01T04:43:17.176Z"
   },
   {
    "duration": 7,
    "start_time": "2022-02-01T04:43:17.192Z"
   },
   {
    "duration": 26,
    "start_time": "2022-02-01T04:43:23.872Z"
   },
   {
    "duration": 26,
    "start_time": "2022-02-01T04:43:30.900Z"
   },
   {
    "duration": 10,
    "start_time": "2022-02-01T04:43:45.654Z"
   },
   {
    "duration": 18,
    "start_time": "2022-02-01T04:45:05.231Z"
   },
   {
    "duration": 18,
    "start_time": "2022-02-01T04:45:39.443Z"
   },
   {
    "duration": 17,
    "start_time": "2022-02-01T04:45:54.164Z"
   },
   {
    "duration": 658,
    "start_time": "2022-02-01T04:46:57.908Z"
   },
   {
    "duration": 28,
    "start_time": "2022-02-01T04:47:16.759Z"
   },
   {
    "duration": 10,
    "start_time": "2022-02-01T04:47:18.918Z"
   },
   {
    "duration": 7,
    "start_time": "2022-02-01T05:06:04.469Z"
   },
   {
    "duration": 360,
    "start_time": "2022-02-01T05:06:06.946Z"
   },
   {
    "duration": 5561,
    "start_time": "2022-02-01T05:06:20.059Z"
   },
   {
    "duration": 19,
    "start_time": "2022-02-01T05:06:34.510Z"
   },
   {
    "duration": 371,
    "start_time": "2022-02-01T05:58:47.383Z"
   },
   {
    "duration": 632,
    "start_time": "2022-02-01T05:58:54.979Z"
   },
   {
    "duration": 586,
    "start_time": "2022-02-01T05:59:01.479Z"
   },
   {
    "duration": 607,
    "start_time": "2022-02-01T05:59:09.837Z"
   },
   {
    "duration": 663,
    "start_time": "2022-02-01T05:59:20.205Z"
   },
   {
    "duration": 584,
    "start_time": "2022-02-01T05:59:46.651Z"
   },
   {
    "duration": 584,
    "start_time": "2022-02-01T06:00:07.710Z"
   },
   {
    "duration": 615,
    "start_time": "2022-02-01T06:00:21.010Z"
   },
   {
    "duration": 676,
    "start_time": "2022-02-01T06:00:45.797Z"
   },
   {
    "duration": 673,
    "start_time": "2022-02-01T06:02:09.162Z"
   },
   {
    "duration": 669,
    "start_time": "2022-02-01T06:03:19.492Z"
   },
   {
    "duration": 679,
    "start_time": "2022-02-01T06:04:31.406Z"
   },
   {
    "duration": 367,
    "start_time": "2022-02-01T06:05:19.887Z"
   },
   {
    "duration": 602,
    "start_time": "2022-02-01T06:05:25.026Z"
   },
   {
    "duration": 4,
    "start_time": "2022-02-01T06:05:41.745Z"
   },
   {
    "duration": 546,
    "start_time": "2022-02-01T06:05:41.752Z"
   },
   {
    "duration": 35,
    "start_time": "2022-02-01T06:05:42.301Z"
   },
   {
    "duration": 31,
    "start_time": "2022-02-01T06:05:42.339Z"
   },
   {
    "duration": 25,
    "start_time": "2022-02-01T06:05:42.373Z"
   },
   {
    "duration": 16,
    "start_time": "2022-02-01T06:05:42.401Z"
   },
   {
    "duration": 56,
    "start_time": "2022-02-01T06:05:42.420Z"
   },
   {
    "duration": 8,
    "start_time": "2022-02-01T06:05:42.478Z"
   },
   {
    "duration": 5,
    "start_time": "2022-02-01T06:05:42.491Z"
   },
   {
    "duration": 118,
    "start_time": "2022-02-01T06:05:42.499Z"
   },
   {
    "duration": 10,
    "start_time": "2022-02-01T06:05:42.619Z"
   },
   {
    "duration": 8,
    "start_time": "2022-02-01T06:05:42.631Z"
   },
   {
    "duration": 85,
    "start_time": "2022-02-01T06:05:42.641Z"
   },
   {
    "duration": 52,
    "start_time": "2022-02-01T06:05:42.729Z"
   },
   {
    "duration": 24,
    "start_time": "2022-02-01T06:05:42.784Z"
   },
   {
    "duration": 23,
    "start_time": "2022-02-01T06:05:42.811Z"
   },
   {
    "duration": 26,
    "start_time": "2022-02-01T06:05:42.837Z"
   },
   {
    "duration": 14,
    "start_time": "2022-02-01T06:05:42.865Z"
   },
   {
    "duration": 35,
    "start_time": "2022-02-01T06:05:42.881Z"
   },
   {
    "duration": 10,
    "start_time": "2022-02-01T06:05:42.919Z"
   },
   {
    "duration": 468,
    "start_time": "2022-02-01T06:05:42.931Z"
   },
   {
    "duration": -153,
    "start_time": "2022-02-01T06:05:43.554Z"
   },
   {
    "duration": -154,
    "start_time": "2022-02-01T06:05:43.557Z"
   },
   {
    "duration": -155,
    "start_time": "2022-02-01T06:05:43.559Z"
   },
   {
    "duration": -155,
    "start_time": "2022-02-01T06:05:43.560Z"
   },
   {
    "duration": -155,
    "start_time": "2022-02-01T06:05:43.562Z"
   },
   {
    "duration": -155,
    "start_time": "2022-02-01T06:05:43.563Z"
   },
   {
    "duration": 11,
    "start_time": "2022-02-01T06:06:16.923Z"
   },
   {
    "duration": 10,
    "start_time": "2022-02-01T06:06:22.085Z"
   },
   {
    "duration": 376,
    "start_time": "2022-02-01T06:06:22.097Z"
   },
   {
    "duration": -43,
    "start_time": "2022-02-01T06:06:22.520Z"
   },
   {
    "duration": -43,
    "start_time": "2022-02-01T06:06:22.522Z"
   },
   {
    "duration": -49,
    "start_time": "2022-02-01T06:06:22.530Z"
   },
   {
    "duration": -49,
    "start_time": "2022-02-01T06:06:22.532Z"
   },
   {
    "duration": -79,
    "start_time": "2022-02-01T06:06:22.564Z"
   },
   {
    "duration": -80,
    "start_time": "2022-02-01T06:06:22.566Z"
   },
   {
    "duration": -88,
    "start_time": "2022-02-01T06:06:22.576Z"
   },
   {
    "duration": -87,
    "start_time": "2022-02-01T06:06:22.577Z"
   },
   {
    "duration": -87,
    "start_time": "2022-02-01T06:06:22.579Z"
   },
   {
    "duration": -86,
    "start_time": "2022-02-01T06:06:22.580Z"
   },
   {
    "duration": -85,
    "start_time": "2022-02-01T06:06:22.581Z"
   },
   {
    "duration": -85,
    "start_time": "2022-02-01T06:06:22.583Z"
   },
   {
    "duration": -85,
    "start_time": "2022-02-01T06:06:22.584Z"
   },
   {
    "duration": -84,
    "start_time": "2022-02-01T06:06:22.585Z"
   },
   {
    "duration": -84,
    "start_time": "2022-02-01T06:06:22.586Z"
   },
   {
    "duration": 34,
    "start_time": "2022-02-01T06:06:32.895Z"
   },
   {
    "duration": 7,
    "start_time": "2022-02-01T06:06:42.627Z"
   },
   {
    "duration": 5707,
    "start_time": "2022-02-01T06:06:43.389Z"
   },
   {
    "duration": 18,
    "start_time": "2022-02-01T06:06:49.099Z"
   },
   {
    "duration": 626,
    "start_time": "2022-02-01T06:06:53.637Z"
   },
   {
    "duration": 678,
    "start_time": "2022-02-01T06:06:54.265Z"
   },
   {
    "duration": 650,
    "start_time": "2022-02-01T06:06:54.946Z"
   },
   {
    "duration": 354,
    "start_time": "2022-02-01T06:07:03.783Z"
   },
   {
    "duration": 30,
    "start_time": "2022-02-01T06:13:46.109Z"
   },
   {
    "duration": 9455,
    "start_time": "2022-02-01T06:14:39.733Z"
   },
   {
    "duration": 482,
    "start_time": "2022-02-01T06:14:56.097Z"
   },
   {
    "duration": 9848,
    "start_time": "2022-02-01T06:15:12.626Z"
   },
   {
    "duration": 27,
    "start_time": "2022-02-01T06:15:33.637Z"
   },
   {
    "duration": 34,
    "start_time": "2022-02-01T06:15:54.477Z"
   },
   {
    "duration": 30,
    "start_time": "2022-02-01T06:17:03.253Z"
   },
   {
    "duration": 32,
    "start_time": "2022-02-01T06:17:46.844Z"
   },
   {
    "duration": 4,
    "start_time": "2022-02-01T06:19:17.760Z"
   },
   {
    "duration": 29,
    "start_time": "2022-02-01T06:19:23.594Z"
   },
   {
    "duration": 29,
    "start_time": "2022-02-01T06:22:39.571Z"
   },
   {
    "duration": 58,
    "start_time": "2022-02-01T06:25:07.514Z"
   },
   {
    "duration": 57,
    "start_time": "2022-02-01T06:28:18.589Z"
   },
   {
    "duration": 48,
    "start_time": "2022-02-01T06:29:22.063Z"
   },
   {
    "duration": 807,
    "start_time": "2022-02-01T06:32:02.056Z"
   },
   {
    "duration": 13,
    "start_time": "2022-02-01T06:32:04.569Z"
   },
   {
    "duration": 880,
    "start_time": "2022-02-01T06:37:00.799Z"
   },
   {
    "duration": 20,
    "start_time": "2022-02-01T06:37:13.878Z"
   },
   {
    "duration": 6,
    "start_time": "2022-02-01T06:38:05.350Z"
   },
   {
    "duration": 21,
    "start_time": "2022-02-01T06:38:10.610Z"
   },
   {
    "duration": 45,
    "start_time": "2022-02-01T06:38:46.782Z"
   },
   {
    "duration": 21,
    "start_time": "2022-02-01T06:39:28.361Z"
   },
   {
    "duration": 18,
    "start_time": "2022-02-01T06:39:59.062Z"
   },
   {
    "duration": 3236,
    "start_time": "2022-02-01T06:40:25.811Z"
   },
   {
    "duration": 63,
    "start_time": "2022-02-01T06:40:46.020Z"
   },
   {
    "duration": 9,
    "start_time": "2022-02-01T06:46:03.265Z"
   },
   {
    "duration": 387,
    "start_time": "2022-02-01T06:48:59.631Z"
   },
   {
    "duration": 377,
    "start_time": "2022-02-01T06:49:27.353Z"
   },
   {
    "duration": 378,
    "start_time": "2022-02-01T06:49:37.275Z"
   },
   {
    "duration": 7,
    "start_time": "2022-02-01T06:49:57.794Z"
   },
   {
    "duration": 41,
    "start_time": "2022-02-01T06:50:42.581Z"
   },
   {
    "duration": 53,
    "start_time": "2022-02-01T06:50:47.772Z"
   },
   {
    "duration": 504,
    "start_time": "2022-02-01T06:51:03.085Z"
   },
   {
    "duration": 56,
    "start_time": "2022-02-01T06:51:17.481Z"
   },
   {
    "duration": 59,
    "start_time": "2022-02-01T06:52:30.160Z"
   },
   {
    "duration": 50,
    "start_time": "2022-02-01T07:02:35.039Z"
   },
   {
    "duration": 53,
    "start_time": "2022-02-01T07:03:05.049Z"
   },
   {
    "duration": 48,
    "start_time": "2022-02-01T07:03:20.421Z"
   },
   {
    "duration": 55,
    "start_time": "2022-02-01T07:17:02.572Z"
   },
   {
    "duration": 47,
    "start_time": "2022-02-01T07:23:47.005Z"
   },
   {
    "duration": 740,
    "start_time": "2022-02-01T07:29:20.582Z"
   },
   {
    "duration": 1773,
    "start_time": "2022-02-01T07:32:59.555Z"
   },
   {
    "duration": 3615,
    "start_time": "2022-02-01T07:33:18.195Z"
   },
   {
    "duration": 634,
    "start_time": "2022-02-01T07:33:44.906Z"
   },
   {
    "duration": 4,
    "start_time": "2022-02-01T09:02:07.262Z"
   },
   {
    "duration": 4,
    "start_time": "2022-02-01T09:02:07.269Z"
   },
   {
    "duration": 554,
    "start_time": "2022-02-01T09:02:07.276Z"
   },
   {
    "duration": 38,
    "start_time": "2022-02-01T09:02:07.834Z"
   },
   {
    "duration": 32,
    "start_time": "2022-02-01T09:02:07.875Z"
   },
   {
    "duration": 53,
    "start_time": "2022-02-01T09:02:07.909Z"
   },
   {
    "duration": 19,
    "start_time": "2022-02-01T09:02:07.967Z"
   },
   {
    "duration": 37,
    "start_time": "2022-02-01T09:02:07.990Z"
   },
   {
    "duration": 33,
    "start_time": "2022-02-01T09:02:08.030Z"
   },
   {
    "duration": 6,
    "start_time": "2022-02-01T09:02:08.066Z"
   },
   {
    "duration": 113,
    "start_time": "2022-02-01T09:02:08.074Z"
   },
   {
    "duration": 10,
    "start_time": "2022-02-01T09:02:08.189Z"
   },
   {
    "duration": 9,
    "start_time": "2022-02-01T09:02:08.202Z"
   },
   {
    "duration": 89,
    "start_time": "2022-02-01T09:02:08.213Z"
   },
   {
    "duration": 42,
    "start_time": "2022-02-01T09:02:08.304Z"
   },
   {
    "duration": 34,
    "start_time": "2022-02-01T09:02:08.348Z"
   },
   {
    "duration": 20,
    "start_time": "2022-02-01T09:02:08.384Z"
   },
   {
    "duration": 6,
    "start_time": "2022-02-01T09:02:08.408Z"
   },
   {
    "duration": 6,
    "start_time": "2022-02-01T09:02:08.417Z"
   },
   {
    "duration": 30,
    "start_time": "2022-02-01T09:02:08.460Z"
   },
   {
    "duration": 10,
    "start_time": "2022-02-01T09:02:08.493Z"
   },
   {
    "duration": 10,
    "start_time": "2022-02-01T09:02:08.505Z"
   },
   {
    "duration": 7,
    "start_time": "2022-02-01T09:02:08.518Z"
   },
   {
    "duration": 5863,
    "start_time": "2022-02-01T09:02:08.527Z"
   },
   {
    "duration": 15,
    "start_time": "2022-02-01T09:02:14.393Z"
   },
   {
    "duration": 6,
    "start_time": "2022-02-01T09:02:14.410Z"
   },
   {
    "duration": 85,
    "start_time": "2022-02-01T09:02:14.419Z"
   },
   {
    "duration": 579,
    "start_time": "2022-02-01T09:55:54.705Z"
   },
   {
    "duration": 549,
    "start_time": "2022-02-01T09:57:18.284Z"
   },
   {
    "duration": 679,
    "start_time": "2022-02-01T09:59:33.367Z"
   },
   {
    "duration": 764,
    "start_time": "2022-02-01T10:00:59.858Z"
   },
   {
    "duration": 750,
    "start_time": "2022-02-01T10:04:24.617Z"
   },
   {
    "duration": 745,
    "start_time": "2022-02-01T10:05:07.104Z"
   },
   {
    "duration": 760,
    "start_time": "2022-02-01T10:05:12.891Z"
   },
   {
    "duration": 821,
    "start_time": "2022-02-01T10:07:26.275Z"
   },
   {
    "duration": 737,
    "start_time": "2022-02-01T10:08:11.097Z"
   },
   {
    "duration": 678,
    "start_time": "2022-02-01T10:09:14.702Z"
   },
   {
    "duration": 964,
    "start_time": "2022-02-01T10:22:27.243Z"
   },
   {
    "duration": 749,
    "start_time": "2022-02-01T10:22:45.093Z"
   },
   {
    "duration": 557,
    "start_time": "2022-02-01T10:22:59.328Z"
   },
   {
    "duration": 591,
    "start_time": "2022-02-01T10:23:11.856Z"
   },
   {
    "duration": 885,
    "start_time": "2022-02-01T10:23:40.934Z"
   },
   {
    "duration": 697,
    "start_time": "2022-02-01T10:25:28.471Z"
   },
   {
    "duration": 579,
    "start_time": "2022-02-01T10:25:37.375Z"
   },
   {
    "duration": 138,
    "start_time": "2022-02-01T10:28:13.240Z"
   },
   {
    "duration": 12,
    "start_time": "2022-02-01T10:29:43.753Z"
   },
   {
    "duration": 597,
    "start_time": "2022-02-01T10:29:56.280Z"
   },
   {
    "duration": 814,
    "start_time": "2022-02-01T10:30:04.546Z"
   },
   {
    "duration": 397,
    "start_time": "2022-02-01T10:30:25.157Z"
   },
   {
    "duration": 9,
    "start_time": "2022-02-01T10:30:40.301Z"
   },
   {
    "duration": 7,
    "start_time": "2022-02-01T10:33:52.612Z"
   },
   {
    "duration": 690,
    "start_time": "2022-02-01T10:35:06.855Z"
   },
   {
    "duration": 13,
    "start_time": "2022-02-01T10:35:20.763Z"
   },
   {
    "duration": 838,
    "start_time": "2022-02-01T10:35:27.716Z"
   },
   {
    "duration": 9,
    "start_time": "2022-02-01T10:35:34.878Z"
   },
   {
    "duration": 9,
    "start_time": "2022-02-01T10:35:46.778Z"
   },
   {
    "duration": 10,
    "start_time": "2022-02-01T10:35:51.051Z"
   },
   {
    "duration": 8,
    "start_time": "2022-02-01T10:35:56.902Z"
   },
   {
    "duration": 1259,
    "start_time": "2022-02-02T04:43:26.518Z"
   },
   {
    "duration": 2,
    "start_time": "2022-02-02T04:43:27.780Z"
   },
   {
    "duration": 457,
    "start_time": "2022-02-02T04:43:27.785Z"
   },
   {
    "duration": 31,
    "start_time": "2022-02-02T04:43:28.244Z"
   },
   {
    "duration": 25,
    "start_time": "2022-02-02T04:43:28.278Z"
   },
   {
    "duration": 21,
    "start_time": "2022-02-02T04:43:28.306Z"
   },
   {
    "duration": 12,
    "start_time": "2022-02-02T04:43:28.329Z"
   },
   {
    "duration": 17,
    "start_time": "2022-02-02T04:43:28.343Z"
   },
   {
    "duration": 6,
    "start_time": "2022-02-02T04:43:28.362Z"
   },
   {
    "duration": 39,
    "start_time": "2022-02-02T04:43:28.370Z"
   },
   {
    "duration": 75,
    "start_time": "2022-02-02T04:43:28.411Z"
   },
   {
    "duration": 27,
    "start_time": "2022-02-02T04:43:28.489Z"
   },
   {
    "duration": 5,
    "start_time": "2022-02-02T04:43:28.519Z"
   },
   {
    "duration": 58,
    "start_time": "2022-02-02T04:43:28.526Z"
   },
   {
    "duration": 53,
    "start_time": "2022-02-02T04:43:28.586Z"
   },
   {
    "duration": 18,
    "start_time": "2022-02-02T04:43:28.641Z"
   },
   {
    "duration": 17,
    "start_time": "2022-02-02T04:43:28.661Z"
   },
   {
    "duration": 26,
    "start_time": "2022-02-02T04:43:28.681Z"
   },
   {
    "duration": 12,
    "start_time": "2022-02-02T04:43:28.710Z"
   },
   {
    "duration": 25,
    "start_time": "2022-02-02T04:43:28.724Z"
   },
   {
    "duration": 8,
    "start_time": "2022-02-02T04:43:28.751Z"
   },
   {
    "duration": 9,
    "start_time": "2022-02-02T04:43:28.761Z"
   },
   {
    "duration": 5,
    "start_time": "2022-02-02T04:43:28.774Z"
   },
   {
    "duration": 3565,
    "start_time": "2022-02-02T04:43:28.782Z"
   },
   {
    "duration": 11,
    "start_time": "2022-02-02T04:43:32.349Z"
   },
   {
    "duration": 17,
    "start_time": "2022-02-02T04:43:32.363Z"
   },
   {
    "duration": 56,
    "start_time": "2022-02-02T04:43:32.382Z"
   },
   {
    "duration": 478,
    "start_time": "2022-02-02T04:43:32.440Z"
   },
   {
    "duration": 38,
    "start_time": "2022-02-02T04:43:32.921Z"
   },
   {
    "duration": 489,
    "start_time": "2022-02-02T04:43:32.961Z"
   },
   {
    "duration": 35,
    "start_time": "2022-02-02T04:43:33.452Z"
   },
   {
    "duration": 436,
    "start_time": "2022-02-02T04:43:33.507Z"
   },
   {
    "duration": 11,
    "start_time": "2022-02-02T04:43:33.946Z"
   },
   {
    "duration": 452,
    "start_time": "2022-02-02T04:43:33.959Z"
   },
   {
    "duration": 7,
    "start_time": "2022-02-02T04:43:34.413Z"
   },
   {
    "duration": 7,
    "start_time": "2022-02-02T04:43:34.422Z"
   },
   {
    "duration": 11,
    "start_time": "2022-02-02T04:43:34.431Z"
   },
   {
    "duration": 406,
    "start_time": "2022-02-02T04:43:34.444Z"
   },
   {
    "duration": 7,
    "start_time": "2022-02-02T04:43:34.853Z"
   },
   {
    "duration": 7,
    "start_time": "2022-02-02T06:28:54.353Z"
   },
   {
    "duration": 7,
    "start_time": "2022-02-02T06:29:11.523Z"
   },
   {
    "duration": 178,
    "start_time": "2022-02-02T06:34:48.283Z"
   },
   {
    "duration": 8,
    "start_time": "2022-02-02T06:35:49.536Z"
   },
   {
    "duration": 482,
    "start_time": "2022-02-02T07:12:26.451Z"
   },
   {
    "duration": 1285,
    "start_time": "2022-02-02T07:13:03.892Z"
   },
   {
    "duration": 3,
    "start_time": "2022-02-02T07:13:05.180Z"
   },
   {
    "duration": 479,
    "start_time": "2022-02-02T07:13:05.186Z"
   },
   {
    "duration": 33,
    "start_time": "2022-02-02T07:13:05.668Z"
   },
   {
    "duration": 24,
    "start_time": "2022-02-02T07:13:05.703Z"
   },
   {
    "duration": 22,
    "start_time": "2022-02-02T07:13:05.729Z"
   },
   {
    "duration": 23,
    "start_time": "2022-02-02T07:13:05.752Z"
   },
   {
    "duration": 40,
    "start_time": "2022-02-02T07:13:05.776Z"
   },
   {
    "duration": 7,
    "start_time": "2022-02-02T07:13:05.819Z"
   },
   {
    "duration": 16,
    "start_time": "2022-02-02T07:13:05.828Z"
   },
   {
    "duration": 97,
    "start_time": "2022-02-02T07:13:05.846Z"
   },
   {
    "duration": 14,
    "start_time": "2022-02-02T07:13:05.946Z"
   },
   {
    "duration": 44,
    "start_time": "2022-02-02T07:13:05.962Z"
   },
   {
    "duration": 69,
    "start_time": "2022-02-02T07:13:06.008Z"
   },
   {
    "duration": 47,
    "start_time": "2022-02-02T07:13:06.079Z"
   },
   {
    "duration": 20,
    "start_time": "2022-02-02T07:13:06.128Z"
   },
   {
    "duration": 15,
    "start_time": "2022-02-02T07:13:06.150Z"
   },
   {
    "duration": 9,
    "start_time": "2022-02-02T07:13:06.167Z"
   },
   {
    "duration": 28,
    "start_time": "2022-02-02T07:13:06.178Z"
   },
   {
    "duration": 23,
    "start_time": "2022-02-02T07:13:06.209Z"
   },
   {
    "duration": 8,
    "start_time": "2022-02-02T07:13:06.234Z"
   },
   {
    "duration": 9,
    "start_time": "2022-02-02T07:13:06.244Z"
   },
   {
    "duration": 17,
    "start_time": "2022-02-02T07:13:06.255Z"
   },
   {
    "duration": 3689,
    "start_time": "2022-02-02T07:13:06.274Z"
   },
   {
    "duration": 13,
    "start_time": "2022-02-02T07:13:09.965Z"
   },
   {
    "duration": 10,
    "start_time": "2022-02-02T07:13:09.980Z"
   },
   {
    "duration": 40,
    "start_time": "2022-02-02T07:13:10.008Z"
   },
   {
    "duration": 504,
    "start_time": "2022-02-02T07:13:10.051Z"
   },
   {
    "duration": 66,
    "start_time": "2022-02-02T07:13:10.557Z"
   },
   {
    "duration": 485,
    "start_time": "2022-02-02T07:13:10.625Z"
   },
   {
    "duration": 36,
    "start_time": "2022-02-02T07:13:11.113Z"
   },
   {
    "duration": 489,
    "start_time": "2022-02-02T07:13:11.151Z"
   },
   {
    "duration": 9,
    "start_time": "2022-02-02T07:13:11.642Z"
   },
   {
    "duration": 480,
    "start_time": "2022-02-02T07:13:11.653Z"
   },
   {
    "duration": 7,
    "start_time": "2022-02-02T07:13:12.135Z"
   },
   {
    "duration": 15,
    "start_time": "2022-02-02T07:13:12.144Z"
   },
   {
    "duration": 33,
    "start_time": "2022-02-02T07:13:12.161Z"
   },
   {
    "duration": 402,
    "start_time": "2022-02-02T07:13:12.196Z"
   },
   {
    "duration": 10,
    "start_time": "2022-02-02T07:13:12.600Z"
   },
   {
    "duration": 1220,
    "start_time": "2022-02-02T07:29:11.344Z"
   },
   {
    "duration": 3,
    "start_time": "2022-02-02T07:29:12.567Z"
   },
   {
    "duration": 457,
    "start_time": "2022-02-02T07:29:12.573Z"
   },
   {
    "duration": 33,
    "start_time": "2022-02-02T07:29:13.033Z"
   },
   {
    "duration": 37,
    "start_time": "2022-02-02T07:29:13.069Z"
   },
   {
    "duration": 31,
    "start_time": "2022-02-02T07:29:13.108Z"
   },
   {
    "duration": 18,
    "start_time": "2022-02-02T07:29:13.141Z"
   },
   {
    "duration": 48,
    "start_time": "2022-02-02T07:29:13.161Z"
   },
   {
    "duration": 7,
    "start_time": "2022-02-02T07:29:13.213Z"
   },
   {
    "duration": 8,
    "start_time": "2022-02-02T07:29:13.222Z"
   },
   {
    "duration": 133,
    "start_time": "2022-02-02T07:29:13.232Z"
   },
   {
    "duration": 13,
    "start_time": "2022-02-02T07:29:13.367Z"
   },
   {
    "duration": 9,
    "start_time": "2022-02-02T07:29:13.382Z"
   },
   {
    "duration": 78,
    "start_time": "2022-02-02T07:29:13.393Z"
   },
   {
    "duration": 68,
    "start_time": "2022-02-02T07:29:13.474Z"
   },
   {
    "duration": 33,
    "start_time": "2022-02-02T07:29:13.544Z"
   },
   {
    "duration": 41,
    "start_time": "2022-02-02T07:29:13.579Z"
   },
   {
    "duration": 11,
    "start_time": "2022-02-02T07:29:13.623Z"
   },
   {
    "duration": 5,
    "start_time": "2022-02-02T07:29:13.636Z"
   },
   {
    "duration": 31,
    "start_time": "2022-02-02T07:29:13.644Z"
   },
   {
    "duration": 10,
    "start_time": "2022-02-02T07:29:13.677Z"
   },
   {
    "duration": 10,
    "start_time": "2022-02-02T07:29:13.706Z"
   },
   {
    "duration": 6,
    "start_time": "2022-02-02T07:29:13.717Z"
   },
   {
    "duration": 3753,
    "start_time": "2022-02-02T07:29:13.725Z"
   },
   {
    "duration": 13,
    "start_time": "2022-02-02T07:29:17.480Z"
   },
   {
    "duration": 15,
    "start_time": "2022-02-02T07:29:17.495Z"
   },
   {
    "duration": 47,
    "start_time": "2022-02-02T07:29:17.515Z"
   },
   {
    "duration": 470,
    "start_time": "2022-02-02T07:29:17.565Z"
   },
   {
    "duration": 39,
    "start_time": "2022-02-02T07:29:18.037Z"
   },
   {
    "duration": 493,
    "start_time": "2022-02-02T07:29:18.079Z"
   },
   {
    "duration": 50,
    "start_time": "2022-02-02T07:29:18.574Z"
   },
   {
    "duration": 481,
    "start_time": "2022-02-02T07:29:18.626Z"
   },
   {
    "duration": 10,
    "start_time": "2022-02-02T07:29:19.109Z"
   },
   {
    "duration": 493,
    "start_time": "2022-02-02T07:29:19.121Z"
   },
   {
    "duration": 6,
    "start_time": "2022-02-02T07:29:19.616Z"
   },
   {
    "duration": 7,
    "start_time": "2022-02-02T07:29:19.624Z"
   },
   {
    "duration": 12,
    "start_time": "2022-02-02T07:29:19.633Z"
   },
   {
    "duration": 444,
    "start_time": "2022-02-02T07:29:19.647Z"
   },
   {
    "duration": 19,
    "start_time": "2022-02-02T07:29:20.094Z"
   },
   {
    "duration": 1420,
    "start_time": "2022-02-02T07:30:06.670Z"
   },
   {
    "duration": 3,
    "start_time": "2022-02-02T07:30:08.093Z"
   },
   {
    "duration": 471,
    "start_time": "2022-02-02T07:30:08.100Z"
   },
   {
    "duration": 35,
    "start_time": "2022-02-02T07:30:08.574Z"
   },
   {
    "duration": 27,
    "start_time": "2022-02-02T07:30:08.611Z"
   },
   {
    "duration": 33,
    "start_time": "2022-02-02T07:30:08.641Z"
   },
   {
    "duration": 42,
    "start_time": "2022-02-02T07:30:08.677Z"
   },
   {
    "duration": 36,
    "start_time": "2022-02-02T07:30:08.723Z"
   },
   {
    "duration": 8,
    "start_time": "2022-02-02T07:30:08.763Z"
   },
   {
    "duration": 38,
    "start_time": "2022-02-02T07:30:08.773Z"
   },
   {
    "duration": 118,
    "start_time": "2022-02-02T07:30:08.813Z"
   },
   {
    "duration": 13,
    "start_time": "2022-02-02T07:30:08.936Z"
   },
   {
    "duration": 12,
    "start_time": "2022-02-02T07:30:08.951Z"
   },
   {
    "duration": 69,
    "start_time": "2022-02-02T07:30:08.965Z"
   },
   {
    "duration": 41,
    "start_time": "2022-02-02T07:30:09.036Z"
   },
   {
    "duration": 31,
    "start_time": "2022-02-02T07:30:09.079Z"
   },
   {
    "duration": 17,
    "start_time": "2022-02-02T07:30:09.113Z"
   },
   {
    "duration": 9,
    "start_time": "2022-02-02T07:30:09.132Z"
   },
   {
    "duration": 71,
    "start_time": "2022-02-02T07:30:09.144Z"
   },
   {
    "duration": 73,
    "start_time": "2022-02-02T07:30:09.217Z"
   },
   {
    "duration": 15,
    "start_time": "2022-02-02T07:30:09.292Z"
   },
   {
    "duration": 33,
    "start_time": "2022-02-02T07:30:09.310Z"
   },
   {
    "duration": 12,
    "start_time": "2022-02-02T07:30:09.348Z"
   },
   {
    "duration": 5464,
    "start_time": "2022-02-02T07:30:09.363Z"
   },
   {
    "duration": 15,
    "start_time": "2022-02-02T07:30:14.829Z"
   },
   {
    "duration": 6,
    "start_time": "2022-02-02T07:30:14.846Z"
   },
   {
    "duration": 71,
    "start_time": "2022-02-02T07:30:14.854Z"
   },
   {
    "duration": 661,
    "start_time": "2022-02-02T07:30:14.928Z"
   },
   {
    "duration": 63,
    "start_time": "2022-02-02T07:30:15.592Z"
   },
   {
    "duration": 750,
    "start_time": "2022-02-02T07:30:15.657Z"
   },
   {
    "duration": 53,
    "start_time": "2022-02-02T07:30:16.410Z"
   },
   {
    "duration": 731,
    "start_time": "2022-02-02T07:30:16.466Z"
   },
   {
    "duration": 9,
    "start_time": "2022-02-02T07:30:17.207Z"
   },
   {
    "duration": 461,
    "start_time": "2022-02-02T07:30:17.218Z"
   },
   {
    "duration": 6,
    "start_time": "2022-02-02T07:30:17.682Z"
   },
   {
    "duration": 22,
    "start_time": "2022-02-02T07:30:17.690Z"
   },
   {
    "duration": 19,
    "start_time": "2022-02-02T07:30:17.714Z"
   },
   {
    "duration": 418,
    "start_time": "2022-02-02T07:30:17.735Z"
   },
   {
    "duration": 8,
    "start_time": "2022-02-02T07:30:18.156Z"
   },
   {
    "duration": 22,
    "start_time": "2022-02-11T21:05:01.330Z"
   },
   {
    "duration": 15,
    "start_time": "2022-02-11T21:05:01.355Z"
   },
   {
    "duration": 515,
    "start_time": "2022-02-11T21:05:01.372Z"
   },
   {
    "duration": 33,
    "start_time": "2022-02-11T21:05:01.890Z"
   },
   {
    "duration": 34,
    "start_time": "2022-02-11T21:05:01.925Z"
   },
   {
    "duration": 71,
    "start_time": "2022-02-11T21:05:01.962Z"
   },
   {
    "duration": 19,
    "start_time": "2022-02-11T21:05:02.036Z"
   },
   {
    "duration": 26,
    "start_time": "2022-02-11T21:05:02.059Z"
   },
   {
    "duration": 43,
    "start_time": "2022-02-11T21:05:02.088Z"
   },
   {
    "duration": 7,
    "start_time": "2022-02-11T21:05:02.134Z"
   },
   {
    "duration": 188,
    "start_time": "2022-02-11T21:05:02.143Z"
   },
   {
    "duration": 16,
    "start_time": "2022-02-11T21:05:02.335Z"
   },
   {
    "duration": 15,
    "start_time": "2022-02-11T21:05:02.356Z"
   },
   {
    "duration": 99,
    "start_time": "2022-02-11T21:05:02.376Z"
   },
   {
    "duration": 52,
    "start_time": "2022-02-11T21:05:02.478Z"
   },
   {
    "duration": 23,
    "start_time": "2022-02-11T21:05:02.533Z"
   },
   {
    "duration": 17,
    "start_time": "2022-02-11T21:05:02.559Z"
   },
   {
    "duration": 5,
    "start_time": "2022-02-11T21:05:02.579Z"
   },
   {
    "duration": 37,
    "start_time": "2022-02-11T21:05:02.586Z"
   },
   {
    "duration": 40,
    "start_time": "2022-02-11T21:05:02.627Z"
   },
   {
    "duration": 10,
    "start_time": "2022-02-11T21:05:02.669Z"
   },
   {
    "duration": 17,
    "start_time": "2022-02-11T21:05:02.683Z"
   },
   {
    "duration": 25,
    "start_time": "2022-02-11T21:05:02.703Z"
   },
   {
    "duration": 5607,
    "start_time": "2022-02-11T21:05:02.731Z"
   },
   {
    "duration": 15,
    "start_time": "2022-02-11T21:05:08.341Z"
   },
   {
    "duration": 5,
    "start_time": "2022-02-11T21:05:08.358Z"
   },
   {
    "duration": 78,
    "start_time": "2022-02-11T21:05:08.366Z"
   },
   {
    "duration": 1086,
    "start_time": "2022-02-11T21:05:08.446Z"
   },
   {
    "duration": 54,
    "start_time": "2022-02-11T21:05:09.540Z"
   },
   {
    "duration": 946,
    "start_time": "2022-02-11T21:05:09.597Z"
   },
   {
    "duration": 80,
    "start_time": "2022-02-11T21:05:10.546Z"
   },
   {
    "duration": 1047,
    "start_time": "2022-02-11T21:05:10.629Z"
   },
   {
    "duration": 18,
    "start_time": "2022-02-11T21:05:11.679Z"
   },
   {
    "duration": 782,
    "start_time": "2022-02-11T21:05:11.701Z"
   },
   {
    "duration": 8,
    "start_time": "2022-02-11T21:05:12.486Z"
   },
   {
    "duration": 27,
    "start_time": "2022-02-11T21:05:12.496Z"
   },
   {
    "duration": 14,
    "start_time": "2022-02-11T21:05:12.526Z"
   },
   {
    "duration": 699,
    "start_time": "2022-02-11T21:05:12.543Z"
   },
   {
    "duration": 8,
    "start_time": "2022-02-11T21:05:13.245Z"
   },
   {
    "duration": 16,
    "start_time": "2022-02-11T21:13:25.275Z"
   },
   {
    "duration": 1097,
    "start_time": "2022-02-16T09:27:37.331Z"
   },
   {
    "duration": 3,
    "start_time": "2022-02-16T09:27:38.429Z"
   },
   {
    "duration": 360,
    "start_time": "2022-02-16T09:27:38.435Z"
   },
   {
    "duration": 28,
    "start_time": "2022-02-16T09:27:38.797Z"
   },
   {
    "duration": 23,
    "start_time": "2022-02-16T09:27:38.827Z"
   },
   {
    "duration": 19,
    "start_time": "2022-02-16T09:27:38.852Z"
   },
   {
    "duration": 43,
    "start_time": "2022-02-16T09:27:38.873Z"
   },
   {
    "duration": 13,
    "start_time": "2022-02-16T09:27:38.918Z"
   },
   {
    "duration": 5,
    "start_time": "2022-02-16T09:27:39.512Z"
   },
   {
    "duration": 219,
    "start_time": "2022-02-16T09:28:30.821Z"
   },
   {
    "duration": 378,
    "start_time": "2022-02-16T09:28:41.196Z"
   },
   {
    "duration": 222,
    "start_time": "2022-02-16T09:29:02.191Z"
   },
   {
    "duration": 205,
    "start_time": "2022-02-16T09:29:09.365Z"
   },
   {
    "duration": 210,
    "start_time": "2022-02-16T09:29:51.582Z"
   },
   {
    "duration": 3,
    "start_time": "2022-02-16T09:31:14.219Z"
   },
   {
    "duration": 4,
    "start_time": "2022-02-16T09:31:14.224Z"
   },
   {
    "duration": 361,
    "start_time": "2022-02-16T09:31:14.230Z"
   },
   {
    "duration": 24,
    "start_time": "2022-02-16T09:31:14.593Z"
   },
   {
    "duration": 21,
    "start_time": "2022-02-16T09:31:14.618Z"
   },
   {
    "duration": 18,
    "start_time": "2022-02-16T09:31:14.640Z"
   },
   {
    "duration": 10,
    "start_time": "2022-02-16T09:31:14.660Z"
   },
   {
    "duration": 99,
    "start_time": "2022-02-16T09:31:14.671Z"
   },
   {
    "duration": 5,
    "start_time": "2022-02-16T09:31:14.772Z"
   },
   {
    "duration": 232,
    "start_time": "2022-02-16T09:31:14.778Z"
   },
   {
    "duration": 219,
    "start_time": "2022-02-16T09:31:15.012Z"
   },
   {
    "duration": 4,
    "start_time": "2022-02-16T09:31:15.233Z"
   },
   {
    "duration": 75,
    "start_time": "2022-02-16T09:31:15.239Z"
   },
   {
    "duration": 10,
    "start_time": "2022-02-16T09:31:15.315Z"
   },
   {
    "duration": 9,
    "start_time": "2022-02-16T09:31:15.327Z"
   },
   {
    "duration": 55,
    "start_time": "2022-02-16T09:31:15.337Z"
   },
   {
    "duration": 48,
    "start_time": "2022-02-16T09:31:15.393Z"
   },
   {
    "duration": 18,
    "start_time": "2022-02-16T09:31:15.445Z"
   },
   {
    "duration": 15,
    "start_time": "2022-02-16T09:31:15.465Z"
   },
   {
    "duration": 30,
    "start_time": "2022-02-16T09:31:15.482Z"
   },
   {
    "duration": 5,
    "start_time": "2022-02-16T09:31:15.514Z"
   },
   {
    "duration": 22,
    "start_time": "2022-02-16T09:31:15.521Z"
   },
   {
    "duration": 8,
    "start_time": "2022-02-16T09:31:15.545Z"
   },
   {
    "duration": 8,
    "start_time": "2022-02-16T09:31:15.554Z"
   },
   {
    "duration": 6,
    "start_time": "2022-02-16T09:31:15.564Z"
   },
   {
    "duration": 3394,
    "start_time": "2022-02-16T09:31:15.572Z"
   },
   {
    "duration": 10,
    "start_time": "2022-02-16T09:31:18.968Z"
   },
   {
    "duration": 19,
    "start_time": "2022-02-16T09:31:18.980Z"
   },
   {
    "duration": 66,
    "start_time": "2022-02-16T09:31:19.001Z"
   },
   {
    "duration": 327,
    "start_time": "2022-02-16T09:31:58.809Z"
   },
   {
    "duration": 226,
    "start_time": "2022-02-16T09:32:06.171Z"
   },
   {
    "duration": 38,
    "start_time": "2022-02-16T09:32:10.583Z"
   },
   {
    "duration": 420,
    "start_time": "2022-02-16T09:33:45.168Z"
   },
   {
    "duration": 848,
    "start_time": "2022-02-16T09:36:03.194Z"
   },
   {
    "duration": 498,
    "start_time": "2022-02-16T09:36:26.476Z"
   },
   {
    "duration": 1070,
    "start_time": "2022-02-16T09:45:00.551Z"
   },
   {
    "duration": 3,
    "start_time": "2022-02-16T09:45:01.629Z"
   },
   {
    "duration": 368,
    "start_time": "2022-02-16T09:45:01.635Z"
   },
   {
    "duration": 41,
    "start_time": "2022-02-16T09:45:02.005Z"
   },
   {
    "duration": 23,
    "start_time": "2022-02-16T09:45:02.048Z"
   },
   {
    "duration": 46,
    "start_time": "2022-02-16T09:45:02.073Z"
   },
   {
    "duration": 13,
    "start_time": "2022-02-16T09:45:02.121Z"
   },
   {
    "duration": 12,
    "start_time": "2022-02-16T09:45:02.136Z"
   },
   {
    "duration": 6,
    "start_time": "2022-02-16T09:45:02.150Z"
   },
   {
    "duration": 508,
    "start_time": "2022-02-16T09:45:02.158Z"
   },
   {
    "duration": 5,
    "start_time": "2022-02-16T09:45:02.667Z"
   },
   {
    "duration": 89,
    "start_time": "2022-02-16T09:45:02.674Z"
   },
   {
    "duration": 10,
    "start_time": "2022-02-16T09:45:02.765Z"
   },
   {
    "duration": 6,
    "start_time": "2022-02-16T09:45:02.777Z"
   },
   {
    "duration": 76,
    "start_time": "2022-02-16T09:45:02.785Z"
   },
   {
    "duration": 35,
    "start_time": "2022-02-16T09:45:02.863Z"
   },
   {
    "duration": 40,
    "start_time": "2022-02-16T09:45:02.900Z"
   },
   {
    "duration": 17,
    "start_time": "2022-02-16T09:45:02.942Z"
   },
   {
    "duration": 65,
    "start_time": "2022-02-16T09:45:02.961Z"
   },
   {
    "duration": 15,
    "start_time": "2022-02-16T09:45:03.028Z"
   },
   {
    "duration": 34,
    "start_time": "2022-02-16T09:45:03.045Z"
   },
   {
    "duration": 20,
    "start_time": "2022-02-16T09:45:03.081Z"
   },
   {
    "duration": 37,
    "start_time": "2022-02-16T09:45:03.104Z"
   },
   {
    "duration": 7,
    "start_time": "2022-02-16T09:45:03.143Z"
   },
   {
    "duration": 3580,
    "start_time": "2022-02-16T09:45:03.151Z"
   },
   {
    "duration": 10,
    "start_time": "2022-02-16T09:45:06.733Z"
   },
   {
    "duration": 4,
    "start_time": "2022-02-16T09:45:06.745Z"
   },
   {
    "duration": 37,
    "start_time": "2022-02-16T09:45:06.750Z"
   },
   {
    "duration": 482,
    "start_time": "2022-02-16T09:45:06.789Z"
   },
   {
    "duration": 49,
    "start_time": "2022-02-16T09:45:07.272Z"
   },
   {
    "duration": 491,
    "start_time": "2022-02-16T09:45:07.325Z"
   },
   {
    "duration": 39,
    "start_time": "2022-02-16T09:45:07.818Z"
   },
   {
    "duration": 531,
    "start_time": "2022-02-16T09:45:07.859Z"
   },
   {
    "duration": 8,
    "start_time": "2022-02-16T09:45:08.392Z"
   },
   {
    "duration": 389,
    "start_time": "2022-02-16T09:45:08.401Z"
   },
   {
    "duration": 6,
    "start_time": "2022-02-16T09:45:08.792Z"
   },
   {
    "duration": 17,
    "start_time": "2022-02-16T09:45:08.799Z"
   },
   {
    "duration": 11,
    "start_time": "2022-02-16T09:45:08.818Z"
   },
   {
    "duration": 407,
    "start_time": "2022-02-16T09:45:08.831Z"
   },
   {
    "duration": 6,
    "start_time": "2022-02-16T09:45:09.239Z"
   },
   {
    "duration": 1100,
    "start_time": "2022-02-16T18:09:47.749Z"
   },
   {
    "duration": 3,
    "start_time": "2022-02-16T18:09:48.851Z"
   },
   {
    "duration": 362,
    "start_time": "2022-02-16T18:09:48.856Z"
   },
   {
    "duration": 30,
    "start_time": "2022-02-16T18:09:49.220Z"
   },
   {
    "duration": 22,
    "start_time": "2022-02-16T18:09:49.252Z"
   },
   {
    "duration": 20,
    "start_time": "2022-02-16T18:09:49.276Z"
   },
   {
    "duration": 42,
    "start_time": "2022-02-16T18:09:49.297Z"
   },
   {
    "duration": 14,
    "start_time": "2022-02-16T18:09:49.342Z"
   },
   {
    "duration": 5,
    "start_time": "2022-02-16T18:09:49.358Z"
   },
   {
    "duration": 433,
    "start_time": "2022-02-16T18:09:49.365Z"
   },
   {
    "duration": 5,
    "start_time": "2022-02-16T18:09:49.800Z"
   },
   {
    "duration": 81,
    "start_time": "2022-02-16T18:09:49.807Z"
   },
   {
    "duration": 10,
    "start_time": "2022-02-16T18:09:49.890Z"
   },
   {
    "duration": 13,
    "start_time": "2022-02-16T18:09:49.902Z"
   },
   {
    "duration": 59,
    "start_time": "2022-02-16T18:09:49.916Z"
   },
   {
    "duration": 34,
    "start_time": "2022-02-16T18:09:49.977Z"
   },
   {
    "duration": 33,
    "start_time": "2022-02-16T18:09:50.013Z"
   },
   {
    "duration": 17,
    "start_time": "2022-02-16T18:09:50.048Z"
   },
   {
    "duration": 6,
    "start_time": "2022-02-16T18:09:50.067Z"
   },
   {
    "duration": 11,
    "start_time": "2022-02-16T18:09:50.075Z"
   },
   {
    "duration": 42,
    "start_time": "2022-02-16T18:09:50.088Z"
   },
   {
    "duration": 8,
    "start_time": "2022-02-16T18:09:50.132Z"
   },
   {
    "duration": 10,
    "start_time": "2022-02-16T18:09:50.144Z"
   },
   {
    "duration": 8,
    "start_time": "2022-02-16T18:09:50.157Z"
   },
   {
    "duration": 3307,
    "start_time": "2022-02-16T18:09:50.166Z"
   },
   {
    "duration": 9,
    "start_time": "2022-02-16T18:09:53.475Z"
   },
   {
    "duration": 14,
    "start_time": "2022-02-16T18:09:53.486Z"
   },
   {
    "duration": 46,
    "start_time": "2022-02-16T18:09:53.501Z"
   },
   {
    "duration": 255,
    "start_time": "2022-02-16T18:09:53.549Z"
   },
   {
    "duration": 17,
    "start_time": "2022-02-16T18:09:53.789Z"
   },
   {
    "duration": 10,
    "start_time": "2022-02-16T18:09:53.797Z"
   },
   {
    "duration": -49,
    "start_time": "2022-02-16T18:09:53.857Z"
   },
   {
    "duration": -53,
    "start_time": "2022-02-16T18:09:53.863Z"
   },
   {
    "duration": -81,
    "start_time": "2022-02-16T18:09:53.892Z"
   },
   {
    "duration": -120,
    "start_time": "2022-02-16T18:09:53.932Z"
   },
   {
    "duration": -125,
    "start_time": "2022-02-16T18:09:53.938Z"
   },
   {
    "duration": -130,
    "start_time": "2022-02-16T18:09:53.944Z"
   },
   {
    "duration": -152,
    "start_time": "2022-02-16T18:09:53.967Z"
   },
   {
    "duration": -156,
    "start_time": "2022-02-16T18:09:53.972Z"
   },
   {
    "duration": -160,
    "start_time": "2022-02-16T18:09:53.977Z"
   },
   {
    "duration": -167,
    "start_time": "2022-02-16T18:09:53.986Z"
   },
   {
    "duration": -171,
    "start_time": "2022-02-16T18:09:53.991Z"
   },
   {
    "duration": 88,
    "start_time": "2022-02-16T18:12:20.889Z"
   },
   {
    "duration": 3136,
    "start_time": "2022-02-16T18:12:37.556Z"
   },
   {
    "duration": 253,
    "start_time": "2022-02-16T18:12:48.559Z"
   },
   {
    "duration": 171,
    "start_time": "2022-02-16T18:13:25.268Z"
   },
   {
    "duration": 174,
    "start_time": "2022-02-16T18:13:32.719Z"
   },
   {
    "duration": 183,
    "start_time": "2022-02-16T18:13:37.627Z"
   },
   {
    "duration": 42,
    "start_time": "2022-02-16T18:13:40.142Z"
   },
   {
    "duration": 3176,
    "start_time": "2022-02-16T18:13:48.452Z"
   },
   {
    "duration": 56,
    "start_time": "2022-02-16T18:15:10.703Z"
   },
   {
    "duration": 3311,
    "start_time": "2022-02-16T18:16:09.015Z"
   },
   {
    "duration": 47,
    "start_time": "2022-02-16T18:16:21.788Z"
   },
   {
    "duration": 53,
    "start_time": "2022-02-16T18:16:32.139Z"
   },
   {
    "duration": 47,
    "start_time": "2022-02-16T18:16:35.747Z"
   },
   {
    "duration": 3276,
    "start_time": "2022-02-16T18:16:41.889Z"
   },
   {
    "duration": 48,
    "start_time": "2022-02-16T18:16:52.244Z"
   },
   {
    "duration": 1036,
    "start_time": "2022-02-22T10:37:56.704Z"
   },
   {
    "duration": 2,
    "start_time": "2022-02-22T10:37:57.742Z"
   },
   {
    "duration": 345,
    "start_time": "2022-02-22T10:37:57.745Z"
   },
   {
    "duration": 26,
    "start_time": "2022-02-22T10:37:58.092Z"
   },
   {
    "duration": 20,
    "start_time": "2022-02-22T10:37:58.119Z"
   },
   {
    "duration": 16,
    "start_time": "2022-02-22T10:37:58.140Z"
   },
   {
    "duration": 9,
    "start_time": "2022-02-22T10:37:58.158Z"
   },
   {
    "duration": 11,
    "start_time": "2022-02-22T10:37:58.169Z"
   },
   {
    "duration": 7,
    "start_time": "2022-02-22T10:37:58.181Z"
   },
   {
    "duration": 397,
    "start_time": "2022-02-22T10:37:58.190Z"
   },
   {
    "duration": 5,
    "start_time": "2022-02-22T10:37:58.588Z"
   },
   {
    "duration": 70,
    "start_time": "2022-02-22T10:37:58.594Z"
   },
   {
    "duration": 8,
    "start_time": "2022-02-22T10:37:58.666Z"
   },
   {
    "duration": 7,
    "start_time": "2022-02-22T10:37:58.676Z"
   },
   {
    "duration": 54,
    "start_time": "2022-02-22T10:37:58.684Z"
   },
   {
    "duration": 35,
    "start_time": "2022-02-22T10:37:58.740Z"
   },
   {
    "duration": 17,
    "start_time": "2022-02-22T10:37:58.777Z"
   },
   {
    "duration": 15,
    "start_time": "2022-02-22T10:37:58.795Z"
   },
   {
    "duration": 16,
    "start_time": "2022-02-22T10:37:58.812Z"
   },
   {
    "duration": 18,
    "start_time": "2022-02-22T10:37:58.829Z"
   },
   {
    "duration": 24,
    "start_time": "2022-02-22T10:37:58.849Z"
   },
   {
    "duration": 6,
    "start_time": "2022-02-22T10:37:58.875Z"
   },
   {
    "duration": 7,
    "start_time": "2022-02-22T10:37:58.884Z"
   },
   {
    "duration": 4,
    "start_time": "2022-02-22T10:37:58.893Z"
   },
   {
    "duration": 3078,
    "start_time": "2022-02-22T10:37:58.899Z"
   },
   {
    "duration": 8,
    "start_time": "2022-02-22T10:38:01.979Z"
   },
   {
    "duration": 16,
    "start_time": "2022-02-22T10:38:01.989Z"
   },
   {
    "duration": 42,
    "start_time": "2022-02-22T10:38:02.007Z"
   },
   {
    "duration": 360,
    "start_time": "2022-02-22T10:38:02.050Z"
   },
   {
    "duration": 45,
    "start_time": "2022-02-22T10:38:02.412Z"
   },
   {
    "duration": 381,
    "start_time": "2022-02-22T10:38:02.459Z"
   },
   {
    "duration": 37,
    "start_time": "2022-02-22T10:38:02.842Z"
   },
   {
    "duration": 449,
    "start_time": "2022-02-22T10:38:02.880Z"
   },
   {
    "duration": 15,
    "start_time": "2022-02-22T10:38:03.331Z"
   },
   {
    "duration": 316,
    "start_time": "2022-02-22T10:38:03.347Z"
   },
   {
    "duration": 4,
    "start_time": "2022-02-22T10:38:03.665Z"
   },
   {
    "duration": 4,
    "start_time": "2022-02-22T10:38:03.671Z"
   },
   {
    "duration": 10,
    "start_time": "2022-02-22T10:38:03.677Z"
   },
   {
    "duration": 325,
    "start_time": "2022-02-22T10:38:03.688Z"
   },
   {
    "duration": 5,
    "start_time": "2022-02-22T10:38:04.014Z"
   },
   {
    "duration": 1086,
    "start_time": "2022-02-22T11:33:20.757Z"
   },
   {
    "duration": 3,
    "start_time": "2022-02-22T11:33:21.844Z"
   },
   {
    "duration": 372,
    "start_time": "2022-02-22T11:33:21.849Z"
   },
   {
    "duration": 26,
    "start_time": "2022-02-22T11:33:22.222Z"
   },
   {
    "duration": 19,
    "start_time": "2022-02-22T11:33:22.249Z"
   },
   {
    "duration": 17,
    "start_time": "2022-02-22T11:33:22.270Z"
   },
   {
    "duration": 10,
    "start_time": "2022-02-22T11:33:22.289Z"
   },
   {
    "duration": 11,
    "start_time": "2022-02-22T11:33:22.302Z"
   },
   {
    "duration": 32,
    "start_time": "2022-02-22T11:33:22.315Z"
   },
   {
    "duration": 368,
    "start_time": "2022-02-22T11:33:22.349Z"
   },
   {
    "duration": 4,
    "start_time": "2022-02-22T11:33:22.719Z"
   },
   {
    "duration": 70,
    "start_time": "2022-02-22T11:33:22.725Z"
   },
   {
    "duration": 9,
    "start_time": "2022-02-22T11:33:22.797Z"
   },
   {
    "duration": 7,
    "start_time": "2022-02-22T11:33:22.808Z"
   },
   {
    "duration": 55,
    "start_time": "2022-02-22T11:33:22.817Z"
   },
   {
    "duration": 30,
    "start_time": "2022-02-22T11:33:22.874Z"
   },
   {
    "duration": 17,
    "start_time": "2022-02-22T11:33:22.906Z"
   },
   {
    "duration": 30,
    "start_time": "2022-02-22T11:33:22.924Z"
   },
   {
    "duration": 7,
    "start_time": "2022-02-22T11:33:22.955Z"
   },
   {
    "duration": 3,
    "start_time": "2022-02-22T11:33:22.964Z"
   },
   {
    "duration": 20,
    "start_time": "2022-02-22T11:33:22.969Z"
   },
   {
    "duration": 7,
    "start_time": "2022-02-22T11:33:22.990Z"
   },
   {
    "duration": 6,
    "start_time": "2022-02-22T11:33:23.001Z"
   },
   {
    "duration": 6,
    "start_time": "2022-02-22T11:33:23.009Z"
   },
   {
    "duration": 3029,
    "start_time": "2022-02-22T11:33:23.017Z"
   },
   {
    "duration": 9,
    "start_time": "2022-02-22T11:33:26.048Z"
   },
   {
    "duration": 5,
    "start_time": "2022-02-22T11:33:26.059Z"
   },
   {
    "duration": 35,
    "start_time": "2022-02-22T11:33:26.066Z"
   },
   {
    "duration": 383,
    "start_time": "2022-02-22T11:33:26.102Z"
   },
   {
    "duration": 34,
    "start_time": "2022-02-22T11:33:26.487Z"
   },
   {
    "duration": 391,
    "start_time": "2022-02-22T11:33:26.522Z"
   },
   {
    "duration": 41,
    "start_time": "2022-02-22T11:33:26.915Z"
   },
   {
    "duration": 432,
    "start_time": "2022-02-22T11:33:26.957Z"
   },
   {
    "duration": 7,
    "start_time": "2022-02-22T11:33:27.390Z"
   },
   {
    "duration": 323,
    "start_time": "2022-02-22T11:33:27.399Z"
   },
   {
    "duration": 4,
    "start_time": "2022-02-22T11:33:27.724Z"
   },
   {
    "duration": 17,
    "start_time": "2022-02-22T11:33:27.730Z"
   },
   {
    "duration": 7,
    "start_time": "2022-02-22T11:33:27.749Z"
   },
   {
    "duration": 331,
    "start_time": "2022-02-22T11:33:27.758Z"
   },
   {
    "duration": 6,
    "start_time": "2022-02-22T11:33:28.090Z"
   }
  ],
  "kernelspec": {
   "display_name": "Python 3",
   "language": "python",
   "name": "python3"
  },
  "language_info": {
   "codemirror_mode": {
    "name": "ipython",
    "version": 3
   },
   "file_extension": ".py",
   "mimetype": "text/x-python",
   "name": "python",
   "nbconvert_exporter": "python",
   "pygments_lexer": "ipython3",
   "version": "3.8.5"
  },
  "toc": {
   "base_numbering": 1,
   "nav_menu": {
    "height": "215px",
    "width": "230px"
   },
   "number_sections": false,
   "sideBar": true,
   "skip_h1_title": true,
   "title_cell": "Содержание",
   "title_sidebar": "Contents",
   "toc_cell": true,
   "toc_position": {
    "height": "calc(100% - 180px)",
    "left": "10px",
    "top": "150px",
    "width": "185px"
   },
   "toc_section_display": true,
   "toc_window_display": true
  }
 },
 "nbformat": 4,
 "nbformat_minor": 2
}
