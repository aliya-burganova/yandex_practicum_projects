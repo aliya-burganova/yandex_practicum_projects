{
 "cells": [
  {
   "cell_type": "markdown",
   "metadata": {
    "toc": true
   },
   "source": [
    "<h1>Содержание<span class=\"tocSkip\"></span></h1>\n",
    "<div class=\"toc\"><ul class=\"toc-item\"><li><span><a href=\"#Описание-проекта\" data-toc-modified-id=\"Описание-проекта-1\">Описание проекта</a></span></li><li><span><a href=\"#Описание-данных\" data-toc-modified-id=\"Описание-данных-2\">Описание данных</a></span></li><li><span><a href=\"#Общая-информация-о-данных\" data-toc-modified-id=\"Общая-информация-о-данных-3\">Общая информация о данных</a></span><ul class=\"toc-item\"><li><span><a href=\"#Вывод\" data-toc-modified-id=\"Вывод-3.1\">Вывод</a></span></li></ul></li><li><span><a href=\"#Предобработка-данных\" data-toc-modified-id=\"Предобработка-данных-4\">Предобработка данных</a></span><ul class=\"toc-item\"><li><span><a href=\"#Вывод\" data-toc-modified-id=\"Вывод-4.1\">Вывод</a></span></li></ul></li><li><span><a href=\"#Исследовательский-анализ-данных\" data-toc-modified-id=\"Исследовательский-анализ-данных-5\">Исследовательский анализ данных</a></span><ul class=\"toc-item\"><li><span><a href=\"#Количество-игр-в-разные-годы\" data-toc-modified-id=\"Количество-игр-в-разные-годы-5.1\">Количество игр в разные годы</a></span></li><li><span><a href=\"#Время-жизни-платформы\" data-toc-modified-id=\"Время-жизни-платформы-5.2\">Время жизни платформы</a></span></li><li><span><a href=\"#Перспективные-платформы\" data-toc-modified-id=\"Перспективные-платформы-5.3\">Перспективные платформы</a></span></li><li><span><a href=\"#Зависимость-продаж-и-оценок\" data-toc-modified-id=\"Зависимость-продаж-и-оценок-5.4\">Зависимость продаж и оценок</a></span></li><li><span><a href=\"#Популярные-жанры\" data-toc-modified-id=\"Популярные-жанры-5.5\">Популярные жанры</a></span></li><li><span><a href=\"#Вывод\" data-toc-modified-id=\"Вывод-5.6\">Вывод</a></span></li></ul></li><li><span><a href=\"#Портрет-пользователя\" data-toc-modified-id=\"Портрет-пользователя-6\">Портрет пользователя</a></span><ul class=\"toc-item\"><li><span><a href=\"#Вывод\" data-toc-modified-id=\"Вывод-6.1\">Вывод</a></span></li></ul></li><li><span><a href=\"#Проверка-гипотез\" data-toc-modified-id=\"Проверка-гипотез-7\">Проверка гипотез</a></span><ul class=\"toc-item\"><li><span><a href=\"#Сравнение-средних-пользовательских-рейтингов-Xbox-One-и-PC\" data-toc-modified-id=\"Сравнение-средних-пользовательских-рейтингов-Xbox-One-и-PC-7.1\">Сравнение средних пользовательских рейтингов Xbox One и PC</a></span><ul class=\"toc-item\"><li><span><a href=\"#Двусторонняя-проверка:-средние-пользовательские-рейтинги-Xbox-One-и-PC-равны\" data-toc-modified-id=\"Двусторонняя-проверка:-средние-пользовательские-рейтинги-Xbox-One-и-PC-равны-7.1.1\">Двусторонняя проверка: средние пользовательские рейтинги Xbox One и PC равны</a></span></li></ul></li><li><span><a href=\"#Сравнение-средних-пользовательских-рейтингов-жанров-Action-и-Sports\" data-toc-modified-id=\"Сравнение-средних-пользовательских-рейтингов-жанров-Action-и-Sports-7.2\">Сравнение средних пользовательских рейтингов жанров Action и Sports</a></span><ul class=\"toc-item\"><li><span><a href=\"#Двусторонняя-проверка:-Средние-пользовательские-рейтинги-жанров-Action-и-Sports-равны\" data-toc-modified-id=\"Двусторонняя-проверка:-Средние-пользовательские-рейтинги-жанров-Action-и-Sports-равны-7.2.1\">Двусторонняя проверка: Средние пользовательские рейтинги жанров Action и Sports равны</a></span></li><li><span><a href=\"#Односторонняя-проверка:-Средний-пользовательский-рейтинг-жанра-Action-больше-рейтинга-Sports\" data-toc-modified-id=\"Односторонняя-проверка:-Средний-пользовательский-рейтинг-жанра-Action-больше-рейтинга-Sports-7.2.2\">Односторонняя проверка: Средний пользовательский рейтинг жанра Action больше рейтинга Sports</a></span></li></ul></li></ul></li><li><span><a href=\"#Общий-вывод\" data-toc-modified-id=\"Общий-вывод-8\">Общий вывод</a></span></li></ul></div>"
   ]
  },
  {
   "cell_type": "markdown",
   "metadata": {},
   "source": [
    "## Описание проекта"
   ]
  },
  {
   "cell_type": "markdown",
   "metadata": {},
   "source": [
    "Из открытых источников доступны исторические данные о продажах игр, оценки пользователей и экспертов, жанры и платформы (например, Xbox или PlayStation). \n",
    "Необходимо выявить определяющие успешность игры закономерности. Это позволит сделать ставку на потенциально популярный продукт и спланировать рекламные кампании."
   ]
  },
  {
   "cell_type": "markdown",
   "metadata": {},
   "source": [
    "## Описание данных"
   ]
  },
  {
   "cell_type": "markdown",
   "metadata": {},
   "source": [
    "- `Name` — название игры\n",
    "- `Platform` — платформа\n",
    "- `Year_of_Release` — год выпуска\n",
    "- `Genre` — жанр игры\n",
    "- `NA_sales` — продажи в Северной Америке (миллионы проданных копий)\n",
    "- `EU_sales` — продажи в Европе (миллионы проданных копий)\n",
    "- `JP_sales` — продажи в Японии (миллионы проданных копий)\n",
    "- `Other_sales` — продажи в других странах (миллионы проданных копий)\n",
    "- `Critic_Score` — оценка критиков (максимум 100)\n",
    "- `User_Score` — оценка пользователей (максимум 10)\n",
    "- `Rating` — рейтинг от организации ESRB (англ. Entertainment Software Rating Board). Эта ассоциация определяет рейтинг компьютерных игр и присваивает им подходящую возрастную категорию.<br><br>\n",
    "Данные за 2016 год могут быть неполными."
   ]
  },
  {
   "cell_type": "code",
   "execution_count": 1,
   "metadata": {},
   "outputs": [],
   "source": [
    "import pandas as pd\n",
    "import numpy as np\n",
    "import matplotlib.pyplot as plt\n",
    "import scipy.stats as st\n",
    "import seaborn as sns"
   ]
  },
  {
   "cell_type": "markdown",
   "metadata": {},
   "source": [
    "## Общая информация о данных"
   ]
  },
  {
   "cell_type": "code",
   "execution_count": 2,
   "metadata": {},
   "outputs": [],
   "source": [
    "games = pd.read_csv('games.csv')"
   ]
  },
  {
   "cell_type": "code",
   "execution_count": 3,
   "metadata": {},
   "outputs": [
    {
     "data": {
      "text/html": [
       "<div>\n",
       "<style scoped>\n",
       "    .dataframe tbody tr th:only-of-type {\n",
       "        vertical-align: middle;\n",
       "    }\n",
       "\n",
       "    .dataframe tbody tr th {\n",
       "        vertical-align: top;\n",
       "    }\n",
       "\n",
       "    .dataframe thead th {\n",
       "        text-align: right;\n",
       "    }\n",
       "</style>\n",
       "<table border=\"1\" class=\"dataframe\">\n",
       "  <thead>\n",
       "    <tr style=\"text-align: right;\">\n",
       "      <th></th>\n",
       "      <th>Unnamed: 0</th>\n",
       "      <th>Name</th>\n",
       "      <th>Platform</th>\n",
       "      <th>Year_of_Release</th>\n",
       "      <th>Genre</th>\n",
       "      <th>NA_sales</th>\n",
       "      <th>EU_sales</th>\n",
       "      <th>JP_sales</th>\n",
       "      <th>Other_sales</th>\n",
       "      <th>Critic_Score</th>\n",
       "      <th>User_Score</th>\n",
       "      <th>Rating</th>\n",
       "    </tr>\n",
       "  </thead>\n",
       "  <tbody>\n",
       "    <tr>\n",
       "      <th>0</th>\n",
       "      <td>0</td>\n",
       "      <td>Wii Sports</td>\n",
       "      <td>Wii</td>\n",
       "      <td>2006.0</td>\n",
       "      <td>Sports</td>\n",
       "      <td>41.36</td>\n",
       "      <td>28.96</td>\n",
       "      <td>3.77</td>\n",
       "      <td>8.45</td>\n",
       "      <td>76.0</td>\n",
       "      <td>8</td>\n",
       "      <td>E</td>\n",
       "    </tr>\n",
       "    <tr>\n",
       "      <th>1</th>\n",
       "      <td>1</td>\n",
       "      <td>Super Mario Bros.</td>\n",
       "      <td>NES</td>\n",
       "      <td>1985.0</td>\n",
       "      <td>Platform</td>\n",
       "      <td>29.08</td>\n",
       "      <td>3.58</td>\n",
       "      <td>6.81</td>\n",
       "      <td>0.77</td>\n",
       "      <td>NaN</td>\n",
       "      <td>NaN</td>\n",
       "      <td>NaN</td>\n",
       "    </tr>\n",
       "    <tr>\n",
       "      <th>2</th>\n",
       "      <td>2</td>\n",
       "      <td>Mario Kart Wii</td>\n",
       "      <td>Wii</td>\n",
       "      <td>2008.0</td>\n",
       "      <td>Racing</td>\n",
       "      <td>15.68</td>\n",
       "      <td>12.76</td>\n",
       "      <td>3.79</td>\n",
       "      <td>3.29</td>\n",
       "      <td>82.0</td>\n",
       "      <td>8.3</td>\n",
       "      <td>E</td>\n",
       "    </tr>\n",
       "    <tr>\n",
       "      <th>3</th>\n",
       "      <td>3</td>\n",
       "      <td>Wii Sports Resort</td>\n",
       "      <td>Wii</td>\n",
       "      <td>2009.0</td>\n",
       "      <td>Sports</td>\n",
       "      <td>15.61</td>\n",
       "      <td>10.93</td>\n",
       "      <td>3.28</td>\n",
       "      <td>2.95</td>\n",
       "      <td>80.0</td>\n",
       "      <td>8</td>\n",
       "      <td>E</td>\n",
       "    </tr>\n",
       "    <tr>\n",
       "      <th>4</th>\n",
       "      <td>4</td>\n",
       "      <td>Pokemon Red/Pokemon Blue</td>\n",
       "      <td>GB</td>\n",
       "      <td>1996.0</td>\n",
       "      <td>Role-Playing</td>\n",
       "      <td>11.27</td>\n",
       "      <td>8.89</td>\n",
       "      <td>10.22</td>\n",
       "      <td>1.00</td>\n",
       "      <td>NaN</td>\n",
       "      <td>NaN</td>\n",
       "      <td>NaN</td>\n",
       "    </tr>\n",
       "  </tbody>\n",
       "</table>\n",
       "</div>"
      ],
      "text/plain": [
       "   Unnamed: 0                      Name Platform  Year_of_Release  \\\n",
       "0           0                Wii Sports      Wii           2006.0   \n",
       "1           1         Super Mario Bros.      NES           1985.0   \n",
       "2           2            Mario Kart Wii      Wii           2008.0   \n",
       "3           3         Wii Sports Resort      Wii           2009.0   \n",
       "4           4  Pokemon Red/Pokemon Blue       GB           1996.0   \n",
       "\n",
       "          Genre  NA_sales  EU_sales  JP_sales  Other_sales  Critic_Score  \\\n",
       "0        Sports     41.36     28.96      3.77         8.45          76.0   \n",
       "1      Platform     29.08      3.58      6.81         0.77           NaN   \n",
       "2        Racing     15.68     12.76      3.79         3.29          82.0   \n",
       "3        Sports     15.61     10.93      3.28         2.95          80.0   \n",
       "4  Role-Playing     11.27      8.89     10.22         1.00           NaN   \n",
       "\n",
       "  User_Score Rating  \n",
       "0          8      E  \n",
       "1        NaN    NaN  \n",
       "2        8.3      E  \n",
       "3          8      E  \n",
       "4        NaN    NaN  "
      ]
     },
     "execution_count": 3,
     "metadata": {},
     "output_type": "execute_result"
    }
   ],
   "source": [
    "games.head()"
   ]
  },
  {
   "cell_type": "code",
   "execution_count": 4,
   "metadata": {
    "scrolled": true
   },
   "outputs": [
    {
     "name": "stdout",
     "output_type": "stream",
     "text": [
      "<class 'pandas.core.frame.DataFrame'>\n",
      "RangeIndex: 16715 entries, 0 to 16714\n",
      "Data columns (total 12 columns):\n",
      " #   Column           Non-Null Count  Dtype  \n",
      "---  ------           --------------  -----  \n",
      " 0   Unnamed: 0       16715 non-null  int64  \n",
      " 1   Name             16713 non-null  object \n",
      " 2   Platform         16715 non-null  object \n",
      " 3   Year_of_Release  16446 non-null  float64\n",
      " 4   Genre            16713 non-null  object \n",
      " 5   NA_sales         16715 non-null  float64\n",
      " 6   EU_sales         16715 non-null  float64\n",
      " 7   JP_sales         16715 non-null  float64\n",
      " 8   Other_sales      16715 non-null  float64\n",
      " 9   Critic_Score     8137 non-null   float64\n",
      " 10  User_Score       10014 non-null  object \n",
      " 11  Rating           9949 non-null   object \n",
      "dtypes: float64(6), int64(1), object(5)\n",
      "memory usage: 1.5+ MB\n"
     ]
    }
   ],
   "source": [
    "games.info()"
   ]
  },
  {
   "cell_type": "markdown",
   "metadata": {},
   "source": [
    "`user_score` имеет тип object, связано с тем, что имеется значение `tbd`."
   ]
  },
  {
   "cell_type": "code",
   "execution_count": 5,
   "metadata": {
    "scrolled": true
   },
   "outputs": [
    {
     "data": {
      "text/plain": [
       "Unnamed: 0            0\n",
       "Name                  2\n",
       "Platform              0\n",
       "Year_of_Release     269\n",
       "Genre                 2\n",
       "NA_sales              0\n",
       "EU_sales              0\n",
       "JP_sales              0\n",
       "Other_sales           0\n",
       "Critic_Score       8578\n",
       "User_Score         6701\n",
       "Rating             6766\n",
       "dtype: int64"
      ]
     },
     "execution_count": 5,
     "metadata": {},
     "output_type": "execute_result"
    }
   ],
   "source": [
    "games.isna().sum()"
   ]
  },
  {
   "cell_type": "markdown",
   "metadata": {},
   "source": [
    "### Вывод"
   ]
  },
  {
   "cell_type": "markdown",
   "metadata": {},
   "source": [
    "Очень много пропусков в оценках критиков и пользователей, а также в рейтинге.<br>\n",
    "Тип данных не соответствует в столбце `User_Score`"
   ]
  },
  {
   "cell_type": "markdown",
   "metadata": {},
   "source": [
    "***"
   ]
  },
  {
   "cell_type": "markdown",
   "metadata": {},
   "source": [
    "## Предобработка данных"
   ]
  },
  {
   "cell_type": "markdown",
   "metadata": {},
   "source": [
    "- Приведем названия столбцов к нижнему регистру\n",
    "- Преобразуем данные в нужные типы\n",
    "- Обработаем пропуски при необходимости\n",
    "- Посчитаем суммарные продажи во всех регионах"
   ]
  },
  {
   "cell_type": "code",
   "execution_count": 6,
   "metadata": {},
   "outputs": [],
   "source": [
    "games.columns = games.columns.str.lower()"
   ]
  },
  {
   "cell_type": "markdown",
   "metadata": {},
   "source": [
    "Попробуем заполнить пропуски в столбце `year_of_release`. <br>\n",
    "Возможно в названиях игр есть и год их выхода, например `Madden NFL 2004`."
   ]
  },
  {
   "cell_type": "code",
   "execution_count": 7,
   "metadata": {},
   "outputs": [],
   "source": [
    "ind = games[(games['year_of_release'].isna()) & (games['name'].str.contains('\\d{4}'))].index"
   ]
  },
  {
   "cell_type": "code",
   "execution_count": 8,
   "metadata": {},
   "outputs": [
    {
     "data": {
      "text/html": [
       "<div>\n",
       "<style scoped>\n",
       "    .dataframe tbody tr th:only-of-type {\n",
       "        vertical-align: middle;\n",
       "    }\n",
       "\n",
       "    .dataframe tbody tr th {\n",
       "        vertical-align: top;\n",
       "    }\n",
       "\n",
       "    .dataframe thead th {\n",
       "        text-align: right;\n",
       "    }\n",
       "</style>\n",
       "<table border=\"1\" class=\"dataframe\">\n",
       "  <thead>\n",
       "    <tr style=\"text-align: right;\">\n",
       "      <th></th>\n",
       "      <th>unnamed: 0</th>\n",
       "      <th>name</th>\n",
       "      <th>platform</th>\n",
       "      <th>year_of_release</th>\n",
       "      <th>genre</th>\n",
       "      <th>na_sales</th>\n",
       "      <th>eu_sales</th>\n",
       "      <th>jp_sales</th>\n",
       "      <th>other_sales</th>\n",
       "      <th>critic_score</th>\n",
       "      <th>user_score</th>\n",
       "      <th>rating</th>\n",
       "    </tr>\n",
       "  </thead>\n",
       "  <tbody>\n",
       "    <tr>\n",
       "      <th>183</th>\n",
       "      <td>183</td>\n",
       "      <td>Madden NFL 2004</td>\n",
       "      <td>PS2</td>\n",
       "      <td>NaN</td>\n",
       "      <td>Sports</td>\n",
       "      <td>4.26</td>\n",
       "      <td>0.26</td>\n",
       "      <td>0.01</td>\n",
       "      <td>0.71</td>\n",
       "      <td>94.0</td>\n",
       "      <td>8.5</td>\n",
       "      <td>E</td>\n",
       "    </tr>\n",
       "    <tr>\n",
       "      <th>377</th>\n",
       "      <td>377</td>\n",
       "      <td>FIFA Soccer 2004</td>\n",
       "      <td>PS2</td>\n",
       "      <td>NaN</td>\n",
       "      <td>Sports</td>\n",
       "      <td>0.59</td>\n",
       "      <td>2.36</td>\n",
       "      <td>0.04</td>\n",
       "      <td>0.51</td>\n",
       "      <td>84.0</td>\n",
       "      <td>6.4</td>\n",
       "      <td>E</td>\n",
       "    </tr>\n",
       "    <tr>\n",
       "      <th>475</th>\n",
       "      <td>475</td>\n",
       "      <td>wwe Smackdown vs. Raw 2006</td>\n",
       "      <td>PS2</td>\n",
       "      <td>NaN</td>\n",
       "      <td>Fighting</td>\n",
       "      <td>1.57</td>\n",
       "      <td>1.02</td>\n",
       "      <td>0.00</td>\n",
       "      <td>0.41</td>\n",
       "      <td>NaN</td>\n",
       "      <td>NaN</td>\n",
       "      <td>NaN</td>\n",
       "    </tr>\n",
       "    <tr>\n",
       "      <th>1650</th>\n",
       "      <td>1650</td>\n",
       "      <td>NASCAR Thunder 2003</td>\n",
       "      <td>PS2</td>\n",
       "      <td>NaN</td>\n",
       "      <td>Racing</td>\n",
       "      <td>0.60</td>\n",
       "      <td>0.46</td>\n",
       "      <td>0.00</td>\n",
       "      <td>0.16</td>\n",
       "      <td>84.0</td>\n",
       "      <td>8.7</td>\n",
       "      <td>E</td>\n",
       "    </tr>\n",
       "    <tr>\n",
       "      <th>2572</th>\n",
       "      <td>2572</td>\n",
       "      <td>PES 2009: Pro Evolution Soccer</td>\n",
       "      <td>PSP</td>\n",
       "      <td>NaN</td>\n",
       "      <td>Sports</td>\n",
       "      <td>0.04</td>\n",
       "      <td>0.33</td>\n",
       "      <td>0.26</td>\n",
       "      <td>0.17</td>\n",
       "      <td>NaN</td>\n",
       "      <td>NaN</td>\n",
       "      <td>NaN</td>\n",
       "    </tr>\n",
       "    <tr>\n",
       "      <th>3486</th>\n",
       "      <td>3486</td>\n",
       "      <td>Madden NFL 2002</td>\n",
       "      <td>XB</td>\n",
       "      <td>NaN</td>\n",
       "      <td>Sports</td>\n",
       "      <td>0.53</td>\n",
       "      <td>0.02</td>\n",
       "      <td>0.00</td>\n",
       "      <td>0.03</td>\n",
       "      <td>90.0</td>\n",
       "      <td>8.1</td>\n",
       "      <td>E</td>\n",
       "    </tr>\n",
       "    <tr>\n",
       "      <th>4775</th>\n",
       "      <td>4775</td>\n",
       "      <td>NFL GameDay 2003</td>\n",
       "      <td>PS2</td>\n",
       "      <td>NaN</td>\n",
       "      <td>Sports</td>\n",
       "      <td>0.20</td>\n",
       "      <td>0.15</td>\n",
       "      <td>0.00</td>\n",
       "      <td>0.05</td>\n",
       "      <td>60.0</td>\n",
       "      <td>tbd</td>\n",
       "      <td>E</td>\n",
       "    </tr>\n",
       "    <tr>\n",
       "      <th>5156</th>\n",
       "      <td>5156</td>\n",
       "      <td>NBA Live 2003</td>\n",
       "      <td>XB</td>\n",
       "      <td>NaN</td>\n",
       "      <td>Sports</td>\n",
       "      <td>0.31</td>\n",
       "      <td>0.04</td>\n",
       "      <td>0.00</td>\n",
       "      <td>0.01</td>\n",
       "      <td>82.0</td>\n",
       "      <td>8.8</td>\n",
       "      <td>E</td>\n",
       "    </tr>\n",
       "    <tr>\n",
       "      <th>5336</th>\n",
       "      <td>5336</td>\n",
       "      <td>Tomb Raider (2013)</td>\n",
       "      <td>PC</td>\n",
       "      <td>NaN</td>\n",
       "      <td>Action</td>\n",
       "      <td>0.06</td>\n",
       "      <td>0.25</td>\n",
       "      <td>0.00</td>\n",
       "      <td>0.04</td>\n",
       "      <td>86.0</td>\n",
       "      <td>8.5</td>\n",
       "      <td>M</td>\n",
       "    </tr>\n",
       "    <tr>\n",
       "      <th>5655</th>\n",
       "      <td>5655</td>\n",
       "      <td>All-Star Baseball 2005</td>\n",
       "      <td>PS2</td>\n",
       "      <td>NaN</td>\n",
       "      <td>Sports</td>\n",
       "      <td>0.16</td>\n",
       "      <td>0.12</td>\n",
       "      <td>0.00</td>\n",
       "      <td>0.04</td>\n",
       "      <td>72.0</td>\n",
       "      <td>8.6</td>\n",
       "      <td>E</td>\n",
       "    </tr>\n",
       "    <tr>\n",
       "      <th>5889</th>\n",
       "      <td>5889</td>\n",
       "      <td>NBA Live 2003</td>\n",
       "      <td>GC</td>\n",
       "      <td>NaN</td>\n",
       "      <td>Sports</td>\n",
       "      <td>0.23</td>\n",
       "      <td>0.06</td>\n",
       "      <td>0.00</td>\n",
       "      <td>0.01</td>\n",
       "      <td>82.0</td>\n",
       "      <td>8.2</td>\n",
       "      <td>E</td>\n",
       "    </tr>\n",
       "    <tr>\n",
       "      <th>8918</th>\n",
       "      <td>8918</td>\n",
       "      <td>All-Star Baseball 2005</td>\n",
       "      <td>XB</td>\n",
       "      <td>NaN</td>\n",
       "      <td>Sports</td>\n",
       "      <td>0.11</td>\n",
       "      <td>0.03</td>\n",
       "      <td>0.00</td>\n",
       "      <td>0.01</td>\n",
       "      <td>75.0</td>\n",
       "      <td>8.8</td>\n",
       "      <td>E</td>\n",
       "    </tr>\n",
       "    <tr>\n",
       "      <th>13195</th>\n",
       "      <td>13195</td>\n",
       "      <td>Tour de France 2011</td>\n",
       "      <td>X360</td>\n",
       "      <td>NaN</td>\n",
       "      <td>Racing</td>\n",
       "      <td>0.00</td>\n",
       "      <td>0.04</td>\n",
       "      <td>0.00</td>\n",
       "      <td>0.01</td>\n",
       "      <td>46.0</td>\n",
       "      <td>7.6</td>\n",
       "      <td>NaN</td>\n",
       "    </tr>\n",
       "    <tr>\n",
       "      <th>13929</th>\n",
       "      <td>13929</td>\n",
       "      <td>Sega Rally 2006</td>\n",
       "      <td>PS2</td>\n",
       "      <td>NaN</td>\n",
       "      <td>Racing</td>\n",
       "      <td>0.00</td>\n",
       "      <td>0.00</td>\n",
       "      <td>0.04</td>\n",
       "      <td>0.00</td>\n",
       "      <td>NaN</td>\n",
       "      <td>NaN</td>\n",
       "      <td>NaN</td>\n",
       "    </tr>\n",
       "    <tr>\n",
       "      <th>15953</th>\n",
       "      <td>15953</td>\n",
       "      <td>PDC World Championship Darts 2008</td>\n",
       "      <td>DS</td>\n",
       "      <td>NaN</td>\n",
       "      <td>Sports</td>\n",
       "      <td>0.01</td>\n",
       "      <td>0.00</td>\n",
       "      <td>0.00</td>\n",
       "      <td>0.00</td>\n",
       "      <td>NaN</td>\n",
       "      <td>NaN</td>\n",
       "      <td>NaN</td>\n",
       "    </tr>\n",
       "    <tr>\n",
       "      <th>16079</th>\n",
       "      <td>16079</td>\n",
       "      <td>Football Manager 2007</td>\n",
       "      <td>X360</td>\n",
       "      <td>NaN</td>\n",
       "      <td>Sports</td>\n",
       "      <td>0.00</td>\n",
       "      <td>0.01</td>\n",
       "      <td>0.00</td>\n",
       "      <td>0.00</td>\n",
       "      <td>NaN</td>\n",
       "      <td>NaN</td>\n",
       "      <td>NaN</td>\n",
       "    </tr>\n",
       "    <tr>\n",
       "      <th>16373</th>\n",
       "      <td>16373</td>\n",
       "      <td>PDC World Championship Darts 2008</td>\n",
       "      <td>PSP</td>\n",
       "      <td>NaN</td>\n",
       "      <td>Sports</td>\n",
       "      <td>0.01</td>\n",
       "      <td>0.00</td>\n",
       "      <td>0.00</td>\n",
       "      <td>0.00</td>\n",
       "      <td>43.0</td>\n",
       "      <td>tbd</td>\n",
       "      <td>E10+</td>\n",
       "    </tr>\n",
       "  </tbody>\n",
       "</table>\n",
       "</div>"
      ],
      "text/plain": [
       "       unnamed: 0                               name platform  \\\n",
       "183           183                    Madden NFL 2004      PS2   \n",
       "377           377                   FIFA Soccer 2004      PS2   \n",
       "475           475         wwe Smackdown vs. Raw 2006      PS2   \n",
       "1650         1650                NASCAR Thunder 2003      PS2   \n",
       "2572         2572     PES 2009: Pro Evolution Soccer      PSP   \n",
       "3486         3486                    Madden NFL 2002       XB   \n",
       "4775         4775                   NFL GameDay 2003      PS2   \n",
       "5156         5156                      NBA Live 2003       XB   \n",
       "5336         5336                 Tomb Raider (2013)       PC   \n",
       "5655         5655             All-Star Baseball 2005      PS2   \n",
       "5889         5889                      NBA Live 2003       GC   \n",
       "8918         8918             All-Star Baseball 2005       XB   \n",
       "13195       13195                Tour de France 2011     X360   \n",
       "13929       13929                    Sega Rally 2006      PS2   \n",
       "15953       15953  PDC World Championship Darts 2008       DS   \n",
       "16079       16079              Football Manager 2007     X360   \n",
       "16373       16373  PDC World Championship Darts 2008      PSP   \n",
       "\n",
       "       year_of_release     genre  na_sales  eu_sales  jp_sales  other_sales  \\\n",
       "183                NaN    Sports      4.26      0.26      0.01         0.71   \n",
       "377                NaN    Sports      0.59      2.36      0.04         0.51   \n",
       "475                NaN  Fighting      1.57      1.02      0.00         0.41   \n",
       "1650               NaN    Racing      0.60      0.46      0.00         0.16   \n",
       "2572               NaN    Sports      0.04      0.33      0.26         0.17   \n",
       "3486               NaN    Sports      0.53      0.02      0.00         0.03   \n",
       "4775               NaN    Sports      0.20      0.15      0.00         0.05   \n",
       "5156               NaN    Sports      0.31      0.04      0.00         0.01   \n",
       "5336               NaN    Action      0.06      0.25      0.00         0.04   \n",
       "5655               NaN    Sports      0.16      0.12      0.00         0.04   \n",
       "5889               NaN    Sports      0.23      0.06      0.00         0.01   \n",
       "8918               NaN    Sports      0.11      0.03      0.00         0.01   \n",
       "13195              NaN    Racing      0.00      0.04      0.00         0.01   \n",
       "13929              NaN    Racing      0.00      0.00      0.04         0.00   \n",
       "15953              NaN    Sports      0.01      0.00      0.00         0.00   \n",
       "16079              NaN    Sports      0.00      0.01      0.00         0.00   \n",
       "16373              NaN    Sports      0.01      0.00      0.00         0.00   \n",
       "\n",
       "       critic_score user_score rating  \n",
       "183            94.0        8.5      E  \n",
       "377            84.0        6.4      E  \n",
       "475             NaN        NaN    NaN  \n",
       "1650           84.0        8.7      E  \n",
       "2572            NaN        NaN    NaN  \n",
       "3486           90.0        8.1      E  \n",
       "4775           60.0        tbd      E  \n",
       "5156           82.0        8.8      E  \n",
       "5336           86.0        8.5      M  \n",
       "5655           72.0        8.6      E  \n",
       "5889           82.0        8.2      E  \n",
       "8918           75.0        8.8      E  \n",
       "13195          46.0        7.6    NaN  \n",
       "13929           NaN        NaN    NaN  \n",
       "15953           NaN        NaN    NaN  \n",
       "16079           NaN        NaN    NaN  \n",
       "16373          43.0        tbd   E10+  "
      ]
     },
     "execution_count": 8,
     "metadata": {},
     "output_type": "execute_result"
    }
   ],
   "source": [
    "games.loc[ind]"
   ]
  },
  {
   "cell_type": "code",
   "execution_count": 9,
   "metadata": {},
   "outputs": [],
   "source": [
    "games.loc[(games['year_of_release'].isna()) & (games['name'].str.contains('\\d{4}')), 'year_of_release'] = (\n",
    "    games.loc[(games['year_of_release'].isna()) & (games['name'].str.contains('\\d{4}')), 'name']\n",
    "    .str.extract('(\\d{4})')[0]\n",
    ")"
   ]
  },
  {
   "cell_type": "code",
   "execution_count": 10,
   "metadata": {
    "scrolled": true
   },
   "outputs": [
    {
     "data": {
      "text/html": [
       "<div>\n",
       "<style scoped>\n",
       "    .dataframe tbody tr th:only-of-type {\n",
       "        vertical-align: middle;\n",
       "    }\n",
       "\n",
       "    .dataframe tbody tr th {\n",
       "        vertical-align: top;\n",
       "    }\n",
       "\n",
       "    .dataframe thead th {\n",
       "        text-align: right;\n",
       "    }\n",
       "</style>\n",
       "<table border=\"1\" class=\"dataframe\">\n",
       "  <thead>\n",
       "    <tr style=\"text-align: right;\">\n",
       "      <th></th>\n",
       "      <th>unnamed: 0</th>\n",
       "      <th>name</th>\n",
       "      <th>platform</th>\n",
       "      <th>year_of_release</th>\n",
       "      <th>genre</th>\n",
       "      <th>na_sales</th>\n",
       "      <th>eu_sales</th>\n",
       "      <th>jp_sales</th>\n",
       "      <th>other_sales</th>\n",
       "      <th>critic_score</th>\n",
       "      <th>user_score</th>\n",
       "      <th>rating</th>\n",
       "    </tr>\n",
       "  </thead>\n",
       "  <tbody>\n",
       "    <tr>\n",
       "      <th>183</th>\n",
       "      <td>183</td>\n",
       "      <td>Madden NFL 2004</td>\n",
       "      <td>PS2</td>\n",
       "      <td>2004</td>\n",
       "      <td>Sports</td>\n",
       "      <td>4.26</td>\n",
       "      <td>0.26</td>\n",
       "      <td>0.01</td>\n",
       "      <td>0.71</td>\n",
       "      <td>94.0</td>\n",
       "      <td>8.5</td>\n",
       "      <td>E</td>\n",
       "    </tr>\n",
       "    <tr>\n",
       "      <th>377</th>\n",
       "      <td>377</td>\n",
       "      <td>FIFA Soccer 2004</td>\n",
       "      <td>PS2</td>\n",
       "      <td>2004</td>\n",
       "      <td>Sports</td>\n",
       "      <td>0.59</td>\n",
       "      <td>2.36</td>\n",
       "      <td>0.04</td>\n",
       "      <td>0.51</td>\n",
       "      <td>84.0</td>\n",
       "      <td>6.4</td>\n",
       "      <td>E</td>\n",
       "    </tr>\n",
       "    <tr>\n",
       "      <th>475</th>\n",
       "      <td>475</td>\n",
       "      <td>wwe Smackdown vs. Raw 2006</td>\n",
       "      <td>PS2</td>\n",
       "      <td>2006</td>\n",
       "      <td>Fighting</td>\n",
       "      <td>1.57</td>\n",
       "      <td>1.02</td>\n",
       "      <td>0.00</td>\n",
       "      <td>0.41</td>\n",
       "      <td>NaN</td>\n",
       "      <td>NaN</td>\n",
       "      <td>NaN</td>\n",
       "    </tr>\n",
       "    <tr>\n",
       "      <th>1650</th>\n",
       "      <td>1650</td>\n",
       "      <td>NASCAR Thunder 2003</td>\n",
       "      <td>PS2</td>\n",
       "      <td>2003</td>\n",
       "      <td>Racing</td>\n",
       "      <td>0.60</td>\n",
       "      <td>0.46</td>\n",
       "      <td>0.00</td>\n",
       "      <td>0.16</td>\n",
       "      <td>84.0</td>\n",
       "      <td>8.7</td>\n",
       "      <td>E</td>\n",
       "    </tr>\n",
       "    <tr>\n",
       "      <th>2572</th>\n",
       "      <td>2572</td>\n",
       "      <td>PES 2009: Pro Evolution Soccer</td>\n",
       "      <td>PSP</td>\n",
       "      <td>2009</td>\n",
       "      <td>Sports</td>\n",
       "      <td>0.04</td>\n",
       "      <td>0.33</td>\n",
       "      <td>0.26</td>\n",
       "      <td>0.17</td>\n",
       "      <td>NaN</td>\n",
       "      <td>NaN</td>\n",
       "      <td>NaN</td>\n",
       "    </tr>\n",
       "    <tr>\n",
       "      <th>3486</th>\n",
       "      <td>3486</td>\n",
       "      <td>Madden NFL 2002</td>\n",
       "      <td>XB</td>\n",
       "      <td>2002</td>\n",
       "      <td>Sports</td>\n",
       "      <td>0.53</td>\n",
       "      <td>0.02</td>\n",
       "      <td>0.00</td>\n",
       "      <td>0.03</td>\n",
       "      <td>90.0</td>\n",
       "      <td>8.1</td>\n",
       "      <td>E</td>\n",
       "    </tr>\n",
       "    <tr>\n",
       "      <th>4775</th>\n",
       "      <td>4775</td>\n",
       "      <td>NFL GameDay 2003</td>\n",
       "      <td>PS2</td>\n",
       "      <td>2003</td>\n",
       "      <td>Sports</td>\n",
       "      <td>0.20</td>\n",
       "      <td>0.15</td>\n",
       "      <td>0.00</td>\n",
       "      <td>0.05</td>\n",
       "      <td>60.0</td>\n",
       "      <td>tbd</td>\n",
       "      <td>E</td>\n",
       "    </tr>\n",
       "    <tr>\n",
       "      <th>5156</th>\n",
       "      <td>5156</td>\n",
       "      <td>NBA Live 2003</td>\n",
       "      <td>XB</td>\n",
       "      <td>2003</td>\n",
       "      <td>Sports</td>\n",
       "      <td>0.31</td>\n",
       "      <td>0.04</td>\n",
       "      <td>0.00</td>\n",
       "      <td>0.01</td>\n",
       "      <td>82.0</td>\n",
       "      <td>8.8</td>\n",
       "      <td>E</td>\n",
       "    </tr>\n",
       "    <tr>\n",
       "      <th>5336</th>\n",
       "      <td>5336</td>\n",
       "      <td>Tomb Raider (2013)</td>\n",
       "      <td>PC</td>\n",
       "      <td>2013</td>\n",
       "      <td>Action</td>\n",
       "      <td>0.06</td>\n",
       "      <td>0.25</td>\n",
       "      <td>0.00</td>\n",
       "      <td>0.04</td>\n",
       "      <td>86.0</td>\n",
       "      <td>8.5</td>\n",
       "      <td>M</td>\n",
       "    </tr>\n",
       "    <tr>\n",
       "      <th>5655</th>\n",
       "      <td>5655</td>\n",
       "      <td>All-Star Baseball 2005</td>\n",
       "      <td>PS2</td>\n",
       "      <td>2005</td>\n",
       "      <td>Sports</td>\n",
       "      <td>0.16</td>\n",
       "      <td>0.12</td>\n",
       "      <td>0.00</td>\n",
       "      <td>0.04</td>\n",
       "      <td>72.0</td>\n",
       "      <td>8.6</td>\n",
       "      <td>E</td>\n",
       "    </tr>\n",
       "    <tr>\n",
       "      <th>5889</th>\n",
       "      <td>5889</td>\n",
       "      <td>NBA Live 2003</td>\n",
       "      <td>GC</td>\n",
       "      <td>2003</td>\n",
       "      <td>Sports</td>\n",
       "      <td>0.23</td>\n",
       "      <td>0.06</td>\n",
       "      <td>0.00</td>\n",
       "      <td>0.01</td>\n",
       "      <td>82.0</td>\n",
       "      <td>8.2</td>\n",
       "      <td>E</td>\n",
       "    </tr>\n",
       "    <tr>\n",
       "      <th>8918</th>\n",
       "      <td>8918</td>\n",
       "      <td>All-Star Baseball 2005</td>\n",
       "      <td>XB</td>\n",
       "      <td>2005</td>\n",
       "      <td>Sports</td>\n",
       "      <td>0.11</td>\n",
       "      <td>0.03</td>\n",
       "      <td>0.00</td>\n",
       "      <td>0.01</td>\n",
       "      <td>75.0</td>\n",
       "      <td>8.8</td>\n",
       "      <td>E</td>\n",
       "    </tr>\n",
       "    <tr>\n",
       "      <th>13195</th>\n",
       "      <td>13195</td>\n",
       "      <td>Tour de France 2011</td>\n",
       "      <td>X360</td>\n",
       "      <td>2011</td>\n",
       "      <td>Racing</td>\n",
       "      <td>0.00</td>\n",
       "      <td>0.04</td>\n",
       "      <td>0.00</td>\n",
       "      <td>0.01</td>\n",
       "      <td>46.0</td>\n",
       "      <td>7.6</td>\n",
       "      <td>NaN</td>\n",
       "    </tr>\n",
       "    <tr>\n",
       "      <th>13929</th>\n",
       "      <td>13929</td>\n",
       "      <td>Sega Rally 2006</td>\n",
       "      <td>PS2</td>\n",
       "      <td>2006</td>\n",
       "      <td>Racing</td>\n",
       "      <td>0.00</td>\n",
       "      <td>0.00</td>\n",
       "      <td>0.04</td>\n",
       "      <td>0.00</td>\n",
       "      <td>NaN</td>\n",
       "      <td>NaN</td>\n",
       "      <td>NaN</td>\n",
       "    </tr>\n",
       "    <tr>\n",
       "      <th>15953</th>\n",
       "      <td>15953</td>\n",
       "      <td>PDC World Championship Darts 2008</td>\n",
       "      <td>DS</td>\n",
       "      <td>2008</td>\n",
       "      <td>Sports</td>\n",
       "      <td>0.01</td>\n",
       "      <td>0.00</td>\n",
       "      <td>0.00</td>\n",
       "      <td>0.00</td>\n",
       "      <td>NaN</td>\n",
       "      <td>NaN</td>\n",
       "      <td>NaN</td>\n",
       "    </tr>\n",
       "    <tr>\n",
       "      <th>16079</th>\n",
       "      <td>16079</td>\n",
       "      <td>Football Manager 2007</td>\n",
       "      <td>X360</td>\n",
       "      <td>2007</td>\n",
       "      <td>Sports</td>\n",
       "      <td>0.00</td>\n",
       "      <td>0.01</td>\n",
       "      <td>0.00</td>\n",
       "      <td>0.00</td>\n",
       "      <td>NaN</td>\n",
       "      <td>NaN</td>\n",
       "      <td>NaN</td>\n",
       "    </tr>\n",
       "    <tr>\n",
       "      <th>16373</th>\n",
       "      <td>16373</td>\n",
       "      <td>PDC World Championship Darts 2008</td>\n",
       "      <td>PSP</td>\n",
       "      <td>2008</td>\n",
       "      <td>Sports</td>\n",
       "      <td>0.01</td>\n",
       "      <td>0.00</td>\n",
       "      <td>0.00</td>\n",
       "      <td>0.00</td>\n",
       "      <td>43.0</td>\n",
       "      <td>tbd</td>\n",
       "      <td>E10+</td>\n",
       "    </tr>\n",
       "  </tbody>\n",
       "</table>\n",
       "</div>"
      ],
      "text/plain": [
       "       unnamed: 0                               name platform year_of_release  \\\n",
       "183           183                    Madden NFL 2004      PS2            2004   \n",
       "377           377                   FIFA Soccer 2004      PS2            2004   \n",
       "475           475         wwe Smackdown vs. Raw 2006      PS2            2006   \n",
       "1650         1650                NASCAR Thunder 2003      PS2            2003   \n",
       "2572         2572     PES 2009: Pro Evolution Soccer      PSP            2009   \n",
       "3486         3486                    Madden NFL 2002       XB            2002   \n",
       "4775         4775                   NFL GameDay 2003      PS2            2003   \n",
       "5156         5156                      NBA Live 2003       XB            2003   \n",
       "5336         5336                 Tomb Raider (2013)       PC            2013   \n",
       "5655         5655             All-Star Baseball 2005      PS2            2005   \n",
       "5889         5889                      NBA Live 2003       GC            2003   \n",
       "8918         8918             All-Star Baseball 2005       XB            2005   \n",
       "13195       13195                Tour de France 2011     X360            2011   \n",
       "13929       13929                    Sega Rally 2006      PS2            2006   \n",
       "15953       15953  PDC World Championship Darts 2008       DS            2008   \n",
       "16079       16079              Football Manager 2007     X360            2007   \n",
       "16373       16373  PDC World Championship Darts 2008      PSP            2008   \n",
       "\n",
       "          genre  na_sales  eu_sales  jp_sales  other_sales  critic_score  \\\n",
       "183      Sports      4.26      0.26      0.01         0.71          94.0   \n",
       "377      Sports      0.59      2.36      0.04         0.51          84.0   \n",
       "475    Fighting      1.57      1.02      0.00         0.41           NaN   \n",
       "1650     Racing      0.60      0.46      0.00         0.16          84.0   \n",
       "2572     Sports      0.04      0.33      0.26         0.17           NaN   \n",
       "3486     Sports      0.53      0.02      0.00         0.03          90.0   \n",
       "4775     Sports      0.20      0.15      0.00         0.05          60.0   \n",
       "5156     Sports      0.31      0.04      0.00         0.01          82.0   \n",
       "5336     Action      0.06      0.25      0.00         0.04          86.0   \n",
       "5655     Sports      0.16      0.12      0.00         0.04          72.0   \n",
       "5889     Sports      0.23      0.06      0.00         0.01          82.0   \n",
       "8918     Sports      0.11      0.03      0.00         0.01          75.0   \n",
       "13195    Racing      0.00      0.04      0.00         0.01          46.0   \n",
       "13929    Racing      0.00      0.00      0.04         0.00           NaN   \n",
       "15953    Sports      0.01      0.00      0.00         0.00           NaN   \n",
       "16079    Sports      0.00      0.01      0.00         0.00           NaN   \n",
       "16373    Sports      0.01      0.00      0.00         0.00          43.0   \n",
       "\n",
       "      user_score rating  \n",
       "183          8.5      E  \n",
       "377          6.4      E  \n",
       "475          NaN    NaN  \n",
       "1650         8.7      E  \n",
       "2572         NaN    NaN  \n",
       "3486         8.1      E  \n",
       "4775         tbd      E  \n",
       "5156         8.8      E  \n",
       "5336         8.5      M  \n",
       "5655         8.6      E  \n",
       "5889         8.2      E  \n",
       "8918         8.8      E  \n",
       "13195        7.6    NaN  \n",
       "13929        NaN    NaN  \n",
       "15953        NaN    NaN  \n",
       "16079        NaN    NaN  \n",
       "16373        tbd   E10+  "
      ]
     },
     "execution_count": 10,
     "metadata": {},
     "output_type": "execute_result"
    }
   ],
   "source": [
    "games.loc[ind]"
   ]
  },
  {
   "cell_type": "markdown",
   "metadata": {},
   "source": [
    "В столбце `user_score` есть значение `tbd`, расшифровывается, как *to be determine* - возможно, тот, кто предоставил нам эти данные в дальнейшем планирует их дополнить. Заменим значение `tbd` на -1, чтобы была возможность фильтровать эти строки и приведем к числовому типу. <br><br>\n",
    "\n",
    "Так же приведем к числовому типу столбец `year_of_release`."
   ]
  },
  {
   "cell_type": "code",
   "execution_count": 11,
   "metadata": {},
   "outputs": [],
   "source": [
    "games['user_score'] = pd.to_numeric(games['user_score'].str.replace('tbd', '-1'))\n",
    "games['year_of_release'] = pd.to_numeric(games['year_of_release'])"
   ]
  },
  {
   "cell_type": "markdown",
   "metadata": {},
   "source": [
    "Остальные пропуски в `user_score`, `critic_score` заполнять не стоит, поскольку реальную картину эти оценки отражать не будут."
   ]
  },
  {
   "cell_type": "markdown",
   "metadata": {},
   "source": [
    "В данных с рейтингом очень много пропусков, возможно, что рейтинг этих игр соответствует другой системе рейтинга, а потому информации по ним нет. Заполним пропуски в рейтинге значением `unknown`.<br>\n",
    "Так же запоним пропуски в `name` и `genre`"
   ]
  },
  {
   "cell_type": "code",
   "execution_count": 12,
   "metadata": {},
   "outputs": [],
   "source": [
    "games['name'] = games['name'].fillna('unknown')\n",
    "games['genre'] = games['genre'].fillna('unknown')\n",
    "games['rating'] = games['rating'].fillna('unknown')"
   ]
  },
  {
   "cell_type": "markdown",
   "metadata": {},
   "source": [
    "Добавим столбец `total_sales` с общими продажами"
   ]
  },
  {
   "cell_type": "code",
   "execution_count": 13,
   "metadata": {},
   "outputs": [],
   "source": [
    "games['total_sales'] = (\n",
    "    games['na_sales'] \n",
    "    + games['eu_sales'] \n",
    "    + games['jp_sales'] \n",
    "    + games['other_sales']\n",
    ")"
   ]
  },
  {
   "cell_type": "code",
   "execution_count": 14,
   "metadata": {},
   "outputs": [
    {
     "name": "stdout",
     "output_type": "stream",
     "text": [
      "<class 'pandas.core.frame.DataFrame'>\n",
      "RangeIndex: 16715 entries, 0 to 16714\n",
      "Data columns (total 13 columns):\n",
      " #   Column           Non-Null Count  Dtype  \n",
      "---  ------           --------------  -----  \n",
      " 0   unnamed: 0       16715 non-null  int64  \n",
      " 1   name             16715 non-null  object \n",
      " 2   platform         16715 non-null  object \n",
      " 3   year_of_release  16463 non-null  float64\n",
      " 4   genre            16715 non-null  object \n",
      " 5   na_sales         16715 non-null  float64\n",
      " 6   eu_sales         16715 non-null  float64\n",
      " 7   jp_sales         16715 non-null  float64\n",
      " 8   other_sales      16715 non-null  float64\n",
      " 9   critic_score     8137 non-null   float64\n",
      " 10  user_score       10014 non-null  float64\n",
      " 11  rating           16715 non-null  object \n",
      " 12  total_sales      16715 non-null  float64\n",
      "dtypes: float64(8), int64(1), object(4)\n",
      "memory usage: 1.7+ MB\n"
     ]
    }
   ],
   "source": [
    "games.info()"
   ]
  },
  {
   "cell_type": "markdown",
   "metadata": {},
   "source": [
    "### Вывод"
   ]
  },
  {
   "cell_type": "markdown",
   "metadata": {},
   "source": [
    "На этапе предобработки данных было проделано следующее:\n",
    "- Названия столбцов приведены к нижнему регистру\n",
    "- Заполнены некоторые пропуски в столбце с годом выпуска\n",
    "- Обработано значение `tbd` в оценках пользователей\n",
    "- Столбцы с годом выпуска и пользовательскими оценками приведены к числовому типу\n",
    "- Пропуски в названиях игр, жанра и в рейтинге были заменены на значение `unknown`\n",
    "- Добавлен столбец `total_sales` с общими продажами"
   ]
  },
  {
   "cell_type": "markdown",
   "metadata": {},
   "source": [
    "***"
   ]
  },
  {
   "cell_type": "markdown",
   "metadata": {},
   "source": [
    "## Исследовательский анализ данных"
   ]
  },
  {
   "cell_type": "markdown",
   "metadata": {},
   "source": [
    "- Посмотрим, сколько игр выпускалось в разные годы.\n",
    "- Посмотрим, как менялись продажи по платформам. Определим средний срок жизни платформы.\n",
    "- Определим потенциально прибыльные платформы.\n",
    "- Рассмотрим глобальные продажи игр по платформам, построив \"ящик с усами\".\n",
    "- Посмотрим как зависят продажи игр и оценки критиков и пользователей для одной популярной платформы и для всех платформ в общем.\n",
    "- Посмотрим на общее распределение игр по жанрам. Выделим самые прибыльные жанры."
   ]
  },
  {
   "cell_type": "markdown",
   "metadata": {},
   "source": [
    "### Количество игр в разные годы"
   ]
  },
  {
   "cell_type": "markdown",
   "metadata": {},
   "source": [
    "Построим график, чтобы посмотреть сколько игр выпускалось в разные годы"
   ]
  },
  {
   "cell_type": "code",
   "execution_count": 15,
   "metadata": {},
   "outputs": [
    {
     "data": {
      "image/png": "[encoded data removed]",
      "text/plain": [
       "<Figure size 720x360 with 1 Axes>"
      ]
     },
     "metadata": {
      "needs_background": "light"
     },
     "output_type": "display_data"
    }
   ],
   "source": [
    "(\n",
    "    games\n",
    "    .pivot_table(index='year_of_release', values='name', aggfunc='count')\n",
    "    .plot(figsize=(10,5))\n",
    ");"
   ]
  },
  {
   "cell_type": "markdown",
   "metadata": {},
   "source": [
    "Начиная с 2000 года наблюдается постоянный рост количества выпускаемых игр. Своего пика достигает в 2008-2009 годах, далее идет спад. Игры становятся сложнее, тяжелее, требуется много времени, чтобы выпустить качественную игру."
   ]
  },
  {
   "cell_type": "markdown",
   "metadata": {},
   "source": [
    "***"
   ]
  },
  {
   "cell_type": "markdown",
   "metadata": {},
   "source": [
    "### Время жизни платформы"
   ]
  },
  {
   "cell_type": "markdown",
   "metadata": {},
   "source": [
    "Добавим столбец `line`, в котором запишем производителей приставок, например *XOne, XB, X360* объединим в семейство *Xbox*.\n"
   ]
  },
  {
   "cell_type": "code",
   "execution_count": 16,
   "metadata": {},
   "outputs": [],
   "source": [
    "games['line'] = 'unknown'\n",
    "games['line'] = np.where(games['platform'].str.contains('PC'), 'PC', games['line'])\n",
    "games['line'] = np.where(games['platform'].str.contains('PS'), 'PlayStation', games['line'])\n",
    "games['line'] = np.where(games['platform'].isin(['XOne', 'XB', 'X360']), 'Xbox', games['line'])\n",
    "games['line'] = np.where(games['platform']\n",
    "                         .isin(['DS', 'GBA', 'GB', 'GC', '3DS', 'N64', 'SNES', 'NES', 'Wii', 'WiiU']),\n",
    "                                               'Nintendo', games['line'])"
   ]
  },
  {
   "cell_type": "code",
   "execution_count": 17,
   "metadata": {},
   "outputs": [
    {
     "data": {
      "text/plain": [
       "PlayStation    6720\n",
       "Nintendo       6270\n",
       "Xbox           2333\n",
       "PC              975\n",
       "unknown         417\n",
       "Name: line, dtype: int64"
      ]
     },
     "execution_count": 17,
     "metadata": {},
     "output_type": "execute_result"
    }
   ],
   "source": [
    "games['line'].value_counts()"
   ]
  },
  {
   "cell_type": "code",
   "execution_count": 18,
   "metadata": {},
   "outputs": [],
   "source": [
    "popular_platforms = games['line'].value_counts()"
   ]
  },
  {
   "cell_type": "markdown",
   "metadata": {},
   "source": [
    "Построим график, который показывает, как менялись продажи игр, в разбивке по производителям."
   ]
  },
  {
   "cell_type": "code",
   "execution_count": 19,
   "metadata": {
    "scrolled": true
   },
   "outputs": [
    {
     "data": {
      "image/png": "[encoded data removed]",
      "text/plain": [
       "<Figure size 1080x432 with 1 Axes>"
      ]
     },
     "metadata": {
      "needs_background": "light"
     },
     "output_type": "display_data"
    }
   ],
   "source": [
    "plt.figure(figsize=(15, 6))\n",
    "for platform in popular_platforms.index:\n",
    "    sales_by_year = games.query('line == @platform').groupby('year_of_release', as_index=False).agg({'total_sales' : 'sum'})\n",
    "    plt.plot(sales_by_year['year_of_release'], sales_by_year['total_sales'], label=platform)\n",
    "    plt.legend(loc='upper left')\n",
    "plt.show()"
   ]
  },
  {
   "cell_type": "markdown",
   "metadata": {},
   "source": [
    "Графики продаж переживают периодические рост и падение. Рост может быть связан с появлением новой игровой консоли. Период полного роста-спада, на графике около 5-6 лет.\n",
    "<br>\n",
    "Вычислим среднее время жизни платформы, за период с 2000 года."
   ]
  },
  {
   "cell_type": "code",
   "execution_count": 20,
   "metadata": {},
   "outputs": [
    {
     "data": {
      "text/plain": [
       "count    20.000000\n",
       "mean      6.700000\n",
       "std       4.066552\n",
       "min       1.000000\n",
       "25%       3.000000\n",
       "50%       6.500000\n",
       "75%      10.000000\n",
       "max      16.000000\n",
       "Name: period, dtype: float64"
      ]
     },
     "execution_count": 20,
     "metadata": {},
     "output_type": "execute_result"
    }
   ],
   "source": [
    "average_life_of_platform = (\n",
    "    games.query('year_of_release>=2000')\n",
    "    .pivot_table(index='platform', values='year_of_release', aggfunc=['min', 'max'])\n",
    ")\n",
    "average_life_of_platform.columns = ['min', 'max']\n",
    "average_life_of_platform['period'] = average_life_of_platform['max'] - average_life_of_platform['min']\n",
    "average_life_of_platform['period'].describe()"
   ]
  },
  {
   "cell_type": "markdown",
   "metadata": {},
   "source": [
    "Среднее и медиана практически равны. Среднее время жизни платформы около 6.5 лет"
   ]
  },
  {
   "cell_type": "markdown",
   "metadata": {},
   "source": [
    "### Перспективные платформы"
   ]
  },
  {
   "cell_type": "markdown",
   "metadata": {},
   "source": [
    "На основе предыдущих выводов в качестве актуального периода возьмем период в 3 года - начиная от 2014 до 2016 года включительно."
   ]
  },
  {
   "cell_type": "code",
   "execution_count": 21,
   "metadata": {},
   "outputs": [],
   "source": [
    "games_actual = games.query('year_of_release >= 2014').reset_index(drop=True)"
   ]
  },
  {
   "cell_type": "code",
   "execution_count": 22,
   "metadata": {
    "scrolled": true
   },
   "outputs": [
    {
     "name": "stdout",
     "output_type": "stream",
     "text": [
      "<class 'pandas.core.frame.DataFrame'>\n",
      "RangeIndex: 1689 entries, 0 to 1688\n",
      "Data columns (total 14 columns):\n",
      " #   Column           Non-Null Count  Dtype  \n",
      "---  ------           --------------  -----  \n",
      " 0   unnamed: 0       1689 non-null   int64  \n",
      " 1   name             1689 non-null   object \n",
      " 2   platform         1689 non-null   object \n",
      " 3   year_of_release  1689 non-null   float64\n",
      " 4   genre            1689 non-null   object \n",
      " 5   na_sales         1689 non-null   float64\n",
      " 6   eu_sales         1689 non-null   float64\n",
      " 7   jp_sales         1689 non-null   float64\n",
      " 8   other_sales      1689 non-null   float64\n",
      " 9   critic_score     718 non-null    float64\n",
      " 10  user_score       981 non-null    float64\n",
      " 11  rating           1689 non-null   object \n",
      " 12  total_sales      1689 non-null   float64\n",
      " 13  line             1689 non-null   object \n",
      "dtypes: float64(8), int64(1), object(5)\n",
      "memory usage: 184.9+ KB\n"
     ]
    }
   ],
   "source": [
    "games_actual.info()"
   ]
  },
  {
   "cell_type": "markdown",
   "metadata": {},
   "source": [
    "Определним наиболее перспективные платформы.\n"
   ]
  },
  {
   "cell_type": "markdown",
   "metadata": {},
   "source": [
    "- Выделим в отдельную таблицу глобальные продажи платформ по годам"
   ]
  },
  {
   "cell_type": "code",
   "execution_count": 23,
   "metadata": {},
   "outputs": [],
   "source": [
    "platforms = []\n",
    "for platform in games_actual['platform'].unique():\n",
    "    games_platform = games_actual.query('platform==@platform').copy()\n",
    "    games_platform = (\n",
    "        games_platform\n",
    "        .groupby('year_of_release', as_index=False)\n",
    "        .agg({'total_sales':'sum'})\n",
    "    )\n",
    "    games_platform['platform'] = platform\n",
    "    platforms.append(games_platform)\n",
    "\n",
    "platforms_sales = pd.concat([platform for platform in platforms]).reset_index(drop=True)\n",
    "platforms_sales['year_of_release'] = platforms_sales['year_of_release'].astype('int')"
   ]
  },
  {
   "cell_type": "code",
   "execution_count": 24,
   "metadata": {},
   "outputs": [
    {
     "data": {
      "text/html": [
       "<div>\n",
       "<style scoped>\n",
       "    .dataframe tbody tr th:only-of-type {\n",
       "        vertical-align: middle;\n",
       "    }\n",
       "\n",
       "    .dataframe tbody tr th {\n",
       "        vertical-align: top;\n",
       "    }\n",
       "\n",
       "    .dataframe thead th {\n",
       "        text-align: right;\n",
       "    }\n",
       "</style>\n",
       "<table border=\"1\" class=\"dataframe\">\n",
       "  <thead>\n",
       "    <tr style=\"text-align: right;\">\n",
       "      <th></th>\n",
       "      <th>year_of_release</th>\n",
       "      <th>total_sales</th>\n",
       "      <th>platform</th>\n",
       "    </tr>\n",
       "  </thead>\n",
       "  <tbody>\n",
       "    <tr>\n",
       "      <th>0</th>\n",
       "      <td>2014</td>\n",
       "      <td>100.00</td>\n",
       "      <td>PS4</td>\n",
       "    </tr>\n",
       "    <tr>\n",
       "      <th>1</th>\n",
       "      <td>2015</td>\n",
       "      <td>118.90</td>\n",
       "      <td>PS4</td>\n",
       "    </tr>\n",
       "    <tr>\n",
       "      <th>2</th>\n",
       "      <td>2016</td>\n",
       "      <td>69.25</td>\n",
       "      <td>PS4</td>\n",
       "    </tr>\n",
       "    <tr>\n",
       "      <th>3</th>\n",
       "      <td>2014</td>\n",
       "      <td>43.76</td>\n",
       "      <td>3DS</td>\n",
       "    </tr>\n",
       "    <tr>\n",
       "      <th>4</th>\n",
       "      <td>2015</td>\n",
       "      <td>27.78</td>\n",
       "      <td>3DS</td>\n",
       "    </tr>\n",
       "  </tbody>\n",
       "</table>\n",
       "</div>"
      ],
      "text/plain": [
       "   year_of_release  total_sales platform\n",
       "0             2014       100.00      PS4\n",
       "1             2015       118.90      PS4\n",
       "2             2016        69.25      PS4\n",
       "3             2014        43.76      3DS\n",
       "4             2015        27.78      3DS"
      ]
     },
     "execution_count": 24,
     "metadata": {},
     "output_type": "execute_result"
    }
   ],
   "source": [
    "platforms_sales.head()"
   ]
  },
  {
   "cell_type": "markdown",
   "metadata": {},
   "source": [
    "- Для каждой платформы вычислим ее возраст.\n",
    "- Построим распределение продаж по платформам в разбивке по годам\n",
    "- Построим график, отображающий возраст каждой платформы"
   ]
  },
  {
   "cell_type": "code",
   "execution_count": 25,
   "metadata": {
    "scrolled": false
   },
   "outputs": [
    {
     "data": {
      "image/png": "[encoded data removed]",
      "text/plain": [
       "<Figure size 1152x720 with 4 Axes>"
      ]
     },
     "metadata": {
      "needs_background": "light"
     },
     "output_type": "display_data"
    }
   ],
   "source": [
    "platform_age = pd.DataFrame(columns=['platform', 'age'])\n",
    "for platform in games_actual['platform'].unique():\n",
    "    plat_games = games.query('platform == @platform').copy()\n",
    "    min_year = min(plat_games['year_of_release'])\n",
    "    max_year = max(plat_games['year_of_release'])\n",
    "    platform_age.loc[platform_age.shape[0]] = [platform, (max_year-min_year)]\n",
    "\n",
    "plt.figure(figsize=(16, 10))\n",
    "i=1\n",
    "for year in platforms_sales['year_of_release'].unique():\n",
    "    pl_year = (\n",
    "        platforms_sales\n",
    "        .query('year_of_release==@year')\n",
    "        .sort_values(by='total_sales', ascending=False)\n",
    "    )\n",
    "    sns.barplot(data=pl_year, x='platform', y='total_sales', ax=plt.subplot(2, 3, i))\n",
    "    plt.title(f'Глобальные продажи на {int(year)} год')\n",
    "    i+=1\n",
    "\n",
    "sns.barplot(data=platform_age.sort_values(by='age'), x='platform', y='age', ax=plt.subplot(2, 3, i))\n",
    "plt.title('Возраст платформ на 2016 год')\n",
    "plt.show()"
   ]
  },
  {
   "cell_type": "markdown",
   "metadata": {},
   "source": [
    "- С каждым годом общие продажи платформ падают, возможно, это связано с падением рынка компьютерных игр.\n",
    "- Самые молодые и перспективные платформы это `PS4` и `XOne`, также `3DS` к концу 2015 началу 2016 занимает 3 строчку по общим продажам.\n",
    "- На фоне появления `PS4` и `XOne` уже довольно \"старенькие\" `X360`  и `PS3` уходят на второй план.\n",
    "- Добавим к списку перспективных платформ `WiiU` - платформе менее 5 лет и к концу 2015 началу 2016 она замыкает 5 лидеров.\n",
    "-  Удивительно, что `PC` будучи более 30 лет на рынке, показывает стальбильность продаж, хоть и не таких стремительных и высоких, полагаю это связано с ее дороговизной, покупают ее может и меньше, но дороже. Добавим ее к списку платформ из предположения *стабильность признак мастерства*"
   ]
  },
  {
   "cell_type": "code",
   "execution_count": 26,
   "metadata": {},
   "outputs": [],
   "source": [
    "perspective_platforms = ['PS4', 'XOne', '3DS', 'WiiU', 'PC']"
   ]
  },
  {
   "cell_type": "markdown",
   "metadata": {},
   "source": [
    "***"
   ]
  },
  {
   "cell_type": "markdown",
   "metadata": {},
   "source": [
    "Построим ящик с усами по глобальным продажам  в разбивке по перспективным платформам."
   ]
  },
  {
   "cell_type": "code",
   "execution_count": 27,
   "metadata": {
    "scrolled": false
   },
   "outputs": [
    {
     "data": {
      "image/png": "[encoded data removed]",
      "text/plain": [
       "<Figure size 1080x432 with 1 Axes>"
      ]
     },
     "metadata": {
      "needs_background": "light"
     },
     "output_type": "display_data"
    }
   ],
   "source": [
    "plt.figure(figsize=(15, 6))\n",
    "plt.ylim(0, 2)\n",
    "(\n",
    "    sns.boxplot(\n",
    "        y='total_sales', \n",
    "        x='platform', \n",
    "        data=games_actual,\n",
    "        orient=\"v\")\n",
    ");"
   ]
  },
  {
   "cell_type": "markdown",
   "metadata": {},
   "source": [
    "Медиана продаж игр каждой платформы, около 0.25. Самые продающиеся платформы `X360` и `PS4`.<br>\n",
    "Платформы `PSV`, `PSP` и `PSV` имеют наменьшие продажи - поскольку мы смотрим продажи только на актуальный период, данные платформы уже не современные."
   ]
  },
  {
   "cell_type": "markdown",
   "metadata": {},
   "source": [
    "### Зависимость продаж и оценок"
   ]
  },
  {
   "cell_type": "markdown",
   "metadata": {},
   "source": [
    "Рассмотрим `PS4` - одна из перспективных и популярных платформ."
   ]
  },
  {
   "cell_type": "code",
   "execution_count": 28,
   "metadata": {},
   "outputs": [],
   "source": [
    "ps4 = games_actual.query('platform==\"PS4\"')"
   ]
  },
  {
   "cell_type": "code",
   "execution_count": 29,
   "metadata": {
    "scrolled": true
   },
   "outputs": [
    {
     "data": {
      "image/png": "[encoded data removed]",
      "text/plain": [
       "<Figure size 864x288 with 2 Axes>"
      ]
     },
     "metadata": {
      "needs_background": "light"
     },
     "output_type": "display_data"
    }
   ],
   "source": [
    "plt.figure(figsize=(12, 4))\n",
    "\n",
    "ps4.plot(x='critic_score', y='total_sales', kind='scatter', ax=plt.subplot(1, 2, 1));\n",
    "plt.title('Продажи-Оценка критиков');\n",
    "ps4.query('user_score!=-1').plot(x='user_score', y='total_sales', kind='scatter', ax=plt.subplot(1, 2, 2));\n",
    "plt.title('Продажи-Оценка пользователей');"
   ]
  },
  {
   "cell_type": "markdown",
   "metadata": {},
   "source": [
    "Видим, что в основном игры оцениваются выше 5 от пользователей и 50 от критиков. И в большинстве, те игры, что больше продаются, имеют более высокую оценку как от пользователей, так и от критиков.\n",
    "Однако есть игры, что продаются больше, но при этом имеют более низкую оценку у пользователей."
   ]
  },
  {
   "cell_type": "markdown",
   "metadata": {},
   "source": [
    "Вычислим корреляцию между оценками и продажами."
   ]
  },
  {
   "cell_type": "code",
   "execution_count": 30,
   "metadata": {},
   "outputs": [
    {
     "data": {
      "text/html": [
       "<div>\n",
       "<style scoped>\n",
       "    .dataframe tbody tr th:only-of-type {\n",
       "        vertical-align: middle;\n",
       "    }\n",
       "\n",
       "    .dataframe tbody tr th {\n",
       "        vertical-align: top;\n",
       "    }\n",
       "\n",
       "    .dataframe thead th {\n",
       "        text-align: right;\n",
       "    }\n",
       "</style>\n",
       "<table border=\"1\" class=\"dataframe\">\n",
       "  <thead>\n",
       "    <tr style=\"text-align: right;\">\n",
       "      <th></th>\n",
       "      <th>user_score</th>\n",
       "      <th>total_sales</th>\n",
       "    </tr>\n",
       "  </thead>\n",
       "  <tbody>\n",
       "    <tr>\n",
       "      <th>user_score</th>\n",
       "      <td>1.000000</td>\n",
       "      <td>-0.040132</td>\n",
       "    </tr>\n",
       "    <tr>\n",
       "      <th>total_sales</th>\n",
       "      <td>-0.040132</td>\n",
       "      <td>1.000000</td>\n",
       "    </tr>\n",
       "  </tbody>\n",
       "</table>\n",
       "</div>"
      ],
      "text/plain": [
       "             user_score  total_sales\n",
       "user_score     1.000000    -0.040132\n",
       "total_sales   -0.040132     1.000000"
      ]
     },
     "execution_count": 30,
     "metadata": {},
     "output_type": "execute_result"
    }
   ],
   "source": [
    "ps4.query('user_score != -1')[['user_score', 'total_sales']].corr()"
   ]
  },
  {
   "cell_type": "code",
   "execution_count": 31,
   "metadata": {},
   "outputs": [
    {
     "data": {
      "text/html": [
       "<div>\n",
       "<style scoped>\n",
       "    .dataframe tbody tr th:only-of-type {\n",
       "        vertical-align: middle;\n",
       "    }\n",
       "\n",
       "    .dataframe tbody tr th {\n",
       "        vertical-align: top;\n",
       "    }\n",
       "\n",
       "    .dataframe thead th {\n",
       "        text-align: right;\n",
       "    }\n",
       "</style>\n",
       "<table border=\"1\" class=\"dataframe\">\n",
       "  <thead>\n",
       "    <tr style=\"text-align: right;\">\n",
       "      <th></th>\n",
       "      <th>critic_score</th>\n",
       "      <th>total_sales</th>\n",
       "    </tr>\n",
       "  </thead>\n",
       "  <tbody>\n",
       "    <tr>\n",
       "      <th>critic_score</th>\n",
       "      <td>1.000000</td>\n",
       "      <td>0.402661</td>\n",
       "    </tr>\n",
       "    <tr>\n",
       "      <th>total_sales</th>\n",
       "      <td>0.402661</td>\n",
       "      <td>1.000000</td>\n",
       "    </tr>\n",
       "  </tbody>\n",
       "</table>\n",
       "</div>"
      ],
      "text/plain": [
       "              critic_score  total_sales\n",
       "critic_score      1.000000     0.402661\n",
       "total_sales       0.402661     1.000000"
      ]
     },
     "execution_count": 31,
     "metadata": {},
     "output_type": "execute_result"
    }
   ],
   "source": [
    "ps4[['critic_score', 'total_sales']].corr()"
   ]
  },
  {
   "cell_type": "markdown",
   "metadata": {},
   "source": [
    "Видим, что корреляция между продажами и оценками пользователей близка к нулю, то есть линейная связь не прослеживается. Между оценками критиков и продажами наблюдается слабая линейная зависимость, возможно связано это с тем, что критики оценивают игру раньше ее выхода и могут немного повлиять на продажи игр."
   ]
  },
  {
   "cell_type": "markdown",
   "metadata": {},
   "source": [
    "Проверим зависимость продаж от оценок пользователей и критиков для остальных платформ."
   ]
  },
  {
   "cell_type": "code",
   "execution_count": 32,
   "metadata": {
    "scrolled": true
   },
   "outputs": [
    {
     "data": {
      "image/png": "[encoded data removed]",
      "text/plain": [
       "<Figure size 864x288 with 2 Axes>"
      ]
     },
     "metadata": {
      "needs_background": "light"
     },
     "output_type": "display_data"
    }
   ],
   "source": [
    "other_games=games_actual.query('platform!=\"PS4\"')\n",
    "plt.figure(figsize=(12, 4))\n",
    "other_games.plot(x='critic_score', y='total_sales', kind='scatter', ax=plt.subplot(1, 2, 1))\n",
    "plt.title('Продажи-Оценка критиков')\n",
    "other_games.query('user_score!=-1').plot(x='user_score', y='total_sales', kind='scatter', ax=plt.subplot(1, 2, 2))\n",
    "plt.title('Продажи-Оценка пользователей')\n",
    "plt.show()"
   ]
  },
  {
   "cell_type": "markdown",
   "metadata": {},
   "source": [
    "Для остальных платформ наблюдается та же картина, что и для `ps4`. Чем выше оценка, тем выше продажи. "
   ]
  },
  {
   "cell_type": "code",
   "execution_count": 33,
   "metadata": {},
   "outputs": [
    {
     "data": {
      "text/html": [
       "<div>\n",
       "<style scoped>\n",
       "    .dataframe tbody tr th:only-of-type {\n",
       "        vertical-align: middle;\n",
       "    }\n",
       "\n",
       "    .dataframe tbody tr th {\n",
       "        vertical-align: top;\n",
       "    }\n",
       "\n",
       "    .dataframe thead th {\n",
       "        text-align: right;\n",
       "    }\n",
       "</style>\n",
       "<table border=\"1\" class=\"dataframe\">\n",
       "  <thead>\n",
       "    <tr style=\"text-align: right;\">\n",
       "      <th></th>\n",
       "      <th>critic_score</th>\n",
       "      <th>total_sales</th>\n",
       "    </tr>\n",
       "  </thead>\n",
       "  <tbody>\n",
       "    <tr>\n",
       "      <th>critic_score</th>\n",
       "      <td>1.000000</td>\n",
       "      <td>0.309474</td>\n",
       "    </tr>\n",
       "    <tr>\n",
       "      <th>total_sales</th>\n",
       "      <td>0.309474</td>\n",
       "      <td>1.000000</td>\n",
       "    </tr>\n",
       "  </tbody>\n",
       "</table>\n",
       "</div>"
      ],
      "text/plain": [
       "              critic_score  total_sales\n",
       "critic_score      1.000000     0.309474\n",
       "total_sales       0.309474     1.000000"
      ]
     },
     "execution_count": 33,
     "metadata": {},
     "output_type": "execute_result"
    }
   ],
   "source": [
    "other_games[['critic_score', 'total_sales']].corr()"
   ]
  },
  {
   "cell_type": "code",
   "execution_count": 34,
   "metadata": {},
   "outputs": [
    {
     "data": {
      "text/html": [
       "<div>\n",
       "<style scoped>\n",
       "    .dataframe tbody tr th:only-of-type {\n",
       "        vertical-align: middle;\n",
       "    }\n",
       "\n",
       "    .dataframe tbody tr th {\n",
       "        vertical-align: top;\n",
       "    }\n",
       "\n",
       "    .dataframe thead th {\n",
       "        text-align: right;\n",
       "    }\n",
       "</style>\n",
       "<table border=\"1\" class=\"dataframe\">\n",
       "  <thead>\n",
       "    <tr style=\"text-align: right;\">\n",
       "      <th></th>\n",
       "      <th>user_score</th>\n",
       "      <th>total_sales</th>\n",
       "    </tr>\n",
       "  </thead>\n",
       "  <tbody>\n",
       "    <tr>\n",
       "      <th>user_score</th>\n",
       "      <td>1.000000</td>\n",
       "      <td>-0.023478</td>\n",
       "    </tr>\n",
       "    <tr>\n",
       "      <th>total_sales</th>\n",
       "      <td>-0.023478</td>\n",
       "      <td>1.000000</td>\n",
       "    </tr>\n",
       "  </tbody>\n",
       "</table>\n",
       "</div>"
      ],
      "text/plain": [
       "             user_score  total_sales\n",
       "user_score     1.000000    -0.023478\n",
       "total_sales   -0.023478     1.000000"
      ]
     },
     "execution_count": 34,
     "metadata": {},
     "output_type": "execute_result"
    }
   ],
   "source": [
    "other_games.query('user_score!=-1')[['user_score', 'total_sales']].corr()"
   ]
  },
  {
   "cell_type": "markdown",
   "metadata": {},
   "source": [
    "Связь между оценкой пользователей и продажами не прослеживается. Связь между продажами и оценкой критиков есть, но слабая. Критики оценивают игру раньше пользователей и продажи могут расти, если критики оценивают ее высоко."
   ]
  },
  {
   "cell_type": "markdown",
   "metadata": {},
   "source": [
    "***"
   ]
  },
  {
   "cell_type": "markdown",
   "metadata": {},
   "source": [
    "### Популярные жанры"
   ]
  },
  {
   "cell_type": "code",
   "execution_count": 35,
   "metadata": {},
   "outputs": [],
   "source": [
    "genres_stat = (\n",
    "    games_actual\n",
    "    .pivot_table(index='genre', values='total_sales', aggfunc=['count', 'sum', 'median', 'mean'])\n",
    "#     .sort_values(by='name', ascending=False)\n",
    ")\n",
    "\n",
    "genres_stat.columns = ['number_of_games', 'total_sales', 'median_sales', 'mean_sales']"
   ]
  },
  {
   "cell_type": "code",
   "execution_count": 36,
   "metadata": {},
   "outputs": [
    {
     "data": {
      "image/png": "[encoded data removed]",
      "text/plain": [
       "<Figure size 1224x360 with 2 Axes>"
      ]
     },
     "metadata": {
      "needs_background": "light"
     },
     "output_type": "display_data"
    }
   ],
   "source": [
    "plt.figure(figsize=(17, 5))\n",
    "genres_stat = genres_stat.sort_values(by='number_of_games', ascending=False)\n",
    "sns.barplot(x=genres_stat['number_of_games'], y=genres_stat.index, ax=plt.subplot(1, 2, 1))\n",
    "plt.title('Количество игр по жанрам')\n",
    "genres_stat = genres_stat.sort_values(by='total_sales', ascending=False)\n",
    "sns.barplot(x=genres_stat['total_sales'], y=genres_stat.index, ax=plt.subplot(1, 2, 2))\n",
    "plt.title('Продажи игр по жанрам')\n",
    "plt.show()"
   ]
  },
  {
   "cell_type": "markdown",
   "metadata": {},
   "source": [
    "- По количеству выпускаемых игр с большим отрывом лидирует жанр `Action`, так же жанр `Action` лидирует и по общим продажам.\n",
    "- По количеству выпускаемых игр и по общим продажам в лидерах жанры `Action`, `Role-Playing`, `Sports`.\n",
    "- Интересно, что игр выпускаемых в жанре `Shooter` меньше игр в жанре `Action` почти в 3 раза, однакао по общим продажам `Shooter` занимает второе место.\n",
    "- Так же выделяются непопулярные жанры - `Simulation`, `Strategy`, `Puzzle`."
   ]
  },
  {
   "cell_type": "markdown",
   "metadata": {},
   "source": [
    "\n",
    "Рассмотрим медианные и средние продажи игр по жанрам."
   ]
  },
  {
   "cell_type": "code",
   "execution_count": 37,
   "metadata": {
    "scrolled": true
   },
   "outputs": [
    {
     "data": {
      "image/png": "[encoded data removed]",
      "text/plain": [
       "<Figure size 1224x360 with 2 Axes>"
      ]
     },
     "metadata": {
      "needs_background": "light"
     },
     "output_type": "display_data"
    }
   ],
   "source": [
    "plt.figure(figsize=(17, 5))\n",
    "genres_stat = genres_stat.sort_values(by='median_sales', ascending=False)\n",
    "sns.barplot(x=genres_stat['median_sales'], y=genres_stat.index, ax=plt.subplot(1, 2, 1))\n",
    "plt.title('Медиана продаж игр по жанрам')\n",
    "genres_stat = genres_stat.sort_values(by='mean_sales', ascending=False)\n",
    "sns.barplot(x=genres_stat['mean_sales'], y=genres_stat.index, ax=plt.subplot(1, 2, 2))\n",
    "plt.title('Средние продажи игр по жанрам')\n",
    "plt.show()"
   ]
  },
  {
   "cell_type": "markdown",
   "metadata": {},
   "source": [
    "- По медианным и средним продажам лидируют игры жанра `Shooter`, `Sports`, `Platform`, жанр `Action` же занимает место в середине.\n",
    "- Игры жанров `Strategy`, `Puzzle` и `Adventure` отстают по медианным и средним продажам."
   ]
  },
  {
   "cell_type": "markdown",
   "metadata": {},
   "source": [
    "### Вывод"
   ]
  },
  {
   "cell_type": "markdown",
   "metadata": {},
   "source": [
    "Исследовательский анализ данных позволяет нам сделать следующие выводы:\n",
    "- Количество выпускаемых игр своего пика достигало в 2008-2009 годах, на сегодняшний момент наблюдается спад, игр выпускается меньше, в современном мире ставка делается на качество, а не на количество.\n",
    "- Среднее время жизни одной платформы составляет около 6.5 лет\n",
    "- В 2015 году подъем в продажах наблюдается у PS4 и XOne - самые новые из всех актуальных платформ. Так же заметно, что спад продаж PS3 связан с появлением и подъемом PS4, так же и спад X360 связан с появлением и подъемом XOne.\n",
    "- Между оценками пользователей и продажами линейная зависимость не наблюдается, при этом наблюдается слабая связь между оценками критиков и продажами, критики раньше оценивают игры и могут повлиять на продажи.\n",
    "- Больше всего игр выпускается в жанре `Action`, лидирует он и по глобальным продажам, однако в среднем лучшим показывает себя жанр `Shooter` - игр выпускается в 3 раза меньше, однако продаются они намного лучше. Жанры `Puzzle`, `Strategy`, `Adventure` - непопулярны, плохо продаются."
   ]
  },
  {
   "cell_type": "markdown",
   "metadata": {},
   "source": [
    "***"
   ]
  },
  {
   "cell_type": "markdown",
   "metadata": {},
   "source": [
    "## Портрет пользователя"
   ]
  },
  {
   "cell_type": "markdown",
   "metadata": {},
   "source": [
    "Определим для пользователя каждого региона (NA, EU, JP):\n",
    "- Самые популярные платформы (топ-5).\n",
    "- Самые популярные жанры (топ-5).\n",
    "- Влияет ли рейтинг ESRB на продажи в отдельном регионе?"
   ]
  },
  {
   "cell_type": "markdown",
   "metadata": {},
   "source": [
    "Построим столбчатые диаграммы топ-5 популярных платформ для каждого региона."
   ]
  },
  {
   "cell_type": "code",
   "execution_count": 38,
   "metadata": {
    "scrolled": true
   },
   "outputs": [
    {
     "data": {
      "image/png": "[encoded data removed]",
      "text/plain": [
       "<Figure size 1080x288 with 3 Axes>"
      ]
     },
     "metadata": {
      "needs_background": "light"
     },
     "output_type": "display_data"
    }
   ],
   "source": [
    "fig, axes = plt.subplots(1, 3, figsize=(15, 4))\n",
    "i = 0\n",
    "for region in ['na', 'eu', 'jp']:\n",
    "    sales_by_region = (\n",
    "        games_actual[['platform', f'{region}_sales']]\n",
    "        .pivot_table(index='platform', values=f'{region}_sales', aggfunc='sum')\n",
    "        .sort_values(by=f'{region}_sales', ascending=False)\n",
    "        .head(5)\n",
    "    )\n",
    "    colors = sns.color_palette('pastel')\n",
    "    (\n",
    "        sns\n",
    "        .barplot(\n",
    "            x=sales_by_region.index, \n",
    "            data=sales_by_region, \n",
    "            y=sales_by_region[f'{region}_sales'], \n",
    "            orient='v', \n",
    "            ax=axes[i])\n",
    "    )\n",
    "    axes[i].set_title(f'{region}_sales')\n",
    "    i += 1\n",
    "plt.show()"
   ]
  },
  {
   "cell_type": "markdown",
   "metadata": {},
   "source": [
    "- В Америке самой популярной платформой является `Xbox`.\n",
    "- В Европе популярна платформа `PlayStation`.\n",
    "- В Японии с большим отрывом выигрывает платформа `3DS` - это платформа от японского производителя `Nintendo`, менее популярна `PlayStation`, `Xbox` же не входит в топ-5."
   ]
  },
  {
   "cell_type": "markdown",
   "metadata": {},
   "source": [
    "Рассмотри топ-5 популярных жанров в каждом регионе."
   ]
  },
  {
   "cell_type": "code",
   "execution_count": 39,
   "metadata": {
    "scrolled": true
   },
   "outputs": [
    {
     "data": {
      "image/png": "[encoded data removed]",
      "text/plain": [
       "<Figure size 1224x288 with 3 Axes>"
      ]
     },
     "metadata": {
      "needs_background": "light"
     },
     "output_type": "display_data"
    }
   ],
   "source": [
    "fig, axes = plt.subplots(1, 3, figsize=(17, 4))\n",
    "i = 0\n",
    "for region in ['na', 'eu', 'jp']:\n",
    "    sales_by_region = (\n",
    "        games_actual[['genre', f'{region}_sales']]\n",
    "        .pivot_table(index='genre', values=f'{region}_sales', aggfunc='sum')\n",
    "        .sort_values(by=f'{region}_sales', ascending=False)\n",
    "        .head(5)\n",
    "    )\n",
    "    (\n",
    "        sns\n",
    "        .barplot(\n",
    "            x=sales_by_region.index, \n",
    "            data=sales_by_region, \n",
    "            y=sales_by_region[f'{region}_sales'], \n",
    "            orient='v', \n",
    "            ax=axes[i])\n",
    "    )\n",
    "    axes[i].set_title(f'{region}_sales')\n",
    "    i += 1\n",
    "plt.show()"
   ]
  },
  {
   "cell_type": "markdown",
   "metadata": {},
   "source": [
    "- В Америке и Европе с большим отрывом выиигрывает жанр `Action`, `Shooter`. Вкусы пользователей практически совпадают\n",
    "- В Японии самым популярным жанром является `Role-Playing`, за ним `Action`."
   ]
  },
  {
   "cell_type": "markdown",
   "metadata": {},
   "source": [
    "Посмотрим как рейтинг влияет на продажи в каждом регионе."
   ]
  },
  {
   "cell_type": "code",
   "execution_count": 40,
   "metadata": {
    "scrolled": true
   },
   "outputs": [
    {
     "data": {
      "image/png": "[encoded data removed]",
      "text/plain": [
       "<Figure size 1224x288 with 3 Axes>"
      ]
     },
     "metadata": {
      "needs_background": "light"
     },
     "output_type": "display_data"
    }
   ],
   "source": [
    "fig, axes = plt.subplots(1, 3, figsize=(17, 4))\n",
    "i = 0\n",
    "for region in ['na', 'eu', 'jp']:\n",
    "    sales_by_region = (\n",
    "        games_actual[['rating', f'{region}_sales']]\n",
    "        .pivot_table(index='rating', values=f'{region}_sales', aggfunc='sum')\n",
    "        .sort_values(by=f'{region}_sales', ascending=False)\n",
    "        .head(5)\n",
    "    )\n",
    "    (\n",
    "        sns\n",
    "        .barplot(\n",
    "            x=sales_by_region.index, \n",
    "            data=sales_by_region, \n",
    "            y=sales_by_region[f'{region}_sales'], \n",
    "            orient='v', \n",
    "            ax=axes[i])\n",
    "    )\n",
    "    axes[i].set_title(f'{region}_sales')\n",
    "    i += 1\n",
    "plt.show()"
   ]
  },
  {
   "cell_type": "markdown",
   "metadata": {},
   "source": [
    "- В Америке и Европе самые популярные игры в рейтинге 17+\n",
    "- Интересно, что для Японии неизвестен самый популярный рейтинг, возможно, это связано с тем, что в Японии своя система."
   ]
  },
  {
   "cell_type": "markdown",
   "metadata": {},
   "source": [
    "### Вывод"
   ]
  },
  {
   "cell_type": "markdown",
   "metadata": {},
   "source": [
    "Портрет пользователя каждого региона:\n",
    "- Для Америки популярной платформой является `Xbox`, для Европы `PlayStation`. В Японии же популярна платформа `3DS` от производителя `Nintendo`, следом идет `PlayStation`, `Xbox` же не входит в топ-5.\n",
    "- Самым продающимся жанром в Америке и Европе является `Action` и `Shooter`. В Японии - `Role-Playing` и `Action`.\n",
    "- В Америке и Европе самые популярные игры для людей старше 17 лет.\n",
    "- Интересно, что для Японии неизвестен самый популярный рейтинг, возможно, это связано с тем, что в Японии своя система."
   ]
  },
  {
   "cell_type": "markdown",
   "metadata": {},
   "source": [
    "***"
   ]
  },
  {
   "cell_type": "markdown",
   "metadata": {},
   "source": [
    "## Проверка гипотез"
   ]
  },
  {
   "cell_type": "markdown",
   "metadata": {},
   "source": [
    "- Средние пользовательские рейтинги платформ Xbox One и PC одинаковые;\n",
    "- Средние пользовательские рейтинги жанров Action (англ. «действие», экшен-игры) и Sports (англ. «спортивные соревнования») разные."
   ]
  },
  {
   "cell_type": "markdown",
   "metadata": {},
   "source": [
    "### Сравнение средних пользовательских рейтингов Xbox One и PC"
   ]
  },
  {
   "cell_type": "markdown",
   "metadata": {},
   "source": [
    "#### Двусторонняя проверка: средние пользовательские рейтинги Xbox One и PC равны "
   ]
  },
  {
   "cell_type": "markdown",
   "metadata": {},
   "source": [
    "$\\begin{equation*}\n",
    "    \\begin{cases}\n",
    "        H_0: \\text{Средние пользовательские рейтинги равны}\\\\\n",
    "        H_1: \\text{Средние пользовательские рейтинги различаются}\\\\\n",
    "     \\end{cases}\n",
    "\\end{equation*}$\n",
    "\n",
    "Уровень значимости: $\\alpha=0.05$\n",
    "\n",
    "Вычислим p-value. Если p-value окажется меньше указанного уровня значимости, то нулевую гипотезу о равенстве двух средних отвергнем, иначе сделаем вывод о том, что данные не позволяют нам отвергнуть нулевую гипотезу."
   ]
  },
  {
   "cell_type": "code",
   "execution_count": 41,
   "metadata": {},
   "outputs": [],
   "source": [
    "xone = games_actual.query('platform==\"XOne\" and user_score!=-1').copy().reset_index(drop=True)\n",
    "pc = games_actual.query('platform==\"PC\" and user_score!=-1').copy().reset_index(drop=True)"
   ]
  },
  {
   "cell_type": "markdown",
   "metadata": {},
   "source": [
    "Построим гистограммы распределения пользовательских рейтингов для платформ"
   ]
  },
  {
   "cell_type": "code",
   "execution_count": 42,
   "metadata": {},
   "outputs": [
    {
     "data": {
      "image/png": "[encoded data removed]",
      "text/plain": [
       "<Figure size 720x288 with 2 Axes>"
      ]
     },
     "metadata": {
      "needs_background": "light"
     },
     "output_type": "display_data"
    }
   ],
   "source": [
    "fig, axes = plt.subplots(1, 2, figsize=(10, 4))\n",
    "xone.hist('user_score', bins=11, ax=axes[0], range=(1, 10))\n",
    "axes[0].set_title('Распределение оценок XOne')\n",
    "pc.hist('user_score', bins=11, ax=axes[1], range=(1, 10))\n",
    "axes[1].set_title('Распределение оценок PC')\n",
    "plt.show()"
   ]
  },
  {
   "cell_type": "markdown",
   "metadata": {},
   "source": [
    "На гистограммах видно, что распределения пользовательских оценок далеки от нормального. Проверим дополнительно с помощью q-q графиков."
   ]
  },
  {
   "cell_type": "code",
   "execution_count": 43,
   "metadata": {},
   "outputs": [
    {
     "data": {
      "image/png": "[encoded data removed]",
      "text/plain": [
       "<Figure size 720x288 with 2 Axes>"
      ]
     },
     "metadata": {
      "needs_background": "light"
     },
     "output_type": "display_data"
    }
   ],
   "source": [
    "fig, axes = plt.subplots(1, 2, figsize=(10, 4))\n",
    "st.probplot(xone['user_score'].dropna(), dist=\"norm\", plot=axes[0])\n",
    "axes[0].set_title('XOne user_score')\n",
    "st.probplot(pc['user_score'].dropna(), dist=\"norm\", plot=axes[1])\n",
    "axes[1].set_title('PC user_score')\n",
    "plt.show()"
   ]
  },
  {
   "cell_type": "markdown",
   "metadata": {},
   "source": [
    "Распределения оценок пользователей обеих платформ далеки от нормального."
   ]
  },
  {
   "cell_type": "markdown",
   "metadata": {},
   "source": [
    "Для проверки гипотезы воспользуемся непараметрическим тестом Манна-Уитни"
   ]
  },
  {
   "cell_type": "code",
   "execution_count": 44,
   "metadata": {},
   "outputs": [
    {
     "name": "stdout",
     "output_type": "stream",
     "text": [
      "p_value: 0.27752869727762175\n",
      "Не получилось отвергнуть нулевую гипотезу\n"
     ]
    }
   ],
   "source": [
    "alpha = 0.05\n",
    "\n",
    "results = st.mannwhitneyu(xone['user_score'].dropna(), \n",
    "                          pc['user_score'].dropna(), alternative='two-sided')\n",
    "print('p_value:', results.pvalue)\n",
    "if results.pvalue < alpha:\n",
    "    print('Отвергаем нулевую гипотезу')\n",
    "else:\n",
    "    print('Не получилось отвергнуть нулевую гипотезу')"
   ]
  },
  {
   "cell_type": "markdown",
   "metadata": {},
   "source": [
    "На имеющихся данных делаем вывод о том, что средние пользовательские рейтинги платформ Xbox One и PC равны."
   ]
  },
  {
   "cell_type": "markdown",
   "metadata": {},
   "source": [
    "### Сравнение средних пользовательских рейтингов жанров Action и Sports"
   ]
  },
  {
   "cell_type": "markdown",
   "metadata": {},
   "source": [
    "#### Двусторонняя проверка: Средние пользовательские рейтинги жанров Action и Sports равны"
   ]
  },
  {
   "cell_type": "markdown",
   "metadata": {},
   "source": [
    "$\\begin{equation*}\n",
    "    \\begin{cases}\n",
    "        H_0: \\text{Средние пользовательские рейтинги равны}\\\\\n",
    "        H_1: \\text{Средние пользовательские рейтинги различаются}\\\\\n",
    "     \\end{cases}\n",
    "\\end{equation*}$\n",
    "\n",
    "Уровень значимости: $\\alpha=0.05$\n",
    "\n",
    "Вычислим p-value. Если p-value окажется меньше указанного уровня значимости, то нулевую гипотезу о равенстве двух средних отвергнем, иначе сделаем вывод о том, что данные не позволяют нам отвергнуть нулевую гипотезу."
   ]
  },
  {
   "cell_type": "code",
   "execution_count": 45,
   "metadata": {},
   "outputs": [],
   "source": [
    "action = games_actual.query('genre==\"Action\" and user_score!=-1').copy().reset_index(drop=True)\n",
    "sports = games_actual.query('genre==\"Sports\" and user_score!=-1').copy().reset_index(drop=True)"
   ]
  },
  {
   "cell_type": "markdown",
   "metadata": {},
   "source": [
    "Построим гистограммы распределения пользовательских рейтингов для жанров"
   ]
  },
  {
   "cell_type": "code",
   "execution_count": 46,
   "metadata": {},
   "outputs": [
    {
     "data": {
      "image/png": "[encoded data removed]",
      "text/plain": [
       "<Figure size 720x288 with 2 Axes>"
      ]
     },
     "metadata": {
      "needs_background": "light"
     },
     "output_type": "display_data"
    }
   ],
   "source": [
    "fig, axes = plt.subplots(1, 2, figsize=(10, 4))\n",
    "action.hist('user_score', bins=11, ax=axes[0], range=(1, 10))\n",
    "axes[0].set_title('Распределение оценок Action')\n",
    "sports.hist('user_score', bins=11, ax=axes[1], range=(1, 10))\n",
    "axes[1].set_title('Распределение оценок Sports')\n",
    "plt.show()"
   ]
  },
  {
   "cell_type": "markdown",
   "metadata": {},
   "source": [
    "На гистограммах видно, что распределения пользовательских оценок далеки от нормального. Проверим дополнительно с помощью q-q графиков."
   ]
  },
  {
   "cell_type": "code",
   "execution_count": 47,
   "metadata": {},
   "outputs": [
    {
     "data": {
      "image/png": "[encoded data removed]",
      "text/plain": [
       "<Figure size 720x288 with 2 Axes>"
      ]
     },
     "metadata": {
      "needs_background": "light"
     },
     "output_type": "display_data"
    }
   ],
   "source": [
    "fig, axes = plt.subplots(1, 2, figsize=(10, 4))\n",
    "st.probplot(action['user_score'].dropna(), dist=\"norm\", plot=axes[0])\n",
    "axes[0].set_title('Action user_score')\n",
    "st.probplot(sports['user_score'].dropna(), dist=\"norm\", plot=axes[1])\n",
    "axes[1].set_title('Sports user_score')\n",
    "plt.show()"
   ]
  },
  {
   "cell_type": "markdown",
   "metadata": {},
   "source": [
    "Распределения оценок пользователей обоих жанров далеки от нормального.\n",
    "\n",
    "Для проверки гипотезы воспользуемся непараметрическим тестом Манна-Уитни"
   ]
  },
  {
   "cell_type": "code",
   "execution_count": 48,
   "metadata": {},
   "outputs": [
    {
     "name": "stdout",
     "output_type": "stream",
     "text": [
      "p_value: 1.2166879280294303e-16\n",
      "Отвергаем нулевую гипотезу\n"
     ]
    }
   ],
   "source": [
    "alpha = 0.05\n",
    "\n",
    "results = st.mannwhitneyu(action['user_score'].dropna(), \n",
    "                          sports['user_score'].dropna(), alternative='two-sided')\n",
    "print('p_value:', results.pvalue)\n",
    "if results.pvalue < alpha:\n",
    "    print('Отвергаем нулевую гипотезу')\n",
    "else:\n",
    "    print('Не получилось отвергнуть нулевую гипотезу')"
   ]
  },
  {
   "cell_type": "markdown",
   "metadata": {},
   "source": [
    "Средние пользовательские рейтинги различны"
   ]
  },
  {
   "cell_type": "markdown",
   "metadata": {},
   "source": [
    "#### Односторонняя проверка: Средний пользовательский рейтинг жанра Action больше рейтинга Sports"
   ]
  },
  {
   "cell_type": "markdown",
   "metadata": {},
   "source": [
    "$\\begin{equation*}\n",
    "    \\begin{cases}\n",
    "        H_0: \\text{Средние пользовательские рейтинги равны}\\\\\n",
    "        H_1: \\text{Средний рейтинг жанра Action больше среднего рейтинга Sports}\\\\\n",
    "     \\end{cases}\n",
    "\\end{equation*}$"
   ]
  },
  {
   "cell_type": "code",
   "execution_count": 49,
   "metadata": {},
   "outputs": [
    {
     "name": "stdout",
     "output_type": "stream",
     "text": [
      "p_value: 6.083439640147152e-17\n",
      "Отвергаем нулевую гипотезу\n"
     ]
    }
   ],
   "source": [
    "alpha = 0.05\n",
    "\n",
    "results = st.mannwhitneyu(action['user_score'].dropna(), \n",
    "                          sports['user_score'].dropna(), alternative='greater')\n",
    "print('p_value:', results.pvalue)\n",
    "if results.pvalue < alpha:\n",
    "    print('Отвергаем нулевую гипотезу')\n",
    "else:\n",
    "    print('Не получилось отвергнуть нулевую гипотезу')"
   ]
  },
  {
   "cell_type": "markdown",
   "metadata": {},
   "source": [
    "На имеющихся данных делаем вывод о том, что средний пользовательский рейтинг жанра Action выше среднего рейтинга жанра Sports."
   ]
  },
  {
   "cell_type": "markdown",
   "metadata": {},
   "source": [
    "## Общий вывод"
   ]
  },
  {
   "cell_type": "markdown",
   "metadata": {},
   "source": [
    "Исследовательский анализ данных позволяет нам сделать следующие выводы:\n",
    "- Количество выпускаемых игр своего пика достигало в 2008-2009 годах, на сегодняшний момент наблюдается спад, игр выпускается меньше, в современном мире ставка делается на качество, а не на количество.\n",
    "- Среднее время жизни одной платформы составляет около 6.5 лет\n",
    "- В 2015 году подъем в продажах наблюдается у PS4 и XOne - самые новые из всех актуальных платформ. Так же заметно, что спад продаж PS3 связан с появлением и подъемом PS4, так же и спад X360 связан с появлением и подъемом XOne.\n",
    "- Между оценками пользователей и продажами линейная зависимость не наблюдается, при этом наблюдается слабая связь между оценками критиков и продажами, критики раньше оценивают игры и могут повлиять на продажи.\n",
    "- Больше всего игр выпускается в жанре `Action`, лидирует он и по глобальным продажам, однако в среднем лучшим показывает себя жанр `Shooter` - игр выпускается в 3 раза меньше, однако продаются они намного лучше. Жанры `Puzzle`, `Strategy`, `Adventure` - непопулярны, плохо продаются.\n",
    "\n",
    "\n",
    "Портрет пользователя каждого региона:\n",
    "- Для Америки популярной платформой является `Xbox`, для Европы `PlayStation`. В Японии же популярна платформа `3DS` от производителя `Nintendo`, следом идет `PlayStation`, `Xbox` же не входит в топ-5.\n",
    "- Самым продающимся жанром в Америке и Европе является `Action` и `Shooter`. В Японии - `Role-Playing` и `Action`.\n",
    "- В Америке и Европе самые популярные игры для людей старше 17 лет.\n",
    "- Интересно, что для Японии неизвестен самый популярный рейтинг, возможно, это связано с тем, что в Японии своя система. \n",
    "\n",
    "Проверка гипотез на имеющихся данных позволяет сделать следующие выводы:\n",
    "- Средние пользовательские рейтинги платформ Xbox One и PC равны.\n",
    "- Средний пользовательский рейтинг жанра Action выше среднего рейтинга жанра Sports."
   ]
  },
  {
   "cell_type": "code",
   "execution_count": null,
   "metadata": {},
   "outputs": [],
   "source": []
  }
 ],
 "metadata": {
  "ExecuteTimeLog": [
   {
    "duration": 1519,
    "start_time": "2022-02-22T04:35:02.556Z"
   },
   {
    "duration": 48,
    "start_time": "2022-02-22T04:35:55.758Z"
   },
   {
    "duration": 34,
    "start_time": "2022-02-22T04:42:36.615Z"
   },
   {
    "duration": 11,
    "start_time": "2022-02-22T04:42:51.732Z"
   },
   {
    "duration": 11,
    "start_time": "2022-02-22T04:43:01.667Z"
   },
   {
    "duration": 9,
    "start_time": "2022-02-22T04:43:12.875Z"
   },
   {
    "duration": 397,
    "start_time": "2022-02-22T04:45:15.683Z"
   },
   {
    "duration": 3,
    "start_time": "2022-02-22T04:45:19.968Z"
   },
   {
    "duration": 22,
    "start_time": "2022-02-22T04:49:41.774Z"
   },
   {
    "duration": 8,
    "start_time": "2022-02-22T04:50:06.691Z"
   },
   {
    "duration": 9,
    "start_time": "2022-02-22T04:50:15.296Z"
   },
   {
    "duration": 21,
    "start_time": "2022-02-22T04:50:18.453Z"
   },
   {
    "duration": 8,
    "start_time": "2022-02-22T04:50:36.980Z"
   },
   {
    "duration": 4174,
    "start_time": "2022-02-22T04:51:00.567Z"
   },
   {
    "duration": 4,
    "start_time": "2022-02-22T04:51:48.605Z"
   },
   {
    "duration": 9,
    "start_time": "2022-02-22T04:51:58.591Z"
   },
   {
    "duration": 19,
    "start_time": "2022-02-22T04:53:37.516Z"
   },
   {
    "duration": 38,
    "start_time": "2022-02-22T04:53:45.269Z"
   },
   {
    "duration": 17,
    "start_time": "2022-02-22T04:53:51.912Z"
   },
   {
    "duration": 15,
    "start_time": "2022-02-22T04:54:16.760Z"
   },
   {
    "duration": 8,
    "start_time": "2022-02-22T04:54:31.127Z"
   },
   {
    "duration": 5,
    "start_time": "2022-02-22T04:54:59.770Z"
   },
   {
    "duration": 11,
    "start_time": "2022-02-22T04:55:16.045Z"
   },
   {
    "duration": 10,
    "start_time": "2022-02-22T04:57:52.869Z"
   },
   {
    "duration": 11,
    "start_time": "2022-02-22T04:58:00.394Z"
   },
   {
    "duration": 17,
    "start_time": "2022-02-22T04:58:07.357Z"
   },
   {
    "duration": 320,
    "start_time": "2022-02-22T04:58:46.330Z"
   },
   {
    "duration": 13,
    "start_time": "2022-02-22T04:58:56.877Z"
   },
   {
    "duration": 15,
    "start_time": "2022-02-22T04:59:22.057Z"
   },
   {
    "duration": 17,
    "start_time": "2022-02-22T04:59:46.757Z"
   },
   {
    "duration": 329,
    "start_time": "2022-02-22T05:00:55.395Z"
   },
   {
    "duration": 187,
    "start_time": "2022-02-22T05:01:51.330Z"
   },
   {
    "duration": 185,
    "start_time": "2022-02-22T05:02:10.813Z"
   },
   {
    "duration": 317,
    "start_time": "2022-02-22T05:02:44.501Z"
   },
   {
    "duration": 194,
    "start_time": "2022-02-22T05:03:02.439Z"
   },
   {
    "duration": 7,
    "start_time": "2022-02-22T05:10:17.859Z"
   },
   {
    "duration": 14,
    "start_time": "2022-02-22T05:17:15.616Z"
   },
   {
    "duration": 7,
    "start_time": "2022-02-22T05:17:16.657Z"
   },
   {
    "duration": 7,
    "start_time": "2022-02-22T05:17:20.044Z"
   },
   {
    "duration": 410,
    "start_time": "2022-02-22T05:32:19.547Z"
   },
   {
    "duration": 7,
    "start_time": "2022-02-22T05:32:20.143Z"
   },
   {
    "duration": 83,
    "start_time": "2022-02-22T05:32:29.661Z"
   },
   {
    "duration": 7,
    "start_time": "2022-02-22T05:32:31.624Z"
   },
   {
    "duration": 20,
    "start_time": "2022-02-22T05:32:54.826Z"
   },
   {
    "duration": 6,
    "start_time": "2022-02-22T05:32:55.616Z"
   },
   {
    "duration": 7,
    "start_time": "2022-02-22T05:33:37.525Z"
   },
   {
    "duration": 1057,
    "start_time": "2022-02-22T05:35:30.060Z"
   },
   {
    "duration": 455,
    "start_time": "2022-02-22T05:35:49.142Z"
   },
   {
    "duration": 1103,
    "start_time": "2022-02-22T05:36:13.972Z"
   },
   {
    "duration": 37,
    "start_time": "2022-02-22T05:36:15.076Z"
   },
   {
    "duration": 12,
    "start_time": "2022-02-22T05:36:15.115Z"
   },
   {
    "duration": 9,
    "start_time": "2022-02-22T05:36:15.129Z"
   },
   {
    "duration": 11,
    "start_time": "2022-02-22T05:36:15.139Z"
   },
   {
    "duration": 4,
    "start_time": "2022-02-22T05:36:15.152Z"
   },
   {
    "duration": 20,
    "start_time": "2022-02-22T05:36:15.157Z"
   },
   {
    "duration": 34,
    "start_time": "2022-02-22T05:36:15.179Z"
   },
   {
    "duration": 35,
    "start_time": "2022-02-22T05:36:15.215Z"
   },
   {
    "duration": 22,
    "start_time": "2022-02-22T05:36:15.251Z"
   },
   {
    "duration": 15,
    "start_time": "2022-02-22T05:36:15.274Z"
   },
   {
    "duration": 7,
    "start_time": "2022-02-22T05:36:15.290Z"
   },
   {
    "duration": 5,
    "start_time": "2022-02-22T05:36:15.298Z"
   },
   {
    "duration": 12,
    "start_time": "2022-02-22T05:36:15.305Z"
   },
   {
    "duration": 212,
    "start_time": "2022-02-22T05:36:15.319Z"
   },
   {
    "duration": 28,
    "start_time": "2022-02-22T05:36:15.532Z"
   },
   {
    "duration": 6,
    "start_time": "2022-02-22T05:36:15.561Z"
   },
   {
    "duration": 626,
    "start_time": "2022-02-22T05:36:15.568Z"
   },
   {
    "duration": 190,
    "start_time": "2022-02-22T05:36:32.191Z"
   },
   {
    "duration": 184,
    "start_time": "2022-02-22T05:37:07.191Z"
   },
   {
    "duration": 218,
    "start_time": "2022-02-22T05:37:21.776Z"
   },
   {
    "duration": 194,
    "start_time": "2022-02-22T05:37:32.154Z"
   },
   {
    "duration": 5,
    "start_time": "2022-02-22T05:37:56.249Z"
   },
   {
    "duration": 5,
    "start_time": "2022-02-22T05:38:10.462Z"
   },
   {
    "duration": 4,
    "start_time": "2022-02-22T05:38:13.750Z"
   },
   {
    "duration": 6,
    "start_time": "2022-02-22T05:38:22.482Z"
   },
   {
    "duration": 246,
    "start_time": "2022-02-22T05:38:29.427Z"
   },
   {
    "duration": 269,
    "start_time": "2022-02-22T05:38:40.728Z"
   },
   {
    "duration": 13,
    "start_time": "2022-02-22T05:39:27.911Z"
   },
   {
    "duration": 7,
    "start_time": "2022-02-22T05:39:28.395Z"
   },
   {
    "duration": 316,
    "start_time": "2022-02-22T05:39:28.870Z"
   },
   {
    "duration": 5,
    "start_time": "2022-02-22T05:39:38.852Z"
   },
   {
    "duration": 251,
    "start_time": "2022-02-22T05:39:39.315Z"
   },
   {
    "duration": 6,
    "start_time": "2022-02-22T05:41:44.874Z"
   },
   {
    "duration": 19,
    "start_time": "2022-02-22T05:48:01.580Z"
   },
   {
    "duration": 22,
    "start_time": "2022-02-22T05:48:49.357Z"
   },
   {
    "duration": 20,
    "start_time": "2022-02-22T05:51:00.920Z"
   },
   {
    "duration": 22,
    "start_time": "2022-02-22T05:51:56.162Z"
   },
   {
    "duration": 6,
    "start_time": "2022-02-22T05:53:09.279Z"
   },
   {
    "duration": 7,
    "start_time": "2022-02-22T05:53:32.633Z"
   },
   {
    "duration": 334,
    "start_time": "2022-02-22T05:56:41.604Z"
   },
   {
    "duration": 244,
    "start_time": "2022-02-22T05:56:55.434Z"
   },
   {
    "duration": 344,
    "start_time": "2022-02-22T05:57:38.384Z"
   },
   {
    "duration": 6,
    "start_time": "2022-02-22T06:03:23.443Z"
   },
   {
    "duration": 331,
    "start_time": "2022-02-22T06:03:50.847Z"
   },
   {
    "duration": 6,
    "start_time": "2022-02-22T06:03:56.706Z"
   },
   {
    "duration": 5,
    "start_time": "2022-02-22T06:05:32.662Z"
   },
   {
    "duration": 239,
    "start_time": "2022-02-22T06:05:41.132Z"
   },
   {
    "duration": 5,
    "start_time": "2022-02-22T06:05:55.760Z"
   },
   {
    "duration": 253,
    "start_time": "2022-02-22T06:05:56.199Z"
   },
   {
    "duration": 336,
    "start_time": "2022-02-22T06:28:05.124Z"
   },
   {
    "duration": 5,
    "start_time": "2022-02-22T06:30:33.160Z"
   },
   {
    "duration": 362,
    "start_time": "2022-02-22T06:31:17.768Z"
   },
   {
    "duration": 6,
    "start_time": "2022-02-22T06:31:51.676Z"
   },
   {
    "duration": 5,
    "start_time": "2022-02-22T06:32:31.515Z"
   },
   {
    "duration": 275,
    "start_time": "2022-02-22T06:32:31.959Z"
   },
   {
    "duration": 264,
    "start_time": "2022-02-22T06:32:43.882Z"
   },
   {
    "duration": 10,
    "start_time": "2022-02-22T06:33:24.860Z"
   },
   {
    "duration": 5,
    "start_time": "2022-02-22T06:33:52.811Z"
   },
   {
    "duration": 228,
    "start_time": "2022-02-22T06:33:53.396Z"
   },
   {
    "duration": 10,
    "start_time": "2022-02-22T06:33:54.913Z"
   },
   {
    "duration": 5,
    "start_time": "2022-02-22T06:34:05.853Z"
   },
   {
    "duration": 269,
    "start_time": "2022-02-22T06:34:06.259Z"
   },
   {
    "duration": 10,
    "start_time": "2022-02-22T06:34:10.105Z"
   },
   {
    "duration": 6,
    "start_time": "2022-02-22T06:34:40.168Z"
   },
   {
    "duration": 283,
    "start_time": "2022-02-22T06:34:40.544Z"
   },
   {
    "duration": 10,
    "start_time": "2022-02-22T06:34:41.785Z"
   },
   {
    "duration": 8,
    "start_time": "2022-02-22T06:35:05.104Z"
   },
   {
    "duration": 5,
    "start_time": "2022-02-22T06:35:12.507Z"
   },
   {
    "duration": 290,
    "start_time": "2022-02-22T06:35:12.866Z"
   },
   {
    "duration": 10,
    "start_time": "2022-02-22T06:35:13.300Z"
   },
   {
    "duration": 8,
    "start_time": "2022-02-22T06:35:13.774Z"
   },
   {
    "duration": 5,
    "start_time": "2022-02-22T06:35:22.483Z"
   },
   {
    "duration": 296,
    "start_time": "2022-02-22T06:35:22.852Z"
   },
   {
    "duration": 9,
    "start_time": "2022-02-22T06:35:24.018Z"
   },
   {
    "duration": 8,
    "start_time": "2022-02-22T06:35:25.327Z"
   },
   {
    "duration": 294,
    "start_time": "2022-02-22T06:36:16.174Z"
   },
   {
    "duration": 321,
    "start_time": "2022-02-22T06:36:28.337Z"
   },
   {
    "duration": 282,
    "start_time": "2022-02-22T06:36:42.590Z"
   },
   {
    "duration": 321,
    "start_time": "2022-02-22T06:36:53.319Z"
   },
   {
    "duration": 8,
    "start_time": "2022-02-22T06:37:06.800Z"
   },
   {
    "duration": 10,
    "start_time": "2022-02-22T06:37:32.221Z"
   },
   {
    "duration": 200,
    "start_time": "2022-02-22T06:40:08.307Z"
   },
   {
    "duration": 264,
    "start_time": "2022-02-22T06:42:34.494Z"
   },
   {
    "duration": 384,
    "start_time": "2022-02-22T07:22:52.850Z"
   },
   {
    "duration": 711,
    "start_time": "2022-02-22T07:23:14.980Z"
   },
   {
    "duration": 371,
    "start_time": "2022-02-22T07:23:26.277Z"
   },
   {
    "duration": 385,
    "start_time": "2022-02-22T07:25:04.324Z"
   },
   {
    "duration": 394,
    "start_time": "2022-02-22T07:25:21.726Z"
   },
   {
    "duration": 500,
    "start_time": "2022-02-22T07:26:43.526Z"
   },
   {
    "duration": 381,
    "start_time": "2022-02-22T07:27:33.812Z"
   },
   {
    "duration": 382,
    "start_time": "2022-02-22T07:29:32.096Z"
   },
   {
    "duration": 20,
    "start_time": "2022-02-22T07:30:13.995Z"
   },
   {
    "duration": 8,
    "start_time": "2022-02-22T07:30:40.397Z"
   },
   {
    "duration": 8,
    "start_time": "2022-02-22T07:31:12.773Z"
   },
   {
    "duration": 8,
    "start_time": "2022-02-22T07:31:52.926Z"
   },
   {
    "duration": 8,
    "start_time": "2022-02-22T07:32:23.078Z"
   },
   {
    "duration": 8,
    "start_time": "2022-02-22T07:33:08.846Z"
   },
   {
    "duration": 6,
    "start_time": "2022-02-22T07:36:24.583Z"
   },
   {
    "duration": 273,
    "start_time": "2022-02-22T07:38:50.943Z"
   },
   {
    "duration": 5,
    "start_time": "2022-02-22T07:39:25.789Z"
   },
   {
    "duration": 255,
    "start_time": "2022-02-22T07:39:26.169Z"
   },
   {
    "duration": 265,
    "start_time": "2022-02-22T07:39:27.559Z"
   },
   {
    "duration": 10,
    "start_time": "2022-02-22T07:39:28.142Z"
   },
   {
    "duration": 11,
    "start_time": "2022-02-22T07:39:38.455Z"
   },
   {
    "duration": 8,
    "start_time": "2022-02-22T07:39:39.337Z"
   },
   {
    "duration": 300,
    "start_time": "2022-02-22T07:39:41.267Z"
   },
   {
    "duration": 9,
    "start_time": "2022-02-22T07:39:45.007Z"
   },
   {
    "duration": 503,
    "start_time": "2022-02-22T09:48:12.916Z"
   },
   {
    "duration": 383,
    "start_time": "2022-02-22T09:48:13.452Z"
   },
   {
    "duration": 8,
    "start_time": "2022-02-22T09:50:26.971Z"
   },
   {
    "duration": 10,
    "start_time": "2022-02-22T09:53:02.958Z"
   },
   {
    "duration": 285,
    "start_time": "2022-02-22T09:53:22.911Z"
   },
   {
    "duration": 292,
    "start_time": "2022-02-22T09:55:23.967Z"
   },
   {
    "duration": 286,
    "start_time": "2022-02-22T09:55:34.847Z"
   },
   {
    "duration": 288,
    "start_time": "2022-02-22T09:56:12.254Z"
   },
   {
    "duration": 380,
    "start_time": "2022-02-22T09:56:32.424Z"
   },
   {
    "duration": 544,
    "start_time": "2022-02-22T09:58:54.872Z"
   },
   {
    "duration": 569,
    "start_time": "2022-02-22T09:59:32.419Z"
   },
   {
    "duration": 288,
    "start_time": "2022-02-22T09:59:51.960Z"
   },
   {
    "duration": 265,
    "start_time": "2022-02-22T10:29:19.480Z"
   },
   {
    "duration": 258,
    "start_time": "2022-02-22T10:29:46.672Z"
   },
   {
    "duration": 266,
    "start_time": "2022-02-22T10:29:59.988Z"
   },
   {
    "duration": 244,
    "start_time": "2022-02-22T10:30:37.577Z"
   },
   {
    "duration": 246,
    "start_time": "2022-02-22T10:31:09.295Z"
   },
   {
    "duration": 240,
    "start_time": "2022-02-22T10:31:18.750Z"
   },
   {
    "duration": 259,
    "start_time": "2022-02-22T10:31:39.181Z"
   },
   {
    "duration": 6,
    "start_time": "2022-02-22T10:50:49.164Z"
   },
   {
    "duration": 5,
    "start_time": "2022-02-22T10:51:39.979Z"
   },
   {
    "duration": 6,
    "start_time": "2022-02-22T10:51:55.212Z"
   },
   {
    "duration": 6,
    "start_time": "2022-02-22T10:53:09.896Z"
   },
   {
    "duration": 11,
    "start_time": "2022-02-22T11:07:36.445Z"
   },
   {
    "duration": 784,
    "start_time": "2022-02-22T11:08:33.080Z"
   },
   {
    "duration": 9,
    "start_time": "2022-02-22T11:08:42.495Z"
   },
   {
    "duration": 522,
    "start_time": "2022-02-22T11:08:43.356Z"
   },
   {
    "duration": 258,
    "start_time": "2022-02-22T11:09:36.426Z"
   },
   {
    "duration": 102,
    "start_time": "2022-02-22T11:10:14.296Z"
   },
   {
    "duration": 5,
    "start_time": "2022-02-22T11:10:44.552Z"
   },
   {
    "duration": 5,
    "start_time": "2022-02-22T11:14:04.286Z"
   },
   {
    "duration": 6,
    "start_time": "2022-02-22T11:14:11.216Z"
   },
   {
    "duration": 5,
    "start_time": "2022-02-22T11:14:16.278Z"
   },
   {
    "duration": 1456,
    "start_time": "2022-02-23T06:02:23.180Z"
   },
   {
    "duration": 47,
    "start_time": "2022-02-23T06:02:24.639Z"
   },
   {
    "duration": 23,
    "start_time": "2022-02-23T06:02:24.689Z"
   },
   {
    "duration": 13,
    "start_time": "2022-02-23T06:02:24.714Z"
   },
   {
    "duration": 33,
    "start_time": "2022-02-23T06:02:24.730Z"
   },
   {
    "duration": 4,
    "start_time": "2022-02-23T06:02:24.765Z"
   },
   {
    "duration": 36,
    "start_time": "2022-02-23T06:02:24.772Z"
   },
   {
    "duration": 81,
    "start_time": "2022-02-23T06:02:24.811Z"
   },
   {
    "duration": 27,
    "start_time": "2022-02-23T06:02:24.895Z"
   },
   {
    "duration": 57,
    "start_time": "2022-02-23T06:02:24.924Z"
   },
   {
    "duration": 24,
    "start_time": "2022-02-23T06:02:24.984Z"
   },
   {
    "duration": 13,
    "start_time": "2022-02-23T06:02:25.011Z"
   },
   {
    "duration": 34,
    "start_time": "2022-02-23T06:02:25.027Z"
   },
   {
    "duration": 16,
    "start_time": "2022-02-23T06:02:25.064Z"
   },
   {
    "duration": 394,
    "start_time": "2022-02-23T06:02:25.082Z"
   },
   {
    "duration": 25,
    "start_time": "2022-02-23T06:02:25.645Z"
   },
   {
    "duration": 16,
    "start_time": "2022-02-23T06:02:48.452Z"
   },
   {
    "duration": 16,
    "start_time": "2022-02-23T06:03:32.665Z"
   },
   {
    "duration": 4,
    "start_time": "2022-02-23T06:04:41.355Z"
   },
   {
    "duration": 46,
    "start_time": "2022-02-23T06:04:41.362Z"
   },
   {
    "duration": 20,
    "start_time": "2022-02-23T06:04:41.411Z"
   },
   {
    "duration": 38,
    "start_time": "2022-02-23T06:04:41.434Z"
   },
   {
    "duration": 12,
    "start_time": "2022-02-23T06:04:41.475Z"
   },
   {
    "duration": 4,
    "start_time": "2022-02-23T06:04:41.489Z"
   },
   {
    "duration": 67,
    "start_time": "2022-02-23T06:04:41.496Z"
   },
   {
    "duration": 57,
    "start_time": "2022-02-23T06:04:41.567Z"
   },
   {
    "duration": 43,
    "start_time": "2022-02-23T06:04:41.627Z"
   },
   {
    "duration": 34,
    "start_time": "2022-02-23T06:04:41.672Z"
   },
   {
    "duration": 53,
    "start_time": "2022-02-23T06:04:41.709Z"
   },
   {
    "duration": 24,
    "start_time": "2022-02-23T06:04:41.765Z"
   },
   {
    "duration": 18,
    "start_time": "2022-02-23T06:04:44.066Z"
   },
   {
    "duration": 15,
    "start_time": "2022-02-23T06:05:04.404Z"
   },
   {
    "duration": 13,
    "start_time": "2022-02-23T06:05:21.413Z"
   },
   {
    "duration": 15,
    "start_time": "2022-02-23T06:05:37.225Z"
   },
   {
    "duration": 1472,
    "start_time": "2022-02-23T06:06:14.854Z"
   },
   {
    "duration": 41,
    "start_time": "2022-02-23T06:06:16.329Z"
   },
   {
    "duration": 22,
    "start_time": "2022-02-23T06:06:16.373Z"
   },
   {
    "duration": 16,
    "start_time": "2022-02-23T06:06:16.398Z"
   },
   {
    "duration": 12,
    "start_time": "2022-02-23T06:06:16.416Z"
   },
   {
    "duration": 33,
    "start_time": "2022-02-23T06:06:16.430Z"
   },
   {
    "duration": 32,
    "start_time": "2022-02-23T06:06:16.465Z"
   },
   {
    "duration": 78,
    "start_time": "2022-02-23T06:06:16.501Z"
   },
   {
    "duration": 27,
    "start_time": "2022-02-23T06:06:16.582Z"
   },
   {
    "duration": 52,
    "start_time": "2022-02-23T06:06:16.611Z"
   },
   {
    "duration": 23,
    "start_time": "2022-02-23T06:06:16.666Z"
   },
   {
    "duration": 14,
    "start_time": "2022-02-23T06:06:16.692Z"
   },
   {
    "duration": 13,
    "start_time": "2022-02-23T06:06:16.709Z"
   },
   {
    "duration": 40,
    "start_time": "2022-02-23T06:06:16.724Z"
   },
   {
    "duration": 349,
    "start_time": "2022-02-23T06:06:16.767Z"
   },
   {
    "duration": 22,
    "start_time": "2022-02-23T06:06:17.119Z"
   },
   {
    "duration": 26,
    "start_time": "2022-02-23T06:06:17.143Z"
   },
   {
    "duration": 16,
    "start_time": "2022-02-23T06:06:17.172Z"
   },
   {
    "duration": 9,
    "start_time": "2022-02-23T06:06:17.190Z"
   },
   {
    "duration": 7,
    "start_time": "2022-02-23T06:06:17.202Z"
   },
   {
    "duration": 487,
    "start_time": "2022-02-23T06:06:17.211Z"
   },
   {
    "duration": 36,
    "start_time": "2022-02-23T06:06:17.701Z"
   },
   {
    "duration": 25,
    "start_time": "2022-02-23T06:06:17.742Z"
   },
   {
    "duration": 10,
    "start_time": "2022-02-23T06:06:17.770Z"
   },
   {
    "duration": 7,
    "start_time": "2022-02-23T06:06:17.783Z"
   },
   {
    "duration": 473,
    "start_time": "2022-02-23T06:06:17.792Z"
   },
   {
    "duration": 622,
    "start_time": "2022-02-23T06:06:18.267Z"
   },
   {
    "duration": 9,
    "start_time": "2022-02-23T06:06:18.892Z"
   },
   {
    "duration": 400,
    "start_time": "2022-02-23T06:06:18.903Z"
   },
   {
    "duration": 459,
    "start_time": "2022-02-23T06:06:19.306Z"
   },
   {
    "duration": 16,
    "start_time": "2022-02-23T06:06:19.768Z"
   },
   {
    "duration": 12,
    "start_time": "2022-02-23T06:06:19.786Z"
   },
   {
    "duration": 586,
    "start_time": "2022-02-23T06:06:19.801Z"
   },
   {
    "duration": 12,
    "start_time": "2022-02-23T06:06:20.390Z"
   },
   {
    "duration": 18,
    "start_time": "2022-02-23T06:06:20.404Z"
   },
   {
    "duration": 412,
    "start_time": "2022-02-23T06:06:20.425Z"
   },
   {
    "duration": 373,
    "start_time": "2022-02-23T06:06:20.840Z"
   },
   {
    "duration": 724,
    "start_time": "2022-02-23T06:06:21.216Z"
   },
   {
    "duration": 782,
    "start_time": "2022-02-23T06:06:21.942Z"
   },
   {
    "duration": 731,
    "start_time": "2022-02-23T06:06:22.726Z"
   },
   {
    "duration": 15,
    "start_time": "2022-02-23T06:06:23.461Z"
   },
   {
    "duration": 563,
    "start_time": "2022-02-23T06:06:23.478Z"
   },
   {
    "duration": 567,
    "start_time": "2022-02-23T06:06:24.044Z"
   },
   {
    "duration": 7,
    "start_time": "2022-02-23T06:06:24.614Z"
   },
   {
    "duration": 38,
    "start_time": "2022-02-23T06:06:24.624Z"
   },
   {
    "duration": 575,
    "start_time": "2022-02-23T06:06:24.664Z"
   },
   {
    "duration": 526,
    "start_time": "2022-02-23T06:06:25.242Z"
   },
   {
    "duration": 10,
    "start_time": "2022-02-23T06:06:25.771Z"
   },
   {
    "duration": 9,
    "start_time": "2022-02-23T06:06:25.784Z"
   },
   {
    "duration": 17,
    "start_time": "2022-02-23T06:54:25.739Z"
   },
   {
    "duration": 33,
    "start_time": "2022-02-23T06:54:45.775Z"
   },
   {
    "duration": 29,
    "start_time": "2022-02-23T06:55:42.032Z"
   },
   {
    "duration": 28,
    "start_time": "2022-02-23T06:56:44.636Z"
   },
   {
    "duration": 1577,
    "start_time": "2022-02-24T05:47:35.199Z"
   },
   {
    "duration": 52,
    "start_time": "2022-02-24T05:47:37.301Z"
   },
   {
    "duration": 7413,
    "start_time": "2022-02-24T05:47:54.806Z"
   },
   {
    "duration": 15,
    "start_time": "2022-02-24T05:48:04.347Z"
   },
   {
    "duration": 20,
    "start_time": "2022-02-24T05:48:15.873Z"
   },
   {
    "duration": 15,
    "start_time": "2022-02-24T05:48:17.072Z"
   },
   {
    "duration": 13,
    "start_time": "2022-02-24T05:48:17.903Z"
   },
   {
    "duration": 4,
    "start_time": "2022-02-24T05:48:20.140Z"
   },
   {
    "duration": 38,
    "start_time": "2022-02-24T05:48:20.511Z"
   },
   {
    "duration": 64,
    "start_time": "2022-02-24T05:48:20.892Z"
   },
   {
    "duration": 29,
    "start_time": "2022-02-24T05:48:21.304Z"
   },
   {
    "duration": 28,
    "start_time": "2022-02-24T05:48:21.826Z"
   },
   {
    "duration": 24,
    "start_time": "2022-02-24T05:48:22.673Z"
   },
   {
    "duration": 11,
    "start_time": "2022-02-24T05:48:23.045Z"
   },
   {
    "duration": 11,
    "start_time": "2022-02-24T05:48:23.444Z"
   },
   {
    "duration": 16,
    "start_time": "2022-02-24T05:48:23.864Z"
   },
   {
    "duration": 350,
    "start_time": "2022-02-24T05:48:26.774Z"
   },
   {
    "duration": 24,
    "start_time": "2022-02-24T05:48:31.121Z"
   },
   {
    "duration": 10,
    "start_time": "2022-02-24T05:48:44.728Z"
   },
   {
    "duration": 40,
    "start_time": "2022-02-24T05:53:06.561Z"
   },
   {
    "duration": 37,
    "start_time": "2022-02-24T05:53:23.003Z"
   },
   {
    "duration": 24,
    "start_time": "2022-02-24T06:14:12.736Z"
   },
   {
    "duration": 11,
    "start_time": "2022-02-24T06:14:13.233Z"
   },
   {
    "duration": 7,
    "start_time": "2022-02-24T06:14:19.871Z"
   },
   {
    "duration": 497,
    "start_time": "2022-02-24T06:14:20.879Z"
   },
   {
    "duration": 36,
    "start_time": "2022-02-24T06:15:49.237Z"
   },
   {
    "duration": 9,
    "start_time": "2022-02-24T06:15:49.931Z"
   },
   {
    "duration": 7,
    "start_time": "2022-02-24T06:15:52.109Z"
   },
   {
    "duration": 506,
    "start_time": "2022-02-24T06:15:52.679Z"
   },
   {
    "duration": 1463,
    "start_time": "2022-03-17T09:49:23.946Z"
   },
   {
    "duration": 46,
    "start_time": "2022-03-17T09:49:25.411Z"
   },
   {
    "duration": 18,
    "start_time": "2022-03-17T09:49:25.460Z"
   },
   {
    "duration": 28,
    "start_time": "2022-03-17T09:49:25.481Z"
   },
   {
    "duration": 16,
    "start_time": "2022-03-17T09:49:25.512Z"
   },
   {
    "duration": 6,
    "start_time": "2022-03-17T09:49:25.530Z"
   },
   {
    "duration": 26,
    "start_time": "2022-03-17T09:49:25.538Z"
   },
   {
    "duration": 63,
    "start_time": "2022-03-17T09:49:25.566Z"
   },
   {
    "duration": 22,
    "start_time": "2022-03-17T09:49:25.631Z"
   },
   {
    "duration": 24,
    "start_time": "2022-03-17T09:49:25.654Z"
   },
   {
    "duration": 37,
    "start_time": "2022-03-17T09:49:25.680Z"
   },
   {
    "duration": 23,
    "start_time": "2022-03-17T09:49:25.719Z"
   },
   {
    "duration": 14,
    "start_time": "2022-03-17T09:49:25.744Z"
   },
   {
    "duration": 22,
    "start_time": "2022-03-17T09:49:25.762Z"
   },
   {
    "duration": 180,
    "start_time": "2022-03-17T09:49:25.786Z"
   },
   {
    "duration": 38,
    "start_time": "2022-03-17T09:49:25.969Z"
   },
   {
    "duration": 8,
    "start_time": "2022-03-17T09:49:26.008Z"
   },
   {
    "duration": 12,
    "start_time": "2022-03-17T09:49:26.018Z"
   },
   {
    "duration": 252,
    "start_time": "2022-03-17T09:49:26.032Z"
   },
   {
    "duration": 31,
    "start_time": "2022-03-17T09:49:26.286Z"
   },
   {
    "duration": 6,
    "start_time": "2022-03-17T09:49:26.318Z"
   },
   {
    "duration": 20,
    "start_time": "2022-03-17T09:49:26.326Z"
   },
   {
    "duration": 6,
    "start_time": "2022-03-17T09:49:26.348Z"
   },
   {
    "duration": 253,
    "start_time": "2022-03-17T09:49:26.356Z"
   },
   {
    "duration": 428,
    "start_time": "2022-03-17T09:49:26.611Z"
   },
   {
    "duration": 9,
    "start_time": "2022-03-17T09:49:27.043Z"
   },
   {
    "duration": 166,
    "start_time": "2022-03-17T09:49:27.054Z"
   },
   {
    "duration": 246,
    "start_time": "2022-03-17T09:49:27.223Z"
   },
   {
    "duration": 33,
    "start_time": "2022-03-17T09:49:27.471Z"
   },
   {
    "duration": 12,
    "start_time": "2022-03-17T09:49:27.506Z"
   },
   {
    "duration": 173,
    "start_time": "2022-03-17T09:49:27.520Z"
   },
   {
    "duration": 14,
    "start_time": "2022-03-17T09:49:27.695Z"
   },
   {
    "duration": 12,
    "start_time": "2022-03-17T09:49:27.711Z"
   },
   {
    "duration": 277,
    "start_time": "2022-03-17T09:49:27.725Z"
   },
   {
    "duration": 196,
    "start_time": "2022-03-17T09:49:28.005Z"
   },
   {
    "duration": 353,
    "start_time": "2022-03-17T09:49:28.203Z"
   },
   {
    "duration": 407,
    "start_time": "2022-03-17T09:49:28.558Z"
   },
   {
    "duration": 457,
    "start_time": "2022-03-17T09:49:28.967Z"
   },
   {
    "duration": 10,
    "start_time": "2022-03-17T09:49:29.426Z"
   },
   {
    "duration": 265,
    "start_time": "2022-03-17T09:49:29.438Z"
   },
   {
    "duration": 226,
    "start_time": "2022-03-17T09:49:29.707Z"
   },
   {
    "duration": 119,
    "start_time": "2022-03-17T09:49:29.935Z"
   },
   {
    "duration": 0,
    "start_time": "2022-03-17T09:49:30.056Z"
   },
   {
    "duration": 0,
    "start_time": "2022-03-17T09:49:30.057Z"
   },
   {
    "duration": 0,
    "start_time": "2022-03-17T09:49:30.059Z"
   },
   {
    "duration": 0,
    "start_time": "2022-03-17T09:49:30.060Z"
   },
   {
    "duration": 0,
    "start_time": "2022-03-17T09:49:30.061Z"
   },
   {
    "duration": 7,
    "start_time": "2022-03-17T09:50:10.081Z"
   },
   {
    "duration": 10,
    "start_time": "2022-03-17T09:50:30.142Z"
   },
   {
    "duration": 350,
    "start_time": "2022-03-17T09:50:31.070Z"
   },
   {
    "duration": 221,
    "start_time": "2022-03-17T09:50:35.325Z"
   },
   {
    "duration": 12,
    "start_time": "2022-03-17T09:50:40.249Z"
   },
   {
    "duration": 7,
    "start_time": "2022-03-17T09:50:51.273Z"
   },
   {
    "duration": 13,
    "start_time": "2022-03-17T09:50:57.591Z"
   },
   {
    "duration": 9,
    "start_time": "2022-03-17T09:51:07.109Z"
   },
   {
    "duration": 4,
    "start_time": "2022-03-17T09:59:10.852Z"
   },
   {
    "duration": 40,
    "start_time": "2022-03-17T09:59:10.859Z"
   },
   {
    "duration": 15,
    "start_time": "2022-03-17T09:59:10.902Z"
   },
   {
    "duration": 17,
    "start_time": "2022-03-17T09:59:10.919Z"
   },
   {
    "duration": 11,
    "start_time": "2022-03-17T09:59:10.938Z"
   },
   {
    "duration": 17,
    "start_time": "2022-03-17T10:00:29.263Z"
   },
   {
    "duration": 11,
    "start_time": "2022-03-17T10:01:10.917Z"
   },
   {
    "duration": 54,
    "start_time": "2022-03-17T10:10:10.030Z"
   },
   {
    "duration": 8,
    "start_time": "2022-03-17T10:10:29.531Z"
   },
   {
    "duration": 27,
    "start_time": "2022-03-17T10:10:49.610Z"
   },
   {
    "duration": 25,
    "start_time": "2022-03-17T10:11:22.054Z"
   },
   {
    "duration": 29,
    "start_time": "2022-03-17T10:11:39.562Z"
   },
   {
    "duration": 43,
    "start_time": "2022-03-17T10:12:21.143Z"
   },
   {
    "duration": 20,
    "start_time": "2022-03-17T10:13:15.536Z"
   },
   {
    "duration": 12,
    "start_time": "2022-03-17T10:13:17.915Z"
   },
   {
    "duration": 3281,
    "start_time": "2022-03-17T10:25:47.548Z"
   },
   {
    "duration": 4,
    "start_time": "2022-03-17T10:26:02.682Z"
   },
   {
    "duration": 27,
    "start_time": "2022-03-17T10:26:04.526Z"
   },
   {
    "duration": 47,
    "start_time": "2022-03-17T10:26:08.184Z"
   },
   {
    "duration": 24,
    "start_time": "2022-03-17T10:26:10.028Z"
   },
   {
    "duration": 17,
    "start_time": "2022-03-17T10:26:28.907Z"
   },
   {
    "duration": 20,
    "start_time": "2022-03-17T10:26:38.960Z"
   },
   {
    "duration": 4,
    "start_time": "2022-03-17T10:26:47.357Z"
   },
   {
    "duration": 60,
    "start_time": "2022-03-17T10:26:47.363Z"
   },
   {
    "duration": 21,
    "start_time": "2022-03-17T10:26:47.426Z"
   },
   {
    "duration": 33,
    "start_time": "2022-03-17T10:26:47.449Z"
   },
   {
    "duration": 21,
    "start_time": "2022-03-17T10:26:47.484Z"
   },
   {
    "duration": 17,
    "start_time": "2022-03-17T10:26:47.507Z"
   },
   {
    "duration": 57,
    "start_time": "2022-03-17T10:26:47.526Z"
   },
   {
    "duration": 1259,
    "start_time": "2022-03-17T10:26:59.049Z"
   },
   {
    "duration": 42,
    "start_time": "2022-03-17T10:27:00.310Z"
   },
   {
    "duration": 21,
    "start_time": "2022-03-17T10:27:00.354Z"
   },
   {
    "duration": 38,
    "start_time": "2022-03-17T10:27:00.377Z"
   },
   {
    "duration": 13,
    "start_time": "2022-03-17T10:27:00.418Z"
   },
   {
    "duration": 26,
    "start_time": "2022-03-17T10:27:00.433Z"
   },
   {
    "duration": 25,
    "start_time": "2022-03-17T10:27:02.828Z"
   },
   {
    "duration": 22,
    "start_time": "2022-03-17T10:27:03.993Z"
   },
   {
    "duration": 58,
    "start_time": "2022-03-17T10:27:13.449Z"
   },
   {
    "duration": 26,
    "start_time": "2022-03-17T10:27:13.894Z"
   },
   {
    "duration": 29,
    "start_time": "2022-03-17T10:31:30.705Z"
   },
   {
    "duration": 9,
    "start_time": "2022-03-17T10:31:31.803Z"
   },
   {
    "duration": 9,
    "start_time": "2022-03-17T10:35:04.953Z"
   },
   {
    "duration": 12,
    "start_time": "2022-03-17T10:35:37.123Z"
   },
   {
    "duration": 19,
    "start_time": "2022-03-17T10:35:38.134Z"
   },
   {
    "duration": 1330,
    "start_time": "2022-03-18T05:29:13.317Z"
   },
   {
    "duration": 59,
    "start_time": "2022-03-18T05:29:14.649Z"
   },
   {
    "duration": 18,
    "start_time": "2022-03-18T05:29:14.709Z"
   },
   {
    "duration": 22,
    "start_time": "2022-03-18T05:29:14.729Z"
   },
   {
    "duration": 28,
    "start_time": "2022-03-18T05:29:14.753Z"
   },
   {
    "duration": 4,
    "start_time": "2022-03-18T05:29:14.783Z"
   },
   {
    "duration": 33,
    "start_time": "2022-03-18T05:29:14.788Z"
   },
   {
    "duration": 24,
    "start_time": "2022-03-18T05:29:14.823Z"
   },
   {
    "duration": 62,
    "start_time": "2022-03-18T05:29:14.849Z"
   },
   {
    "duration": 20,
    "start_time": "2022-03-18T05:29:14.914Z"
   },
   {
    "duration": 20,
    "start_time": "2022-03-18T05:29:14.936Z"
   },
   {
    "duration": 29,
    "start_time": "2022-03-18T05:29:14.958Z"
   },
   {
    "duration": 7,
    "start_time": "2022-03-18T05:29:14.989Z"
   },
   {
    "duration": 33,
    "start_time": "2022-03-18T05:29:14.997Z"
   },
   {
    "duration": 250,
    "start_time": "2022-03-18T05:29:15.032Z"
   },
   {
    "duration": 35,
    "start_time": "2022-03-18T05:29:15.284Z"
   },
   {
    "duration": 11,
    "start_time": "2022-03-18T05:29:15.321Z"
   },
   {
    "duration": 7,
    "start_time": "2022-03-18T05:29:15.334Z"
   },
   {
    "duration": 222,
    "start_time": "2022-03-18T05:29:15.343Z"
   },
   {
    "duration": 38,
    "start_time": "2022-03-18T05:29:15.567Z"
   },
   {
    "duration": 5,
    "start_time": "2022-03-18T05:29:15.607Z"
   },
   {
    "duration": 17,
    "start_time": "2022-03-18T05:29:15.614Z"
   },
   {
    "duration": 4,
    "start_time": "2022-03-18T05:29:15.633Z"
   },
   {
    "duration": 333,
    "start_time": "2022-03-18T05:29:15.639Z"
   },
   {
    "duration": 287,
    "start_time": "2022-03-18T05:29:15.975Z"
   },
   {
    "duration": 7,
    "start_time": "2022-03-18T05:29:16.264Z"
   },
   {
    "duration": 202,
    "start_time": "2022-03-18T05:29:16.281Z"
   },
   {
    "duration": 154,
    "start_time": "2022-03-18T05:29:16.487Z"
   },
   {
    "duration": 11,
    "start_time": "2022-03-18T05:29:16.643Z"
   },
   {
    "duration": 16,
    "start_time": "2022-03-18T05:29:16.655Z"
   },
   {
    "duration": 135,
    "start_time": "2022-03-18T05:29:16.681Z"
   },
   {
    "duration": 9,
    "start_time": "2022-03-18T05:29:16.817Z"
   },
   {
    "duration": 14,
    "start_time": "2022-03-18T05:29:16.828Z"
   },
   {
    "duration": 346,
    "start_time": "2022-03-18T05:29:16.843Z"
   },
   {
    "duration": 167,
    "start_time": "2022-03-18T05:29:17.191Z"
   },
   {
    "duration": 307,
    "start_time": "2022-03-18T05:29:17.360Z"
   },
   {
    "duration": 336,
    "start_time": "2022-03-18T05:29:17.668Z"
   },
   {
    "duration": 451,
    "start_time": "2022-03-18T05:29:18.006Z"
   },
   {
    "duration": 22,
    "start_time": "2022-03-18T05:29:18.459Z"
   },
   {
    "duration": 299,
    "start_time": "2022-03-18T05:29:18.483Z"
   },
   {
    "duration": 290,
    "start_time": "2022-03-18T05:29:18.784Z"
   },
   {
    "duration": 8,
    "start_time": "2022-03-18T05:29:19.076Z"
   },
   {
    "duration": 17,
    "start_time": "2022-03-18T05:29:19.086Z"
   },
   {
    "duration": 475,
    "start_time": "2022-03-18T05:29:19.106Z"
   },
   {
    "duration": 298,
    "start_time": "2022-03-18T05:29:19.583Z"
   },
   {
    "duration": 8,
    "start_time": "2022-03-18T05:29:19.883Z"
   },
   {
    "duration": 7,
    "start_time": "2022-03-18T05:29:19.892Z"
   },
   {
    "duration": 1465,
    "start_time": "2022-03-18T05:32:54.390Z"
   },
   {
    "duration": 57,
    "start_time": "2022-03-18T05:32:55.857Z"
   },
   {
    "duration": 22,
    "start_time": "2022-03-18T05:32:55.916Z"
   },
   {
    "duration": 20,
    "start_time": "2022-03-18T05:32:55.941Z"
   },
   {
    "duration": 11,
    "start_time": "2022-03-18T05:32:55.982Z"
   },
   {
    "duration": 8,
    "start_time": "2022-03-18T05:32:55.995Z"
   },
   {
    "duration": 34,
    "start_time": "2022-03-18T05:32:56.005Z"
   },
   {
    "duration": 42,
    "start_time": "2022-03-18T05:32:56.041Z"
   },
   {
    "duration": 48,
    "start_time": "2022-03-18T05:32:56.085Z"
   },
   {
    "duration": 22,
    "start_time": "2022-03-18T05:32:56.137Z"
   },
   {
    "duration": 29,
    "start_time": "2022-03-18T05:32:56.160Z"
   },
   {
    "duration": 10,
    "start_time": "2022-03-18T05:32:56.191Z"
   },
   {
    "duration": 7,
    "start_time": "2022-03-18T05:32:56.203Z"
   },
   {
    "duration": 16,
    "start_time": "2022-03-18T05:32:56.212Z"
   },
   {
    "duration": 180,
    "start_time": "2022-03-18T05:32:56.230Z"
   },
   {
    "duration": 21,
    "start_time": "2022-03-18T05:32:56.411Z"
   },
   {
    "duration": 15,
    "start_time": "2022-03-18T05:32:56.434Z"
   },
   {
    "duration": 7,
    "start_time": "2022-03-18T05:32:56.451Z"
   },
   {
    "duration": 309,
    "start_time": "2022-03-18T05:32:56.459Z"
   },
   {
    "duration": 32,
    "start_time": "2022-03-18T05:32:56.770Z"
   },
   {
    "duration": 7,
    "start_time": "2022-03-18T05:32:56.804Z"
   },
   {
    "duration": 15,
    "start_time": "2022-03-18T05:32:56.813Z"
   },
   {
    "duration": 6,
    "start_time": "2022-03-18T05:32:56.830Z"
   },
   {
    "duration": 212,
    "start_time": "2022-03-18T05:32:56.838Z"
   },
   {
    "duration": 261,
    "start_time": "2022-03-18T05:32:57.052Z"
   },
   {
    "duration": 6,
    "start_time": "2022-03-18T05:32:57.314Z"
   },
   {
    "duration": 138,
    "start_time": "2022-03-18T05:32:57.322Z"
   },
   {
    "duration": 184,
    "start_time": "2022-03-18T05:32:57.463Z"
   },
   {
    "duration": 13,
    "start_time": "2022-03-18T05:32:57.650Z"
   },
   {
    "duration": 24,
    "start_time": "2022-03-18T05:32:57.664Z"
   },
   {
    "duration": 195,
    "start_time": "2022-03-18T05:32:57.689Z"
   },
   {
    "duration": 8,
    "start_time": "2022-03-18T05:32:57.886Z"
   },
   {
    "duration": 15,
    "start_time": "2022-03-18T05:32:57.895Z"
   },
   {
    "duration": 240,
    "start_time": "2022-03-18T05:32:57.912Z"
   },
   {
    "duration": 167,
    "start_time": "2022-03-18T05:32:58.154Z"
   },
   {
    "duration": 328,
    "start_time": "2022-03-18T05:32:58.323Z"
   },
   {
    "duration": 314,
    "start_time": "2022-03-18T05:32:58.653Z"
   },
   {
    "duration": 323,
    "start_time": "2022-03-18T05:32:58.969Z"
   },
   {
    "duration": 9,
    "start_time": "2022-03-18T05:32:59.294Z"
   },
   {
    "duration": 305,
    "start_time": "2022-03-18T05:32:59.305Z"
   },
   {
    "duration": 186,
    "start_time": "2022-03-18T05:32:59.613Z"
   },
   {
    "duration": 6,
    "start_time": "2022-03-18T05:32:59.801Z"
   },
   {
    "duration": 10,
    "start_time": "2022-03-18T05:32:59.809Z"
   },
   {
    "duration": 312,
    "start_time": "2022-03-18T05:32:59.821Z"
   },
   {
    "duration": 197,
    "start_time": "2022-03-18T05:33:00.135Z"
   },
   {
    "duration": 8,
    "start_time": "2022-03-18T05:33:00.333Z"
   },
   {
    "duration": 13,
    "start_time": "2022-03-18T05:33:00.342Z"
   },
   {
    "duration": 1255,
    "start_time": "2022-03-19T15:00:58.746Z"
   },
   {
    "duration": 39,
    "start_time": "2022-03-19T15:01:00.003Z"
   },
   {
    "duration": 18,
    "start_time": "2022-03-19T15:01:00.043Z"
   },
   {
    "duration": 15,
    "start_time": "2022-03-19T15:01:00.064Z"
   },
   {
    "duration": 31,
    "start_time": "2022-03-19T15:01:00.081Z"
   },
   {
    "duration": 4,
    "start_time": "2022-03-19T15:01:00.113Z"
   },
   {
    "duration": 27,
    "start_time": "2022-03-19T15:01:00.120Z"
   },
   {
    "duration": 18,
    "start_time": "2022-03-19T15:01:00.149Z"
   },
   {
    "duration": 52,
    "start_time": "2022-03-19T15:01:00.168Z"
   },
   {
    "duration": 20,
    "start_time": "2022-03-19T15:01:00.222Z"
   },
   {
    "duration": 18,
    "start_time": "2022-03-19T15:01:00.243Z"
   },
   {
    "duration": 10,
    "start_time": "2022-03-19T15:01:00.263Z"
   },
   {
    "duration": 11,
    "start_time": "2022-03-19T15:01:00.275Z"
   },
   {
    "duration": 30,
    "start_time": "2022-03-19T15:01:00.287Z"
   },
   {
    "duration": 189,
    "start_time": "2022-03-19T15:01:00.319Z"
   },
   {
    "duration": 22,
    "start_time": "2022-03-19T15:01:00.510Z"
   },
   {
    "duration": 11,
    "start_time": "2022-03-19T15:01:00.534Z"
   },
   {
    "duration": 13,
    "start_time": "2022-03-19T15:01:00.547Z"
   },
   {
    "duration": 258,
    "start_time": "2022-03-19T15:01:00.562Z"
   },
   {
    "duration": 25,
    "start_time": "2022-03-19T15:01:03.834Z"
   },
   {
    "duration": 22,
    "start_time": "2022-03-19T15:01:30.312Z"
   },
   {
    "duration": 25,
    "start_time": "2022-03-19T15:02:19.564Z"
   },
   {
    "duration": 7,
    "start_time": "2022-03-19T15:02:27.331Z"
   },
   {
    "duration": 12,
    "start_time": "2022-03-19T15:02:28.068Z"
   },
   {
    "duration": 5,
    "start_time": "2022-03-19T15:03:53.983Z"
   },
   {
    "duration": 226,
    "start_time": "2022-03-19T15:03:54.551Z"
   },
   {
    "duration": 297,
    "start_time": "2022-03-19T15:06:02.386Z"
   },
   {
    "duration": 104,
    "start_time": "2022-03-19T15:10:04.439Z"
   },
   {
    "duration": 16,
    "start_time": "2022-03-19T15:10:37.327Z"
   },
   {
    "duration": 4,
    "start_time": "2022-03-19T15:10:44.540Z"
   },
   {
    "duration": 49,
    "start_time": "2022-03-19T15:10:44.547Z"
   },
   {
    "duration": 15,
    "start_time": "2022-03-19T15:10:44.598Z"
   },
   {
    "duration": 24,
    "start_time": "2022-03-19T15:10:44.615Z"
   },
   {
    "duration": 9,
    "start_time": "2022-03-19T15:10:44.641Z"
   },
   {
    "duration": 5,
    "start_time": "2022-03-19T15:10:44.652Z"
   },
   {
    "duration": 22,
    "start_time": "2022-03-19T15:10:44.659Z"
   },
   {
    "duration": 41,
    "start_time": "2022-03-19T15:10:44.683Z"
   },
   {
    "duration": 38,
    "start_time": "2022-03-19T15:10:44.727Z"
   },
   {
    "duration": 43,
    "start_time": "2022-03-19T15:10:44.767Z"
   },
   {
    "duration": 17,
    "start_time": "2022-03-19T15:10:44.812Z"
   },
   {
    "duration": 9,
    "start_time": "2022-03-19T15:10:44.831Z"
   },
   {
    "duration": 6,
    "start_time": "2022-03-19T15:10:44.842Z"
   },
   {
    "duration": 19,
    "start_time": "2022-03-19T15:10:44.849Z"
   },
   {
    "duration": 214,
    "start_time": "2022-03-19T15:10:44.870Z"
   },
   {
    "duration": 32,
    "start_time": "2022-03-19T15:10:45.085Z"
   },
   {
    "duration": 10,
    "start_time": "2022-03-19T15:10:45.119Z"
   },
   {
    "duration": 6,
    "start_time": "2022-03-19T15:10:45.131Z"
   },
   {
    "duration": 249,
    "start_time": "2022-03-19T15:10:45.139Z"
   },
   {
    "duration": 36,
    "start_time": "2022-03-19T15:10:45.390Z"
   },
   {
    "duration": 6,
    "start_time": "2022-03-19T15:10:45.428Z"
   },
   {
    "duration": 14,
    "start_time": "2022-03-19T15:10:45.436Z"
   },
   {
    "duration": 5,
    "start_time": "2022-03-19T15:10:45.452Z"
   },
   {
    "duration": 327,
    "start_time": "2022-03-19T15:10:45.461Z"
   },
   {
    "duration": 300,
    "start_time": "2022-03-19T15:10:45.790Z"
   },
   {
    "duration": 17,
    "start_time": "2022-03-19T15:10:46.092Z"
   },
   {
    "duration": 161,
    "start_time": "2022-03-19T15:10:48.351Z"
   },
   {
    "duration": 125,
    "start_time": "2022-03-19T15:11:00.047Z"
   },
   {
    "duration": 131,
    "start_time": "2022-03-19T15:11:04.687Z"
   },
   {
    "duration": 148,
    "start_time": "2022-03-19T15:11:11.689Z"
   },
   {
    "duration": 150,
    "start_time": "2022-03-19T15:11:15.498Z"
   },
   {
    "duration": 244,
    "start_time": "2022-03-19T15:11:55.186Z"
   },
   {
    "duration": 271,
    "start_time": "2022-03-19T15:12:04.338Z"
   },
   {
    "duration": 263,
    "start_time": "2022-03-19T15:12:09.364Z"
   },
   {
    "duration": 360,
    "start_time": "2022-03-19T15:12:14.362Z"
   },
   {
    "duration": 279,
    "start_time": "2022-03-19T15:12:20.647Z"
   },
   {
    "duration": 317,
    "start_time": "2022-03-19T15:14:06.842Z"
   },
   {
    "duration": 304,
    "start_time": "2022-03-19T15:14:25.826Z"
   },
   {
    "duration": 316,
    "start_time": "2022-03-19T15:14:35.269Z"
   },
   {
    "duration": 18,
    "start_time": "2022-03-19T15:58:51.406Z"
   },
   {
    "duration": 10,
    "start_time": "2022-03-19T15:58:52.930Z"
   },
   {
    "duration": 259,
    "start_time": "2022-03-19T16:37:14.396Z"
   },
   {
    "duration": 281,
    "start_time": "2022-03-19T16:38:11.633Z"
   },
   {
    "duration": 288,
    "start_time": "2022-03-19T16:39:30.428Z"
   },
   {
    "duration": 304,
    "start_time": "2022-03-19T16:39:47.368Z"
   },
   {
    "duration": 10,
    "start_time": "2022-03-19T16:42:06.683Z"
   },
   {
    "duration": 11,
    "start_time": "2022-03-19T16:42:07.750Z"
   },
   {
    "duration": 30,
    "start_time": "2022-03-19T16:48:18.982Z"
   },
   {
    "duration": 17,
    "start_time": "2022-03-19T17:09:08.297Z"
   },
   {
    "duration": 24,
    "start_time": "2022-03-19T17:09:18.495Z"
   },
   {
    "duration": 31,
    "start_time": "2022-03-19T17:10:06.382Z"
   },
   {
    "duration": 21,
    "start_time": "2022-03-19T17:12:06.411Z"
   },
   {
    "duration": 197,
    "start_time": "2022-03-19T17:13:02.730Z"
   },
   {
    "duration": 13,
    "start_time": "2022-03-19T17:16:19.716Z"
   },
   {
    "duration": 303,
    "start_time": "2022-03-19T17:16:24.712Z"
   },
   {
    "duration": 189,
    "start_time": "2022-03-19T17:17:28.874Z"
   },
   {
    "duration": 163,
    "start_time": "2022-03-19T17:18:33.055Z"
   },
   {
    "duration": 181,
    "start_time": "2022-03-19T17:18:41.965Z"
   },
   {
    "duration": 191,
    "start_time": "2022-03-19T17:18:55.840Z"
   },
   {
    "duration": 178,
    "start_time": "2022-03-19T17:19:04.269Z"
   },
   {
    "duration": 333,
    "start_time": "2022-03-19T17:19:37.563Z"
   },
   {
    "duration": 346,
    "start_time": "2022-03-19T17:19:55.658Z"
   },
   {
    "duration": 437,
    "start_time": "2022-03-19T17:20:25.445Z"
   },
   {
    "duration": 343,
    "start_time": "2022-03-19T17:20:32.218Z"
   },
   {
    "duration": 689,
    "start_time": "2022-03-19T17:21:04.075Z"
   },
   {
    "duration": 692,
    "start_time": "2022-03-19T17:22:12.396Z"
   },
   {
    "duration": 30,
    "start_time": "2022-03-19T17:22:21.238Z"
   },
   {
    "duration": 951,
    "start_time": "2022-03-19T17:22:21.962Z"
   },
   {
    "duration": 913,
    "start_time": "2022-03-19T17:25:38.030Z"
   },
   {
    "duration": 378,
    "start_time": "2022-03-19T17:28:00.477Z"
   },
   {
    "duration": 354,
    "start_time": "2022-03-19T17:28:09.575Z"
   },
   {
    "duration": 356,
    "start_time": "2022-03-19T17:28:14.153Z"
   },
   {
    "duration": 448,
    "start_time": "2022-03-19T17:28:25.170Z"
   },
   {
    "duration": 355,
    "start_time": "2022-03-19T17:28:57.613Z"
   },
   {
    "duration": 374,
    "start_time": "2022-03-19T17:29:04.566Z"
   },
   {
    "duration": 349,
    "start_time": "2022-03-19T17:29:15.243Z"
   },
   {
    "duration": 372,
    "start_time": "2022-03-19T17:29:21.381Z"
   },
   {
    "duration": 389,
    "start_time": "2022-03-19T17:29:28.077Z"
   },
   {
    "duration": 455,
    "start_time": "2022-03-19T17:52:07.799Z"
   },
   {
    "duration": 357,
    "start_time": "2022-03-19T18:02:49.470Z"
   },
   {
    "duration": 367,
    "start_time": "2022-03-19T18:03:49.924Z"
   },
   {
    "duration": 387,
    "start_time": "2022-03-19T18:05:18.294Z"
   },
   {
    "duration": 384,
    "start_time": "2022-03-19T18:13:09.257Z"
   },
   {
    "duration": 186,
    "start_time": "2022-03-19T18:22:20.126Z"
   },
   {
    "duration": 1197,
    "start_time": "2022-03-19T19:17:36.111Z"
   },
   {
    "duration": 41,
    "start_time": "2022-03-19T19:17:37.313Z"
   },
   {
    "duration": 17,
    "start_time": "2022-03-19T19:17:37.356Z"
   },
   {
    "duration": 14,
    "start_time": "2022-03-19T19:17:37.375Z"
   },
   {
    "duration": 23,
    "start_time": "2022-03-19T19:17:37.392Z"
   },
   {
    "duration": 3,
    "start_time": "2022-03-19T19:17:37.417Z"
   },
   {
    "duration": 27,
    "start_time": "2022-03-19T19:17:37.422Z"
   },
   {
    "duration": 17,
    "start_time": "2022-03-19T19:17:37.451Z"
   },
   {
    "duration": 73,
    "start_time": "2022-03-19T19:17:37.469Z"
   },
   {
    "duration": 21,
    "start_time": "2022-03-19T19:17:37.544Z"
   },
   {
    "duration": 16,
    "start_time": "2022-03-19T19:17:37.567Z"
   },
   {
    "duration": 8,
    "start_time": "2022-03-19T19:17:37.584Z"
   },
   {
    "duration": 9,
    "start_time": "2022-03-19T19:17:37.609Z"
   },
   {
    "duration": 17,
    "start_time": "2022-03-19T19:17:37.622Z"
   },
   {
    "duration": 204,
    "start_time": "2022-03-19T19:17:37.641Z"
   },
   {
    "duration": 21,
    "start_time": "2022-03-19T19:17:37.847Z"
   },
   {
    "duration": 9,
    "start_time": "2022-03-19T19:17:37.869Z"
   },
   {
    "duration": 5,
    "start_time": "2022-03-19T19:17:37.880Z"
   },
   {
    "duration": 278,
    "start_time": "2022-03-19T19:17:37.887Z"
   },
   {
    "duration": 25,
    "start_time": "2022-03-19T19:17:38.167Z"
   },
   {
    "duration": 19,
    "start_time": "2022-03-19T19:17:38.193Z"
   },
   {
    "duration": 16,
    "start_time": "2022-03-19T19:17:38.214Z"
   },
   {
    "duration": 5,
    "start_time": "2022-03-19T19:17:38.232Z"
   },
   {
    "duration": 253,
    "start_time": "2022-03-19T19:17:38.238Z"
   },
   {
    "duration": 395,
    "start_time": "2022-03-19T19:17:38.493Z"
   },
   {
    "duration": 7,
    "start_time": "2022-03-19T19:17:38.890Z"
   },
   {
    "duration": 296,
    "start_time": "2022-03-19T19:17:38.898Z"
   },
   {
    "duration": 15,
    "start_time": "2022-03-19T19:17:39.196Z"
   },
   {
    "duration": 13,
    "start_time": "2022-03-19T19:17:39.213Z"
   },
   {
    "duration": 321,
    "start_time": "2022-03-19T19:17:39.228Z"
   },
   {
    "duration": 9,
    "start_time": "2022-03-19T19:17:39.551Z"
   },
   {
    "duration": 12,
    "start_time": "2022-03-19T19:17:39.561Z"
   },
   {
    "duration": 52,
    "start_time": "2022-03-19T19:17:39.574Z"
   },
   {
    "duration": 441,
    "start_time": "2022-03-19T19:17:39.628Z"
   },
   {
    "duration": 398,
    "start_time": "2022-03-19T19:17:40.070Z"
   },
   {
    "duration": 384,
    "start_time": "2022-03-19T19:17:40.470Z"
   },
   {
    "duration": 405,
    "start_time": "2022-03-19T19:17:40.856Z"
   },
   {
    "duration": 420,
    "start_time": "2022-03-19T19:17:41.263Z"
   },
   {
    "duration": 9,
    "start_time": "2022-03-19T19:17:41.685Z"
   },
   {
    "duration": 255,
    "start_time": "2022-03-19T19:17:41.696Z"
   },
   {
    "duration": 314,
    "start_time": "2022-03-19T19:17:41.955Z"
   },
   {
    "duration": 6,
    "start_time": "2022-03-19T19:17:42.271Z"
   },
   {
    "duration": 63,
    "start_time": "2022-03-19T19:17:42.278Z"
   },
   {
    "duration": 262,
    "start_time": "2022-03-19T19:17:42.343Z"
   },
   {
    "duration": 235,
    "start_time": "2022-03-19T19:17:42.608Z"
   },
   {
    "duration": 7,
    "start_time": "2022-03-19T19:17:42.845Z"
   },
   {
    "duration": 7,
    "start_time": "2022-03-19T19:17:42.853Z"
   },
   {
    "duration": 358,
    "start_time": "2022-03-19T19:27:09.099Z"
   },
   {
    "duration": 384,
    "start_time": "2022-03-19T19:27:36.907Z"
   },
   {
    "duration": 358,
    "start_time": "2022-03-19T19:28:30.738Z"
   },
   {
    "duration": 1411,
    "start_time": "2022-03-30T10:08:28.397Z"
   },
   {
    "duration": 41,
    "start_time": "2022-03-30T10:08:29.810Z"
   },
   {
    "duration": 19,
    "start_time": "2022-03-30T10:08:29.853Z"
   },
   {
    "duration": 33,
    "start_time": "2022-03-30T10:08:29.873Z"
   },
   {
    "duration": 10,
    "start_time": "2022-03-30T10:08:29.909Z"
   },
   {
    "duration": 4,
    "start_time": "2022-03-30T10:08:29.921Z"
   },
   {
    "duration": 23,
    "start_time": "2022-03-30T10:08:29.927Z"
   },
   {
    "duration": 21,
    "start_time": "2022-03-30T10:08:29.952Z"
   },
   {
    "duration": 43,
    "start_time": "2022-03-30T10:08:30.011Z"
   },
   {
    "duration": 24,
    "start_time": "2022-03-30T10:08:30.056Z"
   },
   {
    "duration": 26,
    "start_time": "2022-03-30T10:08:30.101Z"
   },
   {
    "duration": 28,
    "start_time": "2022-03-30T10:08:30.129Z"
   },
   {
    "duration": 17,
    "start_time": "2022-03-30T10:08:30.159Z"
   },
   {
    "duration": 24,
    "start_time": "2022-03-30T10:08:30.181Z"
   },
   {
    "duration": 189,
    "start_time": "2022-03-30T10:08:30.207Z"
   },
   {
    "duration": 24,
    "start_time": "2022-03-30T10:08:30.397Z"
   },
   {
    "duration": 7,
    "start_time": "2022-03-30T10:08:30.423Z"
   },
   {
    "duration": 18,
    "start_time": "2022-03-30T10:08:30.432Z"
   },
   {
    "duration": 368,
    "start_time": "2022-03-30T10:08:30.453Z"
   },
   {
    "duration": 27,
    "start_time": "2022-03-30T10:08:30.823Z"
   },
   {
    "duration": 7,
    "start_time": "2022-03-30T10:08:30.852Z"
   },
   {
    "duration": 41,
    "start_time": "2022-03-30T10:08:30.861Z"
   },
   {
    "duration": 5,
    "start_time": "2022-03-30T10:08:30.904Z"
   },
   {
    "duration": 243,
    "start_time": "2022-03-30T10:08:30.911Z"
   },
   {
    "duration": 291,
    "start_time": "2022-03-30T10:08:31.157Z"
   },
   {
    "duration": 6,
    "start_time": "2022-03-30T10:08:31.451Z"
   },
   {
    "duration": 291,
    "start_time": "2022-03-30T10:08:31.459Z"
   },
   {
    "duration": 12,
    "start_time": "2022-03-30T10:08:31.752Z"
   },
   {
    "duration": 11,
    "start_time": "2022-03-30T10:08:31.765Z"
   },
   {
    "duration": 305,
    "start_time": "2022-03-30T10:08:31.778Z"
   },
   {
    "duration": 20,
    "start_time": "2022-03-30T10:08:32.085Z"
   },
   {
    "duration": 24,
    "start_time": "2022-03-30T10:08:32.107Z"
   },
   {
    "duration": 36,
    "start_time": "2022-03-30T10:08:32.133Z"
   },
   {
    "duration": 547,
    "start_time": "2022-03-30T10:08:32.171Z"
   },
   {
    "duration": 373,
    "start_time": "2022-03-30T10:08:32.721Z"
   },
   {
    "duration": 354,
    "start_time": "2022-03-30T10:08:33.101Z"
   },
   {
    "duration": 538,
    "start_time": "2022-03-30T10:08:33.458Z"
   },
   {
    "duration": 515,
    "start_time": "2022-03-30T10:08:34.002Z"
   },
   {
    "duration": 13,
    "start_time": "2022-03-30T10:08:34.519Z"
   },
   {
    "duration": 366,
    "start_time": "2022-03-30T10:08:34.535Z"
   },
   {
    "duration": 324,
    "start_time": "2022-03-30T10:08:34.907Z"
   },
   {
    "duration": 7,
    "start_time": "2022-03-30T10:08:35.233Z"
   },
   {
    "duration": 14,
    "start_time": "2022-03-30T10:08:35.242Z"
   },
   {
    "duration": 266,
    "start_time": "2022-03-30T10:08:35.259Z"
   },
   {
    "duration": 232,
    "start_time": "2022-03-30T10:08:35.527Z"
   },
   {
    "duration": 7,
    "start_time": "2022-03-30T10:08:35.762Z"
   },
   {
    "duration": 10,
    "start_time": "2022-03-30T10:08:35.771Z"
   },
   {
    "duration": 8,
    "start_time": "2022-03-30T10:17:19.721Z"
   },
   {
    "duration": 1413,
    "start_time": "2022-03-31T04:10:14.645Z"
   },
   {
    "duration": 44,
    "start_time": "2022-03-31T04:10:16.060Z"
   },
   {
    "duration": 17,
    "start_time": "2022-03-31T04:10:16.106Z"
   },
   {
    "duration": 22,
    "start_time": "2022-03-31T04:10:16.125Z"
   },
   {
    "duration": 8,
    "start_time": "2022-03-31T04:10:16.148Z"
   },
   {
    "duration": 8,
    "start_time": "2022-03-31T04:10:16.158Z"
   },
   {
    "duration": 23,
    "start_time": "2022-03-31T04:10:16.167Z"
   },
   {
    "duration": 19,
    "start_time": "2022-03-31T04:10:16.192Z"
   },
   {
    "duration": 56,
    "start_time": "2022-03-31T04:10:16.213Z"
   },
   {
    "duration": 20,
    "start_time": "2022-03-31T04:10:16.272Z"
   },
   {
    "duration": 16,
    "start_time": "2022-03-31T04:10:16.294Z"
   },
   {
    "duration": 28,
    "start_time": "2022-03-31T04:10:16.312Z"
   },
   {
    "duration": 7,
    "start_time": "2022-03-31T04:10:16.342Z"
   },
   {
    "duration": 14,
    "start_time": "2022-03-31T04:10:16.350Z"
   },
   {
    "duration": 186,
    "start_time": "2022-03-31T04:10:16.366Z"
   },
   {
    "duration": 22,
    "start_time": "2022-03-31T04:10:16.554Z"
   },
   {
    "duration": 7,
    "start_time": "2022-03-31T04:10:16.577Z"
   },
   {
    "duration": 7,
    "start_time": "2022-03-31T04:10:16.585Z"
   },
   {
    "duration": 236,
    "start_time": "2022-03-31T04:10:16.594Z"
   },
   {
    "duration": 27,
    "start_time": "2022-03-31T04:10:16.832Z"
   },
   {
    "duration": 6,
    "start_time": "2022-03-31T04:10:16.861Z"
   },
   {
    "duration": 17,
    "start_time": "2022-03-31T04:10:16.869Z"
   },
   {
    "duration": 5,
    "start_time": "2022-03-31T04:10:16.887Z"
   },
   {
    "duration": 5,
    "start_time": "2022-03-31T04:10:34.188Z"
   },
   {
    "duration": 1618,
    "start_time": "2022-03-31T04:19:13.277Z"
   },
   {
    "duration": 288,
    "start_time": "2022-03-31T04:20:29.707Z"
   },
   {
    "duration": 242,
    "start_time": "2022-03-31T04:20:36.068Z"
   },
   {
    "duration": 7,
    "start_time": "2022-03-31T04:20:38.787Z"
   },
   {
    "duration": 5,
    "start_time": "2022-03-31T04:20:44.005Z"
   },
   {
    "duration": 245,
    "start_time": "2022-03-31T04:20:45.673Z"
   },
   {
    "duration": 11,
    "start_time": "2022-03-31T04:20:53.710Z"
   },
   {
    "duration": 9,
    "start_time": "2022-03-31T04:21:00.499Z"
   },
   {
    "duration": 245,
    "start_time": "2022-03-31T04:21:04.712Z"
   },
   {
    "duration": 230,
    "start_time": "2022-03-31T04:21:15.234Z"
   },
   {
    "duration": 9,
    "start_time": "2022-03-31T04:21:24.352Z"
   },
   {
    "duration": 11,
    "start_time": "2022-03-31T04:21:28.930Z"
   },
   {
    "duration": 1707,
    "start_time": "2022-03-31T04:23:35.658Z"
   },
   {
    "duration": 19,
    "start_time": "2022-03-31T04:24:11.596Z"
   },
   {
    "duration": 324,
    "start_time": "2022-03-31T04:25:57.422Z"
   },
   {
    "duration": 98,
    "start_time": "2022-03-31T04:30:10.167Z"
   },
   {
    "duration": 19,
    "start_time": "2022-03-31T04:30:21.970Z"
   },
   {
    "duration": 1130,
    "start_time": "2022-03-31T04:30:29.966Z"
   },
   {
    "duration": 1430,
    "start_time": "2022-03-31T04:31:00.047Z"
   },
   {
    "duration": 1415,
    "start_time": "2022-03-31T04:31:28.223Z"
   },
   {
    "duration": 1741,
    "start_time": "2022-03-31T04:32:14.183Z"
   },
   {
    "duration": 1618,
    "start_time": "2022-03-31T04:33:41.592Z"
   },
   {
    "duration": 1191,
    "start_time": "2022-03-31T04:42:45.549Z"
   },
   {
    "duration": 40,
    "start_time": "2022-03-31T04:42:46.742Z"
   },
   {
    "duration": 18,
    "start_time": "2022-03-31T04:42:46.784Z"
   },
   {
    "duration": 15,
    "start_time": "2022-03-31T04:42:46.804Z"
   },
   {
    "duration": 24,
    "start_time": "2022-03-31T04:42:46.821Z"
   },
   {
    "duration": 8,
    "start_time": "2022-03-31T04:42:46.847Z"
   },
   {
    "duration": 21,
    "start_time": "2022-03-31T04:42:46.857Z"
   },
   {
    "duration": 18,
    "start_time": "2022-03-31T04:42:46.880Z"
   },
   {
    "duration": 56,
    "start_time": "2022-03-31T04:42:46.900Z"
   },
   {
    "duration": 21,
    "start_time": "2022-03-31T04:42:46.958Z"
   },
   {
    "duration": 21,
    "start_time": "2022-03-31T04:42:46.981Z"
   },
   {
    "duration": 8,
    "start_time": "2022-03-31T04:42:47.003Z"
   },
   {
    "duration": 26,
    "start_time": "2022-03-31T04:42:47.012Z"
   },
   {
    "duration": 15,
    "start_time": "2022-03-31T04:42:47.040Z"
   },
   {
    "duration": 174,
    "start_time": "2022-03-31T04:42:47.056Z"
   },
   {
    "duration": 28,
    "start_time": "2022-03-31T04:42:47.231Z"
   },
   {
    "duration": 6,
    "start_time": "2022-03-31T04:42:47.260Z"
   },
   {
    "duration": 6,
    "start_time": "2022-03-31T04:42:47.268Z"
   },
   {
    "duration": 235,
    "start_time": "2022-03-31T04:42:47.275Z"
   },
   {
    "duration": 35,
    "start_time": "2022-03-31T04:42:47.511Z"
   },
   {
    "duration": 6,
    "start_time": "2022-03-31T04:42:53.077Z"
   },
   {
    "duration": 12,
    "start_time": "2022-03-31T04:42:53.945Z"
   },
   {
    "duration": 5,
    "start_time": "2022-03-31T04:42:58.607Z"
   },
   {
    "duration": 10,
    "start_time": "2022-03-31T04:43:00.657Z"
   },
   {
    "duration": 23,
    "start_time": "2022-03-31T04:43:09.784Z"
   },
   {
    "duration": 4,
    "start_time": "2022-03-31T04:43:23.921Z"
   },
   {
    "duration": 1317,
    "start_time": "2022-03-31T04:43:33.957Z"
   },
   {
    "duration": 1519,
    "start_time": "2022-03-31T04:43:57.628Z"
   },
   {
    "duration": 1462,
    "start_time": "2022-03-31T04:45:59.167Z"
   },
   {
    "duration": 1112,
    "start_time": "2022-03-31T04:47:58.009Z"
   },
   {
    "duration": 38,
    "start_time": "2022-03-31T04:47:59.123Z"
   },
   {
    "duration": 16,
    "start_time": "2022-03-31T04:47:59.163Z"
   },
   {
    "duration": 14,
    "start_time": "2022-03-31T04:47:59.181Z"
   },
   {
    "duration": 9,
    "start_time": "2022-03-31T04:47:59.196Z"
   },
   {
    "duration": 8,
    "start_time": "2022-03-31T04:47:59.206Z"
   },
   {
    "duration": 40,
    "start_time": "2022-03-31T04:47:59.216Z"
   },
   {
    "duration": 18,
    "start_time": "2022-03-31T04:47:59.257Z"
   },
   {
    "duration": 33,
    "start_time": "2022-03-31T04:47:59.276Z"
   },
   {
    "duration": 41,
    "start_time": "2022-03-31T04:47:59.312Z"
   },
   {
    "duration": 16,
    "start_time": "2022-03-31T04:47:59.355Z"
   },
   {
    "duration": 11,
    "start_time": "2022-03-31T04:47:59.372Z"
   },
   {
    "duration": 6,
    "start_time": "2022-03-31T04:47:59.385Z"
   },
   {
    "duration": 13,
    "start_time": "2022-03-31T04:47:59.392Z"
   },
   {
    "duration": 184,
    "start_time": "2022-03-31T04:47:59.407Z"
   },
   {
    "duration": 21,
    "start_time": "2022-03-31T04:47:59.592Z"
   },
   {
    "duration": 23,
    "start_time": "2022-03-31T04:47:59.615Z"
   },
   {
    "duration": 5,
    "start_time": "2022-03-31T04:47:59.640Z"
   },
   {
    "duration": 217,
    "start_time": "2022-03-31T04:47:59.646Z"
   },
   {
    "duration": 25,
    "start_time": "2022-03-31T04:47:59.865Z"
   },
   {
    "duration": 6,
    "start_time": "2022-03-31T04:47:59.891Z"
   },
   {
    "duration": 14,
    "start_time": "2022-03-31T04:47:59.899Z"
   },
   {
    "duration": 25,
    "start_time": "2022-03-31T04:47:59.914Z"
   },
   {
    "duration": 1501,
    "start_time": "2022-03-31T04:47:59.940Z"
   },
   {
    "duration": 234,
    "start_time": "2022-03-31T04:48:01.443Z"
   },
   {
    "duration": 366,
    "start_time": "2022-03-31T04:48:01.679Z"
   },
   {
    "duration": 6,
    "start_time": "2022-03-31T04:48:02.046Z"
   },
   {
    "duration": 263,
    "start_time": "2022-03-31T04:48:02.055Z"
   },
   {
    "duration": 21,
    "start_time": "2022-03-31T04:48:02.320Z"
   },
   {
    "duration": 31,
    "start_time": "2022-03-31T04:48:02.343Z"
   },
   {
    "duration": 260,
    "start_time": "2022-03-31T04:48:02.376Z"
   },
   {
    "duration": 9,
    "start_time": "2022-03-31T04:48:02.638Z"
   },
   {
    "duration": 20,
    "start_time": "2022-03-31T04:48:02.649Z"
   },
   {
    "duration": 24,
    "start_time": "2022-03-31T04:48:02.671Z"
   },
   {
    "duration": 357,
    "start_time": "2022-03-31T04:48:02.696Z"
   },
   {
    "duration": 343,
    "start_time": "2022-03-31T04:48:03.055Z"
   },
   {
    "duration": 320,
    "start_time": "2022-03-31T04:48:03.399Z"
   },
   {
    "duration": 446,
    "start_time": "2022-03-31T04:48:03.720Z"
   },
   {
    "duration": 294,
    "start_time": "2022-03-31T04:48:04.168Z"
   },
   {
    "duration": 9,
    "start_time": "2022-03-31T04:48:04.464Z"
   },
   {
    "duration": 221,
    "start_time": "2022-03-31T04:48:04.474Z"
   },
   {
    "duration": 175,
    "start_time": "2022-03-31T04:48:04.696Z"
   },
   {
    "duration": 6,
    "start_time": "2022-03-31T04:48:04.873Z"
   },
   {
    "duration": 10,
    "start_time": "2022-03-31T04:48:04.880Z"
   },
   {
    "duration": 213,
    "start_time": "2022-03-31T04:48:04.891Z"
   },
   {
    "duration": 192,
    "start_time": "2022-03-31T04:48:05.106Z"
   },
   {
    "duration": 7,
    "start_time": "2022-03-31T04:48:05.299Z"
   },
   {
    "duration": 9,
    "start_time": "2022-03-31T04:48:05.307Z"
   },
   {
    "duration": 4,
    "start_time": "2022-03-31T04:52:32.163Z"
   },
   {
    "duration": 1517,
    "start_time": "2022-03-31T04:52:59.381Z"
   },
   {
    "duration": 1460,
    "start_time": "2022-03-31T04:53:25.218Z"
   },
   {
    "duration": 1397,
    "start_time": "2022-03-31T04:53:39.483Z"
   },
   {
    "duration": 1403,
    "start_time": "2022-03-31T04:54:07.304Z"
   },
   {
    "duration": 1437,
    "start_time": "2022-03-31T04:54:20.803Z"
   },
   {
    "duration": 1607,
    "start_time": "2022-03-31T04:54:37.432Z"
   },
   {
    "duration": 1592,
    "start_time": "2022-03-31T04:56:01.060Z"
   },
   {
    "duration": 389,
    "start_time": "2022-03-31T04:59:53.288Z"
   },
   {
    "duration": 277,
    "start_time": "2022-03-31T05:00:10.758Z"
   },
   {
    "duration": 7,
    "start_time": "2022-03-31T05:00:47.081Z"
   },
   {
    "duration": 12,
    "start_time": "2022-03-31T05:00:47.575Z"
   },
   {
    "duration": 5,
    "start_time": "2022-03-31T05:00:49.135Z"
   },
   {
    "duration": 1611,
    "start_time": "2022-03-31T05:00:49.661Z"
   },
   {
    "duration": 288,
    "start_time": "2022-03-31T05:01:00.737Z"
   },
   {
    "duration": 7,
    "start_time": "2022-03-31T05:01:58.644Z"
   },
   {
    "duration": 12,
    "start_time": "2022-03-31T05:01:59.033Z"
   },
   {
    "duration": 5,
    "start_time": "2022-03-31T05:01:59.988Z"
   },
   {
    "duration": 1712,
    "start_time": "2022-03-31T05:02:00.448Z"
   },
   {
    "duration": 1529,
    "start_time": "2022-03-31T05:02:49.220Z"
   },
   {
    "duration": 1017,
    "start_time": "2022-03-31T05:02:59.383Z"
   },
   {
    "duration": 1370,
    "start_time": "2022-03-31T05:03:07.157Z"
   },
   {
    "duration": 1575,
    "start_time": "2022-03-31T05:03:35.406Z"
   },
   {
    "duration": 10,
    "start_time": "2022-03-31T05:05:24.774Z"
   },
   {
    "duration": 4,
    "start_time": "2022-03-31T05:06:49.986Z"
   },
   {
    "duration": 163,
    "start_time": "2022-03-31T05:08:15.911Z"
   },
   {
    "duration": 161,
    "start_time": "2022-03-31T05:08:33.236Z"
   },
   {
    "duration": 157,
    "start_time": "2022-03-31T05:09:04.781Z"
   },
   {
    "duration": 157,
    "start_time": "2022-03-31T05:09:12.506Z"
   },
   {
    "duration": 1785,
    "start_time": "2022-03-31T05:09:43.597Z"
   },
   {
    "duration": 331,
    "start_time": "2022-03-31T05:10:41.173Z"
   },
   {
    "duration": 340,
    "start_time": "2022-03-31T05:10:59.309Z"
   },
   {
    "duration": 173,
    "start_time": "2022-03-31T05:11:34.228Z"
   },
   {
    "duration": 1371,
    "start_time": "2022-03-31T05:11:42.976Z"
   },
   {
    "duration": 1417,
    "start_time": "2022-03-31T05:11:56.159Z"
   },
   {
    "duration": 567,
    "start_time": "2022-03-31T05:12:43.319Z"
   },
   {
    "duration": 308,
    "start_time": "2022-03-31T05:12:48.640Z"
   },
   {
    "duration": 20,
    "start_time": "2022-03-31T05:15:01.281Z"
   },
   {
    "duration": 1751,
    "start_time": "2022-03-31T05:15:16.813Z"
   },
   {
    "duration": 13,
    "start_time": "2022-03-31T05:20:33.137Z"
   },
   {
    "duration": 9,
    "start_time": "2022-03-31T05:21:57.221Z"
   },
   {
    "duration": 6,
    "start_time": "2022-03-31T05:22:00.645Z"
   },
   {
    "duration": 111,
    "start_time": "2022-03-31T05:23:59.684Z"
   },
   {
    "duration": 124,
    "start_time": "2022-03-31T05:24:06.210Z"
   },
   {
    "duration": 201,
    "start_time": "2022-03-31T05:24:08.711Z"
   },
   {
    "duration": 15,
    "start_time": "2022-03-31T05:24:16.527Z"
   },
   {
    "duration": 329,
    "start_time": "2022-03-31T05:35:16.471Z"
   },
   {
    "duration": 118,
    "start_time": "2022-03-31T05:38:13.938Z"
   },
   {
    "duration": 10,
    "start_time": "2022-03-31T05:38:30.068Z"
   },
   {
    "duration": 10,
    "start_time": "2022-03-31T05:39:46.222Z"
   },
   {
    "duration": 129,
    "start_time": "2022-03-31T05:40:39.774Z"
   },
   {
    "duration": 136,
    "start_time": "2022-03-31T05:40:55.604Z"
   },
   {
    "duration": 130,
    "start_time": "2022-03-31T05:42:38.201Z"
   },
   {
    "duration": 120,
    "start_time": "2022-03-31T05:42:53.406Z"
   },
   {
    "duration": 100,
    "start_time": "2022-03-31T05:43:07.155Z"
   },
   {
    "duration": 10,
    "start_time": "2022-03-31T05:43:20.771Z"
   },
   {
    "duration": 108,
    "start_time": "2022-03-31T05:43:31.593Z"
   },
   {
    "duration": 96,
    "start_time": "2022-03-31T05:43:49.322Z"
   },
   {
    "duration": 65,
    "start_time": "2022-03-31T05:47:01.187Z"
   },
   {
    "duration": 13,
    "start_time": "2022-03-31T05:47:33.046Z"
   },
   {
    "duration": 12,
    "start_time": "2022-03-31T05:47:48.491Z"
   },
   {
    "duration": 329,
    "start_time": "2022-03-31T05:47:59.528Z"
   },
   {
    "duration": 204,
    "start_time": "2022-03-31T05:49:24.599Z"
   },
   {
    "duration": 333,
    "start_time": "2022-03-31T05:49:59.215Z"
   },
   {
    "duration": 197,
    "start_time": "2022-03-31T05:50:11.907Z"
   },
   {
    "duration": 375,
    "start_time": "2022-03-31T05:51:15.662Z"
   },
   {
    "duration": 373,
    "start_time": "2022-03-31T05:51:32.225Z"
   },
   {
    "duration": 388,
    "start_time": "2022-03-31T05:52:19.958Z"
   },
   {
    "duration": 504,
    "start_time": "2022-03-31T05:52:28.677Z"
   },
   {
    "duration": 353,
    "start_time": "2022-03-31T05:52:34.635Z"
   },
   {
    "duration": 356,
    "start_time": "2022-03-31T05:52:40.595Z"
   },
   {
    "duration": 372,
    "start_time": "2022-03-31T05:53:17.239Z"
   },
   {
    "duration": 349,
    "start_time": "2022-03-31T05:53:23.376Z"
   },
   {
    "duration": 349,
    "start_time": "2022-03-31T05:53:27.871Z"
   },
   {
    "duration": 226,
    "start_time": "2022-03-31T05:58:51.376Z"
   },
   {
    "duration": 8,
    "start_time": "2022-03-31T05:58:57.049Z"
   },
   {
    "duration": 401,
    "start_time": "2022-03-31T05:58:58.455Z"
   },
   {
    "duration": 64,
    "start_time": "2022-03-31T05:59:44.951Z"
   },
   {
    "duration": 8,
    "start_time": "2022-03-31T05:59:49.801Z"
   },
   {
    "duration": 415,
    "start_time": "2022-03-31T05:59:51.163Z"
   },
   {
    "duration": 57,
    "start_time": "2022-03-31T06:01:10.453Z"
   },
   {
    "duration": 8,
    "start_time": "2022-03-31T06:01:11.605Z"
   },
   {
    "duration": 405,
    "start_time": "2022-03-31T06:01:12.151Z"
   },
   {
    "duration": 201,
    "start_time": "2022-03-31T06:02:36.092Z"
   },
   {
    "duration": 62,
    "start_time": "2022-03-31T06:03:13.594Z"
   },
   {
    "duration": 8,
    "start_time": "2022-03-31T06:03:14.124Z"
   },
   {
    "duration": 374,
    "start_time": "2022-03-31T06:03:14.676Z"
   },
   {
    "duration": 38,
    "start_time": "2022-03-31T06:37:06.124Z"
   },
   {
    "duration": 54,
    "start_time": "2022-03-31T06:40:48.848Z"
   },
   {
    "duration": 619,
    "start_time": "2022-03-31T06:48:15.445Z"
   },
   {
    "duration": 390,
    "start_time": "2022-03-31T06:48:28.731Z"
   },
   {
    "duration": 346,
    "start_time": "2022-03-31T06:48:48.872Z"
   },
   {
    "duration": 444,
    "start_time": "2022-03-31T06:49:03.453Z"
   },
   {
    "duration": 615,
    "start_time": "2022-03-31T06:49:21.854Z"
   },
   {
    "duration": 472,
    "start_time": "2022-03-31T06:49:29.204Z"
   },
   {
    "duration": 515,
    "start_time": "2022-03-31T06:49:34.073Z"
   },
   {
    "duration": 503,
    "start_time": "2022-03-31T06:49:38.691Z"
   },
   {
    "duration": 491,
    "start_time": "2022-03-31T06:53:59.002Z"
   },
   {
    "duration": 3,
    "start_time": "2022-03-31T07:20:17.817Z"
   },
   {
    "duration": 424,
    "start_time": "2022-03-31T07:20:22.478Z"
   },
   {
    "duration": 113,
    "start_time": "2022-03-31T07:23:53.941Z"
   },
   {
    "duration": 178,
    "start_time": "2022-03-31T07:23:57.114Z"
   },
   {
    "duration": 192,
    "start_time": "2022-03-31T07:24:06.433Z"
   },
   {
    "duration": 205,
    "start_time": "2022-03-31T07:24:24.782Z"
   },
   {
    "duration": 539,
    "start_time": "2022-03-31T07:26:10.052Z"
   },
   {
    "duration": 523,
    "start_time": "2022-03-31T07:26:45.735Z"
   },
   {
    "duration": 451,
    "start_time": "2022-03-31T07:27:09.606Z"
   },
   {
    "duration": 741,
    "start_time": "2022-03-31T07:28:08.639Z"
   },
   {
    "duration": 578,
    "start_time": "2022-03-31T07:28:14.511Z"
   },
   {
    "duration": 405,
    "start_time": "2022-03-31T07:30:09.040Z"
   },
   {
    "duration": 533,
    "start_time": "2022-03-31T07:30:16.249Z"
   },
   {
    "duration": 539,
    "start_time": "2022-03-31T07:31:02.273Z"
   },
   {
    "duration": 537,
    "start_time": "2022-03-31T07:31:17.515Z"
   },
   {
    "duration": 774,
    "start_time": "2022-03-31T07:31:26.835Z"
   },
   {
    "duration": 399,
    "start_time": "2022-03-31T07:31:41.029Z"
   },
   {
    "duration": 173,
    "start_time": "2022-03-31T07:31:44.967Z"
   },
   {
    "duration": 153,
    "start_time": "2022-03-31T07:31:55.995Z"
   },
   {
    "duration": 549,
    "start_time": "2022-03-31T07:33:32.389Z"
   },
   {
    "duration": 542,
    "start_time": "2022-03-31T07:33:55.009Z"
   },
   {
    "duration": 580,
    "start_time": "2022-03-31T07:34:00.009Z"
   },
   {
    "duration": 1107,
    "start_time": "2022-03-31T07:35:40.690Z"
   },
   {
    "duration": 38,
    "start_time": "2022-03-31T07:35:41.799Z"
   },
   {
    "duration": 16,
    "start_time": "2022-03-31T07:35:41.839Z"
   },
   {
    "duration": 14,
    "start_time": "2022-03-31T07:35:41.857Z"
   },
   {
    "duration": 9,
    "start_time": "2022-03-31T07:35:41.873Z"
   },
   {
    "duration": 6,
    "start_time": "2022-03-31T07:35:41.883Z"
   },
   {
    "duration": 22,
    "start_time": "2022-03-31T07:35:41.891Z"
   },
   {
    "duration": 17,
    "start_time": "2022-03-31T07:35:41.938Z"
   },
   {
    "duration": 35,
    "start_time": "2022-03-31T07:35:41.957Z"
   },
   {
    "duration": 20,
    "start_time": "2022-03-31T07:35:41.995Z"
   },
   {
    "duration": 17,
    "start_time": "2022-03-31T07:35:42.037Z"
   },
   {
    "duration": 8,
    "start_time": "2022-03-31T07:35:42.055Z"
   },
   {
    "duration": 7,
    "start_time": "2022-03-31T07:35:42.065Z"
   },
   {
    "duration": 14,
    "start_time": "2022-03-31T07:35:42.074Z"
   },
   {
    "duration": 185,
    "start_time": "2022-03-31T07:35:42.090Z"
   },
   {
    "duration": 23,
    "start_time": "2022-03-31T07:35:42.277Z"
   },
   {
    "duration": 9,
    "start_time": "2022-03-31T07:35:42.301Z"
   },
   {
    "duration": 7,
    "start_time": "2022-03-31T07:35:42.312Z"
   },
   {
    "duration": 231,
    "start_time": "2022-03-31T07:35:42.321Z"
   },
   {
    "duration": 23,
    "start_time": "2022-03-31T07:35:42.554Z"
   },
   {
    "duration": 5,
    "start_time": "2022-03-31T07:35:42.579Z"
   },
   {
    "duration": 12,
    "start_time": "2022-03-31T07:35:42.586Z"
   },
   {
    "duration": 4,
    "start_time": "2022-03-31T07:35:42.600Z"
   },
   {
    "duration": 33,
    "start_time": "2022-03-31T07:35:42.605Z"
   },
   {
    "duration": 1878,
    "start_time": "2022-03-31T07:35:42.640Z"
   },
   {
    "duration": 60,
    "start_time": "2022-03-31T07:35:44.520Z"
   },
   {
    "duration": 573,
    "start_time": "2022-03-31T07:35:44.582Z"
   },
   {
    "duration": 3,
    "start_time": "2022-03-31T07:35:45.158Z"
   },
   {
    "duration": 191,
    "start_time": "2022-03-31T07:35:45.162Z"
   },
   {
    "duration": 5,
    "start_time": "2022-03-31T07:35:45.355Z"
   },
   {
    "duration": 268,
    "start_time": "2022-03-31T07:35:45.361Z"
   },
   {
    "duration": 15,
    "start_time": "2022-03-31T07:35:45.631Z"
   },
   {
    "duration": 12,
    "start_time": "2022-03-31T07:35:45.647Z"
   },
   {
    "duration": 263,
    "start_time": "2022-03-31T07:35:45.661Z"
   },
   {
    "duration": 14,
    "start_time": "2022-03-31T07:35:45.926Z"
   },
   {
    "duration": 24,
    "start_time": "2022-03-31T07:35:45.942Z"
   },
   {
    "duration": 31,
    "start_time": "2022-03-31T07:35:45.968Z"
   },
   {
    "duration": 332,
    "start_time": "2022-03-31T07:35:46.001Z"
   },
   {
    "duration": 327,
    "start_time": "2022-03-31T07:35:46.334Z"
   },
   {
    "duration": 457,
    "start_time": "2022-03-31T07:35:46.663Z"
   },
   {
    "duration": 322,
    "start_time": "2022-03-31T07:35:47.121Z"
   },
   {
    "duration": 299,
    "start_time": "2022-03-31T07:35:47.444Z"
   },
   {
    "duration": 8,
    "start_time": "2022-03-31T07:35:47.745Z"
   },
   {
    "duration": 217,
    "start_time": "2022-03-31T07:35:47.755Z"
   },
   {
    "duration": 191,
    "start_time": "2022-03-31T07:35:47.974Z"
   },
   {
    "duration": 6,
    "start_time": "2022-03-31T07:35:48.167Z"
   },
   {
    "duration": 14,
    "start_time": "2022-03-31T07:35:48.175Z"
   },
   {
    "duration": 216,
    "start_time": "2022-03-31T07:35:48.191Z"
   },
   {
    "duration": 197,
    "start_time": "2022-03-31T07:35:48.409Z"
   },
   {
    "duration": 7,
    "start_time": "2022-03-31T07:35:48.608Z"
   },
   {
    "duration": 21,
    "start_time": "2022-03-31T07:35:48.616Z"
   },
   {
    "duration": 367,
    "start_time": "2022-03-31T07:37:37.858Z"
   },
   {
    "duration": 10,
    "start_time": "2022-03-31T07:37:43.520Z"
   },
   {
    "duration": 13,
    "start_time": "2022-03-31T07:37:46.150Z"
   },
   {
    "duration": 249,
    "start_time": "2022-03-31T07:37:57.058Z"
   },
   {
    "duration": 1693,
    "start_time": "2022-03-31T10:38:58.300Z"
   },
   {
    "duration": 53,
    "start_time": "2022-03-31T10:38:59.996Z"
   },
   {
    "duration": 29,
    "start_time": "2022-03-31T10:39:00.051Z"
   },
   {
    "duration": 28,
    "start_time": "2022-03-31T10:39:00.083Z"
   },
   {
    "duration": 15,
    "start_time": "2022-03-31T10:39:00.114Z"
   },
   {
    "duration": 27,
    "start_time": "2022-03-31T10:39:00.131Z"
   },
   {
    "duration": 35,
    "start_time": "2022-03-31T10:39:00.160Z"
   },
   {
    "duration": 46,
    "start_time": "2022-03-31T10:39:00.197Z"
   },
   {
    "duration": 67,
    "start_time": "2022-03-31T10:39:00.246Z"
   },
   {
    "duration": 31,
    "start_time": "2022-03-31T10:39:00.317Z"
   },
   {
    "duration": 44,
    "start_time": "2022-03-31T10:39:00.350Z"
   },
   {
    "duration": 27,
    "start_time": "2022-03-31T10:39:00.396Z"
   },
   {
    "duration": 50,
    "start_time": "2022-03-31T10:39:00.426Z"
   },
   {
    "duration": 43,
    "start_time": "2022-03-31T10:39:00.478Z"
   },
   {
    "duration": 284,
    "start_time": "2022-03-31T10:39:00.523Z"
   },
   {
    "duration": 33,
    "start_time": "2022-03-31T10:39:00.809Z"
   },
   {
    "duration": 30,
    "start_time": "2022-03-31T10:39:00.844Z"
   },
   {
    "duration": 21,
    "start_time": "2022-03-31T10:39:00.876Z"
   },
   {
    "duration": 394,
    "start_time": "2022-03-31T10:39:00.899Z"
   },
   {
    "duration": 34,
    "start_time": "2022-03-31T10:39:01.295Z"
   },
   {
    "duration": 8,
    "start_time": "2022-03-31T10:39:01.331Z"
   },
   {
    "duration": 43,
    "start_time": "2022-03-31T10:39:01.340Z"
   },
   {
    "duration": 13,
    "start_time": "2022-03-31T10:39:01.385Z"
   },
   {
    "duration": 86,
    "start_time": "2022-03-31T10:39:01.400Z"
   },
   {
    "duration": 210,
    "start_time": "2022-03-31T10:39:06.225Z"
   },
   {
    "duration": 87,
    "start_time": "2022-03-31T10:39:50.703Z"
   },
   {
    "duration": 88,
    "start_time": "2022-03-31T10:39:56.927Z"
   },
   {
    "duration": 974,
    "start_time": "2022-03-31T10:40:03.585Z"
   },
   {
    "duration": 35,
    "start_time": "2022-03-31T11:04:02.105Z"
   },
   {
    "duration": 285,
    "start_time": "2022-03-31T11:05:05.775Z"
   },
   {
    "duration": 593,
    "start_time": "2022-03-31T11:05:31.633Z"
   },
   {
    "duration": 625,
    "start_time": "2022-03-31T11:05:40.564Z"
   },
   {
    "duration": 14,
    "start_time": "2022-03-31T11:05:58.910Z"
   },
   {
    "duration": 708,
    "start_time": "2022-03-31T11:06:05.025Z"
   },
   {
    "duration": 702,
    "start_time": "2022-03-31T11:06:41.705Z"
   },
   {
    "duration": 684,
    "start_time": "2022-03-31T11:06:52.307Z"
   },
   {
    "duration": 825,
    "start_time": "2022-03-31T11:07:11.111Z"
   },
   {
    "duration": 220,
    "start_time": "2022-03-31T11:07:23.432Z"
   },
   {
    "duration": 689,
    "start_time": "2022-03-31T11:07:32.659Z"
   },
   {
    "duration": 694,
    "start_time": "2022-03-31T11:08:19.529Z"
   },
   {
    "duration": 728,
    "start_time": "2022-03-31T11:08:27.258Z"
   },
   {
    "duration": 10,
    "start_time": "2022-03-31T11:10:39.369Z"
   },
   {
    "duration": 75,
    "start_time": "2022-03-31T11:19:04.624Z"
   },
   {
    "duration": 1292,
    "start_time": "2022-03-31T11:19:05.350Z"
   },
   {
    "duration": 98,
    "start_time": "2022-03-31T11:19:35.096Z"
   },
   {
    "duration": 1354,
    "start_time": "2022-03-31T11:19:35.932Z"
   },
   {
    "duration": 81,
    "start_time": "2022-03-31T11:20:33.206Z"
   },
   {
    "duration": 956,
    "start_time": "2022-03-31T11:20:33.290Z"
   },
   {
    "duration": 1471,
    "start_time": "2022-03-31T11:23:13.217Z"
   },
   {
    "duration": 50,
    "start_time": "2022-03-31T11:23:14.691Z"
   },
   {
    "duration": 41,
    "start_time": "2022-03-31T11:23:14.744Z"
   },
   {
    "duration": 23,
    "start_time": "2022-03-31T11:23:14.788Z"
   },
   {
    "duration": 16,
    "start_time": "2022-03-31T11:23:14.813Z"
   },
   {
    "duration": 14,
    "start_time": "2022-03-31T11:23:14.831Z"
   },
   {
    "duration": 57,
    "start_time": "2022-03-31T11:23:14.848Z"
   },
   {
    "duration": 29,
    "start_time": "2022-03-31T11:23:14.907Z"
   },
   {
    "duration": 76,
    "start_time": "2022-03-31T11:23:14.938Z"
   },
   {
    "duration": 31,
    "start_time": "2022-03-31T11:23:15.018Z"
   },
   {
    "duration": 39,
    "start_time": "2022-03-31T11:23:15.051Z"
   },
   {
    "duration": 30,
    "start_time": "2022-03-31T11:23:15.092Z"
   },
   {
    "duration": 37,
    "start_time": "2022-03-31T11:23:15.124Z"
   },
   {
    "duration": 23,
    "start_time": "2022-03-31T11:23:15.163Z"
   },
   {
    "duration": 334,
    "start_time": "2022-03-31T11:23:15.188Z"
   },
   {
    "duration": 32,
    "start_time": "2022-03-31T11:23:15.524Z"
   },
   {
    "duration": 25,
    "start_time": "2022-03-31T11:23:15.574Z"
   },
   {
    "duration": 22,
    "start_time": "2022-03-31T11:23:15.601Z"
   },
   {
    "duration": 385,
    "start_time": "2022-03-31T11:23:15.625Z"
   },
   {
    "duration": 42,
    "start_time": "2022-03-31T11:23:16.012Z"
   },
   {
    "duration": 463,
    "start_time": "2022-03-31T11:23:16.056Z"
   },
   {
    "duration": 38,
    "start_time": "2022-03-31T11:23:16.521Z"
   },
   {
    "duration": 33,
    "start_time": "2022-03-31T11:23:16.561Z"
   },
   {
    "duration": 96,
    "start_time": "2022-03-31T11:23:16.597Z"
   },
   {
    "duration": 1002,
    "start_time": "2022-03-31T11:23:16.695Z"
   },
   {
    "duration": 4,
    "start_time": "2022-03-31T11:23:17.699Z"
   },
   {
    "duration": 422,
    "start_time": "2022-03-31T11:23:17.705Z"
   },
   {
    "duration": 7,
    "start_time": "2022-03-31T11:23:18.132Z"
   },
   {
    "duration": 433,
    "start_time": "2022-03-31T11:23:18.141Z"
   },
   {
    "duration": 16,
    "start_time": "2022-03-31T11:23:18.577Z"
   },
   {
    "duration": 14,
    "start_time": "2022-03-31T11:23:18.596Z"
   },
   {
    "duration": 452,
    "start_time": "2022-03-31T11:23:18.613Z"
   },
   {
    "duration": 16,
    "start_time": "2022-03-31T11:23:19.067Z"
   },
   {
    "duration": 21,
    "start_time": "2022-03-31T11:23:19.085Z"
   },
   {
    "duration": 36,
    "start_time": "2022-03-31T11:23:19.108Z"
   },
   {
    "duration": 705,
    "start_time": "2022-03-31T11:23:19.146Z"
   },
   {
    "duration": 598,
    "start_time": "2022-03-31T11:23:19.854Z"
   },
   {
    "duration": 537,
    "start_time": "2022-03-31T11:23:20.455Z"
   },
   {
    "duration": 564,
    "start_time": "2022-03-31T11:23:20.995Z"
   },
   {
    "duration": 504,
    "start_time": "2022-03-31T11:23:21.561Z"
   },
   {
    "duration": 16,
    "start_time": "2022-03-31T11:23:22.068Z"
   },
   {
    "duration": 369,
    "start_time": "2022-03-31T11:23:22.086Z"
   },
   {
    "duration": 401,
    "start_time": "2022-03-31T11:23:22.457Z"
   },
   {
    "duration": 15,
    "start_time": "2022-03-31T11:23:22.860Z"
   },
   {
    "duration": 12,
    "start_time": "2022-03-31T11:23:22.878Z"
   },
   {
    "duration": 364,
    "start_time": "2022-03-31T11:23:22.892Z"
   },
   {
    "duration": 332,
    "start_time": "2022-03-31T11:23:23.258Z"
   },
   {
    "duration": 9,
    "start_time": "2022-03-31T11:23:23.592Z"
   },
   {
    "duration": 10,
    "start_time": "2022-03-31T11:23:23.604Z"
   },
   {
    "duration": 18,
    "start_time": "2022-03-31T11:27:31.262Z"
   },
   {
    "duration": 230,
    "start_time": "2022-03-31T11:28:06.951Z"
   },
   {
    "duration": 83,
    "start_time": "2022-03-31T11:28:14.847Z"
   },
   {
    "duration": 16,
    "start_time": "2022-03-31T11:28:15.775Z"
   },
   {
    "duration": 12,
    "start_time": "2022-03-31T11:29:45.174Z"
   },
   {
    "duration": 81,
    "start_time": "2022-03-31T11:29:56.136Z"
   },
   {
    "duration": 11,
    "start_time": "2022-03-31T11:29:56.428Z"
   },
   {
    "duration": 1698,
    "start_time": "2022-03-31T11:30:46.300Z"
   },
   {
    "duration": 52,
    "start_time": "2022-03-31T11:30:48.001Z"
   },
   {
    "duration": 30,
    "start_time": "2022-03-31T11:30:48.055Z"
   },
   {
    "duration": 20,
    "start_time": "2022-03-31T11:30:48.088Z"
   },
   {
    "duration": 11,
    "start_time": "2022-03-31T11:30:48.110Z"
   },
   {
    "duration": 8,
    "start_time": "2022-03-31T11:30:48.123Z"
   },
   {
    "duration": 61,
    "start_time": "2022-03-31T11:30:48.134Z"
   },
   {
    "duration": 26,
    "start_time": "2022-03-31T11:30:48.198Z"
   },
   {
    "duration": 74,
    "start_time": "2022-03-31T11:30:48.226Z"
   },
   {
    "duration": 30,
    "start_time": "2022-03-31T11:30:48.304Z"
   },
   {
    "duration": 41,
    "start_time": "2022-03-31T11:30:48.337Z"
   },
   {
    "duration": 10,
    "start_time": "2022-03-31T11:30:48.380Z"
   },
   {
    "duration": 17,
    "start_time": "2022-03-31T11:30:48.392Z"
   },
   {
    "duration": 32,
    "start_time": "2022-03-31T11:30:48.411Z"
   },
   {
    "duration": 271,
    "start_time": "2022-03-31T11:30:48.445Z"
   },
   {
    "duration": 33,
    "start_time": "2022-03-31T11:30:48.718Z"
   },
   {
    "duration": 24,
    "start_time": "2022-03-31T11:30:48.753Z"
   },
   {
    "duration": 8,
    "start_time": "2022-03-31T11:30:48.779Z"
   },
   {
    "duration": 364,
    "start_time": "2022-03-31T11:30:48.789Z"
   },
   {
    "duration": 43,
    "start_time": "2022-03-31T11:30:49.155Z"
   },
   {
    "duration": 8,
    "start_time": "2022-03-31T11:30:49.200Z"
   },
   {
    "duration": 18,
    "start_time": "2022-03-31T11:30:49.210Z"
   },
   {
    "duration": 4,
    "start_time": "2022-03-31T11:30:49.230Z"
   },
   {
    "duration": 116,
    "start_time": "2022-03-31T11:30:49.236Z"
   },
   {
    "duration": 10,
    "start_time": "2022-03-31T11:30:49.354Z"
   },
   {
    "duration": 944,
    "start_time": "2022-03-31T11:30:49.373Z"
   },
   {
    "duration": 3,
    "start_time": "2022-03-31T11:30:50.320Z"
   },
   {
    "duration": 317,
    "start_time": "2022-03-31T11:30:50.328Z"
   },
   {
    "duration": 6,
    "start_time": "2022-03-31T11:30:50.647Z"
   },
   {
    "duration": 431,
    "start_time": "2022-03-31T11:30:50.655Z"
   },
   {
    "duration": 14,
    "start_time": "2022-03-31T11:30:51.088Z"
   },
   {
    "duration": 15,
    "start_time": "2022-03-31T11:30:51.105Z"
   },
   {
    "duration": 432,
    "start_time": "2022-03-31T11:30:51.122Z"
   },
   {
    "duration": 20,
    "start_time": "2022-03-31T11:30:51.556Z"
   },
   {
    "duration": 24,
    "start_time": "2022-03-31T11:30:51.578Z"
   },
   {
    "duration": 36,
    "start_time": "2022-03-31T11:30:51.604Z"
   },
   {
    "duration": 658,
    "start_time": "2022-03-31T11:30:51.642Z"
   },
   {
    "duration": 545,
    "start_time": "2022-03-31T11:30:52.301Z"
   },
   {
    "duration": 506,
    "start_time": "2022-03-31T11:30:52.848Z"
   },
   {
    "duration": 547,
    "start_time": "2022-03-31T11:30:53.356Z"
   },
   {
    "duration": 513,
    "start_time": "2022-03-31T11:30:53.904Z"
   },
   {
    "duration": 12,
    "start_time": "2022-03-31T11:30:54.419Z"
   },
   {
    "duration": 364,
    "start_time": "2022-03-31T11:30:54.433Z"
   },
   {
    "duration": 388,
    "start_time": "2022-03-31T11:30:54.799Z"
   },
   {
    "duration": 8,
    "start_time": "2022-03-31T11:30:55.189Z"
   },
   {
    "duration": 45,
    "start_time": "2022-03-31T11:30:55.200Z"
   },
   {
    "duration": 357,
    "start_time": "2022-03-31T11:30:55.247Z"
   },
   {
    "duration": 342,
    "start_time": "2022-03-31T11:30:55.606Z"
   },
   {
    "duration": 23,
    "start_time": "2022-03-31T11:30:55.951Z"
   },
   {
    "duration": 24,
    "start_time": "2022-03-31T11:30:55.976Z"
   },
   {
    "duration": 390,
    "start_time": "2022-03-31T11:34:02.288Z"
   },
   {
    "duration": 89,
    "start_time": "2022-03-31T11:34:17.726Z"
   },
   {
    "duration": 408,
    "start_time": "2022-03-31T11:34:22.597Z"
   },
   {
    "duration": 1512,
    "start_time": "2022-03-31T11:34:41.092Z"
   },
   {
    "duration": 50,
    "start_time": "2022-03-31T11:34:42.607Z"
   },
   {
    "duration": 31,
    "start_time": "2022-03-31T11:34:42.659Z"
   },
   {
    "duration": 30,
    "start_time": "2022-03-31T11:34:42.692Z"
   },
   {
    "duration": 27,
    "start_time": "2022-03-31T11:34:42.725Z"
   },
   {
    "duration": 13,
    "start_time": "2022-03-31T11:34:42.754Z"
   },
   {
    "duration": 53,
    "start_time": "2022-03-31T11:34:42.769Z"
   },
   {
    "duration": 29,
    "start_time": "2022-03-31T11:34:42.824Z"
   },
   {
    "duration": 66,
    "start_time": "2022-03-31T11:34:42.855Z"
   },
   {
    "duration": 31,
    "start_time": "2022-03-31T11:34:42.925Z"
   },
   {
    "duration": 36,
    "start_time": "2022-03-31T11:34:42.957Z"
   },
   {
    "duration": 10,
    "start_time": "2022-03-31T11:34:42.996Z"
   },
   {
    "duration": 31,
    "start_time": "2022-03-31T11:34:43.008Z"
   },
   {
    "duration": 20,
    "start_time": "2022-03-31T11:34:43.042Z"
   },
   {
    "duration": 292,
    "start_time": "2022-03-31T11:34:43.064Z"
   },
   {
    "duration": 42,
    "start_time": "2022-03-31T11:34:43.358Z"
   },
   {
    "duration": 51,
    "start_time": "2022-03-31T11:34:43.402Z"
   },
   {
    "duration": 41,
    "start_time": "2022-03-31T11:34:43.454Z"
   },
   {
    "duration": 402,
    "start_time": "2022-03-31T11:34:43.497Z"
   },
   {
    "duration": 36,
    "start_time": "2022-03-31T11:34:43.902Z"
   },
   {
    "duration": 15,
    "start_time": "2022-03-31T11:34:43.941Z"
   },
   {
    "duration": 46,
    "start_time": "2022-03-31T11:34:43.958Z"
   },
   {
    "duration": 26,
    "start_time": "2022-03-31T11:34:44.006Z"
   },
   {
    "duration": 109,
    "start_time": "2022-03-31T11:34:44.035Z"
   },
   {
    "duration": 10,
    "start_time": "2022-03-31T11:34:44.146Z"
   },
   {
    "duration": 1015,
    "start_time": "2022-03-31T11:34:44.158Z"
   },
   {
    "duration": 4,
    "start_time": "2022-03-31T11:34:45.175Z"
   },
   {
    "duration": 437,
    "start_time": "2022-03-31T11:34:45.187Z"
   },
   {
    "duration": 8,
    "start_time": "2022-03-31T11:34:45.627Z"
   },
   {
    "duration": 467,
    "start_time": "2022-03-31T11:34:45.638Z"
   },
   {
    "duration": 16,
    "start_time": "2022-03-31T11:34:46.108Z"
   },
   {
    "duration": 22,
    "start_time": "2022-03-31T11:34:46.127Z"
   },
   {
    "duration": 515,
    "start_time": "2022-03-31T11:34:46.152Z"
   },
   {
    "duration": 13,
    "start_time": "2022-03-31T11:34:46.669Z"
   },
   {
    "duration": 22,
    "start_time": "2022-03-31T11:34:46.685Z"
   },
   {
    "duration": 39,
    "start_time": "2022-03-31T11:34:46.709Z"
   },
   {
    "duration": 589,
    "start_time": "2022-03-31T11:34:46.750Z"
   },
   {
    "duration": 576,
    "start_time": "2022-03-31T11:34:47.341Z"
   },
   {
    "duration": 526,
    "start_time": "2022-03-31T11:34:47.919Z"
   },
   {
    "duration": 563,
    "start_time": "2022-03-31T11:34:48.447Z"
   },
   {
    "duration": 511,
    "start_time": "2022-03-31T11:34:49.012Z"
   },
   {
    "duration": 13,
    "start_time": "2022-03-31T11:34:49.525Z"
   },
   {
    "duration": 467,
    "start_time": "2022-03-31T11:34:49.540Z"
   },
   {
    "duration": 326,
    "start_time": "2022-03-31T11:34:50.009Z"
   },
   {
    "duration": 10,
    "start_time": "2022-03-31T11:34:50.337Z"
   },
   {
    "duration": 32,
    "start_time": "2022-03-31T11:34:50.349Z"
   },
   {
    "duration": 362,
    "start_time": "2022-03-31T11:34:50.383Z"
   },
   {
    "duration": 346,
    "start_time": "2022-03-31T11:34:50.747Z"
   },
   {
    "duration": 9,
    "start_time": "2022-03-31T11:34:51.096Z"
   },
   {
    "duration": 15,
    "start_time": "2022-03-31T11:34:51.109Z"
   }
  ],
  "kernelspec": {
   "display_name": "Python 3",
   "language": "python",
   "name": "python3"
  },
  "language_info": {
   "codemirror_mode": {
    "name": "ipython",
    "version": 3
   },
   "file_extension": ".py",
   "mimetype": "text/x-python",
   "name": "python",
   "nbconvert_exporter": "python",
   "pygments_lexer": "ipython3",
   "version": "3.8.5"
  },
  "toc": {
   "base_numbering": 1,
   "nav_menu": {},
   "number_sections": false,
   "sideBar": true,
   "skip_h1_title": true,
   "title_cell": "Содержание",
   "title_sidebar": "Contents",
   "toc_cell": true,
   "toc_position": {
    "height": "calc(100% - 180px)",
    "left": "10px",
    "top": "150px",
    "width": "165px"
   },
   "toc_section_display": true,
   "toc_window_display": true
  }
 },
 "nbformat": 4,
 "nbformat_minor": 2
}
